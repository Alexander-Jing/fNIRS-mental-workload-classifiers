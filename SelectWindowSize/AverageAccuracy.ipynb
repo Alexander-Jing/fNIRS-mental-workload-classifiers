{
 "cells": [
  {
   "cell_type": "code",
   "execution_count": 1,
   "metadata": {},
   "outputs": [],
   "source": [
    "import numpy as np\n",
    "import pandas as pd\n",
    "import os\n",
    "import sys"
   ]
  },
  {
   "cell_type": "code",
   "execution_count": 2,
   "metadata": {},
   "outputs": [],
   "source": [
    "eligible_list = [1, 13, 14, 15, 20, 21, 22, 23, 24, 25, 27, 28, 29, 31, 32, 34,\n",
    " 35, 36, 37, 38, 40, 42, 43, 44, 45, 46, 47, 48, 49,  5, 51, 52,\n",
    " 54, 55, 56, 57, 58, 60, 61, 62, 63, 64, 65, 68, 69,  7, 70, 71,\n",
    " 72, 73, 74, 75, 76, 78, 79, 80, 81, 82, 83, 84, 85, 86, 91, 92, 93,\n",
    " 94, 95, 97]"
   ]
  },
  {
   "cell_type": "markdown",
   "metadata": {},
   "source": [
    "### LogisticRegression, 5050"
   ]
  },
  {
   "cell_type": "code",
   "execution_count": 3,
   "metadata": {},
   "outputs": [],
   "source": [
    "root_path = '/cluster/tufts/hugheslab/zhuang12/HCI/NuripsDataSet2021/experiments/FixedTrainValSplit_SelectWindowSize/LogisticRegression/binary/'\n"
   ]
  },
  {
   "cell_type": "code",
   "execution_count": 4,
   "metadata": {},
   "outputs": [],
   "source": [
    "window_size200_summary_path = 'window_size200_summary'\n",
    "window_size150_summary_path = 'window_size150_summary'\n",
    "window_size100_summary_path = 'window_size100_summary'\n",
    "window_size50_summary_path = 'window_size50_summary'\n",
    "window_size25_summary_path = 'window_size25_summary'\n",
    "window_size10_summary_path = 'window_size10_summary'"
   ]
  },
  {
   "cell_type": "code",
   "execution_count": 5,
   "metadata": {},
   "outputs": [],
   "source": [
    "window_size200_df = pd.read_csv(os.path.join(root_path, window_size200_summary_path, 'AllSubjects_summary.csv'))\n",
    "window_size150_df = pd.read_csv(os.path.join(root_path, window_size150_summary_path, 'AllSubjects_summary.csv'))\n",
    "window_size100_df = pd.read_csv(os.path.join(root_path, window_size100_summary_path, 'AllSubjects_summary.csv'))\n",
    "window_size50_df = pd.read_csv(os.path.join(root_path, window_size50_summary_path, 'AllSubjects_summary.csv'))\n",
    "window_size25_df = pd.read_csv(os.path.join(root_path, window_size25_summary_path, 'AllSubjects_summary.csv'))\n",
    "window_size10_df = pd.read_csv(os.path.join(root_path, window_size10_summary_path, 'AllSubjects_summary.csv'))"
   ]
  },
  {
   "cell_type": "code",
   "execution_count": 6,
   "metadata": {
    "scrolled": false
   },
   "outputs": [
    {
     "name": "stdout",
     "output_type": "stream",
     "text": [
      "LR, Binary, Average Accuracy:\n",
      "window_size200: 61.50832043343653\n",
      "\n",
      "window_size150: 62.441950464396285\n",
      "\n",
      "window_size100: 58.94446594427244\n",
      "\n",
      "window_size50: 58.7703173374613\n",
      "\n",
      "window_size25: 57.991486068111456\n",
      "\n",
      "window_size10: 58.74613003095975\n",
      "\n"
     ]
    }
   ],
   "source": [
    "print('LR, Binary, Average Accuracy:')\n",
    "print('window_size200: {}\\n'.format(np.mean(window_size200_df.loc[window_size200_df['subject_id'].isin(eligible_list)].corresponding_test_accuracy.values)))\n",
    "\n",
    "print('window_size150: {}\\n'.format(np.mean(window_size150_df.loc[window_size150_df['subject_id'].isin(eligible_list)].corresponding_test_accuracy.values)))\n",
    "\n",
    "print('window_size100: {}\\n'.format(np.mean(window_size100_df.loc[window_size100_df['subject_id'].isin(eligible_list)].corresponding_test_accuracy.values)))\n",
    "\n",
    "print('window_size50: {}\\n'.format(np.mean(window_size50_df.loc[window_size50_df['subject_id'].isin(eligible_list)].corresponding_test_accuracy.values)))\n",
    "\n",
    "print('window_size25: {}\\n'.format(np.mean(window_size25_df.loc[window_size25_df['subject_id'].isin(eligible_list)].corresponding_test_accuracy.values)))\n",
    "\n",
    "print('window_size10: {}\\n'.format(np.mean(window_size10_df.loc[window_size10_df['subject_id'].isin(eligible_list)].corresponding_test_accuracy.values)))\n"
   ]
  },
  {
   "cell_type": "code",
   "execution_count": null,
   "metadata": {},
   "outputs": [],
   "source": []
  },
  {
   "cell_type": "markdown",
   "metadata": {},
   "source": [
    "### RandomForest, 5050"
   ]
  },
  {
   "cell_type": "code",
   "execution_count": 7,
   "metadata": {},
   "outputs": [],
   "source": [
    "root_path = '/cluster/tufts/hugheslab/zhuang12/HCI/NuripsDataSet2021/experiments/FixedTrainValSplit_SelectWindowSize/RandomForest/binary/'\n"
   ]
  },
  {
   "cell_type": "code",
   "execution_count": 8,
   "metadata": {},
   "outputs": [],
   "source": [
    "window_size200_summary_path = 'window_size200_summary'\n",
    "window_size150_summary_path = 'window_size150_summary'\n",
    "window_size100_summary_path = 'window_size100_summary'\n",
    "window_size50_summary_path = 'window_size50_summary'\n",
    "window_size25_summary_path = 'window_size25_summary'\n",
    "window_size10_summary_path = 'window_size10_summary'"
   ]
  },
  {
   "cell_type": "code",
   "execution_count": 9,
   "metadata": {},
   "outputs": [],
   "source": [
    "window_size200_df = pd.read_csv(os.path.join(root_path, window_size200_summary_path, 'AllSubjects_summary.csv'))\n",
    "window_size150_df = pd.read_csv(os.path.join(root_path, window_size150_summary_path, 'AllSubjects_summary.csv'))\n",
    "window_size100_df = pd.read_csv(os.path.join(root_path, window_size100_summary_path, 'AllSubjects_summary.csv'))\n",
    "window_size50_df = pd.read_csv(os.path.join(root_path, window_size50_summary_path, 'AllSubjects_summary.csv'))\n",
    "window_size25_df = pd.read_csv(os.path.join(root_path, window_size25_summary_path, 'AllSubjects_summary.csv'))\n",
    "window_size10_df = pd.read_csv(os.path.join(root_path, window_size10_summary_path, 'AllSubjects_summary.csv'))"
   ]
  },
  {
   "cell_type": "code",
   "execution_count": 10,
   "metadata": {},
   "outputs": [
    {
     "name": "stdout",
     "output_type": "stream",
     "text": [
      "RF, Binary, Average Accuracy:\n",
      "window_size200: 58.68324303405572\n",
      "\n",
      "window_size150: 59.336300309597526\n",
      "\n",
      "window_size100: 59.9796826625387\n",
      "\n",
      "window_size50: 58.45104489164086\n",
      "\n",
      "window_size25: 56.627321981424146\n",
      "\n",
      "window_size10: 56.77728328173375\n",
      "\n"
     ]
    }
   ],
   "source": [
    "print('RF, Binary, Average Accuracy:')\n",
    "print('window_size200: {}\\n'.format(np.mean(window_size200_df.loc[window_size200_df['subject_id'].isin(eligible_list)].corresponding_test_accuracy.values)))\n",
    "\n",
    "print('window_size150: {}\\n'.format(np.mean(window_size150_df.loc[window_size150_df['subject_id'].isin(eligible_list)].corresponding_test_accuracy.values)))\n",
    "\n",
    "print('window_size100: {}\\n'.format(np.mean(window_size100_df.loc[window_size100_df['subject_id'].isin(eligible_list)].corresponding_test_accuracy.values)))\n",
    "\n",
    "print('window_size50: {}\\n'.format(np.mean(window_size50_df.loc[window_size50_df['subject_id'].isin(eligible_list)].corresponding_test_accuracy.values)))\n",
    "\n",
    "print('window_size25: {}\\n'.format(np.mean(window_size25_df.loc[window_size25_df['subject_id'].isin(eligible_list)].corresponding_test_accuracy.values)))\n",
    "\n",
    "print('window_size10: {}\\n'.format(np.mean(window_size10_df.loc[window_size10_df['subject_id'].isin(eligible_list)].corresponding_test_accuracy.values)))\n",
    "\n"
   ]
  },
  {
   "cell_type": "code",
   "execution_count": null,
   "metadata": {},
   "outputs": [],
   "source": []
  }
 ],
 "metadata": {
  "kernelspec": {
   "display_name": "Python 3",
   "language": "python",
   "name": "python3"
  },
  "language_info": {
   "codemirror_mode": {
    "name": "ipython",
    "version": 3
   },
   "file_extension": ".py",
   "mimetype": "text/x-python",
   "name": "python",
   "nbconvert_exporter": "python",
   "pygments_lexer": "ipython3",
   "version": "3.8.8"
  }
 },
 "nbformat": 4,
 "nbformat_minor": 4
}
