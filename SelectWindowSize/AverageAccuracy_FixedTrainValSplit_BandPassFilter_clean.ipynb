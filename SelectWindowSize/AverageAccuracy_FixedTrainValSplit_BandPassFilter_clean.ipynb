{
 "cells": [
  {
   "cell_type": "code",
   "execution_count": 1,
   "metadata": {},
   "outputs": [],
   "source": [
    "import numpy as np\n",
    "import pandas as pd\n",
    "import os\n",
    "import sys"
   ]
  },
  {
   "cell_type": "code",
   "execution_count": 2,
   "metadata": {},
   "outputs": [],
   "source": [
    "final_list_Aug20 = [1, 13, 14, 15, 20, 21, 22, 23, 24, 25, 27, 28, 29, 31, 32, 34,\n",
    " 35, 36, 37, 38, 40, 42, 43, 44, 45, 46, 47, 48, 49,  5, 51, 52,\n",
    " 54, 55, 56, 57, 58, 60, 61, 62, 63, 64, 65, 68, 69,  7, 70, 71,\n",
    " 72, 73, 74, 75, 76, 78, 79, 80, 81, 82, 83, 84, 85, 86, 91, 92, 93,\n",
    " 94, 95, 97]"
   ]
  },
  {
   "cell_type": "markdown",
   "metadata": {},
   "source": [
    "### LogisticRegression, 5050"
   ]
  },
  {
   "cell_type": "code",
   "execution_count": 3,
   "metadata": {},
   "outputs": [],
   "source": [
    "root_path = '/cluster/tufts/hugheslab/zhuang12/HCI/NuripsDataSet2021/experiments/FixedTrainValSplit_SelectWindowSize/LogisticRegression/binary/'\n"
   ]
  },
  {
   "cell_type": "code",
   "execution_count": 4,
   "metadata": {},
   "outputs": [],
   "source": [
    "window_size200_summary_path = 'window_size200_summary'\n",
    "window_size150_summary_path = 'window_size150_summary'\n",
    "window_size100_summary_path = 'window_size100_summary'\n",
    "window_size50_summary_path = 'window_size50_summary'\n",
    "window_size25_summary_path = 'window_size25_summary'\n",
    "window_size10_summary_path = 'window_size10_summary'"
   ]
  },
  {
   "cell_type": "code",
   "execution_count": 5,
   "metadata": {},
   "outputs": [],
   "source": [
    "window_size200_df = pd.read_csv(os.path.join(root_path, window_size200_summary_path, 'AllSubjects_summary.csv'))\n",
    "window_size150_df = pd.read_csv(os.path.join(root_path, window_size150_summary_path, 'AllSubjects_summary.csv'))\n",
    "window_size100_df = pd.read_csv(os.path.join(root_path, window_size100_summary_path, 'AllSubjects_summary.csv'))\n",
    "window_size50_df = pd.read_csv(os.path.join(root_path, window_size50_summary_path, 'AllSubjects_summary.csv'))\n",
    "window_size25_df = pd.read_csv(os.path.join(root_path, window_size25_summary_path, 'AllSubjects_summary.csv'))\n",
    "window_size10_df = pd.read_csv(os.path.join(root_path, window_size10_summary_path, 'AllSubjects_summary.csv'))"
   ]
  },
  {
   "cell_type": "code",
   "execution_count": 6,
   "metadata": {},
   "outputs": [],
   "source": [
    "# window_size200_df.loc[window_size200_df['subject_id'].isin(UIST_qualified_list)]"
   ]
  },
  {
   "cell_type": "code",
   "execution_count": 7,
   "metadata": {
    "scrolled": false
   },
   "outputs": [
    {
     "name": "stdout",
     "output_type": "stream",
     "text": [
      "LR, Binary, Average Accuracy:\n",
      "window_size200: 58.784389952153106\n",
      "window_size200_final_list_Aug20: 61.50832043343653\n",
      "\n",
      "window_size150: 59.72263755980862\n",
      "window_size150_final_list_Aug20: 62.441950464396285\n",
      "\n",
      "window_size100: 56.54530502392345\n",
      "window_size100_final_list_Aug20: 58.94446594427244\n",
      "\n",
      "window_size50: 56.627541866028714\n",
      "window_size50_final_list_Aug20: 58.7703173374613\n",
      "\n",
      "window_size25: 55.19587320574163\n",
      "window_size25_final_list_Aug20: 57.991486068111456\n",
      "\n",
      "window_size10: 55.67808014354066\n",
      "window_size10_final_list_Aug20: 58.74613003095975\n",
      "\n"
     ]
    }
   ],
   "source": [
    "print('LR, Binary, Average Accuracy:')\n",
    "print('window_size200: {}'.format(np.mean(window_size200_df.corresponding_test_accuracy.values)))\n",
    "print('window_size200_final_list_Aug20: {}\\n'.format(np.mean(window_size200_df.loc[window_size200_df['subject_id'].isin(final_list_Aug20)].corresponding_test_accuracy.values)))\n",
    "# print('window_size200_exclude_last20: {}'.format(np.mean(window_size200_df.sort_values(by=['corresponding_test_accuracy'])[20:].corresponding_test_accuracy.values)))\n",
    "# print('window_size200_UIST_qualify_list: {}'.format(np.mean(window_size200_df.loc[window_size200_df['subject_id'].isin(UIST_qualified_list)].corresponding_test_accuracy.values)))\n",
    "# print('window_size200_Nurips_round1_include: {}'.format(np.mean(window_size200_df.loc[window_size200_df['subject_id'].isin(Nurips_round1_include_list)].corresponding_test_accuracy.values)))\n",
    "# print('window_size200_Nurips_round2_include: {}\\n'.format(np.mean(window_size200_df.loc[window_size200_df['subject_id'].isin(Nurips_round2_include_list)].corresponding_test_accuracy.values)))\n",
    "\n",
    "\n",
    "print('window_size150: {}'.format(np.mean(window_size150_df.corresponding_test_accuracy.values)))\n",
    "print('window_size150_final_list_Aug20: {}\\n'.format(np.mean(window_size150_df.loc[window_size150_df['subject_id'].isin(final_list_Aug20)].corresponding_test_accuracy.values)))\n",
    "# print('window_size150_exclude_last20: {}'.format(np.mean(window_size150_df.sort_values(by=['corresponding_test_accuracy'])[20:].corresponding_test_accuracy.values)))\n",
    "# print('window_size150_UIST_qualify_list: {}'.format(np.mean(window_size150_df.loc[window_size150_df['subject_id'].isin(UIST_qualified_list)].corresponding_test_accuracy.values)))\n",
    "# print('window_size150_Nurips_round1_include: {}'.format(np.mean(window_size150_df.loc[window_size150_df['subject_id'].isin(Nurips_round1_include_list)].corresponding_test_accuracy.values)))\n",
    "# print('window_size150_Nurips_round2_include: {}\\n'.format(np.mean(window_size150_df.loc[window_size150_df['subject_id'].isin(Nurips_round2_include_list)].corresponding_test_accuracy.values)))\n",
    "\n",
    "print('window_size100: {}'.format(np.mean(window_size100_df.corresponding_test_accuracy.values)))\n",
    "print('window_size100_final_list_Aug20: {}\\n'.format(np.mean(window_size100_df.loc[window_size100_df['subject_id'].isin(final_list_Aug20)].corresponding_test_accuracy.values)))\n",
    "# print('window_size100_exclude_last20: {}'.format(np.mean(window_size100_df.sort_values(by=['corresponding_test_accuracy'])[20:].corresponding_test_accuracy.values)))\n",
    "# print('window_size100_UIST_qualify_list: {}'.format(np.mean(window_size100_df.loc[window_size100_df['subject_id'].isin(UIST_qualified_list)].corresponding_test_accuracy.values)))\n",
    "# print('window_size100_Nurips_round1_include: {}'.format(np.mean(window_size100_df.loc[window_size100_df['subject_id'].isin(Nurips_round1_include_list)].corresponding_test_accuracy.values)))\n",
    "# print('window_size100_Nurips_round2_include: {}\\n'.format(np.mean(window_size100_df.loc[window_size100_df['subject_id'].isin(Nurips_round2_include_list)].corresponding_test_accuracy.values)))\n",
    "\n",
    "print('window_size50: {}'.format(np.mean(window_size50_df.corresponding_test_accuracy.values)))\n",
    "print('window_size50_final_list_Aug20: {}\\n'.format(np.mean(window_size50_df.loc[window_size50_df['subject_id'].isin(final_list_Aug20)].corresponding_test_accuracy.values)))\n",
    "# print('window_size50_exclude_last20: {}'.format(np.mean(window_size50_df.sort_values(by=['corresponding_test_accuracy'])[20:].corresponding_test_accuracy.values)))\n",
    "# print('window_size50_UIST_qualify_list: {}'.format(np.mean(window_size50_df.loc[window_size50_df['subject_id'].isin(UIST_qualified_list)].corresponding_test_accuracy.values)))\n",
    "# print('window_size50_Nurips_round1_include: {}'.format(np.mean(window_size50_df.loc[window_size50_df['subject_id'].isin(Nurips_round1_include_list)].corresponding_test_accuracy.values)))\n",
    "# print('window_size50_Nurips_round2_include: {}\\n'.format(np.mean(window_size50_df.loc[window_size50_df['subject_id'].isin(Nurips_round2_include_list)].corresponding_test_accuracy.values)))\n",
    "\n",
    "print('window_size25: {}'.format(np.mean(window_size25_df.corresponding_test_accuracy.values)))\n",
    "print('window_size25_final_list_Aug20: {}\\n'.format(np.mean(window_size25_df.loc[window_size25_df['subject_id'].isin(final_list_Aug20)].corresponding_test_accuracy.values)))\n",
    "# print('window_size25_exclude_last20: {}'.format(np.mean(window_size25_df.sort_values(by=['corresponding_test_accuracy'])[20:].corresponding_test_accuracy.values)))\n",
    "# print('window_size25_UIST_qualify_list: {}'.format(np.mean(window_size25_df.loc[window_size25_df['subject_id'].isin(UIST_qualified_list)].corresponding_test_accuracy.values)))\n",
    "# print('window_size25_Nurips_round1_include: {}'.format(np.mean(window_size25_df.loc[window_size25_df['subject_id'].isin(Nurips_round1_include_list)].corresponding_test_accuracy.values)))\n",
    "# print('window_size25_Nurips_round2_include: {}\\n'.format(np.mean(window_size25_df.loc[window_size25_df['subject_id'].isin(Nurips_round2_include_list)].corresponding_test_accuracy.values)))\n",
    "\n",
    "print('window_size10: {}'.format(np.mean(window_size10_df.corresponding_test_accuracy.values)))\n",
    "print('window_size10_final_list_Aug20: {}\\n'.format(np.mean(window_size10_df.loc[window_size10_df['subject_id'].isin(final_list_Aug20)].corresponding_test_accuracy.values)))\n",
    "# print('window_size10_exclude_last20: {}'.format(np.mean(window_size10_df.sort_values(by=['corresponding_test_accuracy'])[20:].corresponding_test_accuracy.values)))\n",
    "# print('window_size10_UIST_qualify_list: {}'.format(np.mean(window_size10_df.loc[window_size10_df['subject_id'].isin(UIST_qualified_list)].corresponding_test_accuracy.values)))\n",
    "# print('window_size10_Nurips_round1_include: {}'.format(np.mean(window_size10_df.loc[window_size10_df['subject_id'].isin(Nurips_round1_include_list)].corresponding_test_accuracy.values)))\n",
    "# print('window_size10_Nurips_round2_include: {}\\n'.format(np.mean(window_size10_df.loc[window_size10_df['subject_id'].isin(Nurips_round2_include_list)].corresponding_test_accuracy.values)))\n",
    "\n"
   ]
  },
  {
   "cell_type": "code",
   "execution_count": 12,
   "metadata": {},
   "outputs": [],
   "source": [
    "mean_by_window_size_df = pd.DataFrame()\n",
    "mean_by_window_size_df['window_size'] = [10, 25, 50, 100, 150, 200]\n",
    "mean_by_window_size_df['accuracy'] = [58.74613003095975, 57.991486068111456, 58.7703173374613, 58.94446594427244, 62.441950464396285, 61.50832043343653]\n"
   ]
  },
  {
   "cell_type": "code",
   "execution_count": 13,
   "metadata": {},
   "outputs": [
    {
     "data": {
      "text/html": [
       "<div>\n",
       "<style scoped>\n",
       "    .dataframe tbody tr th:only-of-type {\n",
       "        vertical-align: middle;\n",
       "    }\n",
       "\n",
       "    .dataframe tbody tr th {\n",
       "        vertical-align: top;\n",
       "    }\n",
       "\n",
       "    .dataframe thead th {\n",
       "        text-align: right;\n",
       "    }\n",
       "</style>\n",
       "<table border=\"1\" class=\"dataframe\">\n",
       "  <thead>\n",
       "    <tr style=\"text-align: right;\">\n",
       "      <th></th>\n",
       "      <th>window_size</th>\n",
       "      <th>accuracy</th>\n",
       "    </tr>\n",
       "  </thead>\n",
       "  <tbody>\n",
       "    <tr>\n",
       "      <th>0</th>\n",
       "      <td>10</td>\n",
       "      <td>58.746130</td>\n",
       "    </tr>\n",
       "    <tr>\n",
       "      <th>1</th>\n",
       "      <td>25</td>\n",
       "      <td>57.991486</td>\n",
       "    </tr>\n",
       "    <tr>\n",
       "      <th>2</th>\n",
       "      <td>50</td>\n",
       "      <td>58.770317</td>\n",
       "    </tr>\n",
       "    <tr>\n",
       "      <th>3</th>\n",
       "      <td>100</td>\n",
       "      <td>58.944466</td>\n",
       "    </tr>\n",
       "    <tr>\n",
       "      <th>4</th>\n",
       "      <td>150</td>\n",
       "      <td>62.441950</td>\n",
       "    </tr>\n",
       "    <tr>\n",
       "      <th>5</th>\n",
       "      <td>200</td>\n",
       "      <td>61.508320</td>\n",
       "    </tr>\n",
       "  </tbody>\n",
       "</table>\n",
       "</div>"
      ],
      "text/plain": [
       "   window_size   accuracy\n",
       "0           10  58.746130\n",
       "1           25  57.991486\n",
       "2           50  58.770317\n",
       "3          100  58.944466\n",
       "4          150  62.441950\n",
       "5          200  61.508320"
      ]
     },
     "execution_count": 13,
     "metadata": {},
     "output_type": "execute_result"
    }
   ],
   "source": [
    "mean_by_window_size_df"
   ]
  },
  {
   "cell_type": "code",
   "execution_count": 15,
   "metadata": {},
   "outputs": [],
   "source": [
    "mean_by_window_size_df.to_csv('./bootstrap_accuracy_csv_BandPassFilter/LR/mean_by_window_size.csv', index=False)"
   ]
  },
  {
   "cell_type": "code",
   "execution_count": null,
   "metadata": {},
   "outputs": [],
   "source": []
  },
  {
   "cell_type": "markdown",
   "metadata": {},
   "source": [
    "### RandomForest, 5050"
   ]
  },
  {
   "cell_type": "code",
   "execution_count": 8,
   "metadata": {},
   "outputs": [],
   "source": [
    "root_path = '/cluster/tufts/hugheslab/zhuang12/HCI/NuripsDataSet2021/experiments/FixedTrainValSplit_SelectWindowSize/RandomForest/binary/'\n"
   ]
  },
  {
   "cell_type": "code",
   "execution_count": 9,
   "metadata": {},
   "outputs": [],
   "source": [
    "window_size200_summary_path = 'window_size200_summary'\n",
    "window_size150_summary_path = 'window_size150_summary'\n",
    "window_size100_summary_path = 'window_size100_summary'\n",
    "window_size50_summary_path = 'window_size50_summary'\n",
    "window_size25_summary_path = 'window_size25_summary'\n",
    "window_size10_summary_path = 'window_size10_summary'"
   ]
  },
  {
   "cell_type": "code",
   "execution_count": 10,
   "metadata": {},
   "outputs": [],
   "source": [
    "window_size200_df = pd.read_csv(os.path.join(root_path, window_size200_summary_path, 'AllSubjects_summary.csv'))\n",
    "window_size150_df = pd.read_csv(os.path.join(root_path, window_size150_summary_path, 'AllSubjects_summary.csv'))\n",
    "window_size100_df = pd.read_csv(os.path.join(root_path, window_size100_summary_path, 'AllSubjects_summary.csv'))\n",
    "window_size50_df = pd.read_csv(os.path.join(root_path, window_size50_summary_path, 'AllSubjects_summary.csv'))\n",
    "window_size25_df = pd.read_csv(os.path.join(root_path, window_size25_summary_path, 'AllSubjects_summary.csv'))\n",
    "window_size10_df = pd.read_csv(os.path.join(root_path, window_size10_summary_path, 'AllSubjects_summary.csv'))"
   ]
  },
  {
   "cell_type": "code",
   "execution_count": 11,
   "metadata": {},
   "outputs": [
    {
     "name": "stdout",
     "output_type": "stream",
     "text": [
      "RF, Binary, Average Accuracy:\n",
      "window_size200: 57.67045454545455\n",
      "window_size200_final_list_Aug20: 58.68324303405572\n",
      "\n",
      "window_size150: 57.86109449760765\n",
      "window_size150_final_list_Aug20: 59.336300309597526\n",
      "\n",
      "window_size100: 59.29276315789473\n",
      "window_size100_final_list_Aug20: 59.9796826625387\n",
      "\n",
      "window_size50: 57.569527511961724\n",
      "window_size50_final_list_Aug20: 58.45104489164086\n",
      "\n",
      "window_size25: 55.86872009569379\n",
      "window_size25_final_list_Aug20: 56.627321981424146\n",
      "\n",
      "window_size10: 55.64443779904305\n",
      "window_size10_final_list_Aug20: 56.77728328173375\n",
      "\n"
     ]
    }
   ],
   "source": [
    "print('RF, Binary, Average Accuracy:')\n",
    "print('window_size200: {}'.format(np.mean(window_size200_df.corresponding_test_accuracy.values)))\n",
    "print('window_size200_final_list_Aug20: {}\\n'.format(np.mean(window_size200_df.loc[window_size200_df['subject_id'].isin(final_list_Aug20)].corresponding_test_accuracy.values)))\n",
    "# print('window_size200_exclude_last20: {}'.format(np.mean(window_size200_df.sort_values(by=['corresponding_test_accuracy'])[20:].corresponding_test_accuracy.values)))\n",
    "# print('window_size200_UIST_qualify_list: {}'.format(np.mean(window_size200_df.loc[window_size200_df['subject_id'].isin(UIST_qualified_list)].corresponding_test_accuracy.values)))\n",
    "# print('window_size200_Nurips_round1_include: {}'.format(np.mean(window_size200_df.loc[window_size200_df['subject_id'].isin(Nurips_round1_include_list)].corresponding_test_accuracy.values)))\n",
    "# print('window_size200_Nurips_round2_include: {}\\n'.format(np.mean(window_size200_df.loc[window_size200_df['subject_id'].isin(Nurips_round2_include_list)].corresponding_test_accuracy.values)))\n",
    "\n",
    "\n",
    "print('window_size150: {}'.format(np.mean(window_size150_df.corresponding_test_accuracy.values)))\n",
    "print('window_size150_final_list_Aug20: {}\\n'.format(np.mean(window_size150_df.loc[window_size150_df['subject_id'].isin(final_list_Aug20)].corresponding_test_accuracy.values)))\n",
    "# print('window_size150_exclude_last20: {}'.format(np.mean(window_size150_df.sort_values(by=['corresponding_test_accuracy'])[20:].corresponding_test_accuracy.values)))\n",
    "# print('window_size150_UIST_qualify_list: {}'.format(np.mean(window_size150_df.loc[window_size150_df['subject_id'].isin(UIST_qualified_list)].corresponding_test_accuracy.values)))\n",
    "# print('window_size150_Nurips_round1_include: {}'.format(np.mean(window_size150_df.loc[window_size150_df['subject_id'].isin(Nurips_round1_include_list)].corresponding_test_accuracy.values)))\n",
    "# print('window_size150_Nurips_round2_include: {}\\n'.format(np.mean(window_size150_df.loc[window_size150_df['subject_id'].isin(Nurips_round2_include_list)].corresponding_test_accuracy.values)))\n",
    "\n",
    "print('window_size100: {}'.format(np.mean(window_size100_df.corresponding_test_accuracy.values)))\n",
    "print('window_size100_final_list_Aug20: {}\\n'.format(np.mean(window_size100_df.loc[window_size100_df['subject_id'].isin(final_list_Aug20)].corresponding_test_accuracy.values)))\n",
    "# print('window_size100_exclude_last20: {}'.format(np.mean(window_size100_df.sort_values(by=['corresponding_test_accuracy'])[20:].corresponding_test_accuracy.values)))\n",
    "# print('window_size100_UIST_qualify_list: {}'.format(np.mean(window_size100_df.loc[window_size100_df['subject_id'].isin(UIST_qualified_list)].corresponding_test_accuracy.values)))\n",
    "# print('window_size100_Nurips_round1_include: {}'.format(np.mean(window_size100_df.loc[window_size100_df['subject_id'].isin(Nurips_round1_include_list)].corresponding_test_accuracy.values)))\n",
    "# print('window_size100_Nurips_round2_include: {}\\n'.format(np.mean(window_size100_df.loc[window_size100_df['subject_id'].isin(Nurips_round2_include_list)].corresponding_test_accuracy.values)))\n",
    "\n",
    "print('window_size50: {}'.format(np.mean(window_size50_df.corresponding_test_accuracy.values)))\n",
    "print('window_size50_final_list_Aug20: {}\\n'.format(np.mean(window_size50_df.loc[window_size50_df['subject_id'].isin(final_list_Aug20)].corresponding_test_accuracy.values)))\n",
    "# print('window_size50_exclude_last20: {}'.format(np.mean(window_size50_df.sort_values(by=['corresponding_test_accuracy'])[20:].corresponding_test_accuracy.values)))\n",
    "# print('window_size50_UIST_qualify_list: {}'.format(np.mean(window_size50_df.loc[window_size50_df['subject_id'].isin(UIST_qualified_list)].corresponding_test_accuracy.values)))\n",
    "# print('window_size50_Nurips_round1_include: {}'.format(np.mean(window_size50_df.loc[window_size50_df['subject_id'].isin(Nurips_round1_include_list)].corresponding_test_accuracy.values)))\n",
    "# print('window_size50_Nurips_round2_include: {}\\n'.format(np.mean(window_size50_df.loc[window_size50_df['subject_id'].isin(Nurips_round2_include_list)].corresponding_test_accuracy.values)))\n",
    "\n",
    "print('window_size25: {}'.format(np.mean(window_size25_df.corresponding_test_accuracy.values)))\n",
    "print('window_size25_final_list_Aug20: {}\\n'.format(np.mean(window_size25_df.loc[window_size25_df['subject_id'].isin(final_list_Aug20)].corresponding_test_accuracy.values)))\n",
    "# print('window_size25_exclude_last20: {}'.format(np.mean(window_size25_df.sort_values(by=['corresponding_test_accuracy'])[20:].corresponding_test_accuracy.values)))\n",
    "# print('window_size25_UIST_qualify_list: {}'.format(np.mean(window_size25_df.loc[window_size25_df['subject_id'].isin(UIST_qualified_list)].corresponding_test_accuracy.values)))\n",
    "# print('window_size25_Nurips_round1_include: {}'.format(np.mean(window_size25_df.loc[window_size25_df['subject_id'].isin(Nurips_round1_include_list)].corresponding_test_accuracy.values)))\n",
    "# print('window_size25_Nurips_round2_include: {}\\n'.format(np.mean(window_size25_df.loc[window_size25_df['subject_id'].isin(Nurips_round2_include_list)].corresponding_test_accuracy.values)))\n",
    "\n",
    "print('window_size10: {}'.format(np.mean(window_size10_df.corresponding_test_accuracy.values)))\n",
    "print('window_size10_final_list_Aug20: {}\\n'.format(np.mean(window_size10_df.loc[window_size10_df['subject_id'].isin(final_list_Aug20)].corresponding_test_accuracy.values)))\n",
    "# print('window_size10_exclude_last20: {}'.format(np.mean(window_size10_df.sort_values(by=['corresponding_test_accuracy'])[20:].corresponding_test_accuracy.values)))\n",
    "# print('window_size10_UIST_qualify_list: {}'.format(np.mean(window_size10_df.loc[window_size10_df['subject_id'].isin(UIST_qualified_list)].corresponding_test_accuracy.values)))\n",
    "# print('window_size10_Nurips_round1_include: {}'.format(np.mean(window_size10_df.loc[window_size10_df['subject_id'].isin(Nurips_round1_include_list)].corresponding_test_accuracy.values)))\n",
    "# print('window_size10_Nurips_round2_include: {}\\n'.format(np.mean(window_size10_df.loc[window_size10_df['subject_id'].isin(Nurips_round2_include_list)].corresponding_test_accuracy.values)))\n",
    "\n"
   ]
  },
  {
   "cell_type": "code",
   "execution_count": 16,
   "metadata": {},
   "outputs": [],
   "source": [
    "mean_by_window_size_df = pd.DataFrame()\n",
    "mean_by_window_size_df['window_size'] = [10, 25, 50, 100, 150, 200]\n",
    "mean_by_window_size_df['accuracy'] = [56.77728328173375, 56.627321981424146, 58.45104489164086, 59.9796826625387, 59.336300309597526, 58.68324303405572]\n"
   ]
  },
  {
   "cell_type": "code",
   "execution_count": 17,
   "metadata": {},
   "outputs": [
    {
     "data": {
      "text/html": [
       "<div>\n",
       "<style scoped>\n",
       "    .dataframe tbody tr th:only-of-type {\n",
       "        vertical-align: middle;\n",
       "    }\n",
       "\n",
       "    .dataframe tbody tr th {\n",
       "        vertical-align: top;\n",
       "    }\n",
       "\n",
       "    .dataframe thead th {\n",
       "        text-align: right;\n",
       "    }\n",
       "</style>\n",
       "<table border=\"1\" class=\"dataframe\">\n",
       "  <thead>\n",
       "    <tr style=\"text-align: right;\">\n",
       "      <th></th>\n",
       "      <th>window_size</th>\n",
       "      <th>accuracy</th>\n",
       "    </tr>\n",
       "  </thead>\n",
       "  <tbody>\n",
       "    <tr>\n",
       "      <th>0</th>\n",
       "      <td>10</td>\n",
       "      <td>56.777283</td>\n",
       "    </tr>\n",
       "    <tr>\n",
       "      <th>1</th>\n",
       "      <td>25</td>\n",
       "      <td>56.627322</td>\n",
       "    </tr>\n",
       "    <tr>\n",
       "      <th>2</th>\n",
       "      <td>50</td>\n",
       "      <td>58.451045</td>\n",
       "    </tr>\n",
       "    <tr>\n",
       "      <th>3</th>\n",
       "      <td>100</td>\n",
       "      <td>59.979683</td>\n",
       "    </tr>\n",
       "    <tr>\n",
       "      <th>4</th>\n",
       "      <td>150</td>\n",
       "      <td>59.336300</td>\n",
       "    </tr>\n",
       "    <tr>\n",
       "      <th>5</th>\n",
       "      <td>200</td>\n",
       "      <td>58.683243</td>\n",
       "    </tr>\n",
       "  </tbody>\n",
       "</table>\n",
       "</div>"
      ],
      "text/plain": [
       "   window_size   accuracy\n",
       "0           10  56.777283\n",
       "1           25  56.627322\n",
       "2           50  58.451045\n",
       "3          100  59.979683\n",
       "4          150  59.336300\n",
       "5          200  58.683243"
      ]
     },
     "execution_count": 17,
     "metadata": {},
     "output_type": "execute_result"
    }
   ],
   "source": [
    "mean_by_window_size_df"
   ]
  },
  {
   "cell_type": "code",
   "execution_count": 18,
   "metadata": {},
   "outputs": [],
   "source": [
    "mean_by_window_size_df.to_csv('./bootstrap_accuracy_csv_BandPassFilter/RF/mean_by_window_size.csv', index=False)"
   ]
  },
  {
   "cell_type": "code",
   "execution_count": null,
   "metadata": {},
   "outputs": [],
   "source": []
  }
 ],
 "metadata": {
  "kernelspec": {
   "display_name": "Python 3",
   "language": "python",
   "name": "python3"
  },
  "language_info": {
   "codemirror_mode": {
    "name": "ipython",
    "version": 3
   },
   "file_extension": ".py",
   "mimetype": "text/x-python",
   "name": "python",
   "nbconvert_exporter": "python",
   "pygments_lexer": "ipython3",
   "version": "3.8.8"
  }
 },
 "nbformat": 4,
 "nbformat_minor": 4
}
