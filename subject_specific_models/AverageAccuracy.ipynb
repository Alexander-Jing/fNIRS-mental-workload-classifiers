{
 "cells": [
  {
   "cell_type": "code",
   "execution_count": 1,
   "metadata": {},
   "outputs": [],
   "source": [
    "import numpy as np\n",
    "import pandas as pd\n",
    "import os\n",
    "import sys"
   ]
  },
  {
   "cell_type": "code",
   "execution_count": null,
   "metadata": {},
   "outputs": [],
   "source": []
  },
  {
   "cell_type": "code",
   "execution_count": 2,
   "metadata": {},
   "outputs": [
    {
     "name": "stdout",
     "output_type": "stream",
     "text": [
      "eligible_list: 68\n"
     ]
    }
   ],
   "source": [
    "eligible_list = [1, 13, 14, 15, 20, 21, 22, 23, 24, 25, 27, 28, 29, 31, 32, 34,\n",
    " 35, 36, 37, 38, 40, 42, 43, 44, 45, 46, 47, 48, 49,  5, 51, 52,\n",
    " 54, 55, 56, 57, 58, 60, 61, 62, 63, 64, 65, 68, 69,  7, 70, 71,\n",
    " 72, 73, 74, 75, 76, 78, 79, 80, 81, 82, 83, 84, 85, 86, 91, 92, 93,\n",
    " 94, 95, 97]\n",
    "\n",
    "print('eligible_list: {}'.format(len(eligible_list)))\n"
   ]
  },
  {
   "cell_type": "code",
   "execution_count": null,
   "metadata": {},
   "outputs": [],
   "source": []
  },
  {
   "cell_type": "markdown",
   "metadata": {},
   "source": [
    "### DeepConvNet, Adam, 5050"
   ]
  },
  {
   "cell_type": "code",
   "execution_count": 3,
   "metadata": {},
   "outputs": [],
   "source": [
    "root_path = 'YOUR_PATH/fNIRS-mental-workload-classifiers/experiments/subject_specific_models/DeepConvNet/binary/'\n"
   ]
  },
  {
   "cell_type": "code",
   "execution_count": 4,
   "metadata": {},
   "outputs": [],
   "source": [
    "window_size150_summary_path = 'window_size150_summary'"
   ]
  },
  {
   "cell_type": "code",
   "execution_count": 5,
   "metadata": {},
   "outputs": [],
   "source": [
    "window_size150_df = pd.read_csv(os.path.join(root_path, window_size150_summary_path, 'AllSubjects_summary.csv'))\n"
   ]
  },
  {
   "cell_type": "code",
   "execution_count": 6,
   "metadata": {},
   "outputs": [
    {
     "name": "stdout",
     "output_type": "stream",
     "text": [
      "DeepConvNet Adam, Binary, Average Accuracy:\n",
      "window_size150: 64.23149905123338\n"
     ]
    }
   ],
   "source": [
    "print('DeepConvNet Adam, Binary, Average Accuracy:')\n",
    "\n",
    "print('window_size150: {}'.format(np.mean(window_size150_df.loc[window_size150_df['subject_id'].isin(eligible_list)].corresponding_test_accuracy.values)))\n"
   ]
  },
  {
   "cell_type": "code",
   "execution_count": null,
   "metadata": {},
   "outputs": [],
   "source": []
  },
  {
   "cell_type": "markdown",
   "metadata": {},
   "source": [
    "### EEGNet, Adam, 5050"
   ]
  },
  {
   "cell_type": "code",
   "execution_count": 7,
   "metadata": {},
   "outputs": [],
   "source": [
    "root_path = 'YOUR_PATH/fNIRS-mental-workload-classifiers/experiments/subject_specific_models/EEGNet/binary/'\n"
   ]
  },
  {
   "cell_type": "code",
   "execution_count": 8,
   "metadata": {},
   "outputs": [],
   "source": [
    "window_size150_summary_path = 'window_size150_summary'\n"
   ]
  },
  {
   "cell_type": "code",
   "execution_count": 9,
   "metadata": {},
   "outputs": [],
   "source": [
    "window_size150_df = pd.read_csv(os.path.join(root_path, window_size150_summary_path, 'AllSubjects_summary.csv'))\n"
   ]
  },
  {
   "cell_type": "code",
   "execution_count": 10,
   "metadata": {},
   "outputs": [
    {
     "name": "stdout",
     "output_type": "stream",
     "text": [
      "EEGNet Adam, Binary, Average Accuracy:\n",
      "window_size150: 60.108317520556604\n"
     ]
    }
   ],
   "source": [
    "print('EEGNet Adam, Binary, Average Accuracy:')\n",
    "\n",
    "print('window_size150: {}'.format(np.mean(window_size150_df.loc[window_size150_df['subject_id'].isin(eligible_list)].corresponding_test_accuracy.values)))\n"
   ]
  },
  {
   "cell_type": "code",
   "execution_count": null,
   "metadata": {},
   "outputs": [],
   "source": []
  }
 ],
 "metadata": {
  "kernelspec": {
   "display_name": "Python 3",
   "language": "python",
   "name": "python3"
  },
  "language_info": {
   "codemirror_mode": {
    "name": "ipython",
    "version": 3
   },
   "file_extension": ".py",
   "mimetype": "text/x-python",
   "name": "python",
   "nbconvert_exporter": "python",
   "pygments_lexer": "ipython3",
   "version": "3.8.8"
  }
 },
 "nbformat": 4,
 "nbformat_minor": 4
}
