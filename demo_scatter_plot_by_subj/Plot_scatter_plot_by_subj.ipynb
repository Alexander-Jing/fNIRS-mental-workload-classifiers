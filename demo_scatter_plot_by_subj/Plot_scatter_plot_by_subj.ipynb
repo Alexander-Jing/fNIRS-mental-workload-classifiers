{
 "cells": [
  {
   "cell_type": "code",
   "execution_count": 1,
   "metadata": {},
   "outputs": [],
   "source": [
    "import numpy as np\n",
    "import pandas as pd\n",
    "import scipy.stats\n",
    "\n",
    "import itertools\n",
    "from collections import OrderedDict"
   ]
  },
  {
   "cell_type": "code",
   "execution_count": 2,
   "metadata": {},
   "outputs": [],
   "source": [
    "import matplotlib.pyplot as plt\n",
    "import seaborn as sns\n",
    "sns.set_style(\"whitegrid\")\n",
    "sns.set_context(\"notebook\", font_scale=1.75)"
   ]
  },
  {
   "cell_type": "code",
   "execution_count": 3,
   "metadata": {},
   "outputs": [],
   "source": [
    "def iterator__product_of_dict_values(**kwargs):\n",
    "    ''' Given a dict whose values are lists, return iterator over products\n",
    "    \n",
    "    Returns\n",
    "    -------\n",
    "    my_iterator : iterator\n",
    "    \n",
    "    Examples\n",
    "    --------\n",
    "    >>> my_grid = {'a':[1,2,3], 'fruit':['pear', 'orange']}\n",
    "    >>> _ = [print(a) for a in iterator__product_of_dict_values(my_grid)]\n",
    "    OrderedDict([('a', 1), ('fruit', 'pear')])\n",
    "    OrderedDict([('a', 1), ('fruit', 'orange')])\n",
    "    OrderedDict([('a', 2), ('fruit', 'pear')])\n",
    "    OrderedDict([('a', 2), ('fruit', 'orange')])\n",
    "    OrderedDict([('a', 3), ('fruit', 'pear')])\n",
    "    OrderedDict([('a', 3), ('fruit', 'orange')])\n",
    "    '''\n",
    "    keys = kwargs.keys()\n",
    "    vals = kwargs.values()\n",
    "    for instance in itertools.product(*vals):\n",
    "        yield OrderedDict(zip(keys, instance))"
   ]
  },
  {
   "cell_type": "markdown",
   "metadata": {},
   "source": [
    "# Load in data"
   ]
  },
  {
   "cell_type": "code",
   "execution_count": 4,
   "metadata": {},
   "outputs": [],
   "source": [
    "df = pd.read_csv('fakeresults_accuracy_by_subject.csv')"
   ]
  },
  {
   "cell_type": "code",
   "execution_count": 5,
   "metadata": {},
   "outputs": [
    {
     "data": {
      "text/html": [
       "<div>\n",
       "<style scoped>\n",
       "    .dataframe tbody tr th:only-of-type {\n",
       "        vertical-align: middle;\n",
       "    }\n",
       "\n",
       "    .dataframe tbody tr th {\n",
       "        vertical-align: top;\n",
       "    }\n",
       "\n",
       "    .dataframe thead th {\n",
       "        text-align: right;\n",
       "    }\n",
       "</style>\n",
       "<table border=\"1\" class=\"dataframe\">\n",
       "  <thead>\n",
       "    <tr style=\"text-align: right;\">\n",
       "      <th></th>\n",
       "      <th>classifier_name</th>\n",
       "      <th>subject_id</th>\n",
       "      <th>paradigm_name</th>\n",
       "      <th>n_generic_subjects_used_for_training</th>\n",
       "      <th>frac_of_target_subject_data_used_for_training</th>\n",
       "      <th>acc_at_10th</th>\n",
       "      <th>acc_at_25th</th>\n",
       "      <th>acc_at_50th</th>\n",
       "      <th>acc_at_75th</th>\n",
       "      <th>acc_at_90th</th>\n",
       "    </tr>\n",
       "  </thead>\n",
       "  <tbody>\n",
       "    <tr>\n",
       "      <th>0</th>\n",
       "      <td>CNN</td>\n",
       "      <td>0</td>\n",
       "      <td>generic</td>\n",
       "      <td>4</td>\n",
       "      <td>0.0</td>\n",
       "      <td>0.5112</td>\n",
       "      <td>0.5555</td>\n",
       "      <td>0.6044</td>\n",
       "      <td>0.6518</td>\n",
       "      <td>0.6932</td>\n",
       "    </tr>\n",
       "    <tr>\n",
       "      <th>1</th>\n",
       "      <td>CNN</td>\n",
       "      <td>0</td>\n",
       "      <td>generic</td>\n",
       "      <td>16</td>\n",
       "      <td>0.0</td>\n",
       "      <td>0.5499</td>\n",
       "      <td>0.5966</td>\n",
       "      <td>0.6475</td>\n",
       "      <td>0.6961</td>\n",
       "      <td>0.7375</td>\n",
       "    </tr>\n",
       "    <tr>\n",
       "      <th>2</th>\n",
       "      <td>CNN</td>\n",
       "      <td>0</td>\n",
       "      <td>generic</td>\n",
       "      <td>64</td>\n",
       "      <td>0.0</td>\n",
       "      <td>0.6149</td>\n",
       "      <td>0.6612</td>\n",
       "      <td>0.7114</td>\n",
       "      <td>0.7575</td>\n",
       "      <td>0.7956</td>\n",
       "    </tr>\n",
       "    <tr>\n",
       "      <th>3</th>\n",
       "      <td>CNN</td>\n",
       "      <td>0</td>\n",
       "      <td>subject_specific</td>\n",
       "      <td>0</td>\n",
       "      <td>1.0</td>\n",
       "      <td>0.6846</td>\n",
       "      <td>0.7224</td>\n",
       "      <td>0.7623</td>\n",
       "      <td>0.7989</td>\n",
       "      <td>0.8291</td>\n",
       "    </tr>\n",
       "    <tr>\n",
       "      <th>4</th>\n",
       "      <td>CNN</td>\n",
       "      <td>0</td>\n",
       "      <td>subject_specific</td>\n",
       "      <td>4</td>\n",
       "      <td>1.0</td>\n",
       "      <td>0.6335</td>\n",
       "      <td>0.6688</td>\n",
       "      <td>0.7069</td>\n",
       "      <td>0.7430</td>\n",
       "      <td>0.7740</td>\n",
       "    </tr>\n",
       "  </tbody>\n",
       "</table>\n",
       "</div>"
      ],
      "text/plain": [
       "  classifier_name  subject_id     paradigm_name  \\\n",
       "0             CNN           0           generic   \n",
       "1             CNN           0           generic   \n",
       "2             CNN           0           generic   \n",
       "3             CNN           0  subject_specific   \n",
       "4             CNN           0  subject_specific   \n",
       "\n",
       "   n_generic_subjects_used_for_training  \\\n",
       "0                                     4   \n",
       "1                                    16   \n",
       "2                                    64   \n",
       "3                                     0   \n",
       "4                                     4   \n",
       "\n",
       "   frac_of_target_subject_data_used_for_training  acc_at_10th  acc_at_25th  \\\n",
       "0                                            0.0       0.5112       0.5555   \n",
       "1                                            0.0       0.5499       0.5966   \n",
       "2                                            0.0       0.6149       0.6612   \n",
       "3                                            1.0       0.6846       0.7224   \n",
       "4                                            1.0       0.6335       0.6688   \n",
       "\n",
       "   acc_at_50th  acc_at_75th  acc_at_90th  \n",
       "0       0.6044       0.6518       0.6932  \n",
       "1       0.6475       0.6961       0.7375  \n",
       "2       0.7114       0.7575       0.7956  \n",
       "3       0.7623       0.7989       0.8291  \n",
       "4       0.7069       0.7430       0.7740  "
      ]
     },
     "execution_count": 5,
     "metadata": {},
     "output_type": "execute_result"
    }
   ],
   "source": [
    "df.head()"
   ]
  },
  {
   "cell_type": "code",
   "execution_count": 6,
   "metadata": {},
   "outputs": [],
   "source": [
    "key_cols = ['classifier_nickname', 'subject_id', 'paradigm_name', 'n_generic_subjects_used_for_training', 'frac_of_target_subject_data_used_for_training']"
   ]
  },
  {
   "cell_type": "code",
   "execution_count": 7,
   "metadata": {},
   "outputs": [],
   "source": [
    "chosen_colors = [\n",
    "    '#a6cee3',\n",
    "    '#1f78b4',\n",
    "    '#b2df8a',\n",
    "    '#33a02c',\n",
    "    '#fb9a99',\n",
    "    '#e31a1c']"
   ]
  },
  {
   "cell_type": "code",
   "execution_count": 23,
   "metadata": {},
   "outputs": [
    {
     "data": {
      "image/png": "[encoded data removed]",
      "text/plain": [
       "<Figure size 360x360 with 1 Axes>"
      ]
     },
     "metadata": {},
     "output_type": "display_data"
    }
   ],
   "source": [
    "x_nickname = 'subj. specific only'\n",
    "y_nickname = 'generic (N=64)'\n",
    "\n",
    "x_query = \"classifier_name == 'CNN' and paradigm_name == 'subject_specific' and n_generic_subjects_used_for_training == 0\"\n",
    "y_query = \"classifier_name == 'CNN' and paradigm_name == 'generic' and n_generic_subjects_used_for_training == 64\"\n",
    "\n",
    "xticks = [0.5, 0.6, 0.7, 0.8, 0.9, 1.0]\n",
    "yticks = [0.5, 0.6, 0.7, 0.8, 0.9, 1.0]\n",
    "B = 0.05 # padding on each side of provided ticks\n",
    "b = 0.002 # width of rectangle for each bar\n",
    "\n",
    "W = 5\n",
    "H = 5\n",
    "\n",
    "\n",
    "_, axgrid = plt.subplots(nrows=1, ncols=1, sharex=True, sharey=True, figsize=(W, H))\n",
    "axgrid = np.atleast_1d(axgrid)\n",
    "\n",
    "for ii in range(axgrid.size):\n",
    "    ax = axgrid[ii]\n",
    "    ax.plot(xticks, xticks, '--', color='gray', alpha=0.5)\n",
    "\n",
    "    x_df = df.query(x_query)\n",
    "    y_df = df.query(y_query)\n",
    "    \n",
    "    assert x_df.shape[0] == y_df.shape[0]\n",
    "    \n",
    "    for ii in range(x_df.shape[0]):\n",
    "        subject_id = str(x_df['subject_id'].values[ii])\n",
    "        x_val = x_df['acc_at_50th'].values[ii]\n",
    "        y_val = y_df['acc_at_50th'].values[ii]\n",
    "        ax.plot(x_val, y_val, 's', label=subject_id, color='b')\n",
    "        # Add horizontal bar\n",
    "        xs = np.asarray([x_df['acc_at_10th'].values[ii], x_df['acc_at_90th'].values[ii]])\n",
    "        ys = y_val * np.ones(2)\n",
    "        ax.fill_between(xs, ys - b, ys + b, color='b', alpha=0.1)\n",
    "        # Add vertical bar\n",
    "        xs = np.asarray([x_val - b, x_val + b])\n",
    "        ys_hi = y_df['acc_at_10th'].values[ii] * np.ones(2)\n",
    "        ys_lo = y_df['acc_at_90th'].values[ii] * np.ones(2)\n",
    "        ax.fill_between(xs, ys_lo, ys_hi, color='b', alpha=0.1)\n",
    "    \n",
    "    ax.set_ylim([yticks[0]-B, yticks[-1]+B])\n",
    "    ax.set_yticks(yticks)\n",
    "    \n",
    "    ax.set_xlim([xticks[0]-B, xticks[-1]+B])\n",
    "    ax.set_xticks(xticks)\n",
    "\n",
    "    #ax.set_title('N = %d' % N)\n",
    "    ax.set_xlabel(x_nickname)\n",
    "    ax.set_ylabel(y_nickname)\n",
    "    "
   ]
  },
  {
   "cell_type": "code",
   "execution_count": null,
   "metadata": {},
   "outputs": [],
   "source": []
  }
 ],
 "metadata": {
  "kernelspec": {
   "display_name": "Python 3",
   "language": "python",
   "name": "python3"
  },
  "language_info": {
   "codemirror_mode": {
    "name": "ipython",
    "version": 3
   },
   "file_extension": ".py",
   "mimetype": "text/x-python",
   "name": "python",
   "nbconvert_exporter": "python",
   "pygments_lexer": "ipython3",
   "version": "3.6.10"
  }
 },
 "nbformat": 4,
 "nbformat_minor": 5
}
