{
 "cells": [
  {
   "cell_type": "code",
   "execution_count": 1,
   "metadata": {},
   "outputs": [],
   "source": [
    "import numpy as np\n",
    "import pandas as pd\n",
    "import os\n",
    "import sys"
   ]
  },
  {
   "cell_type": "code",
   "execution_count": null,
   "metadata": {},
   "outputs": [],
   "source": []
  },
  {
   "cell_type": "markdown",
   "metadata": {},
   "source": [
    "### LogisticRegression"
   ]
  },
  {
   "cell_type": "code",
   "execution_count": 2,
   "metadata": {},
   "outputs": [],
   "source": [
    "root_path = 'YOUR_PATH/fNIRS-mental-workload-classifiers/experiments/domain_adaptation/LogisticRegression/binary/'\n"
   ]
  },
  {
   "cell_type": "code",
   "execution_count": 3,
   "metadata": {},
   "outputs": [],
   "source": [
    "scenario_64vs4_train100_summary_path = 'train_100/64vs4_summary'\n"
   ]
  },
  {
   "cell_type": "code",
   "execution_count": 4,
   "metadata": {},
   "outputs": [],
   "source": [
    "LR_scenario_64vs4_train100_df = pd.read_csv(os.path.join(root_path, scenario_64vs4_train100_summary_path, 'AllSubjects_summary.csv'))\n"
   ]
  },
  {
   "cell_type": "code",
   "execution_count": 5,
   "metadata": {
    "scrolled": true
   },
   "outputs": [
    {
     "name": "stdout",
     "output_type": "stream",
     "text": [
      "LR + CORAL, Binary, Average Accuracy:\n",
      "scenario_64vs4_train100: 67.56799493991146\n"
     ]
    }
   ],
   "source": [
    "print('LR + CORAL, Binary, Average Accuracy:')\n",
    "print('scenario_64vs4_train100: {}'.format(np.mean(LR_scenario_64vs4_train100_df.corresponding_test_accuracy.values)))\n"
   ]
  },
  {
   "cell_type": "code",
   "execution_count": null,
   "metadata": {},
   "outputs": [],
   "source": []
  },
  {
   "cell_type": "code",
   "execution_count": null,
   "metadata": {},
   "outputs": [],
   "source": []
  },
  {
   "cell_type": "markdown",
   "metadata": {},
   "source": [
    "### RandomForest"
   ]
  },
  {
   "cell_type": "code",
   "execution_count": 6,
   "metadata": {},
   "outputs": [],
   "source": [
    "root_path = 'YOUR_PATH/fNIRS-mental-workload-classifiers/experiments/domain_adaptation/RandomForest/binary/'\n"
   ]
  },
  {
   "cell_type": "code",
   "execution_count": 7,
   "metadata": {},
   "outputs": [],
   "source": [
    "scenario_64vs4_train100_summary_path = 'train_100/64vs4_summary'\n"
   ]
  },
  {
   "cell_type": "code",
   "execution_count": 8,
   "metadata": {},
   "outputs": [],
   "source": [
    "LR_scenario_64vs4_train100_df = pd.read_csv(os.path.join(root_path, scenario_64vs4_train100_summary_path, 'AllSubjects_summary.csv'))\n"
   ]
  },
  {
   "cell_type": "code",
   "execution_count": 9,
   "metadata": {
    "scrolled": true
   },
   "outputs": [
    {
     "name": "stdout",
     "output_type": "stream",
     "text": [
      "LR + CORAL, Binary, Average Accuracy:\n",
      "scenario_64vs4_train100: 69.59993674889309\n"
     ]
    }
   ],
   "source": [
    "print('LR + CORAL, Binary, Average Accuracy:')\n",
    "print('scenario_64vs4_train100: {}'.format(np.mean(LR_scenario_64vs4_train100_df.corresponding_test_accuracy.values)))\n"
   ]
  },
  {
   "cell_type": "code",
   "execution_count": null,
   "metadata": {},
   "outputs": [],
   "source": []
  }
 ],
 "metadata": {
  "kernelspec": {
   "display_name": "Python 3",
   "language": "python",
   "name": "python3"
  },
  "language_info": {
   "codemirror_mode": {
    "name": "ipython",
    "version": 3
   },
   "file_extension": ".py",
   "mimetype": "text/x-python",
   "name": "python",
   "nbconvert_exporter": "python",
   "pygments_lexer": "ipython3",
   "version": "3.8.8"
  }
 },
 "nbformat": 4,
 "nbformat_minor": 4
}
