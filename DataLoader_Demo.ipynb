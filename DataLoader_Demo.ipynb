{
 "cells": [
  {
   "cell_type": "markdown",
   "metadata": {},
   "source": [
    "## This notebook demonstrate how one can load the csv data and convert into the standard pytorch dataloader, that are able to be use directly for deep learning training pipeline in pytorch"
   ]
  },
  {
   "cell_type": "code",
   "execution_count": 1,
   "metadata": {},
   "outputs": [
    {
     "name": "stdout",
     "output_type": "stream",
     "text": [
      "1.7.1\n"
     ]
    }
   ],
   "source": [
    "import numpy as np\n",
    "import pandas as pd\n",
    "import os\n",
    "import sys\n",
    "\n",
    "import torch\n",
    "print(torch.__version__)\n"
   ]
  },
  {
   "cell_type": "code",
   "execution_count": 2,
   "metadata": {},
   "outputs": [],
   "source": [
    "from helpers import brain_data\n"
   ]
  },
  {
   "cell_type": "code",
   "execution_count": 3,
   "metadata": {},
   "outputs": [],
   "source": [
    "#For example we want to load subject 1's slided window data with window size of 30s\n",
    "sub1_file = './data/chunk_data/size_30sec_150ts_stride_3ts/sub_1.csv'\n",
    "\n",
    "num_chunk_this_window_size = 1488 #the slided window data with window size of 30s has 1488 windows"
   ]
  },
  {
   "cell_type": "markdown",
   "metadata": {},
   "source": [
    "### Load the data from csv file, return feature array and label array"
   ]
  },
  {
   "cell_type": "code",
   "execution_count": 4,
   "metadata": {},
   "outputs": [],
   "source": [
    "sub_feature_array, sub_label_array = brain_data.read_subject_csv_binary(sub1_file,  num_chunk_this_window_size=num_chunk_this_window_size)\n"
   ]
  },
  {
   "cell_type": "markdown",
   "metadata": {},
   "source": [
    "### convert to dataset object"
   ]
  },
  {
   "cell_type": "code",
   "execution_count": 5,
   "metadata": {},
   "outputs": [],
   "source": [
    "sub1_dataset = brain_data.brain_dataset(sub_feature_array, sub_label_array)"
   ]
  },
  {
   "cell_type": "markdown",
   "metadata": {},
   "source": [
    "### convert to dataloader"
   ]
  },
  {
   "cell_type": "code",
   "execution_count": 6,
   "metadata": {},
   "outputs": [],
   "source": [
    "#set your own settings for the dataloader\n",
    "batch_size = 10\n",
    "shuffle = True"
   ]
  },
  {
   "cell_type": "code",
   "execution_count": 7,
   "metadata": {},
   "outputs": [],
   "source": [
    "sub1_dataloader = torch.utils.data.DataLoader(sub1_dataset, batch_size=batch_size, shuffle=shuffle)"
   ]
  },
  {
   "cell_type": "markdown",
   "metadata": {},
   "source": [
    "### Now let's look at the dataloader"
   ]
  },
  {
   "cell_type": "code",
   "execution_count": 8,
   "metadata": {},
   "outputs": [
    {
     "name": "stdout",
     "output_type": "stream",
     "text": [
      "tensor([1, 1, 1, 1, 1, 1, 0, 0, 0, 0])\n",
      "tensor([0, 0, 1, 0, 0, 1, 0, 1, 0, 1])\n",
      "tensor([1, 1, 0, 0, 0, 1, 0, 1, 1, 1])\n",
      "tensor([0, 0, 1, 1, 1, 1, 1, 1, 0, 1])\n",
      "tensor([0, 1, 0, 1, 0, 1, 0, 1, 1, 0])\n",
      "tensor([1, 0, 0, 1, 1, 1, 0, 0, 1, 0])\n",
      "tensor([0, 0, 0, 0, 0, 0, 0, 0, 1, 0])\n",
      "tensor([1, 1, 1, 1, 0, 1, 0, 1, 0, 1])\n",
      "tensor([1, 0, 1, 1, 1, 0, 0, 0, 0, 0])\n",
      "tensor([1, 1, 1, 0, 1, 0, 0, 1, 1, 1])\n",
      "tensor([0, 0, 0, 1, 1, 0, 1, 1, 1, 0])\n",
      "tensor([1, 1, 1, 0, 0, 1, 0, 1, 1, 0])\n",
      "tensor([0, 1, 0, 1, 1, 1, 0, 0, 1, 0])\n",
      "tensor([1, 1, 1, 0, 1, 1, 1, 1, 0, 0])\n",
      "tensor([0, 1, 1, 0, 0, 0, 0, 0, 1, 1])\n",
      "tensor([1, 0, 0, 1, 0, 1, 0, 1, 0, 1])\n",
      "tensor([0, 1, 1, 0, 0, 0, 1, 1, 0, 1])\n",
      "tensor([1, 1, 0, 0, 0, 1, 0, 1, 0, 0])\n",
      "tensor([0, 1, 0, 1, 1, 1, 0, 0, 1, 1])\n",
      "tensor([0, 0, 1, 0, 1, 0, 0, 0, 1, 1])\n",
      "tensor([1, 0, 1, 0, 1, 0, 0, 0, 0, 0])\n",
      "tensor([1, 0, 1, 0, 1, 0, 0, 0, 0, 1])\n",
      "tensor([1, 0, 0, 1, 0, 1, 1, 1, 0, 1])\n",
      "tensor([1, 0, 1, 0, 0, 0, 0, 1, 0, 0])\n",
      "tensor([0, 1, 0, 0, 0, 0, 1, 0, 0, 0])\n",
      "tensor([1, 0, 1, 1, 0, 0, 0, 1, 0, 1])\n",
      "tensor([0, 0, 0, 0, 0, 1, 0, 1, 1, 0])\n",
      "tensor([0, 1, 1, 1, 0, 0, 1, 0, 1, 0])\n",
      "tensor([1, 0, 1, 0, 1, 0, 0, 1, 1, 0])\n",
      "tensor([1, 1, 1, 0, 1, 0, 0, 1, 1, 0])\n",
      "tensor([0, 0, 1, 0, 1, 1, 0, 1, 0, 0])\n",
      "tensor([0, 0, 0, 1, 1, 0, 0, 1, 0, 0])\n",
      "tensor([0, 0, 1, 1, 1, 1, 1, 1, 0, 0])\n",
      "tensor([0, 0, 1, 1, 1, 1, 0, 1, 0, 0])\n",
      "tensor([0, 1, 0, 1, 1, 1, 0, 0, 1, 1])\n",
      "tensor([1, 0, 1, 0, 0, 0, 0, 1, 1, 1])\n",
      "tensor([0, 1, 0, 0, 0, 1, 0, 0, 1, 0])\n",
      "tensor([0, 1, 1, 1, 1, 1, 1, 1, 0, 1])\n",
      "tensor([1, 0, 0, 0, 0, 1, 0, 0, 0, 1])\n",
      "tensor([0, 1, 0, 1, 1, 1, 0, 0, 0, 0])\n",
      "tensor([1, 0, 1, 1, 1, 1, 0, 0, 1, 0])\n",
      "tensor([1, 0, 0, 1, 0, 0, 0, 1, 0, 0])\n",
      "tensor([0, 1, 1, 1, 1, 0, 0, 1, 1, 1])\n",
      "tensor([0, 0, 1, 0, 1, 1, 1, 1, 0, 0])\n",
      "tensor([1, 1, 0, 1, 1, 1, 1, 1, 0, 1])\n",
      "tensor([0, 0, 0, 1, 0, 1, 1, 1, 1, 0])\n",
      "tensor([1, 0, 1, 1, 0, 1, 0, 1, 0, 1])\n",
      "tensor([0, 1, 0, 0, 0, 1, 0, 1, 0, 1])\n",
      "tensor([1, 1, 1, 1, 0, 1, 1, 0, 1, 1])\n",
      "tensor([0, 0, 0, 1, 1, 1, 0, 0, 0, 0])\n",
      "tensor([1, 0, 0, 0, 1, 0, 0, 0, 0, 1])\n",
      "tensor([1, 1, 1, 1, 0, 0, 1, 1, 1, 1])\n",
      "tensor([0, 1, 1, 1, 1, 1, 0, 1, 0, 1])\n",
      "tensor([0, 0, 1, 0, 0, 1, 0, 0, 1, 0])\n",
      "tensor([1, 1, 1, 1, 1, 0, 0, 0, 0, 0])\n",
      "tensor([0, 1, 1, 0, 0, 1, 0, 0, 1, 1])\n",
      "tensor([0, 0, 0, 0, 1, 1, 1, 1, 1, 0])\n",
      "tensor([1, 1, 1, 1, 0, 0, 0, 1, 1, 1])\n",
      "tensor([0, 0, 1, 0, 1, 1, 0, 1, 1, 1])\n",
      "tensor([0, 1, 1, 0, 0, 0, 0, 0, 0, 1])\n",
      "tensor([1, 0, 1, 0, 0, 0, 1, 1, 1, 1])\n",
      "tensor([0, 1, 1, 0, 0, 0, 1, 1, 0, 0])\n",
      "tensor([1, 0, 1, 0, 1, 1, 0, 0, 1, 0])\n",
      "tensor([1, 0, 0, 1, 1, 0, 1, 0, 1, 0])\n",
      "tensor([1, 0, 1, 0, 0, 1, 1, 1, 0, 0])\n",
      "tensor([0, 0, 0, 1, 0, 1, 1, 1, 1, 0])\n",
      "tensor([1, 0, 1, 0, 0, 1, 1, 1, 0, 0])\n",
      "tensor([1, 1, 0, 1, 1, 0, 0, 0, 0, 1])\n",
      "tensor([0, 0, 0, 0, 0, 1, 0, 1, 1, 1])\n",
      "tensor([0, 0, 1, 1, 0, 1, 1, 0, 1, 1])\n",
      "tensor([0, 1, 0, 1, 1, 0, 1, 0, 1, 0])\n",
      "tensor([1, 1, 0, 0, 0, 1, 1, 0, 1, 1])\n",
      "tensor([1, 0, 0, 1, 1, 0, 1, 1, 0, 1])\n",
      "tensor([0, 0, 1, 0, 1, 1, 0, 1, 0, 0])\n",
      "tensor([1, 0, 1, 0])\n"
     ]
    }
   ],
   "source": [
    "for i, (data_batch, labels_batch) in enumerate(sub1_dataloader):\n",
    "    print(labels_batch)"
   ]
  },
  {
   "cell_type": "code",
   "execution_count": null,
   "metadata": {},
   "outputs": [],
   "source": []
  }
 ],
 "metadata": {
  "kernelspec": {
   "display_name": "Python 3",
   "language": "python",
   "name": "python3"
  },
  "language_info": {
   "codemirror_mode": {
    "name": "ipython",
    "version": 3
   },
   "file_extension": ".py",
   "mimetype": "text/x-python",
   "name": "python",
   "nbconvert_exporter": "python",
   "pygments_lexer": "ipython3",
   "version": "3.8.8"
  }
 },
 "nbformat": 4,
 "nbformat_minor": 4
}
