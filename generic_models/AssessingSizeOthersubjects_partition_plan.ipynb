{
 "cells": [
  {
   "cell_type": "code",
   "execution_count": 1,
   "metadata": {},
   "outputs": [],
   "source": [
    "import numpy as np\n",
    "import os\n",
    "\n",
    "from sklearn.model_selection import KFold\n",
    "np.random.seed(1)\n"
   ]
  },
  {
   "cell_type": "code",
   "execution_count": 2,
   "metadata": {},
   "outputs": [
    {
     "name": "stdout",
     "output_type": "stream",
     "text": [
      "final_qualified_list size: 68\n"
     ]
    }
   ],
   "source": [
    "eligible_list = np.array([1, 13, 14, 15, 20, 21, 22, 23, 24, 25, 27, 28, 29, 31, 32, 34,\n",
    " 35, 36, 37, 38, 40, 42, 43, 44, 45, 46, 47, 48, 49,  5, 51, 52,\n",
    " 54, 55, 56, 57, 58, 60, 61, 62, 63, 64, 65, 68, 69,  7, 70, 71,\n",
    " 72, 73, 74, 75, 76, 78, 79, 80, 81, 82, 83, 84, 85, 86, 91, 92, 93,\n",
    " 94, 95, 97])\n",
    "\n",
    "print('eligible_list size: {}'.format(len(eligible_list)))\n",
    "np.random.shuffle(eligible_list)\n"
   ]
  },
  {
   "cell_type": "markdown",
   "metadata": {},
   "source": [
    "### Divide into 17 test buckets: each bucket 4 subjects"
   ]
  },
  {
   "cell_type": "code",
   "execution_count": 5,
   "metadata": {},
   "outputs": [
    {
     "name": "stdout",
     "output_type": "stream",
     "text": [
      "len(test_bucket1): 4\n",
      "len(test_bucket2): 4\n",
      "len(test_bucket3): 4\n",
      "len(test_bucket4): 4\n",
      "len(test_bucket5): 4\n",
      "len(test_bucket6): 4\n",
      "len(test_bucket7): 4\n",
      "len(test_bucket8): 4\n",
      "len(test_bucket9): 4\n",
      "len(test_bucket10): 4\n",
      "len(test_bucket11): 4\n",
      "len(test_bucket12): 4\n",
      "len(test_bucket13): 4\n",
      "len(test_bucket14): 4\n",
      "len(test_bucket15): 4\n",
      "len(test_bucket16): 4\n",
      "len(test_bucket17): 4\n"
     ]
    }
   ],
   "source": [
    "test_bucket1 = eligible_list[:4]\n",
    "test_bucket2 = eligible_list[4:8]\n",
    "test_bucket3 = eligible_list[8:12]\n",
    "test_bucket4 = eligible_list[12:16]\n",
    "test_bucket5 = eligible_list[16:20]\n",
    "test_bucket6 = eligible_list[20:24]\n",
    "test_bucket7 = eligible_list[24:28]\n",
    "test_bucket8 = eligible_list[28:32]\n",
    "test_bucket9 = eligible_list[32:36]\n",
    "test_bucket10 = eligible_list[36:40]\n",
    "test_bucket11 = eligible_list[40:44]\n",
    "test_bucket12 = eligible_list[44:48]\n",
    "test_bucket13 = eligible_list[48:52]\n",
    "test_bucket14 = eligible_list[52:56]\n",
    "test_bucket15 = eligible_list[56:60]\n",
    "test_bucket16 = eligible_list[60:64]\n",
    "test_bucket17 = eligible_list[64:68]\n",
    "\n",
    "print('len(test_bucket1): {}'.format(len(test_bucket1)))\n",
    "print('len(test_bucket2): {}'.format(len(test_bucket2)))\n",
    "print('len(test_bucket3): {}'.format(len(test_bucket3)))\n",
    "print('len(test_bucket4): {}'.format(len(test_bucket4)))\n",
    "print('len(test_bucket5): {}'.format(len(test_bucket5)))\n",
    "print('len(test_bucket6): {}'.format(len(test_bucket6)))\n",
    "print('len(test_bucket7): {}'.format(len(test_bucket7)))\n",
    "print('len(test_bucket8): {}'.format(len(test_bucket8)))\n",
    "print('len(test_bucket9): {}'.format(len(test_bucket9)))\n",
    "print('len(test_bucket10): {}'.format(len(test_bucket10)))\n",
    "print('len(test_bucket11): {}'.format(len(test_bucket11)))\n",
    "print('len(test_bucket12): {}'.format(len(test_bucket12)))\n",
    "print('len(test_bucket13): {}'.format(len(test_bucket13)))\n",
    "print('len(test_bucket14): {}'.format(len(test_bucket14)))\n",
    "print('len(test_bucket15): {}'.format(len(test_bucket15)))\n",
    "print('len(test_bucket16): {}'.format(len(test_bucket16)))\n",
    "print('len(test_bucket17): {}'.format(len(test_bucket17)))\n"
   ]
  },
  {
   "cell_type": "code",
   "execution_count": null,
   "metadata": {},
   "outputs": [],
   "source": []
  },
  {
   "cell_type": "markdown",
   "metadata": {},
   "source": [
    "# 64vs4 scenarios (this actually means group 64 and test on individuals)"
   ]
  },
  {
   "cell_type": "markdown",
   "metadata": {},
   "source": [
    "### test_bucket1:"
   ]
  },
  {
   "cell_type": "code",
   "execution_count": 6,
   "metadata": {},
   "outputs": [],
   "source": [
    "test_subjects = test_bucket1.copy()\n",
    "development_subjects = np.concatenate([test_bucket2.copy(), test_bucket3.copy(), test_bucket4.copy(),\n",
    "                                test_bucket5.copy(), test_bucket6.copy(), test_bucket7.copy(), test_bucket8.copy(),\n",
    "                                test_bucket9.copy(), test_bucket10.copy(), test_bucket11.copy(), test_bucket12.copy(),\n",
    "                                test_bucket13.copy(), test_bucket14.copy(), test_bucket15.copy(), test_bucket16.copy(),\n",
    "                                test_bucket17.copy()])\n",
    "\n",
    "np.random.shuffle(development_subjects)\n",
    "\n",
    "train_subjects = development_subjects[:48]\n",
    "val_subjects = development_subjects[48:]"
   ]
  },
  {
   "cell_type": "code",
   "execution_count": 7,
   "metadata": {},
   "outputs": [
    {
     "name": "stdout",
     "output_type": "stream",
     "text": [
      "size test subjects: 4\n",
      "size development subjects: 64\n",
      "size train subjects: 48\n",
      "size val subjects: 16\n"
     ]
    }
   ],
   "source": [
    "print('size test subjects: {}'.format(len(test_subjects)))\n",
    "print('size development subjects: {}'.format(len(development_subjects)))\n",
    "\n",
    "print('size train subjects: {}'.format(len(train_subjects)))\n",
    "print('size val subjects: {}'.format(len(val_subjects)))\n"
   ]
  },
  {
   "cell_type": "code",
   "execution_count": 8,
   "metadata": {},
   "outputs": [
    {
     "name": "stdout",
     "output_type": "stream",
     "text": [
      "test subjects: [86 56 72 79]\n",
      "\n",
      "development subjects: [ 5 40 35 14 65 49 32 42 25 15 81 83 38 34 60 13 78 57 36 80 27 20 61 85\n",
      " 23 54 28 84 31  1 73 55 22 92 58 95 93 29 69 82 97 45  7 46 91 75 24 74\n",
      " 37 63 21 52 43 94 62 68 70 64 71 51 76 44 48 47]\n",
      "\n",
      "train subjects: [ 5 40 35 14 65 49 32 42 25 15 81 83 38 34 60 13 78 57 36 80 27 20 61 85\n",
      " 23 54 28 84 31  1 73 55 22 92 58 95 93 29 69 82 97 45  7 46 91 75 24 74]\n",
      "\n",
      "val subjects: [37 63 21 52 43 94 62 68 70 64 71 51 76 44 48 47]\n"
     ]
    }
   ],
   "source": [
    "print('test subjects: {}\\n'.format(test_subjects))\n",
    "print('development subjects: {}\\n'.format(development_subjects))\n",
    "print('train subjects: {}\\n'.format(train_subjects))\n",
    "print('val subjects: {}'.format(val_subjects))"
   ]
  },
  {
   "cell_type": "code",
   "execution_count": null,
   "metadata": {},
   "outputs": [],
   "source": []
  },
  {
   "cell_type": "markdown",
   "metadata": {},
   "source": [
    "### test_bucket2:"
   ]
  },
  {
   "cell_type": "code",
   "execution_count": 9,
   "metadata": {},
   "outputs": [],
   "source": [
    "test_subjects = test_bucket2.copy()\n",
    "development_subjects = np.concatenate([test_bucket1.copy(), test_bucket3.copy(), test_bucket4.copy(),\n",
    "                                test_bucket5.copy(), test_bucket6.copy(), test_bucket7.copy(), test_bucket8.copy(),\n",
    "                                test_bucket9.copy(), test_bucket10.copy(), test_bucket11.copy(), test_bucket12.copy(),\n",
    "                                test_bucket13.copy(), test_bucket14.copy(), test_bucket15.copy(), test_bucket16.copy(),\n",
    "                                test_bucket17.copy()])\n",
    "\n",
    "np.random.shuffle(development_subjects)\n",
    "\n",
    "train_subjects = development_subjects[:48]\n",
    "val_subjects = development_subjects[48:]"
   ]
  },
  {
   "cell_type": "code",
   "execution_count": 10,
   "metadata": {},
   "outputs": [
    {
     "name": "stdout",
     "output_type": "stream",
     "text": [
      "size test subjects: 4\n",
      "size development subjects: 64\n",
      "size train subjects: 48\n",
      "size val subjects: 16\n"
     ]
    }
   ],
   "source": [
    "print('size test subjects: {}'.format(len(test_subjects)))\n",
    "print('size development subjects: {}'.format(len(development_subjects)))\n",
    "\n",
    "print('size train subjects: {}'.format(len(train_subjects)))\n",
    "print('size val subjects: {}'.format(len(val_subjects)))\n",
    "\n"
   ]
  },
  {
   "cell_type": "code",
   "execution_count": 11,
   "metadata": {
    "scrolled": true
   },
   "outputs": [
    {
     "name": "stdout",
     "output_type": "stream",
     "text": [
      "test subjects: [93 82 55 48]\n",
      "\n",
      "development subjects: [81 60 79 29 78 36 22 51 80 97 37 71 49 47 25 62 20 74  7 84 54 42 68 70\n",
      " 83  5 92 24  1 85 76 86 40 64 95 69 28 27 15 14 63 13 75 23 58 38 35 34\n",
      " 94 52 43 44 91 65 72 31 46 57 45 32 21 61 56 73]\n",
      "\n",
      "train subjects: [81 60 79 29 78 36 22 51 80 97 37 71 49 47 25 62 20 74  7 84 54 42 68 70\n",
      " 83  5 92 24  1 85 76 86 40 64 95 69 28 27 15 14 63 13 75 23 58 38 35 34]\n",
      "\n",
      "val subjects: [94 52 43 44 91 65 72 31 46 57 45 32 21 61 56 73]\n"
     ]
    }
   ],
   "source": [
    "print('test subjects: {}\\n'.format(test_subjects))\n",
    "print('development subjects: {}\\n'.format(development_subjects))\n",
    "print('train subjects: {}\\n'.format(train_subjects))\n",
    "print('val subjects: {}'.format(val_subjects))"
   ]
  },
  {
   "cell_type": "code",
   "execution_count": null,
   "metadata": {},
   "outputs": [],
   "source": []
  },
  {
   "cell_type": "markdown",
   "metadata": {},
   "source": [
    "### test_bucket3:"
   ]
  },
  {
   "cell_type": "code",
   "execution_count": 12,
   "metadata": {},
   "outputs": [],
   "source": [
    "test_subjects = test_bucket3.copy()\n",
    "development_subjects = np.concatenate([test_bucket2.copy(), test_bucket1.copy(), test_bucket4.copy(),\n",
    "                                test_bucket5.copy(), test_bucket6.copy(), test_bucket7.copy(), test_bucket8.copy(),\n",
    "                                test_bucket9.copy(), test_bucket10.copy(), test_bucket11.copy(), test_bucket12.copy(),\n",
    "                                test_bucket13.copy(), test_bucket14.copy(), test_bucket15.copy(), test_bucket16.copy(),\n",
    "                                test_bucket17.copy()])\n",
    "\n",
    "np.random.shuffle(development_subjects)\n",
    "\n",
    "train_subjects = development_subjects[:48]\n",
    "val_subjects = development_subjects[48:]"
   ]
  },
  {
   "cell_type": "code",
   "execution_count": 13,
   "metadata": {},
   "outputs": [
    {
     "name": "stdout",
     "output_type": "stream",
     "text": [
      "size test subjects: 4\n",
      "size development subjects: 64\n",
      "size train subjects: 48\n",
      "size val subjects: 16\n"
     ]
    }
   ],
   "source": [
    "print('size test subjects: {}'.format(len(test_subjects)))\n",
    "print('size development subjects: {}'.format(len(development_subjects)))\n",
    "\n",
    "print('size train subjects: {}'.format(len(train_subjects)))\n",
    "print('size val subjects: {}'.format(len(val_subjects)))\n"
   ]
  },
  {
   "cell_type": "code",
   "execution_count": 14,
   "metadata": {},
   "outputs": [
    {
     "name": "stdout",
     "output_type": "stream",
     "text": [
      "test subjects: [80 14 58 75]\n",
      "\n",
      "development subjects: [82  1 38 95 23 86 56 71 79 72 24 35 36 43 40 74 45 92 49 15 25 73 65 47\n",
      " 63 64 51 32 44 97  7 29 62 52 61 68 83 57 13 94 70 27 46 31 60 54 84 85\n",
      " 93 78 21 55 22 48 34  5 91 81 76 28 42 20 69 37]\n",
      "\n",
      "train subjects: [82  1 38 95 23 86 56 71 79 72 24 35 36 43 40 74 45 92 49 15 25 73 65 47\n",
      " 63 64 51 32 44 97  7 29 62 52 61 68 83 57 13 94 70 27 46 31 60 54 84 85]\n",
      "\n",
      "val subjects: [93 78 21 55 22 48 34  5 91 81 76 28 42 20 69 37]\n"
     ]
    }
   ],
   "source": [
    "print('test subjects: {}\\n'.format(test_subjects))\n",
    "print('development subjects: {}\\n'.format(development_subjects))\n",
    "print('train subjects: {}\\n'.format(train_subjects))\n",
    "print('val subjects: {}'.format(val_subjects))"
   ]
  },
  {
   "cell_type": "code",
   "execution_count": null,
   "metadata": {},
   "outputs": [],
   "source": []
  },
  {
   "cell_type": "markdown",
   "metadata": {},
   "source": [
    "### test_bucket4:"
   ]
  },
  {
   "cell_type": "code",
   "execution_count": 15,
   "metadata": {},
   "outputs": [],
   "source": [
    "test_subjects = test_bucket4.copy()\n",
    "development_subjects = np.concatenate([test_bucket2.copy(), test_bucket3.copy(), test_bucket1.copy(),\n",
    "                                test_bucket5.copy(), test_bucket6.copy(), test_bucket7.copy(), test_bucket8.copy(),\n",
    "                                test_bucket9.copy(), test_bucket10.copy(), test_bucket11.copy(), test_bucket12.copy(),\n",
    "                                test_bucket13.copy(), test_bucket14.copy(), test_bucket15.copy(), test_bucket16.copy(),\n",
    "                                test_bucket17.copy()])\n",
    "\n",
    "np.random.shuffle(development_subjects)\n",
    "\n",
    "train_subjects = development_subjects[:48]\n",
    "val_subjects = development_subjects[48:]"
   ]
  },
  {
   "cell_type": "code",
   "execution_count": 16,
   "metadata": {},
   "outputs": [
    {
     "name": "stdout",
     "output_type": "stream",
     "text": [
      "size test subjects: 4\n",
      "size development subjects: 64\n",
      "size train subjects: 48\n",
      "size val subjects: 16\n"
     ]
    }
   ],
   "source": [
    "print('size test subjects: {}'.format(len(test_subjects)))\n",
    "print('size development subjects: {}'.format(len(development_subjects)))\n",
    "\n",
    "print('size train subjects: {}'.format(len(train_subjects)))\n",
    "print('size val subjects: {}'.format(len(val_subjects)))\n"
   ]
  },
  {
   "cell_type": "code",
   "execution_count": 17,
   "metadata": {},
   "outputs": [
    {
     "name": "stdout",
     "output_type": "stream",
     "text": [
      "test subjects: [62 47 52 84]\n",
      "\n",
      "development subjects: [78 51 27 49 82 23 46 85 74 36 86 25  7 75 32 79 31 22 92 28 34 71 20 65\n",
      " 56 73 57  1 81 83 24 58 69 95 38 91 13 54 97 42 93 80 15 35 43 21 55 72\n",
      "  5 60 76 40 63 14 44 37 68 61 64 29 45 48 70 94]\n",
      "\n",
      "train subjects: [78 51 27 49 82 23 46 85 74 36 86 25  7 75 32 79 31 22 92 28 34 71 20 65\n",
      " 56 73 57  1 81 83 24 58 69 95 38 91 13 54 97 42 93 80 15 35 43 21 55 72]\n",
      "\n",
      "val subjects: [ 5 60 76 40 63 14 44 37 68 61 64 29 45 48 70 94]\n"
     ]
    }
   ],
   "source": [
    "print('test subjects: {}\\n'.format(test_subjects))\n",
    "print('development subjects: {}\\n'.format(development_subjects))\n",
    "print('train subjects: {}\\n'.format(train_subjects))\n",
    "print('val subjects: {}'.format(val_subjects))"
   ]
  },
  {
   "cell_type": "code",
   "execution_count": null,
   "metadata": {},
   "outputs": [],
   "source": []
  },
  {
   "cell_type": "markdown",
   "metadata": {},
   "source": [
    "### test_bucket5:"
   ]
  },
  {
   "cell_type": "code",
   "execution_count": 18,
   "metadata": {},
   "outputs": [],
   "source": [
    "test_subjects = test_bucket5.copy()\n",
    "development_subjects = np.concatenate([test_bucket2.copy(), test_bucket3.copy(), test_bucket4.copy(),\n",
    "                                test_bucket1.copy(), test_bucket6.copy(), test_bucket7.copy(), test_bucket8.copy(),\n",
    "                                test_bucket9.copy(), test_bucket10.copy(), test_bucket11.copy(), test_bucket12.copy(),\n",
    "                                test_bucket13.copy(), test_bucket14.copy(), test_bucket15.copy(), test_bucket16.copy(),\n",
    "                                test_bucket17.copy()])\n",
    "\n",
    "np.random.shuffle(development_subjects)\n",
    "\n",
    "train_subjects = development_subjects[:48]\n",
    "val_subjects = development_subjects[48:]"
   ]
  },
  {
   "cell_type": "code",
   "execution_count": 19,
   "metadata": {},
   "outputs": [
    {
     "name": "stdout",
     "output_type": "stream",
     "text": [
      "size test subjects: 4\n",
      "size development subjects: 64\n",
      "size train subjects: 48\n",
      "size val subjects: 16\n"
     ]
    }
   ],
   "source": [
    "print('size test subjects: {}'.format(len(test_subjects)))\n",
    "print('size development subjects: {}'.format(len(development_subjects)))\n",
    "\n",
    "print('size train subjects: {}'.format(len(train_subjects)))\n",
    "print('size val subjects: {}'.format(len(val_subjects)))\n"
   ]
  },
  {
   "cell_type": "code",
   "execution_count": 20,
   "metadata": {},
   "outputs": [
    {
     "name": "stdout",
     "output_type": "stream",
     "text": [
      "test subjects: [73 69 42 63]\n",
      "\n",
      "development subjects: [72 97 84 62 54 29 20 32 60 35 52 51 15 45 80 56 70 81 79 94 91 28 58 48\n",
      " 34 55 13 83 40 27 37 93 61 57 82 21 24 47  5 46 31 43 14 95 68 25 49 44\n",
      " 76 75 22 36  7 86 23 71 38 64 65 85 78 74 92  1]\n",
      "\n",
      "train subjects: [72 97 84 62 54 29 20 32 60 35 52 51 15 45 80 56 70 81 79 94 91 28 58 48\n",
      " 34 55 13 83 40 27 37 93 61 57 82 21 24 47  5 46 31 43 14 95 68 25 49 44]\n",
      "\n",
      "val subjects: [76 75 22 36  7 86 23 71 38 64 65 85 78 74 92  1]\n"
     ]
    }
   ],
   "source": [
    "print('test subjects: {}\\n'.format(test_subjects))\n",
    "print('development subjects: {}\\n'.format(development_subjects))\n",
    "print('train subjects: {}\\n'.format(train_subjects))\n",
    "print('val subjects: {}'.format(val_subjects))"
   ]
  },
  {
   "cell_type": "code",
   "execution_count": null,
   "metadata": {},
   "outputs": [],
   "source": []
  },
  {
   "cell_type": "markdown",
   "metadata": {},
   "source": [
    "### test_bucket6:"
   ]
  },
  {
   "cell_type": "code",
   "execution_count": 21,
   "metadata": {},
   "outputs": [],
   "source": [
    "test_subjects = test_bucket6.copy()\n",
    "development_subjects = np.concatenate([test_bucket2.copy(), test_bucket3.copy(), test_bucket4.copy(),\n",
    "                                test_bucket5.copy(), test_bucket1.copy(), test_bucket7.copy(), test_bucket8.copy(),\n",
    "                                test_bucket9.copy(), test_bucket10.copy(), test_bucket11.copy(), test_bucket12.copy(),\n",
    "                                test_bucket13.copy(), test_bucket14.copy(), test_bucket15.copy(), test_bucket16.copy(),\n",
    "                                test_bucket17.copy()])\n",
    "\n",
    "np.random.shuffle(development_subjects)\n",
    "\n",
    "train_subjects = development_subjects[:48]\n",
    "val_subjects = development_subjects[48:]"
   ]
  },
  {
   "cell_type": "code",
   "execution_count": 22,
   "metadata": {},
   "outputs": [
    {
     "name": "stdout",
     "output_type": "stream",
     "text": [
      "size test subjects: 4\n",
      "size development subjects: 64\n",
      "size train subjects: 48\n",
      "size val subjects: 16\n"
     ]
    }
   ],
   "source": [
    "print('size test subjects: {}'.format(len(test_subjects)))\n",
    "print('size development subjects: {}'.format(len(development_subjects)))\n",
    "\n",
    "print('size train subjects: {}'.format(len(train_subjects)))\n",
    "print('size val subjects: {}'.format(len(val_subjects)))\n"
   ]
  },
  {
   "cell_type": "code",
   "execution_count": 23,
   "metadata": {},
   "outputs": [
    {
     "name": "stdout",
     "output_type": "stream",
     "text": [
      "test subjects: [81 15 57 70]\n",
      "\n",
      "development subjects: [ 7 68 38 29 79 45 83 76 82 63 48 13 75 80 28 93 58 23 60 43 64 47 14 49\n",
      " 78 40 52 36 34 42 20 94 44 24 31 25 65 69 74 37 91 62 71 95 35 85 92 55\n",
      " 56  1 54 27 21 46 61 86 97 51 32 84  5 72 73 22]\n",
      "\n",
      "train subjects: [ 7 68 38 29 79 45 83 76 82 63 48 13 75 80 28 93 58 23 60 43 64 47 14 49\n",
      " 78 40 52 36 34 42 20 94 44 24 31 25 65 69 74 37 91 62 71 95 35 85 92 55]\n",
      "\n",
      "val subjects: [56  1 54 27 21 46 61 86 97 51 32 84  5 72 73 22]\n"
     ]
    }
   ],
   "source": [
    "print('test subjects: {}\\n'.format(test_subjects))\n",
    "print('development subjects: {}\\n'.format(development_subjects))\n",
    "print('train subjects: {}\\n'.format(train_subjects))\n",
    "print('val subjects: {}'.format(val_subjects))"
   ]
  },
  {
   "cell_type": "code",
   "execution_count": null,
   "metadata": {},
   "outputs": [],
   "source": []
  },
  {
   "cell_type": "markdown",
   "metadata": {},
   "source": [
    "### test_bucket7:"
   ]
  },
  {
   "cell_type": "code",
   "execution_count": 24,
   "metadata": {},
   "outputs": [],
   "source": [
    "test_subjects = test_bucket7.copy()\n",
    "development_subjects = np.concatenate([test_bucket2.copy(), test_bucket3.copy(), test_bucket4.copy(),\n",
    "                                test_bucket5.copy(), test_bucket6.copy(), test_bucket1.copy(), test_bucket8.copy(),\n",
    "                                test_bucket9.copy(), test_bucket10.copy(), test_bucket11.copy(), test_bucket12.copy(),\n",
    "                                test_bucket13.copy(), test_bucket14.copy(), test_bucket15.copy(), test_bucket16.copy(),\n",
    "                                test_bucket17.copy()])\n",
    "\n",
    "np.random.shuffle(development_subjects)\n",
    "\n",
    "train_subjects = development_subjects[:48]\n",
    "val_subjects = development_subjects[48:]"
   ]
  },
  {
   "cell_type": "code",
   "execution_count": 25,
   "metadata": {},
   "outputs": [
    {
     "name": "stdout",
     "output_type": "stream",
     "text": [
      "size test subjects: 4\n",
      "size development subjects: 64\n",
      "size train subjects: 48\n",
      "size val subjects: 16\n"
     ]
    }
   ],
   "source": [
    "print('size test subjects: {}'.format(len(test_subjects)))\n",
    "print('size development subjects: {}'.format(len(development_subjects)))\n",
    "\n",
    "print('size train subjects: {}'.format(len(train_subjects)))\n",
    "print('size val subjects: {}'.format(len(val_subjects)))\n"
   ]
  },
  {
   "cell_type": "code",
   "execution_count": 26,
   "metadata": {},
   "outputs": [
    {
     "name": "stdout",
     "output_type": "stream",
     "text": [
      "test subjects: [27 92 38 76]\n",
      "\n",
      "development subjects: [49 82 57 63 60 23 47 36 48  5 32 51 58 70 80 46 69 34 21 28 43 83  7 97\n",
      " 45 13 86 72 54 24 94 25 14 40 65 52 31 15 73 93 29 55 79 95 37 62 35 20\n",
      " 42 84 85 44 81 56 75 78  1 61 74 68 22 64 91 71]\n",
      "\n",
      "train subjects: [49 82 57 63 60 23 47 36 48  5 32 51 58 70 80 46 69 34 21 28 43 83  7 97\n",
      " 45 13 86 72 54 24 94 25 14 40 65 52 31 15 73 93 29 55 79 95 37 62 35 20]\n",
      "\n",
      "val subjects: [42 84 85 44 81 56 75 78  1 61 74 68 22 64 91 71]\n"
     ]
    }
   ],
   "source": [
    "print('test subjects: {}\\n'.format(test_subjects))\n",
    "print('development subjects: {}\\n'.format(development_subjects))\n",
    "print('train subjects: {}\\n'.format(train_subjects))\n",
    "print('val subjects: {}'.format(val_subjects))"
   ]
  },
  {
   "cell_type": "code",
   "execution_count": null,
   "metadata": {},
   "outputs": [],
   "source": []
  },
  {
   "cell_type": "markdown",
   "metadata": {},
   "source": [
    "### test_bucket8:"
   ]
  },
  {
   "cell_type": "code",
   "execution_count": 27,
   "metadata": {},
   "outputs": [],
   "source": [
    "test_subjects = test_bucket8.copy()\n",
    "development_subjects = np.concatenate([test_bucket2.copy(), test_bucket3.copy(), test_bucket4.copy(),\n",
    "                                test_bucket5.copy(), test_bucket6.copy(), test_bucket7.copy(), test_bucket1.copy(),\n",
    "                                test_bucket9.copy(), test_bucket10.copy(), test_bucket11.copy(), test_bucket12.copy(),\n",
    "                                test_bucket13.copy(), test_bucket14.copy(), test_bucket15.copy(), test_bucket16.copy(),\n",
    "                                test_bucket17.copy()])\n",
    "\n",
    "np.random.shuffle(development_subjects)\n",
    "\n",
    "train_subjects = development_subjects[:48]\n",
    "val_subjects = development_subjects[48:]"
   ]
  },
  {
   "cell_type": "code",
   "execution_count": 28,
   "metadata": {},
   "outputs": [
    {
     "name": "stdout",
     "output_type": "stream",
     "text": [
      "size test subjects: 4\n",
      "size development subjects: 64\n",
      "size train subjects: 48\n",
      "size val subjects: 16\n"
     ]
    }
   ],
   "source": [
    "print('size test subjects: {}'.format(len(test_subjects)))\n",
    "print('size development subjects: {}'.format(len(development_subjects)))\n",
    "\n",
    "print('size train subjects: {}'.format(len(train_subjects)))\n",
    "print('size val subjects: {}'.format(len(val_subjects)))\n"
   ]
  },
  {
   "cell_type": "code",
   "execution_count": 29,
   "metadata": {},
   "outputs": [
    {
     "name": "stdout",
     "output_type": "stream",
     "text": [
      "test subjects: [45 24 36 71]\n",
      "\n",
      "development subjects: [55 21 74 28 76 91 20 93 95 29 35 34 32 68 27 40 84  5 82 38 47 78 97 75\n",
      " 56  7 85 62 37 79 58 72 13 15 25 42 64 43 48 44 80 31 69 70 92 60 86 46\n",
      " 54 22 23 65 49 94 83 81 14 61 57 73 52  1 51 63]\n",
      "\n",
      "train subjects: [55 21 74 28 76 91 20 93 95 29 35 34 32 68 27 40 84  5 82 38 47 78 97 75\n",
      " 56  7 85 62 37 79 58 72 13 15 25 42 64 43 48 44 80 31 69 70 92 60 86 46]\n",
      "\n",
      "val subjects: [54 22 23 65 49 94 83 81 14 61 57 73 52  1 51 63]\n"
     ]
    }
   ],
   "source": [
    "print('test subjects: {}\\n'.format(test_subjects))\n",
    "print('development subjects: {}\\n'.format(development_subjects))\n",
    "print('train subjects: {}\\n'.format(train_subjects))\n",
    "print('val subjects: {}'.format(val_subjects))"
   ]
  },
  {
   "cell_type": "code",
   "execution_count": null,
   "metadata": {},
   "outputs": [],
   "source": []
  },
  {
   "cell_type": "markdown",
   "metadata": {},
   "source": [
    "### test_bucket9:"
   ]
  },
  {
   "cell_type": "code",
   "execution_count": 30,
   "metadata": {},
   "outputs": [],
   "source": [
    "test_subjects = test_bucket9.copy()\n",
    "development_subjects = np.concatenate([test_bucket2.copy(), test_bucket3.copy(), test_bucket4.copy(),\n",
    "                                test_bucket5.copy(), test_bucket6.copy(), test_bucket7.copy(), test_bucket8.copy(),\n",
    "                                test_bucket1.copy(), test_bucket10.copy(), test_bucket11.copy(), test_bucket12.copy(),\n",
    "                                test_bucket13.copy(), test_bucket14.copy(), test_bucket15.copy(), test_bucket16.copy(),\n",
    "                                test_bucket17.copy()])\n",
    "\n",
    "np.random.shuffle(development_subjects)\n",
    "\n",
    "train_subjects = development_subjects[:48]\n",
    "val_subjects = development_subjects[48:]"
   ]
  },
  {
   "cell_type": "code",
   "execution_count": 31,
   "metadata": {},
   "outputs": [
    {
     "name": "stdout",
     "output_type": "stream",
     "text": [
      "size test subjects: 4\n",
      "size development subjects: 64\n",
      "size train subjects: 48\n",
      "size val subjects: 16\n"
     ]
    }
   ],
   "source": [
    "print('size test subjects: {}'.format(len(test_subjects)))\n",
    "print('size development subjects: {}'.format(len(development_subjects)))\n",
    "\n",
    "print('size train subjects: {}'.format(len(train_subjects)))\n",
    "print('size val subjects: {}'.format(len(val_subjects)))\n"
   ]
  },
  {
   "cell_type": "code",
   "execution_count": 32,
   "metadata": {},
   "outputs": [
    {
     "name": "stdout",
     "output_type": "stream",
     "text": [
      "test subjects: [91 85 61 83]\n",
      "\n",
      "development subjects: [31 60 81 80 82  1 54 97 62 45 24 92 48 74 93 20 63 84 37 55 49  7 76 23\n",
      " 25 40 69 27 64 43 47 79 32 14 38 72 68 65 35 70 28 13 75 15 73  5 71 36\n",
      " 46 34 21 29 95 51 57 56 78 94 52 22 86 58 44 42]\n",
      "\n",
      "train subjects: [31 60 81 80 82  1 54 97 62 45 24 92 48 74 93 20 63 84 37 55 49  7 76 23\n",
      " 25 40 69 27 64 43 47 79 32 14 38 72 68 65 35 70 28 13 75 15 73  5 71 36]\n",
      "\n",
      "val subjects: [46 34 21 29 95 51 57 56 78 94 52 22 86 58 44 42]\n"
     ]
    }
   ],
   "source": [
    "print('test subjects: {}\\n'.format(test_subjects))\n",
    "print('development subjects: {}\\n'.format(development_subjects))\n",
    "print('train subjects: {}\\n'.format(train_subjects))\n",
    "print('val subjects: {}'.format(val_subjects))"
   ]
  },
  {
   "cell_type": "code",
   "execution_count": null,
   "metadata": {},
   "outputs": [],
   "source": []
  },
  {
   "cell_type": "markdown",
   "metadata": {},
   "source": [
    "### test_bucket10:"
   ]
  },
  {
   "cell_type": "code",
   "execution_count": 33,
   "metadata": {},
   "outputs": [],
   "source": [
    "test_subjects = test_bucket10.copy()\n",
    "development_subjects = np.concatenate([test_bucket2.copy(), test_bucket3.copy(), test_bucket4.copy(),\n",
    "                                test_bucket5.copy(), test_bucket6.copy(), test_bucket7.copy(), test_bucket8.copy(),\n",
    "                                test_bucket9.copy(), test_bucket1.copy(), test_bucket11.copy(), test_bucket12.copy(),\n",
    "                                test_bucket13.copy(), test_bucket14.copy(), test_bucket15.copy(), test_bucket16.copy(),\n",
    "                                test_bucket17.copy()])\n",
    "\n",
    "np.random.shuffle(development_subjects)\n",
    "\n",
    "train_subjects = development_subjects[:48]\n",
    "val_subjects = development_subjects[48:]"
   ]
  },
  {
   "cell_type": "code",
   "execution_count": 34,
   "metadata": {},
   "outputs": [
    {
     "name": "stdout",
     "output_type": "stream",
     "text": [
      "size test subjects: 4\n",
      "size development subjects: 64\n",
      "size train subjects: 48\n",
      "size val subjects: 16\n"
     ]
    }
   ],
   "source": [
    "print('size test subjects: {}'.format(len(test_subjects)))\n",
    "print('size development subjects: {}'.format(len(development_subjects)))\n",
    "\n",
    "print('size train subjects: {}'.format(len(train_subjects)))\n",
    "print('size val subjects: {}'.format(len(val_subjects)))\n"
   ]
  },
  {
   "cell_type": "code",
   "execution_count": 35,
   "metadata": {},
   "outputs": [
    {
     "name": "stdout",
     "output_type": "stream",
     "text": [
      "test subjects: [94 31 43 54]\n",
      "\n",
      "development subjects: [52 74 37 25 70 95 23 47 85 63 76  7 32 58  1 14 91 55 71 83 79 34 62 40\n",
      " 69 64 73 27 24 22 84 13 78 48 80 92 61 72 21 29 82 86 36 51 42 75 35 56\n",
      " 97 93 68 45 49 15 81 65 20 57 44 60 38  5 46 28]\n",
      "\n",
      "train subjects: [52 74 37 25 70 95 23 47 85 63 76  7 32 58  1 14 91 55 71 83 79 34 62 40\n",
      " 69 64 73 27 24 22 84 13 78 48 80 92 61 72 21 29 82 86 36 51 42 75 35 56]\n",
      "\n",
      "val subjects: [97 93 68 45 49 15 81 65 20 57 44 60 38  5 46 28]\n"
     ]
    }
   ],
   "source": [
    "print('test subjects: {}\\n'.format(test_subjects))\n",
    "print('development subjects: {}\\n'.format(development_subjects))\n",
    "print('train subjects: {}\\n'.format(train_subjects))\n",
    "print('val subjects: {}'.format(val_subjects))"
   ]
  },
  {
   "cell_type": "code",
   "execution_count": null,
   "metadata": {},
   "outputs": [],
   "source": []
  },
  {
   "cell_type": "markdown",
   "metadata": {},
   "source": [
    "### test_bucket11:"
   ]
  },
  {
   "cell_type": "code",
   "execution_count": 36,
   "metadata": {},
   "outputs": [],
   "source": [
    "test_subjects = test_bucket11.copy()\n",
    "development_subjects = np.concatenate([test_bucket2.copy(), test_bucket3.copy(), test_bucket4.copy(),\n",
    "                                test_bucket5.copy(), test_bucket6.copy(), test_bucket7.copy(), test_bucket8.copy(),\n",
    "                                test_bucket9.copy(), test_bucket10.copy(), test_bucket1.copy(), test_bucket12.copy(),\n",
    "                                test_bucket13.copy(), test_bucket14.copy(), test_bucket15.copy(), test_bucket16.copy(),\n",
    "                                test_bucket17.copy()])\n",
    "\n",
    "np.random.shuffle(development_subjects)\n",
    "\n",
    "train_subjects = development_subjects[:48]\n",
    "val_subjects = development_subjects[48:]"
   ]
  },
  {
   "cell_type": "code",
   "execution_count": 37,
   "metadata": {},
   "outputs": [
    {
     "name": "stdout",
     "output_type": "stream",
     "text": [
      "size test subjects: 4\n",
      "size development subjects: 64\n",
      "size train subjects: 48\n",
      "size val subjects: 16\n"
     ]
    }
   ],
   "source": [
    "print('size test subjects: {}'.format(len(test_subjects)))\n",
    "print('size development subjects: {}'.format(len(development_subjects)))\n",
    "\n",
    "print('size train subjects: {}'.format(len(train_subjects)))\n",
    "print('size val subjects: {}'.format(len(val_subjects)))\n"
   ]
  },
  {
   "cell_type": "code",
   "execution_count": 38,
   "metadata": {},
   "outputs": [
    {
     "name": "stdout",
     "output_type": "stream",
     "text": [
      "test subjects: [51 64 68 44]\n",
      "\n",
      "development subjects: [38 61 15 79 97 36 78 57 35 28 73 75 29 43 63 85 95 86 76  5 70 58 60 46\n",
      " 80 65 42 34 24 21 37 47 20 32 81 45 62 56 93 14 13 49 52 94 48 55 23 54\n",
      " 84 91  1 74 40  7 83 82 31 27 25 71 92 72 22 69]\n",
      "\n",
      "train subjects: [38 61 15 79 97 36 78 57 35 28 73 75 29 43 63 85 95 86 76  5 70 58 60 46\n",
      " 80 65 42 34 24 21 37 47 20 32 81 45 62 56 93 14 13 49 52 94 48 55 23 54]\n",
      "\n",
      "val subjects: [84 91  1 74 40  7 83 82 31 27 25 71 92 72 22 69]\n"
     ]
    }
   ],
   "source": [
    "print('test subjects: {}\\n'.format(test_subjects))\n",
    "print('development subjects: {}\\n'.format(development_subjects))\n",
    "print('train subjects: {}\\n'.format(train_subjects))\n",
    "print('val subjects: {}'.format(val_subjects))"
   ]
  },
  {
   "cell_type": "code",
   "execution_count": null,
   "metadata": {},
   "outputs": [],
   "source": []
  },
  {
   "cell_type": "markdown",
   "metadata": {},
   "source": [
    "### test_bucket12:"
   ]
  },
  {
   "cell_type": "code",
   "execution_count": 39,
   "metadata": {},
   "outputs": [],
   "source": [
    "test_subjects = test_bucket12.copy()\n",
    "development_subjects = np.concatenate([test_bucket2.copy(), test_bucket3.copy(), test_bucket4.copy(),\n",
    "                                test_bucket5.copy(), test_bucket6.copy(), test_bucket7.copy(), test_bucket8.copy(),\n",
    "                                test_bucket9.copy(), test_bucket10.copy(), test_bucket11.copy(), test_bucket1.copy(),\n",
    "                                test_bucket13.copy(), test_bucket14.copy(), test_bucket15.copy(), test_bucket16.copy(),\n",
    "                                test_bucket17.copy()])\n",
    "\n",
    "np.random.shuffle(development_subjects)\n",
    "\n",
    "train_subjects = development_subjects[:48]\n",
    "val_subjects = development_subjects[48:]"
   ]
  },
  {
   "cell_type": "code",
   "execution_count": 40,
   "metadata": {},
   "outputs": [
    {
     "name": "stdout",
     "output_type": "stream",
     "text": [
      "size test subjects: 4\n",
      "size development subjects: 64\n",
      "size train subjects: 48\n",
      "size val subjects: 16\n"
     ]
    }
   ],
   "source": [
    "print('size test subjects: {}'.format(len(test_subjects)))\n",
    "print('size development subjects: {}'.format(len(development_subjects)))\n",
    "\n",
    "print('size train subjects: {}'.format(len(train_subjects)))\n",
    "print('size val subjects: {}'.format(len(val_subjects)))\n"
   ]
  },
  {
   "cell_type": "code",
   "execution_count": 41,
   "metadata": {},
   "outputs": [
    {
     "name": "stdout",
     "output_type": "stream",
     "text": [
      "test subjects: [20 32  5 49]\n",
      "\n",
      "development subjects: [61 46 63 79 24 29 60 57 69 71 72 43 62 82 54 45 84 85 15 65  1 25 23 73\n",
      " 42 48 81  7 13 37 55 22 91 51 95 38 76 58 14 75 83 28 44 64 68 31 97 52\n",
      " 92 36 93 47 80 74 34 86 27 56 70 78 21 40 94 35]\n",
      "\n",
      "train subjects: [61 46 63 79 24 29 60 57 69 71 72 43 62 82 54 45 84 85 15 65  1 25 23 73\n",
      " 42 48 81  7 13 37 55 22 91 51 95 38 76 58 14 75 83 28 44 64 68 31 97 52]\n",
      "\n",
      "val subjects: [92 36 93 47 80 74 34 86 27 56 70 78 21 40 94 35]\n"
     ]
    }
   ],
   "source": [
    "print('test subjects: {}\\n'.format(test_subjects))\n",
    "print('development subjects: {}\\n'.format(development_subjects))\n",
    "print('train subjects: {}\\n'.format(train_subjects))\n",
    "print('val subjects: {}'.format(val_subjects))"
   ]
  },
  {
   "cell_type": "code",
   "execution_count": null,
   "metadata": {},
   "outputs": [],
   "source": []
  },
  {
   "cell_type": "markdown",
   "metadata": {},
   "source": [
    "### test_bucket13:"
   ]
  },
  {
   "cell_type": "code",
   "execution_count": 42,
   "metadata": {},
   "outputs": [],
   "source": [
    "test_subjects = test_bucket13.copy()\n",
    "development_subjects = np.concatenate([test_bucket2.copy(), test_bucket3.copy(), test_bucket4.copy(),\n",
    "                                test_bucket5.copy(), test_bucket6.copy(), test_bucket7.copy(), test_bucket8.copy(),\n",
    "                                test_bucket9.copy(), test_bucket10.copy(), test_bucket11.copy(), test_bucket12.copy(),\n",
    "                                test_bucket1.copy(), test_bucket14.copy(), test_bucket15.copy(), test_bucket16.copy(),\n",
    "                                test_bucket17.copy()])\n",
    "\n",
    "np.random.shuffle(development_subjects)\n",
    "\n",
    "train_subjects = development_subjects[:48]\n",
    "val_subjects = development_subjects[48:]"
   ]
  },
  {
   "cell_type": "code",
   "execution_count": 43,
   "metadata": {},
   "outputs": [
    {
     "name": "stdout",
     "output_type": "stream",
     "text": [
      "size test subjects: 4\n",
      "size development subjects: 64\n",
      "size train subjects: 48\n",
      "size val subjects: 16\n"
     ]
    }
   ],
   "source": [
    "print('size test subjects: {}'.format(len(test_subjects)))\n",
    "print('size development subjects: {}'.format(len(development_subjects)))\n",
    "\n",
    "print('size train subjects: {}'.format(len(train_subjects)))\n",
    "print('size val subjects: {}'.format(len(val_subjects)))\n"
   ]
  },
  {
   "cell_type": "code",
   "execution_count": 44,
   "metadata": {},
   "outputs": [
    {
     "name": "stdout",
     "output_type": "stream",
     "text": [
      "test subjects: [65 28 78 37]\n",
      "\n",
      "development subjects: [62 84 47 31 15 42 43 40 79 48 38 80 97 45 14 85 55 75 76 44 69 29 51 95\n",
      "  5 25 71 46 92 56 52 83 72 61 70 22 81 74 68 27 34 94 58 20 91 63 93 49\n",
      " 21 86 82 35 24 13 32 60 54 64 57 36 23  7  1 73]\n",
      "\n",
      "train subjects: [62 84 47 31 15 42 43 40 79 48 38 80 97 45 14 85 55 75 76 44 69 29 51 95\n",
      "  5 25 71 46 92 56 52 83 72 61 70 22 81 74 68 27 34 94 58 20 91 63 93 49]\n",
      "\n",
      "val subjects: [21 86 82 35 24 13 32 60 54 64 57 36 23  7  1 73]\n"
     ]
    }
   ],
   "source": [
    "print('test subjects: {}\\n'.format(test_subjects))\n",
    "print('development subjects: {}\\n'.format(development_subjects))\n",
    "print('train subjects: {}\\n'.format(train_subjects))\n",
    "print('val subjects: {}'.format(val_subjects))"
   ]
  },
  {
   "cell_type": "code",
   "execution_count": null,
   "metadata": {},
   "outputs": [],
   "source": []
  },
  {
   "cell_type": "markdown",
   "metadata": {},
   "source": [
    "### test_bucket14:"
   ]
  },
  {
   "cell_type": "code",
   "execution_count": 45,
   "metadata": {},
   "outputs": [],
   "source": [
    "test_subjects = test_bucket14.copy()\n",
    "development_subjects = np.concatenate([test_bucket2.copy(), test_bucket3.copy(), test_bucket4.copy(),\n",
    "                                test_bucket5.copy(), test_bucket6.copy(), test_bucket7.copy(), test_bucket8.copy(),\n",
    "                                test_bucket9.copy(), test_bucket10.copy(), test_bucket11.copy(), test_bucket12.copy(),\n",
    "                                test_bucket13.copy(), test_bucket1.copy(), test_bucket15.copy(), test_bucket16.copy(),\n",
    "                                test_bucket17.copy()])\n",
    "\n",
    "np.random.shuffle(development_subjects)\n",
    "\n",
    "train_subjects = development_subjects[:48]\n",
    "val_subjects = development_subjects[48:]"
   ]
  },
  {
   "cell_type": "code",
   "execution_count": 46,
   "metadata": {},
   "outputs": [
    {
     "name": "stdout",
     "output_type": "stream",
     "text": [
      "size test subjects: 4\n",
      "size development subjects: 64\n",
      "size train subjects: 48\n",
      "size val subjects: 16\n"
     ]
    }
   ],
   "source": [
    "print('size test subjects: {}'.format(len(test_subjects)))\n",
    "print('size development subjects: {}'.format(len(development_subjects)))\n",
    "\n",
    "print('size train subjects: {}'.format(len(train_subjects)))\n",
    "print('size val subjects: {}'.format(len(val_subjects)))\n"
   ]
  },
  {
   "cell_type": "code",
   "execution_count": 47,
   "metadata": {},
   "outputs": [
    {
     "name": "stdout",
     "output_type": "stream",
     "text": [
      "test subjects: [97 40 74 46]\n",
      "\n",
      "development subjects: [68 95 58  1 63 51 43 85 48 81 21 86 55 54 28  7 52 91 84 22 60 73 25 20\n",
      " 62 45 36 70 24 38  5 29 42 27 34 44 37 93 64 72 76 69 80 47 71 65 78 13\n",
      " 92 75 83 35 15 56 57 61 79 23 31 82 14 32 49 94]\n",
      "\n",
      "train subjects: [68 95 58  1 63 51 43 85 48 81 21 86 55 54 28  7 52 91 84 22 60 73 25 20\n",
      " 62 45 36 70 24 38  5 29 42 27 34 44 37 93 64 72 76 69 80 47 71 65 78 13]\n",
      "\n",
      "val subjects: [92 75 83 35 15 56 57 61 79 23 31 82 14 32 49 94]\n"
     ]
    }
   ],
   "source": [
    "print('test subjects: {}\\n'.format(test_subjects))\n",
    "print('development subjects: {}\\n'.format(development_subjects))\n",
    "print('train subjects: {}\\n'.format(train_subjects))\n",
    "print('val subjects: {}'.format(val_subjects))"
   ]
  },
  {
   "cell_type": "code",
   "execution_count": null,
   "metadata": {},
   "outputs": [],
   "source": []
  },
  {
   "cell_type": "markdown",
   "metadata": {},
   "source": [
    "### test_bucket15:"
   ]
  },
  {
   "cell_type": "code",
   "execution_count": 48,
   "metadata": {},
   "outputs": [],
   "source": [
    "test_subjects = test_bucket15.copy()\n",
    "development_subjects = np.concatenate([test_bucket2.copy(), test_bucket3.copy(), test_bucket4.copy(),\n",
    "                                test_bucket5.copy(), test_bucket6.copy(), test_bucket7.copy(), test_bucket8.copy(),\n",
    "                                test_bucket9.copy(), test_bucket10.copy(), test_bucket11.copy(), test_bucket12.copy(),\n",
    "                                test_bucket13.copy(), test_bucket14.copy(), test_bucket1.copy(), test_bucket16.copy(),\n",
    "                                test_bucket17.copy()])\n",
    "\n",
    "np.random.shuffle(development_subjects)\n",
    "\n",
    "train_subjects = development_subjects[:48]\n",
    "val_subjects = development_subjects[48:]"
   ]
  },
  {
   "cell_type": "code",
   "execution_count": 49,
   "metadata": {},
   "outputs": [
    {
     "name": "stdout",
     "output_type": "stream",
     "text": [
      "size test subjects: 4\n",
      "size development subjects: 64\n",
      "size train subjects: 48\n",
      "size val subjects: 16\n"
     ]
    }
   ],
   "source": [
    "print('size test subjects: {}'.format(len(test_subjects)))\n",
    "print('size development subjects: {}'.format(len(development_subjects)))\n",
    "\n",
    "print('size train subjects: {}'.format(len(train_subjects)))\n",
    "print('size val subjects: {}'.format(len(val_subjects)))\n"
   ]
  },
  {
   "cell_type": "code",
   "execution_count": 50,
   "metadata": {},
   "outputs": [
    {
     "name": "stdout",
     "output_type": "stream",
     "text": [
      "test subjects: [22  7 23 95]\n",
      "\n",
      "development subjects: [85 70 27 78 49 24 57 81 94 65 51 34  1 54 61 92 63 68 47 73 91 80 58 97\n",
      " 15 45 28 79 74 83 64 32 36 14 71 13 46 84 60 43 52 48 44  5 93 69 76 75\n",
      " 21 56 29 55 38 82 62 40 20 37 35 42 72 31 86 25]\n",
      "\n",
      "train subjects: [85 70 27 78 49 24 57 81 94 65 51 34  1 54 61 92 63 68 47 73 91 80 58 97\n",
      " 15 45 28 79 74 83 64 32 36 14 71 13 46 84 60 43 52 48 44  5 93 69 76 75]\n",
      "\n",
      "val subjects: [21 56 29 55 38 82 62 40 20 37 35 42 72 31 86 25]\n"
     ]
    }
   ],
   "source": [
    "print('test subjects: {}\\n'.format(test_subjects))\n",
    "print('development subjects: {}\\n'.format(development_subjects))\n",
    "print('train subjects: {}\\n'.format(train_subjects))\n",
    "print('val subjects: {}'.format(val_subjects))"
   ]
  },
  {
   "cell_type": "code",
   "execution_count": null,
   "metadata": {},
   "outputs": [],
   "source": []
  },
  {
   "cell_type": "markdown",
   "metadata": {},
   "source": [
    "### test_bucket16:"
   ]
  },
  {
   "cell_type": "code",
   "execution_count": 51,
   "metadata": {},
   "outputs": [],
   "source": [
    "test_subjects = test_bucket16.copy()\n",
    "development_subjects = np.concatenate([test_bucket2.copy(), test_bucket3.copy(), test_bucket4.copy(),\n",
    "                                test_bucket5.copy(), test_bucket6.copy(), test_bucket7.copy(), test_bucket8.copy(),\n",
    "                                test_bucket9.copy(), test_bucket10.copy(), test_bucket11.copy(), test_bucket12.copy(),\n",
    "                                test_bucket13.copy(), test_bucket14.copy(), test_bucket15.copy(), test_bucket1.copy(),\n",
    "                                test_bucket17.copy()])\n",
    "\n",
    "np.random.shuffle(development_subjects)\n",
    "\n",
    "train_subjects = development_subjects[:48]\n",
    "val_subjects = development_subjects[48:]"
   ]
  },
  {
   "cell_type": "code",
   "execution_count": 52,
   "metadata": {},
   "outputs": [
    {
     "name": "stdout",
     "output_type": "stream",
     "text": [
      "size test subjects: 4\n",
      "size development subjects: 64\n",
      "size train subjects: 48\n",
      "size val subjects: 16\n"
     ]
    }
   ],
   "source": [
    "print('size test subjects: {}'.format(len(test_subjects)))\n",
    "print('size development subjects: {}'.format(len(development_subjects)))\n",
    "\n",
    "print('size train subjects: {}'.format(len(train_subjects)))\n",
    "print('size val subjects: {}'.format(len(val_subjects)))\n"
   ]
  },
  {
   "cell_type": "code",
   "execution_count": 53,
   "metadata": {},
   "outputs": [
    {
     "name": "stdout",
     "output_type": "stream",
     "text": [
      "test subjects: [13 35  1 34]\n",
      "\n",
      "development subjects: [47 83 60 81 29 76 61 94  5 51 42 48  7 27 58 21 45 32 36 92 46 31 62 57\n",
      " 86 73 71 84 80 65 79 64 69 56 44 68 20 23 43 54 72 74 37 93 38 97 75 78\n",
      " 40 95 85 52 63 28 25 15 49 70 91 24 55 14 22 82]\n",
      "\n",
      "train subjects: [47 83 60 81 29 76 61 94  5 51 42 48  7 27 58 21 45 32 36 92 46 31 62 57\n",
      " 86 73 71 84 80 65 79 64 69 56 44 68 20 23 43 54 72 74 37 93 38 97 75 78]\n",
      "\n",
      "val subjects: [40 95 85 52 63 28 25 15 49 70 91 24 55 14 22 82]\n"
     ]
    }
   ],
   "source": [
    "print('test subjects: {}\\n'.format(test_subjects))\n",
    "print('development subjects: {}\\n'.format(development_subjects))\n",
    "print('train subjects: {}\\n'.format(train_subjects))\n",
    "print('val subjects: {}'.format(val_subjects))"
   ]
  },
  {
   "cell_type": "code",
   "execution_count": null,
   "metadata": {},
   "outputs": [],
   "source": []
  },
  {
   "cell_type": "markdown",
   "metadata": {},
   "source": [
    "### test_bucket17:"
   ]
  },
  {
   "cell_type": "code",
   "execution_count": 54,
   "metadata": {},
   "outputs": [],
   "source": [
    "test_subjects = test_bucket17.copy()\n",
    "development_subjects = np.concatenate([test_bucket2.copy(), test_bucket3.copy(), test_bucket4.copy(),\n",
    "                                test_bucket5.copy(), test_bucket6.copy(), test_bucket7.copy(), test_bucket8.copy(),\n",
    "                                test_bucket9.copy(), test_bucket10.copy(), test_bucket11.copy(), test_bucket12.copy(),\n",
    "                                test_bucket13.copy(), test_bucket14.copy(), test_bucket15.copy(), test_bucket16.copy(),\n",
    "                                test_bucket1.copy()])\n",
    "\n",
    "np.random.shuffle(development_subjects)\n",
    "\n",
    "train_subjects = development_subjects[:48]\n",
    "val_subjects = development_subjects[48:]"
   ]
  },
  {
   "cell_type": "code",
   "execution_count": 55,
   "metadata": {
    "scrolled": true
   },
   "outputs": [
    {
     "name": "stdout",
     "output_type": "stream",
     "text": [
      "size test subjects: 4\n",
      "size development subjects: 64\n",
      "size train subjects: 48\n",
      "size val subjects: 16\n"
     ]
    }
   ],
   "source": [
    "print('size test subjects: {}'.format(len(test_subjects)))\n",
    "print('size development subjects: {}'.format(len(development_subjects)))\n",
    "\n",
    "print('size train subjects: {}'.format(len(train_subjects)))\n",
    "print('size val subjects: {}'.format(len(val_subjects)))\n"
   ]
  },
  {
   "cell_type": "code",
   "execution_count": 56,
   "metadata": {},
   "outputs": [
    {
     "name": "stdout",
     "output_type": "stream",
     "text": [
      "test subjects: [21 25 29 60]\n",
      "\n",
      "development subjects: [28 36 52 43 22 44 72 15 79 75 85 37 32 38 45 63 14 97 83 31 80 73 70 24\n",
      " 13 20  1 94 68 93 61 86 46 64 65 91 84 54 69 81 78 55 74 35 40 49 27 42\n",
      " 48 56 34 57 95 62 76 23 51 47 58  5  7 92 82 71]\n",
      "\n",
      "train subjects: [28 36 52 43 22 44 72 15 79 75 85 37 32 38 45 63 14 97 83 31 80 73 70 24\n",
      " 13 20  1 94 68 93 61 86 46 64 65 91 84 54 69 81 78 55 74 35 40 49 27 42]\n",
      "\n",
      "val subjects: [48 56 34 57 95 62 76 23 51 47 58  5  7 92 82 71]\n"
     ]
    }
   ],
   "source": [
    "print('test subjects: {}\\n'.format(test_subjects))\n",
    "print('development subjects: {}\\n'.format(development_subjects))\n",
    "print('train subjects: {}\\n'.format(train_subjects))\n",
    "print('val subjects: {}'.format(val_subjects))"
   ]
  },
  {
   "cell_type": "code",
   "execution_count": null,
   "metadata": {},
   "outputs": [],
   "source": []
  },
  {
   "cell_type": "code",
   "execution_count": null,
   "metadata": {},
   "outputs": [],
   "source": []
  },
  {
   "cell_type": "markdown",
   "metadata": {},
   "source": [
    "# 16vs4 scenarios (this actually means group 32 and test on individuals)"
   ]
  },
  {
   "cell_type": "markdown",
   "metadata": {},
   "source": [
    "### test_bucket1:"
   ]
  },
  {
   "cell_type": "code",
   "execution_count": 57,
   "metadata": {},
   "outputs": [],
   "source": [
    "test_subjects = test_bucket1.copy()\n",
    "development_subjects = np.concatenate([test_bucket2.copy(), test_bucket3.copy(), test_bucket4.copy(),\n",
    "                                test_bucket5.copy(), test_bucket6.copy(), test_bucket7.copy(), test_bucket8.copy(),\n",
    "                                test_bucket9.copy(), test_bucket10.copy(), test_bucket11.copy(), test_bucket12.copy(),\n",
    "                                test_bucket13.copy(), test_bucket14.copy(), test_bucket15.copy(), test_bucket16.copy(),\n",
    "                                test_bucket17.copy()])\n",
    "\n",
    "np.random.shuffle(development_subjects)\n",
    "development_subjects=development_subjects[:16]\n",
    "train_subjects = development_subjects[:12]\n",
    "val_subjects = development_subjects[12:]\n"
   ]
  },
  {
   "cell_type": "code",
   "execution_count": 58,
   "metadata": {},
   "outputs": [
    {
     "name": "stdout",
     "output_type": "stream",
     "text": [
      "size test subjects: 4\n",
      "size development subjects: 16\n",
      "size train subjects: 12\n",
      "size val subjects: 4\n"
     ]
    }
   ],
   "source": [
    "print('size test subjects: {}'.format(len(test_subjects)))\n",
    "print('size development subjects: {}'.format(len(development_subjects)))\n",
    "\n",
    "print('size train subjects: {}'.format(len(train_subjects)))\n",
    "print('size val subjects: {}'.format(len(val_subjects)))\n"
   ]
  },
  {
   "cell_type": "code",
   "execution_count": 59,
   "metadata": {},
   "outputs": [
    {
     "name": "stdout",
     "output_type": "stream",
     "text": [
      "test subjects: [86 56 72 79]\n",
      "\n",
      "development subjects: [85 29 44 25 74 22 40 75 64 65  7 76 21 78 55 62]\n",
      "\n",
      "train subjects: [85 29 44 25 74 22 40 75 64 65  7 76]\n",
      "\n",
      "val subjects: [21 78 55 62]\n"
     ]
    }
   ],
   "source": [
    "print('test subjects: {}\\n'.format(test_subjects))\n",
    "print('development subjects: {}\\n'.format(development_subjects))\n",
    "print('train subjects: {}\\n'.format(train_subjects))\n",
    "print('val subjects: {}'.format(val_subjects))"
   ]
  },
  {
   "cell_type": "code",
   "execution_count": null,
   "metadata": {},
   "outputs": [],
   "source": []
  },
  {
   "cell_type": "markdown",
   "metadata": {},
   "source": [
    "### test_bucket2:"
   ]
  },
  {
   "cell_type": "code",
   "execution_count": 60,
   "metadata": {},
   "outputs": [],
   "source": [
    "test_subjects = test_bucket2.copy()\n",
    "development_subjects = np.concatenate([test_bucket1.copy(), test_bucket3.copy(), test_bucket4.copy(),\n",
    "                                test_bucket5.copy(), test_bucket6.copy(), test_bucket7.copy(), test_bucket8.copy(),\n",
    "                                test_bucket9.copy(), test_bucket10.copy(), test_bucket11.copy(), test_bucket12.copy(),\n",
    "                                test_bucket13.copy(), test_bucket14.copy(), test_bucket15.copy(), test_bucket16.copy(),\n",
    "                                test_bucket17.copy()])\n",
    "\n",
    "np.random.shuffle(development_subjects)\n",
    "development_subjects=development_subjects[:16]\n",
    "train_subjects = development_subjects[:12]\n",
    "val_subjects = development_subjects[12:]\n"
   ]
  },
  {
   "cell_type": "code",
   "execution_count": 61,
   "metadata": {},
   "outputs": [
    {
     "name": "stdout",
     "output_type": "stream",
     "text": [
      "size test subjects: 4\n",
      "size development subjects: 16\n",
      "size train subjects: 12\n",
      "size val subjects: 4\n"
     ]
    }
   ],
   "source": [
    "print('size test subjects: {}'.format(len(test_subjects)))\n",
    "print('size development subjects: {}'.format(len(development_subjects)))\n",
    "\n",
    "print('size train subjects: {}'.format(len(train_subjects)))\n",
    "print('size val subjects: {}'.format(len(val_subjects)))\n"
   ]
  },
  {
   "cell_type": "code",
   "execution_count": 62,
   "metadata": {},
   "outputs": [
    {
     "name": "stdout",
     "output_type": "stream",
     "text": [
      "test subjects: [93 82 55 48]\n",
      "\n",
      "development subjects: [23 28 91 65 63 56 35 73 15 20  7 49 21 86 25 70]\n",
      "\n",
      "train subjects: [23 28 91 65 63 56 35 73 15 20  7 49]\n",
      "\n",
      "val subjects: [21 86 25 70]\n"
     ]
    }
   ],
   "source": [
    "print('test subjects: {}\\n'.format(test_subjects))\n",
    "print('development subjects: {}\\n'.format(development_subjects))\n",
    "print('train subjects: {}\\n'.format(train_subjects))\n",
    "print('val subjects: {}'.format(val_subjects))"
   ]
  },
  {
   "cell_type": "code",
   "execution_count": null,
   "metadata": {},
   "outputs": [],
   "source": []
  },
  {
   "cell_type": "markdown",
   "metadata": {},
   "source": [
    "### test_bucket3:"
   ]
  },
  {
   "cell_type": "code",
   "execution_count": 63,
   "metadata": {},
   "outputs": [],
   "source": [
    "test_subjects = test_bucket3.copy()\n",
    "development_subjects = np.concatenate([test_bucket2.copy(), test_bucket1.copy(), test_bucket4.copy(),\n",
    "                                test_bucket5.copy(), test_bucket6.copy(), test_bucket7.copy(), test_bucket8.copy(),\n",
    "                                test_bucket9.copy(), test_bucket10.copy(), test_bucket11.copy(), test_bucket12.copy(),\n",
    "                                test_bucket13.copy(), test_bucket14.copy(), test_bucket15.copy(), test_bucket16.copy(),\n",
    "                                test_bucket17.copy()])\n",
    "\n",
    "np.random.shuffle(development_subjects)\n",
    "development_subjects=development_subjects[:16]\n",
    "train_subjects = development_subjects[:12]\n",
    "val_subjects = development_subjects[12:]\n"
   ]
  },
  {
   "cell_type": "code",
   "execution_count": 64,
   "metadata": {},
   "outputs": [
    {
     "name": "stdout",
     "output_type": "stream",
     "text": [
      "size test subjects: 4\n",
      "size development subjects: 16\n",
      "size train subjects: 12\n",
      "size val subjects: 4\n"
     ]
    }
   ],
   "source": [
    "print('size test subjects: {}'.format(len(test_subjects)))\n",
    "print('size development subjects: {}'.format(len(development_subjects)))\n",
    "\n",
    "print('size train subjects: {}'.format(len(train_subjects)))\n",
    "print('size val subjects: {}'.format(len(val_subjects)))\n"
   ]
  },
  {
   "cell_type": "code",
   "execution_count": 65,
   "metadata": {},
   "outputs": [
    {
     "name": "stdout",
     "output_type": "stream",
     "text": [
      "test subjects: [80 14 58 75]\n",
      "\n",
      "development subjects: [82 56 36 72 44 84 49 63 43 27 24 69 74 15 94 22]\n",
      "\n",
      "train subjects: [82 56 36 72 44 84 49 63 43 27 24 69]\n",
      "\n",
      "val subjects: [74 15 94 22]\n"
     ]
    }
   ],
   "source": [
    "print('test subjects: {}\\n'.format(test_subjects))\n",
    "print('development subjects: {}\\n'.format(development_subjects))\n",
    "print('train subjects: {}\\n'.format(train_subjects))\n",
    "print('val subjects: {}'.format(val_subjects))"
   ]
  },
  {
   "cell_type": "code",
   "execution_count": null,
   "metadata": {},
   "outputs": [],
   "source": []
  },
  {
   "cell_type": "markdown",
   "metadata": {},
   "source": [
    "### test_bucket4:"
   ]
  },
  {
   "cell_type": "code",
   "execution_count": 66,
   "metadata": {},
   "outputs": [],
   "source": [
    "test_subjects = test_bucket4.copy()\n",
    "development_subjects = np.concatenate([test_bucket2.copy(), test_bucket3.copy(), test_bucket1.copy(),\n",
    "                                test_bucket5.copy(), test_bucket6.copy(), test_bucket7.copy(), test_bucket8.copy(),\n",
    "                                test_bucket9.copy(), test_bucket10.copy(), test_bucket11.copy(), test_bucket12.copy(),\n",
    "                                test_bucket13.copy(), test_bucket14.copy(), test_bucket15.copy(), test_bucket16.copy(),\n",
    "                                test_bucket17.copy()])\n",
    "\n",
    "np.random.shuffle(development_subjects)\n",
    "development_subjects=development_subjects[:16]\n",
    "train_subjects = development_subjects[:12]\n",
    "val_subjects = development_subjects[12:]\n"
   ]
  },
  {
   "cell_type": "code",
   "execution_count": 67,
   "metadata": {},
   "outputs": [
    {
     "name": "stdout",
     "output_type": "stream",
     "text": [
      "size test subjects: 4\n",
      "size development subjects: 16\n",
      "size train subjects: 12\n",
      "size val subjects: 4\n"
     ]
    }
   ],
   "source": [
    "print('size test subjects: {}'.format(len(test_subjects)))\n",
    "print('size development subjects: {}'.format(len(development_subjects)))\n",
    "\n",
    "print('size train subjects: {}'.format(len(train_subjects)))\n",
    "print('size val subjects: {}'.format(len(val_subjects)))\n"
   ]
  },
  {
   "cell_type": "code",
   "execution_count": 68,
   "metadata": {},
   "outputs": [
    {
     "name": "stdout",
     "output_type": "stream",
     "text": [
      "test subjects: [62 47 52 84]\n",
      "\n",
      "development subjects: [71 34 82 92 49 60 81 75 57 46 86 70 74 51 38 37]\n",
      "\n",
      "train subjects: [71 34 82 92 49 60 81 75 57 46 86 70]\n",
      "\n",
      "val subjects: [74 51 38 37]\n"
     ]
    }
   ],
   "source": [
    "print('test subjects: {}\\n'.format(test_subjects))\n",
    "print('development subjects: {}\\n'.format(development_subjects))\n",
    "print('train subjects: {}\\n'.format(train_subjects))\n",
    "print('val subjects: {}'.format(val_subjects))"
   ]
  },
  {
   "cell_type": "code",
   "execution_count": null,
   "metadata": {},
   "outputs": [],
   "source": []
  },
  {
   "cell_type": "markdown",
   "metadata": {},
   "source": [
    "### test_bucket5:"
   ]
  },
  {
   "cell_type": "code",
   "execution_count": 69,
   "metadata": {},
   "outputs": [],
   "source": [
    "test_subjects = test_bucket5.copy()\n",
    "development_subjects = np.concatenate([test_bucket2.copy(), test_bucket3.copy(), test_bucket4.copy(),\n",
    "                                test_bucket1.copy(), test_bucket6.copy(), test_bucket7.copy(), test_bucket8.copy(),\n",
    "                                test_bucket9.copy(), test_bucket10.copy(), test_bucket11.copy(), test_bucket12.copy(),\n",
    "                                test_bucket13.copy(), test_bucket14.copy(), test_bucket15.copy(), test_bucket16.copy(),\n",
    "                                test_bucket17.copy()])\n",
    "\n",
    "np.random.shuffle(development_subjects)\n",
    "development_subjects=development_subjects[:16]\n",
    "train_subjects = development_subjects[:12]\n",
    "val_subjects = development_subjects[12:]\n"
   ]
  },
  {
   "cell_type": "code",
   "execution_count": 70,
   "metadata": {},
   "outputs": [
    {
     "name": "stdout",
     "output_type": "stream",
     "text": [
      "size test subjects: 4\n",
      "size development subjects: 16\n",
      "size train subjects: 12\n",
      "size val subjects: 4\n"
     ]
    }
   ],
   "source": [
    "print('size test subjects: {}'.format(len(test_subjects)))\n",
    "print('size development subjects: {}'.format(len(development_subjects)))\n",
    "\n",
    "print('size train subjects: {}'.format(len(train_subjects)))\n",
    "print('size val subjects: {}'.format(len(val_subjects)))\n"
   ]
  },
  {
   "cell_type": "code",
   "execution_count": 71,
   "metadata": {},
   "outputs": [
    {
     "name": "stdout",
     "output_type": "stream",
     "text": [
      "test subjects: [73 69 42 63]\n",
      "\n",
      "development subjects: [40 62 81 27 93 47 48 97 57 85 64 60 20  1 68 24]\n",
      "\n",
      "train subjects: [40 62 81 27 93 47 48 97 57 85 64 60]\n",
      "\n",
      "val subjects: [20  1 68 24]\n"
     ]
    }
   ],
   "source": [
    "print('test subjects: {}\\n'.format(test_subjects))\n",
    "print('development subjects: {}\\n'.format(development_subjects))\n",
    "print('train subjects: {}\\n'.format(train_subjects))\n",
    "print('val subjects: {}'.format(val_subjects))"
   ]
  },
  {
   "cell_type": "code",
   "execution_count": null,
   "metadata": {},
   "outputs": [],
   "source": []
  },
  {
   "cell_type": "markdown",
   "metadata": {},
   "source": [
    "### test_bucket6:"
   ]
  },
  {
   "cell_type": "code",
   "execution_count": 72,
   "metadata": {},
   "outputs": [],
   "source": [
    "test_subjects = test_bucket6.copy()\n",
    "development_subjects = np.concatenate([test_bucket2.copy(), test_bucket3.copy(), test_bucket4.copy(),\n",
    "                                test_bucket5.copy(), test_bucket1.copy(), test_bucket7.copy(), test_bucket8.copy(),\n",
    "                                test_bucket9.copy(), test_bucket10.copy(), test_bucket11.copy(), test_bucket12.copy(),\n",
    "                                test_bucket13.copy(), test_bucket14.copy(), test_bucket15.copy(), test_bucket16.copy(),\n",
    "                                test_bucket17.copy()])\n",
    "\n",
    "np.random.shuffle(development_subjects)\n",
    "development_subjects=development_subjects[:16]\n",
    "train_subjects = development_subjects[:12]\n",
    "val_subjects = development_subjects[12:]\n"
   ]
  },
  {
   "cell_type": "code",
   "execution_count": 73,
   "metadata": {},
   "outputs": [
    {
     "name": "stdout",
     "output_type": "stream",
     "text": [
      "size test subjects: 4\n",
      "size development subjects: 16\n",
      "size train subjects: 12\n",
      "size val subjects: 4\n"
     ]
    }
   ],
   "source": [
    "print('size test subjects: {}'.format(len(test_subjects)))\n",
    "print('size development subjects: {}'.format(len(development_subjects)))\n",
    "\n",
    "print('size train subjects: {}'.format(len(train_subjects)))\n",
    "print('size val subjects: {}'.format(len(val_subjects)))\n"
   ]
  },
  {
   "cell_type": "code",
   "execution_count": 74,
   "metadata": {},
   "outputs": [
    {
     "name": "stdout",
     "output_type": "stream",
     "text": [
      "test subjects: [81 15 57 70]\n",
      "\n",
      "development subjects: [38 13  1 95 32 68 71 84 22 43 58 62 92 47 74 82]\n",
      "\n",
      "train subjects: [38 13  1 95 32 68 71 84 22 43 58 62]\n",
      "\n",
      "val subjects: [92 47 74 82]\n"
     ]
    }
   ],
   "source": [
    "print('test subjects: {}\\n'.format(test_subjects))\n",
    "print('development subjects: {}\\n'.format(development_subjects))\n",
    "print('train subjects: {}\\n'.format(train_subjects))\n",
    "print('val subjects: {}'.format(val_subjects))"
   ]
  },
  {
   "cell_type": "code",
   "execution_count": null,
   "metadata": {},
   "outputs": [],
   "source": []
  },
  {
   "cell_type": "markdown",
   "metadata": {},
   "source": [
    "### test_bucket7:"
   ]
  },
  {
   "cell_type": "code",
   "execution_count": 75,
   "metadata": {},
   "outputs": [],
   "source": [
    "test_subjects = test_bucket7.copy()\n",
    "development_subjects = np.concatenate([test_bucket2.copy(), test_bucket3.copy(), test_bucket4.copy(),\n",
    "                                test_bucket5.copy(), test_bucket6.copy(), test_bucket1.copy(), test_bucket8.copy(),\n",
    "                                test_bucket9.copy(), test_bucket10.copy(), test_bucket11.copy(), test_bucket12.copy(),\n",
    "                                test_bucket13.copy(), test_bucket14.copy(), test_bucket15.copy(), test_bucket16.copy(),\n",
    "                                test_bucket17.copy()])\n",
    "\n",
    "np.random.shuffle(development_subjects)\n",
    "development_subjects=development_subjects[:16]\n",
    "train_subjects = development_subjects[:12]\n",
    "val_subjects = development_subjects[12:]\n"
   ]
  },
  {
   "cell_type": "code",
   "execution_count": 76,
   "metadata": {},
   "outputs": [
    {
     "name": "stdout",
     "output_type": "stream",
     "text": [
      "size test subjects: 4\n",
      "size development subjects: 16\n",
      "size train subjects: 12\n",
      "size val subjects: 4\n"
     ]
    }
   ],
   "source": [
    "print('size test subjects: {}'.format(len(test_subjects)))\n",
    "print('size development subjects: {}'.format(len(development_subjects)))\n",
    "\n",
    "print('size train subjects: {}'.format(len(train_subjects)))\n",
    "print('size val subjects: {}'.format(len(val_subjects)))\n"
   ]
  },
  {
   "cell_type": "code",
   "execution_count": 77,
   "metadata": {},
   "outputs": [
    {
     "name": "stdout",
     "output_type": "stream",
     "text": [
      "test subjects: [27 92 38 76]\n",
      "\n",
      "development subjects: [85 32 80 91 71 14  1 49 24 78 35 34 28 47 64 94]\n",
      "\n",
      "train subjects: [85 32 80 91 71 14  1 49 24 78 35 34]\n",
      "\n",
      "val subjects: [28 47 64 94]\n"
     ]
    }
   ],
   "source": [
    "print('test subjects: {}\\n'.format(test_subjects))\n",
    "print('development subjects: {}\\n'.format(development_subjects))\n",
    "print('train subjects: {}\\n'.format(train_subjects))\n",
    "print('val subjects: {}'.format(val_subjects))"
   ]
  },
  {
   "cell_type": "code",
   "execution_count": null,
   "metadata": {},
   "outputs": [],
   "source": []
  },
  {
   "cell_type": "markdown",
   "metadata": {},
   "source": [
    "### test_bucket8:"
   ]
  },
  {
   "cell_type": "code",
   "execution_count": 78,
   "metadata": {},
   "outputs": [],
   "source": [
    "test_subjects = test_bucket8.copy()\n",
    "development_subjects = np.concatenate([test_bucket2.copy(), test_bucket3.copy(), test_bucket4.copy(),\n",
    "                                test_bucket5.copy(), test_bucket6.copy(), test_bucket7.copy(), test_bucket1.copy(),\n",
    "                                test_bucket9.copy(), test_bucket10.copy(), test_bucket11.copy(), test_bucket12.copy(),\n",
    "                                test_bucket13.copy(), test_bucket14.copy(), test_bucket15.copy(), test_bucket16.copy(),\n",
    "                                test_bucket17.copy()])\n",
    "\n",
    "np.random.shuffle(development_subjects)\n",
    "development_subjects=development_subjects[:16]\n",
    "train_subjects = development_subjects[:12]\n",
    "val_subjects = development_subjects[12:]\n"
   ]
  },
  {
   "cell_type": "code",
   "execution_count": 79,
   "metadata": {},
   "outputs": [
    {
     "name": "stdout",
     "output_type": "stream",
     "text": [
      "size test subjects: 4\n",
      "size development subjects: 16\n",
      "size train subjects: 12\n",
      "size val subjects: 4\n"
     ]
    }
   ],
   "source": [
    "print('size test subjects: {}'.format(len(test_subjects)))\n",
    "print('size development subjects: {}'.format(len(development_subjects)))\n",
    "\n",
    "print('size train subjects: {}'.format(len(train_subjects)))\n",
    "print('size val subjects: {}'.format(len(val_subjects)))\n"
   ]
  },
  {
   "cell_type": "code",
   "execution_count": 80,
   "metadata": {},
   "outputs": [
    {
     "name": "stdout",
     "output_type": "stream",
     "text": [
      "test subjects: [45 24 36 71]\n",
      "\n",
      "development subjects: [13 76 44 72 69 70 68 34 21 84 15 82 55 97 60 83]\n",
      "\n",
      "train subjects: [13 76 44 72 69 70 68 34 21 84 15 82]\n",
      "\n",
      "val subjects: [55 97 60 83]\n"
     ]
    }
   ],
   "source": [
    "print('test subjects: {}\\n'.format(test_subjects))\n",
    "print('development subjects: {}\\n'.format(development_subjects))\n",
    "print('train subjects: {}\\n'.format(train_subjects))\n",
    "print('val subjects: {}'.format(val_subjects))"
   ]
  },
  {
   "cell_type": "code",
   "execution_count": null,
   "metadata": {},
   "outputs": [],
   "source": []
  },
  {
   "cell_type": "markdown",
   "metadata": {},
   "source": [
    "### test_bucket9:"
   ]
  },
  {
   "cell_type": "code",
   "execution_count": 81,
   "metadata": {},
   "outputs": [],
   "source": [
    "test_subjects = test_bucket9.copy()\n",
    "development_subjects = np.concatenate([test_bucket2.copy(), test_bucket3.copy(), test_bucket4.copy(),\n",
    "                                test_bucket5.copy(), test_bucket6.copy(), test_bucket7.copy(), test_bucket8.copy(),\n",
    "                                test_bucket1.copy(), test_bucket10.copy(), test_bucket11.copy(), test_bucket12.copy(),\n",
    "                                test_bucket13.copy(), test_bucket14.copy(), test_bucket15.copy(), test_bucket16.copy(),\n",
    "                                test_bucket17.copy()])\n",
    "\n",
    "np.random.shuffle(development_subjects)\n",
    "development_subjects=development_subjects[:16]\n",
    "train_subjects = development_subjects[:12]\n",
    "val_subjects = development_subjects[12:]\n"
   ]
  },
  {
   "cell_type": "code",
   "execution_count": 82,
   "metadata": {},
   "outputs": [
    {
     "name": "stdout",
     "output_type": "stream",
     "text": [
      "size test subjects: 4\n",
      "size development subjects: 16\n",
      "size train subjects: 12\n",
      "size val subjects: 4\n"
     ]
    }
   ],
   "source": [
    "print('size test subjects: {}'.format(len(test_subjects)))\n",
    "print('size development subjects: {}'.format(len(development_subjects)))\n",
    "\n",
    "print('size train subjects: {}'.format(len(train_subjects)))\n",
    "print('size val subjects: {}'.format(len(val_subjects)))\n"
   ]
  },
  {
   "cell_type": "code",
   "execution_count": 83,
   "metadata": {},
   "outputs": [
    {
     "name": "stdout",
     "output_type": "stream",
     "text": [
      "test subjects: [91 85 61 83]\n",
      "\n",
      "development subjects: [69 36 29 31 75 84 32 28 37 54 43 49 38 79 52 14]\n",
      "\n",
      "train subjects: [69 36 29 31 75 84 32 28 37 54 43 49]\n",
      "\n",
      "val subjects: [38 79 52 14]\n"
     ]
    }
   ],
   "source": [
    "print('test subjects: {}\\n'.format(test_subjects))\n",
    "print('development subjects: {}\\n'.format(development_subjects))\n",
    "print('train subjects: {}\\n'.format(train_subjects))\n",
    "print('val subjects: {}'.format(val_subjects))"
   ]
  },
  {
   "cell_type": "code",
   "execution_count": null,
   "metadata": {},
   "outputs": [],
   "source": []
  },
  {
   "cell_type": "markdown",
   "metadata": {},
   "source": [
    "### test_bucket10:"
   ]
  },
  {
   "cell_type": "code",
   "execution_count": 84,
   "metadata": {},
   "outputs": [],
   "source": [
    "test_subjects = test_bucket10.copy()\n",
    "development_subjects = np.concatenate([test_bucket2.copy(), test_bucket3.copy(), test_bucket4.copy(),\n",
    "                                test_bucket5.copy(), test_bucket6.copy(), test_bucket7.copy(), test_bucket8.copy(),\n",
    "                                test_bucket9.copy(), test_bucket1.copy(), test_bucket11.copy(), test_bucket12.copy(),\n",
    "                                test_bucket13.copy(), test_bucket14.copy(), test_bucket15.copy(), test_bucket16.copy(),\n",
    "                                test_bucket17.copy()])\n",
    "\n",
    "np.random.shuffle(development_subjects)\n",
    "development_subjects=development_subjects[:16]\n",
    "train_subjects = development_subjects[:12]\n",
    "val_subjects = development_subjects[12:]\n"
   ]
  },
  {
   "cell_type": "code",
   "execution_count": 85,
   "metadata": {},
   "outputs": [
    {
     "name": "stdout",
     "output_type": "stream",
     "text": [
      "size test subjects: 4\n",
      "size development subjects: 16\n",
      "size train subjects: 12\n",
      "size val subjects: 4\n"
     ]
    }
   ],
   "source": [
    "print('size test subjects: {}'.format(len(test_subjects)))\n",
    "print('size development subjects: {}'.format(len(development_subjects)))\n",
    "\n",
    "print('size train subjects: {}'.format(len(train_subjects)))\n",
    "print('size val subjects: {}'.format(len(val_subjects)))\n"
   ]
  },
  {
   "cell_type": "code",
   "execution_count": 86,
   "metadata": {},
   "outputs": [
    {
     "name": "stdout",
     "output_type": "stream",
     "text": [
      "test subjects: [94 31 43 54]\n",
      "\n",
      "development subjects: [52 58 42 80 72 68 93 56 95 44 63 64  5 14 79 81]\n",
      "\n",
      "train subjects: [52 58 42 80 72 68 93 56 95 44 63 64]\n",
      "\n",
      "val subjects: [ 5 14 79 81]\n"
     ]
    }
   ],
   "source": [
    "print('test subjects: {}\\n'.format(test_subjects))\n",
    "print('development subjects: {}\\n'.format(development_subjects))\n",
    "print('train subjects: {}\\n'.format(train_subjects))\n",
    "print('val subjects: {}'.format(val_subjects))"
   ]
  },
  {
   "cell_type": "code",
   "execution_count": null,
   "metadata": {},
   "outputs": [],
   "source": []
  },
  {
   "cell_type": "markdown",
   "metadata": {},
   "source": [
    "### test_bucket11:"
   ]
  },
  {
   "cell_type": "code",
   "execution_count": 87,
   "metadata": {},
   "outputs": [],
   "source": [
    "test_subjects = test_bucket11.copy()\n",
    "development_subjects = np.concatenate([test_bucket2.copy(), test_bucket3.copy(), test_bucket4.copy(),\n",
    "                                test_bucket5.copy(), test_bucket6.copy(), test_bucket7.copy(), test_bucket8.copy(),\n",
    "                                test_bucket9.copy(), test_bucket10.copy(), test_bucket1.copy(), test_bucket12.copy(),\n",
    "                                test_bucket13.copy(), test_bucket14.copy(), test_bucket15.copy(), test_bucket16.copy(),\n",
    "                                test_bucket17.copy()])\n",
    "\n",
    "np.random.shuffle(development_subjects)\n",
    "development_subjects=development_subjects[:16]\n",
    "train_subjects = development_subjects[:12]\n",
    "val_subjects = development_subjects[12:]\n"
   ]
  },
  {
   "cell_type": "code",
   "execution_count": 88,
   "metadata": {},
   "outputs": [
    {
     "name": "stdout",
     "output_type": "stream",
     "text": [
      "size test subjects: 4\n",
      "size development subjects: 16\n",
      "size train subjects: 12\n",
      "size val subjects: 4\n"
     ]
    }
   ],
   "source": [
    "print('size test subjects: {}'.format(len(test_subjects)))\n",
    "print('size development subjects: {}'.format(len(development_subjects)))\n",
    "\n",
    "print('size train subjects: {}'.format(len(train_subjects)))\n",
    "print('size val subjects: {}'.format(len(val_subjects)))\n"
   ]
  },
  {
   "cell_type": "code",
   "execution_count": 89,
   "metadata": {},
   "outputs": [
    {
     "name": "stdout",
     "output_type": "stream",
     "text": [
      "test subjects: [51 64 68 44]\n",
      "\n",
      "development subjects: [58 49 21 93 62 37 32 71 56 73 82 97 36 61 13 45]\n",
      "\n",
      "train subjects: [58 49 21 93 62 37 32 71 56 73 82 97]\n",
      "\n",
      "val subjects: [36 61 13 45]\n"
     ]
    }
   ],
   "source": [
    "print('test subjects: {}\\n'.format(test_subjects))\n",
    "print('development subjects: {}\\n'.format(development_subjects))\n",
    "print('train subjects: {}\\n'.format(train_subjects))\n",
    "print('val subjects: {}'.format(val_subjects))"
   ]
  },
  {
   "cell_type": "code",
   "execution_count": null,
   "metadata": {},
   "outputs": [],
   "source": []
  },
  {
   "cell_type": "markdown",
   "metadata": {},
   "source": [
    "### test_bucket12:"
   ]
  },
  {
   "cell_type": "code",
   "execution_count": 90,
   "metadata": {},
   "outputs": [],
   "source": [
    "test_subjects = test_bucket12.copy()\n",
    "development_subjects = np.concatenate([test_bucket2.copy(), test_bucket3.copy(), test_bucket4.copy(),\n",
    "                                test_bucket5.copy(), test_bucket6.copy(), test_bucket7.copy(), test_bucket8.copy(),\n",
    "                                test_bucket9.copy(), test_bucket10.copy(), test_bucket11.copy(), test_bucket1.copy(),\n",
    "                                test_bucket13.copy(), test_bucket14.copy(), test_bucket15.copy(), test_bucket16.copy(),\n",
    "                                test_bucket17.copy()])\n",
    "\n",
    "np.random.shuffle(development_subjects)\n",
    "development_subjects=development_subjects[:16]\n",
    "train_subjects = development_subjects[:12]\n",
    "val_subjects = development_subjects[12:]\n"
   ]
  },
  {
   "cell_type": "code",
   "execution_count": 91,
   "metadata": {},
   "outputs": [
    {
     "name": "stdout",
     "output_type": "stream",
     "text": [
      "size test subjects: 4\n",
      "size development subjects: 16\n",
      "size train subjects: 12\n",
      "size val subjects: 4\n"
     ]
    }
   ],
   "source": [
    "print('size test subjects: {}'.format(len(test_subjects)))\n",
    "print('size development subjects: {}'.format(len(development_subjects)))\n",
    "\n",
    "print('size train subjects: {}'.format(len(train_subjects)))\n",
    "print('size val subjects: {}'.format(len(val_subjects)))\n"
   ]
  },
  {
   "cell_type": "code",
   "execution_count": 92,
   "metadata": {},
   "outputs": [
    {
     "name": "stdout",
     "output_type": "stream",
     "text": [
      "test subjects: [20 32  5 49]\n",
      "\n",
      "development subjects: [69 40 14 44 58 37 60 85 64 68 65 61 47 76 28 55]\n",
      "\n",
      "train subjects: [69 40 14 44 58 37 60 85 64 68 65 61]\n",
      "\n",
      "val subjects: [47 76 28 55]\n"
     ]
    }
   ],
   "source": [
    "print('test subjects: {}\\n'.format(test_subjects))\n",
    "print('development subjects: {}\\n'.format(development_subjects))\n",
    "print('train subjects: {}\\n'.format(train_subjects))\n",
    "print('val subjects: {}'.format(val_subjects))"
   ]
  },
  {
   "cell_type": "code",
   "execution_count": null,
   "metadata": {},
   "outputs": [],
   "source": []
  },
  {
   "cell_type": "markdown",
   "metadata": {},
   "source": [
    "### test_bucket13:"
   ]
  },
  {
   "cell_type": "code",
   "execution_count": 93,
   "metadata": {},
   "outputs": [],
   "source": [
    "test_subjects = test_bucket13.copy()\n",
    "development_subjects = np.concatenate([test_bucket2.copy(), test_bucket3.copy(), test_bucket4.copy(),\n",
    "                                test_bucket5.copy(), test_bucket6.copy(), test_bucket7.copy(), test_bucket8.copy(),\n",
    "                                test_bucket9.copy(), test_bucket10.copy(), test_bucket11.copy(), test_bucket12.copy(),\n",
    "                                test_bucket1.copy(), test_bucket14.copy(), test_bucket15.copy(), test_bucket16.copy(),\n",
    "                                test_bucket17.copy()])\n",
    "\n",
    "np.random.shuffle(development_subjects)\n",
    "development_subjects=development_subjects[:16]\n",
    "train_subjects = development_subjects[:12]\n",
    "val_subjects = development_subjects[12:]\n"
   ]
  },
  {
   "cell_type": "code",
   "execution_count": 94,
   "metadata": {},
   "outputs": [
    {
     "name": "stdout",
     "output_type": "stream",
     "text": [
      "size test subjects: 4\n",
      "size development subjects: 16\n",
      "size train subjects: 12\n",
      "size val subjects: 4\n"
     ]
    }
   ],
   "source": [
    "print('size test subjects: {}'.format(len(test_subjects)))\n",
    "print('size development subjects: {}'.format(len(development_subjects)))\n",
    "\n",
    "print('size train subjects: {}'.format(len(train_subjects)))\n",
    "print('size val subjects: {}'.format(len(val_subjects)))\n"
   ]
  },
  {
   "cell_type": "code",
   "execution_count": 95,
   "metadata": {},
   "outputs": [
    {
     "name": "stdout",
     "output_type": "stream",
     "text": [
      "test subjects: [65 28 78 37]\n",
      "\n",
      "development subjects: [56 62 20 72 80 54 64 70 22 35 58 74 57  5 34 43]\n",
      "\n",
      "train subjects: [56 62 20 72 80 54 64 70 22 35 58 74]\n",
      "\n",
      "val subjects: [57  5 34 43]\n"
     ]
    }
   ],
   "source": [
    "print('test subjects: {}\\n'.format(test_subjects))\n",
    "print('development subjects: {}\\n'.format(development_subjects))\n",
    "print('train subjects: {}\\n'.format(train_subjects))\n",
    "print('val subjects: {}'.format(val_subjects))"
   ]
  },
  {
   "cell_type": "code",
   "execution_count": null,
   "metadata": {},
   "outputs": [],
   "source": []
  },
  {
   "cell_type": "markdown",
   "metadata": {},
   "source": [
    "### test_bucket14:"
   ]
  },
  {
   "cell_type": "code",
   "execution_count": 96,
   "metadata": {},
   "outputs": [],
   "source": [
    "test_subjects = test_bucket14.copy()\n",
    "development_subjects = np.concatenate([test_bucket2.copy(), test_bucket3.copy(), test_bucket4.copy(),\n",
    "                                test_bucket5.copy(), test_bucket6.copy(), test_bucket7.copy(), test_bucket8.copy(),\n",
    "                                test_bucket9.copy(), test_bucket10.copy(), test_bucket11.copy(), test_bucket12.copy(),\n",
    "                                test_bucket13.copy(), test_bucket1.copy(), test_bucket15.copy(), test_bucket16.copy(),\n",
    "                                test_bucket17.copy()])\n",
    "\n",
    "np.random.shuffle(development_subjects)\n",
    "development_subjects=development_subjects[:16]\n",
    "train_subjects = development_subjects[:12]\n",
    "val_subjects = development_subjects[12:]\n"
   ]
  },
  {
   "cell_type": "code",
   "execution_count": 97,
   "metadata": {},
   "outputs": [
    {
     "name": "stdout",
     "output_type": "stream",
     "text": [
      "size test subjects: 4\n",
      "size development subjects: 16\n",
      "size train subjects: 12\n",
      "size val subjects: 4\n"
     ]
    }
   ],
   "source": [
    "print('size test subjects: {}'.format(len(test_subjects)))\n",
    "print('size development subjects: {}'.format(len(development_subjects)))\n",
    "\n",
    "print('size train subjects: {}'.format(len(train_subjects)))\n",
    "print('size val subjects: {}'.format(len(val_subjects)))\n"
   ]
  },
  {
   "cell_type": "code",
   "execution_count": 98,
   "metadata": {},
   "outputs": [
    {
     "name": "stdout",
     "output_type": "stream",
     "text": [
      "test subjects: [97 40 74 46]\n",
      "\n",
      "development subjects: [15 34 36 32 52 42 91 21 37 20 48 81 83 69 84 64]\n",
      "\n",
      "train subjects: [15 34 36 32 52 42 91 21 37 20 48 81]\n",
      "\n",
      "val subjects: [83 69 84 64]\n"
     ]
    }
   ],
   "source": [
    "print('test subjects: {}\\n'.format(test_subjects))\n",
    "print('development subjects: {}\\n'.format(development_subjects))\n",
    "print('train subjects: {}\\n'.format(train_subjects))\n",
    "print('val subjects: {}'.format(val_subjects))"
   ]
  },
  {
   "cell_type": "code",
   "execution_count": null,
   "metadata": {},
   "outputs": [],
   "source": []
  },
  {
   "cell_type": "markdown",
   "metadata": {},
   "source": [
    "### test_bucket15:"
   ]
  },
  {
   "cell_type": "code",
   "execution_count": 99,
   "metadata": {},
   "outputs": [],
   "source": [
    "test_subjects = test_bucket15.copy()\n",
    "development_subjects = np.concatenate([test_bucket2.copy(), test_bucket3.copy(), test_bucket4.copy(),\n",
    "                                test_bucket5.copy(), test_bucket6.copy(), test_bucket7.copy(), test_bucket8.copy(),\n",
    "                                test_bucket9.copy(), test_bucket10.copy(), test_bucket11.copy(), test_bucket12.copy(),\n",
    "                                test_bucket13.copy(), test_bucket14.copy(), test_bucket1.copy(), test_bucket16.copy(),\n",
    "                                test_bucket17.copy()])\n",
    "\n",
    "np.random.shuffle(development_subjects)\n",
    "development_subjects=development_subjects[:16]\n",
    "train_subjects = development_subjects[:12]\n",
    "val_subjects = development_subjects[12:]\n"
   ]
  },
  {
   "cell_type": "code",
   "execution_count": 100,
   "metadata": {},
   "outputs": [
    {
     "name": "stdout",
     "output_type": "stream",
     "text": [
      "size test subjects: 4\n",
      "size development subjects: 16\n",
      "size train subjects: 12\n",
      "size val subjects: 4\n"
     ]
    }
   ],
   "source": [
    "print('size test subjects: {}'.format(len(test_subjects)))\n",
    "print('size development subjects: {}'.format(len(development_subjects)))\n",
    "\n",
    "print('size train subjects: {}'.format(len(train_subjects)))\n",
    "print('size val subjects: {}'.format(len(val_subjects)))\n"
   ]
  },
  {
   "cell_type": "code",
   "execution_count": 101,
   "metadata": {},
   "outputs": [
    {
     "name": "stdout",
     "output_type": "stream",
     "text": [
      "test subjects: [22  7 23 95]\n",
      "\n",
      "development subjects: [84 40 60 48 57 13 69 37 32 55 56 21 76 80 85 75]\n",
      "\n",
      "train subjects: [84 40 60 48 57 13 69 37 32 55 56 21]\n",
      "\n",
      "val subjects: [76 80 85 75]\n"
     ]
    }
   ],
   "source": [
    "print('test subjects: {}\\n'.format(test_subjects))\n",
    "print('development subjects: {}\\n'.format(development_subjects))\n",
    "print('train subjects: {}\\n'.format(train_subjects))\n",
    "print('val subjects: {}'.format(val_subjects))"
   ]
  },
  {
   "cell_type": "code",
   "execution_count": null,
   "metadata": {},
   "outputs": [],
   "source": []
  },
  {
   "cell_type": "markdown",
   "metadata": {},
   "source": [
    "### test_bucket16:"
   ]
  },
  {
   "cell_type": "code",
   "execution_count": 102,
   "metadata": {},
   "outputs": [],
   "source": [
    "test_subjects = test_bucket16.copy()\n",
    "development_subjects = np.concatenate([test_bucket2.copy(), test_bucket3.copy(), test_bucket4.copy(),\n",
    "                                test_bucket5.copy(), test_bucket6.copy(), test_bucket7.copy(), test_bucket8.copy(),\n",
    "                                test_bucket9.copy(), test_bucket10.copy(), test_bucket11.copy(), test_bucket12.copy(),\n",
    "                                test_bucket13.copy(), test_bucket14.copy(), test_bucket15.copy(), test_bucket1.copy(),\n",
    "                                test_bucket17.copy()])\n",
    "\n",
    "np.random.shuffle(development_subjects)\n",
    "development_subjects=development_subjects[:16]\n",
    "train_subjects = development_subjects[:12]\n",
    "val_subjects = development_subjects[12:]\n"
   ]
  },
  {
   "cell_type": "code",
   "execution_count": 103,
   "metadata": {},
   "outputs": [
    {
     "name": "stdout",
     "output_type": "stream",
     "text": [
      "size test subjects: 4\n",
      "size development subjects: 16\n",
      "size train subjects: 12\n",
      "size val subjects: 4\n"
     ]
    }
   ],
   "source": [
    "print('size test subjects: {}'.format(len(test_subjects)))\n",
    "print('size development subjects: {}'.format(len(development_subjects)))\n",
    "\n",
    "print('size train subjects: {}'.format(len(train_subjects)))\n",
    "print('size val subjects: {}'.format(len(val_subjects)))\n"
   ]
  },
  {
   "cell_type": "code",
   "execution_count": 104,
   "metadata": {},
   "outputs": [
    {
     "name": "stdout",
     "output_type": "stream",
     "text": [
      "test subjects: [13 35  1 34]\n",
      "\n",
      "development subjects: [92 29 78 72 85 80 70 95 15 24  7 97 81 52 69 63]\n",
      "\n",
      "train subjects: [92 29 78 72 85 80 70 95 15 24  7 97]\n",
      "\n",
      "val subjects: [81 52 69 63]\n"
     ]
    }
   ],
   "source": [
    "print('test subjects: {}\\n'.format(test_subjects))\n",
    "print('development subjects: {}\\n'.format(development_subjects))\n",
    "print('train subjects: {}\\n'.format(train_subjects))\n",
    "print('val subjects: {}'.format(val_subjects))"
   ]
  },
  {
   "cell_type": "code",
   "execution_count": null,
   "metadata": {},
   "outputs": [],
   "source": []
  },
  {
   "cell_type": "markdown",
   "metadata": {},
   "source": [
    "### test_bucket17:"
   ]
  },
  {
   "cell_type": "code",
   "execution_count": 105,
   "metadata": {},
   "outputs": [],
   "source": [
    "test_subjects = test_bucket17.copy()\n",
    "development_subjects = np.concatenate([test_bucket2.copy(), test_bucket3.copy(), test_bucket4.copy(),\n",
    "                                test_bucket5.copy(), test_bucket6.copy(), test_bucket7.copy(), test_bucket8.copy(),\n",
    "                                test_bucket9.copy(), test_bucket10.copy(), test_bucket11.copy(), test_bucket12.copy(),\n",
    "                                test_bucket13.copy(), test_bucket14.copy(), test_bucket15.copy(), test_bucket16.copy(),\n",
    "                                test_bucket1.copy()])\n",
    "\n",
    "np.random.shuffle(development_subjects)\n",
    "development_subjects=development_subjects[:16]\n",
    "train_subjects = development_subjects[:12]\n",
    "val_subjects = development_subjects[12:]\n"
   ]
  },
  {
   "cell_type": "code",
   "execution_count": 106,
   "metadata": {},
   "outputs": [
    {
     "name": "stdout",
     "output_type": "stream",
     "text": [
      "size test subjects: 4\n",
      "size development subjects: 16\n",
      "size train subjects: 12\n",
      "size val subjects: 4\n"
     ]
    }
   ],
   "source": [
    "print('size test subjects: {}'.format(len(test_subjects)))\n",
    "print('size development subjects: {}'.format(len(development_subjects)))\n",
    "\n",
    "print('size train subjects: {}'.format(len(train_subjects)))\n",
    "print('size val subjects: {}'.format(len(val_subjects)))\n"
   ]
  },
  {
   "cell_type": "code",
   "execution_count": 107,
   "metadata": {},
   "outputs": [
    {
     "name": "stdout",
     "output_type": "stream",
     "text": [
      "test subjects: [21 25 29 60]\n",
      "\n",
      "development subjects: [38  1 27 62 83 84 70 24 20  5 85 52 76 34 63 86]\n",
      "\n",
      "train subjects: [38  1 27 62 83 84 70 24 20  5 85 52]\n",
      "\n",
      "val subjects: [76 34 63 86]\n"
     ]
    }
   ],
   "source": [
    "print('test subjects: {}\\n'.format(test_subjects))\n",
    "print('development subjects: {}\\n'.format(development_subjects))\n",
    "print('train subjects: {}\\n'.format(train_subjects))\n",
    "print('val subjects: {}'.format(val_subjects))"
   ]
  },
  {
   "cell_type": "code",
   "execution_count": null,
   "metadata": {},
   "outputs": [],
   "source": []
  },
  {
   "cell_type": "markdown",
   "metadata": {},
   "source": [
    "# 4vs4 scenarios (this actually means group 4 and test on individuals)"
   ]
  },
  {
   "cell_type": "markdown",
   "metadata": {},
   "source": [
    "### test_bucket1:"
   ]
  },
  {
   "cell_type": "code",
   "execution_count": 108,
   "metadata": {},
   "outputs": [],
   "source": [
    "test_subjects = test_bucket1.copy()\n",
    "development_subjects = np.concatenate([test_bucket2.copy(), test_bucket3.copy(), test_bucket4.copy(),\n",
    "                                test_bucket5.copy(), test_bucket6.copy(), test_bucket7.copy(), test_bucket8.copy(),\n",
    "                                test_bucket9.copy(), test_bucket10.copy(), test_bucket11.copy(), test_bucket12.copy(),\n",
    "                                test_bucket13.copy(), test_bucket14.copy(), test_bucket15.copy(), test_bucket16.copy(),\n",
    "                                test_bucket17.copy()])\n",
    "\n",
    "np.random.shuffle(development_subjects)\n",
    "development_subjects=development_subjects[:4]\n",
    "train_subjects = development_subjects[:3]\n",
    "val_subjects = development_subjects[3:]\n",
    "\n"
   ]
  },
  {
   "cell_type": "code",
   "execution_count": 109,
   "metadata": {},
   "outputs": [
    {
     "name": "stdout",
     "output_type": "stream",
     "text": [
      "size test subjects: 4\n",
      "size development subjects: 4\n",
      "size train subjects: 3\n",
      "size val subjects: 1\n"
     ]
    }
   ],
   "source": [
    "print('size test subjects: {}'.format(len(test_subjects)))\n",
    "print('size development subjects: {}'.format(len(development_subjects)))\n",
    "\n",
    "print('size train subjects: {}'.format(len(train_subjects)))\n",
    "print('size val subjects: {}'.format(len(val_subjects)))\n"
   ]
  },
  {
   "cell_type": "code",
   "execution_count": 110,
   "metadata": {},
   "outputs": [
    {
     "name": "stdout",
     "output_type": "stream",
     "text": [
      "test subjects: [86 56 72 79]\n",
      "\n",
      "development subjects: [37 76 83 31]\n",
      "\n",
      "train subjects: [37 76 83]\n",
      "\n",
      "val subjects: [31]\n"
     ]
    }
   ],
   "source": [
    "print('test subjects: {}\\n'.format(test_subjects))\n",
    "print('development subjects: {}\\n'.format(development_subjects))\n",
    "print('train subjects: {}\\n'.format(train_subjects))\n",
    "print('val subjects: {}'.format(val_subjects))"
   ]
  },
  {
   "cell_type": "code",
   "execution_count": null,
   "metadata": {},
   "outputs": [],
   "source": []
  },
  {
   "cell_type": "markdown",
   "metadata": {},
   "source": [
    "### test_bucket2:"
   ]
  },
  {
   "cell_type": "code",
   "execution_count": 111,
   "metadata": {},
   "outputs": [],
   "source": [
    "test_subjects = test_bucket2.copy()\n",
    "development_subjects = np.concatenate([test_bucket1.copy(), test_bucket3.copy(), test_bucket4.copy(),\n",
    "                                test_bucket5.copy(), test_bucket6.copy(), test_bucket7.copy(), test_bucket8.copy(),\n",
    "                                test_bucket9.copy(), test_bucket10.copy(), test_bucket11.copy(), test_bucket12.copy(),\n",
    "                                test_bucket13.copy(), test_bucket14.copy(), test_bucket15.copy(), test_bucket16.copy(),\n",
    "                                test_bucket17.copy()])\n",
    "\n",
    "np.random.shuffle(development_subjects)\n",
    "development_subjects=development_subjects[:4]\n",
    "train_subjects = development_subjects[:3]\n",
    "val_subjects = development_subjects[3:]"
   ]
  },
  {
   "cell_type": "code",
   "execution_count": 112,
   "metadata": {},
   "outputs": [
    {
     "name": "stdout",
     "output_type": "stream",
     "text": [
      "size test subjects: 4\n",
      "size development subjects: 4\n",
      "size train subjects: 3\n",
      "size val subjects: 1\n"
     ]
    }
   ],
   "source": [
    "print('size test subjects: {}'.format(len(test_subjects)))\n",
    "print('size development subjects: {}'.format(len(development_subjects)))\n",
    "\n",
    "print('size train subjects: {}'.format(len(train_subjects)))\n",
    "print('size val subjects: {}'.format(len(val_subjects)))\n"
   ]
  },
  {
   "cell_type": "code",
   "execution_count": 113,
   "metadata": {},
   "outputs": [
    {
     "name": "stdout",
     "output_type": "stream",
     "text": [
      "test subjects: [93 82 55 48]\n",
      "\n",
      "development subjects: [38 78 54 47]\n",
      "\n",
      "train subjects: [38 78 54]\n",
      "\n",
      "val subjects: [47]\n"
     ]
    }
   ],
   "source": [
    "print('test subjects: {}\\n'.format(test_subjects))\n",
    "print('development subjects: {}\\n'.format(development_subjects))\n",
    "print('train subjects: {}\\n'.format(train_subjects))\n",
    "print('val subjects: {}'.format(val_subjects))"
   ]
  },
  {
   "cell_type": "code",
   "execution_count": null,
   "metadata": {},
   "outputs": [],
   "source": []
  },
  {
   "cell_type": "markdown",
   "metadata": {},
   "source": [
    "### test_bucket3:"
   ]
  },
  {
   "cell_type": "code",
   "execution_count": 114,
   "metadata": {},
   "outputs": [],
   "source": [
    "test_subjects = test_bucket3.copy()\n",
    "development_subjects = np.concatenate([test_bucket2.copy(), test_bucket1.copy(), test_bucket4.copy(),\n",
    "                                test_bucket5.copy(), test_bucket6.copy(), test_bucket7.copy(), test_bucket8.copy(),\n",
    "                                test_bucket9.copy(), test_bucket10.copy(), test_bucket11.copy(), test_bucket12.copy(),\n",
    "                                test_bucket13.copy(), test_bucket14.copy(), test_bucket15.copy(), test_bucket16.copy(),\n",
    "                                test_bucket17.copy()])\n",
    "\n",
    "np.random.shuffle(development_subjects)\n",
    "development_subjects=development_subjects[:4]\n",
    "train_subjects = development_subjects[:3]\n",
    "val_subjects = development_subjects[3:]"
   ]
  },
  {
   "cell_type": "code",
   "execution_count": 115,
   "metadata": {},
   "outputs": [
    {
     "name": "stdout",
     "output_type": "stream",
     "text": [
      "size test subjects: 4\n",
      "size development subjects: 4\n",
      "size train subjects: 3\n",
      "size val subjects: 1\n"
     ]
    }
   ],
   "source": [
    "print('size test subjects: {}'.format(len(test_subjects)))\n",
    "print('size development subjects: {}'.format(len(development_subjects)))\n",
    "\n",
    "print('size train subjects: {}'.format(len(train_subjects)))\n",
    "print('size val subjects: {}'.format(len(val_subjects)))\n"
   ]
  },
  {
   "cell_type": "code",
   "execution_count": 116,
   "metadata": {},
   "outputs": [
    {
     "name": "stdout",
     "output_type": "stream",
     "text": [
      "test subjects: [80 14 58 75]\n",
      "\n",
      "development subjects: [44 82 97 29]\n",
      "\n",
      "train subjects: [44 82 97]\n",
      "\n",
      "val subjects: [29]\n"
     ]
    }
   ],
   "source": [
    "print('test subjects: {}\\n'.format(test_subjects))\n",
    "print('development subjects: {}\\n'.format(development_subjects))\n",
    "print('train subjects: {}\\n'.format(train_subjects))\n",
    "print('val subjects: {}'.format(val_subjects))"
   ]
  },
  {
   "cell_type": "code",
   "execution_count": null,
   "metadata": {},
   "outputs": [],
   "source": []
  },
  {
   "cell_type": "markdown",
   "metadata": {},
   "source": [
    "### test_bucket4:"
   ]
  },
  {
   "cell_type": "code",
   "execution_count": 117,
   "metadata": {},
   "outputs": [],
   "source": [
    "test_subjects = test_bucket4.copy()\n",
    "development_subjects = np.concatenate([test_bucket2.copy(), test_bucket3.copy(), test_bucket1.copy(),\n",
    "                                test_bucket5.copy(), test_bucket6.copy(), test_bucket7.copy(), test_bucket8.copy(),\n",
    "                                test_bucket9.copy(), test_bucket10.copy(), test_bucket11.copy(), test_bucket12.copy(),\n",
    "                                test_bucket13.copy(), test_bucket14.copy(), test_bucket15.copy(), test_bucket16.copy(),\n",
    "                                test_bucket17.copy()])\n",
    "\n",
    "np.random.shuffle(development_subjects)\n",
    "development_subjects=development_subjects[:4]\n",
    "train_subjects = development_subjects[:3]\n",
    "val_subjects = development_subjects[3:]"
   ]
  },
  {
   "cell_type": "code",
   "execution_count": 118,
   "metadata": {},
   "outputs": [
    {
     "name": "stdout",
     "output_type": "stream",
     "text": [
      "size test subjects: 4\n",
      "size development subjects: 4\n",
      "size train subjects: 3\n",
      "size val subjects: 1\n"
     ]
    }
   ],
   "source": [
    "print('size test subjects: {}'.format(len(test_subjects)))\n",
    "print('size development subjects: {}'.format(len(development_subjects)))\n",
    "\n",
    "print('size train subjects: {}'.format(len(train_subjects)))\n",
    "print('size val subjects: {}'.format(len(val_subjects)))\n"
   ]
  },
  {
   "cell_type": "code",
   "execution_count": 119,
   "metadata": {},
   "outputs": [
    {
     "name": "stdout",
     "output_type": "stream",
     "text": [
      "test subjects: [62 47 52 84]\n",
      "\n",
      "development subjects: [42 55 34 46]\n",
      "\n",
      "train subjects: [42 55 34]\n",
      "\n",
      "val subjects: [46]\n"
     ]
    }
   ],
   "source": [
    "print('test subjects: {}\\n'.format(test_subjects))\n",
    "print('development subjects: {}\\n'.format(development_subjects))\n",
    "print('train subjects: {}\\n'.format(train_subjects))\n",
    "print('val subjects: {}'.format(val_subjects))"
   ]
  },
  {
   "cell_type": "code",
   "execution_count": null,
   "metadata": {},
   "outputs": [],
   "source": []
  },
  {
   "cell_type": "markdown",
   "metadata": {},
   "source": [
    "### test_bucket5:"
   ]
  },
  {
   "cell_type": "code",
   "execution_count": 120,
   "metadata": {},
   "outputs": [],
   "source": [
    "test_subjects = test_bucket5.copy()\n",
    "development_subjects = np.concatenate([test_bucket2.copy(), test_bucket3.copy(), test_bucket4.copy(),\n",
    "                                test_bucket1.copy(), test_bucket6.copy(), test_bucket7.copy(), test_bucket8.copy(),\n",
    "                                test_bucket9.copy(), test_bucket10.copy(), test_bucket11.copy(), test_bucket12.copy(),\n",
    "                                test_bucket13.copy(), test_bucket14.copy(), test_bucket15.copy(), test_bucket16.copy(),\n",
    "                                test_bucket17.copy()])\n",
    "\n",
    "np.random.shuffle(development_subjects)\n",
    "development_subjects=development_subjects[:4]\n",
    "train_subjects = development_subjects[:3]\n",
    "val_subjects = development_subjects[3:]"
   ]
  },
  {
   "cell_type": "code",
   "execution_count": 121,
   "metadata": {},
   "outputs": [
    {
     "name": "stdout",
     "output_type": "stream",
     "text": [
      "size test subjects: 4\n",
      "size development subjects: 4\n",
      "size train subjects: 3\n",
      "size val subjects: 1\n"
     ]
    }
   ],
   "source": [
    "print('size test subjects: {}'.format(len(test_subjects)))\n",
    "print('size development subjects: {}'.format(len(development_subjects)))\n",
    "\n",
    "print('size train subjects: {}'.format(len(train_subjects)))\n",
    "print('size val subjects: {}'.format(len(val_subjects)))\n"
   ]
  },
  {
   "cell_type": "code",
   "execution_count": 122,
   "metadata": {},
   "outputs": [
    {
     "name": "stdout",
     "output_type": "stream",
     "text": [
      "test subjects: [73 69 42 63]\n",
      "\n",
      "development subjects: [92 60 21 38]\n",
      "\n",
      "train subjects: [92 60 21]\n",
      "\n",
      "val subjects: [38]\n"
     ]
    }
   ],
   "source": [
    "print('test subjects: {}\\n'.format(test_subjects))\n",
    "print('development subjects: {}\\n'.format(development_subjects))\n",
    "print('train subjects: {}\\n'.format(train_subjects))\n",
    "print('val subjects: {}'.format(val_subjects))"
   ]
  },
  {
   "cell_type": "code",
   "execution_count": null,
   "metadata": {},
   "outputs": [],
   "source": []
  },
  {
   "cell_type": "markdown",
   "metadata": {},
   "source": [
    "### test_bucket6:"
   ]
  },
  {
   "cell_type": "code",
   "execution_count": 123,
   "metadata": {},
   "outputs": [],
   "source": [
    "test_subjects = test_bucket6.copy()\n",
    "development_subjects = np.concatenate([test_bucket2.copy(), test_bucket3.copy(), test_bucket4.copy(),\n",
    "                                test_bucket5.copy(), test_bucket1.copy(), test_bucket7.copy(), test_bucket8.copy(),\n",
    "                                test_bucket9.copy(), test_bucket10.copy(), test_bucket11.copy(), test_bucket12.copy(),\n",
    "                                test_bucket13.copy(), test_bucket14.copy(), test_bucket15.copy(), test_bucket16.copy(),\n",
    "                                test_bucket17.copy()])\n",
    "\n",
    "np.random.shuffle(development_subjects)\n",
    "development_subjects=development_subjects[:4]\n",
    "train_subjects = development_subjects[:3]\n",
    "val_subjects = development_subjects[3:]\n"
   ]
  },
  {
   "cell_type": "code",
   "execution_count": 124,
   "metadata": {},
   "outputs": [
    {
     "name": "stdout",
     "output_type": "stream",
     "text": [
      "size test subjects: 4\n",
      "size development subjects: 4\n",
      "size train subjects: 3\n",
      "size val subjects: 1\n"
     ]
    }
   ],
   "source": [
    "print('size test subjects: {}'.format(len(test_subjects)))\n",
    "print('size development subjects: {}'.format(len(development_subjects)))\n",
    "\n",
    "print('size train subjects: {}'.format(len(train_subjects)))\n",
    "print('size val subjects: {}'.format(len(val_subjects)))\n"
   ]
  },
  {
   "cell_type": "code",
   "execution_count": 125,
   "metadata": {},
   "outputs": [
    {
     "name": "stdout",
     "output_type": "stream",
     "text": [
      "test subjects: [81 15 57 70]\n",
      "\n",
      "development subjects: [44 97 37 72]\n",
      "\n",
      "train subjects: [44 97 37]\n",
      "\n",
      "val subjects: [72]\n"
     ]
    }
   ],
   "source": [
    "print('test subjects: {}\\n'.format(test_subjects))\n",
    "print('development subjects: {}\\n'.format(development_subjects))\n",
    "print('train subjects: {}\\n'.format(train_subjects))\n",
    "print('val subjects: {}'.format(val_subjects))"
   ]
  },
  {
   "cell_type": "code",
   "execution_count": null,
   "metadata": {},
   "outputs": [],
   "source": []
  },
  {
   "cell_type": "markdown",
   "metadata": {},
   "source": [
    "### test_bucket7:"
   ]
  },
  {
   "cell_type": "code",
   "execution_count": 126,
   "metadata": {},
   "outputs": [],
   "source": [
    "test_subjects = test_bucket7.copy()\n",
    "development_subjects = np.concatenate([test_bucket2.copy(), test_bucket3.copy(), test_bucket4.copy(),\n",
    "                                test_bucket5.copy(), test_bucket6.copy(), test_bucket1.copy(), test_bucket8.copy(),\n",
    "                                test_bucket9.copy(), test_bucket10.copy(), test_bucket11.copy(), test_bucket12.copy(),\n",
    "                                test_bucket13.copy(), test_bucket14.copy(), test_bucket15.copy(), test_bucket16.copy(),\n",
    "                                test_bucket17.copy()])\n",
    "\n",
    "np.random.shuffle(development_subjects)\n",
    "development_subjects=development_subjects[:4]\n",
    "train_subjects = development_subjects[:3]\n",
    "val_subjects = development_subjects[3:]\n"
   ]
  },
  {
   "cell_type": "code",
   "execution_count": 127,
   "metadata": {},
   "outputs": [
    {
     "name": "stdout",
     "output_type": "stream",
     "text": [
      "size test subjects: 4\n",
      "size development subjects: 4\n",
      "size train subjects: 3\n",
      "size val subjects: 1\n"
     ]
    }
   ],
   "source": [
    "print('size test subjects: {}'.format(len(test_subjects)))\n",
    "print('size development subjects: {}'.format(len(development_subjects)))\n",
    "\n",
    "print('size train subjects: {}'.format(len(train_subjects)))\n",
    "print('size val subjects: {}'.format(len(val_subjects)))\n"
   ]
  },
  {
   "cell_type": "code",
   "execution_count": 128,
   "metadata": {},
   "outputs": [
    {
     "name": "stdout",
     "output_type": "stream",
     "text": [
      "test subjects: [27 92 38 76]\n",
      "\n",
      "development subjects: [ 7 14 63 64]\n",
      "\n",
      "train subjects: [ 7 14 63]\n",
      "\n",
      "val subjects: [64]\n"
     ]
    }
   ],
   "source": [
    "print('test subjects: {}\\n'.format(test_subjects))\n",
    "print('development subjects: {}\\n'.format(development_subjects))\n",
    "print('train subjects: {}\\n'.format(train_subjects))\n",
    "print('val subjects: {}'.format(val_subjects))"
   ]
  },
  {
   "cell_type": "code",
   "execution_count": null,
   "metadata": {},
   "outputs": [],
   "source": []
  },
  {
   "cell_type": "markdown",
   "metadata": {},
   "source": [
    "### test_bucket8:"
   ]
  },
  {
   "cell_type": "code",
   "execution_count": 129,
   "metadata": {},
   "outputs": [],
   "source": [
    "test_subjects = test_bucket8.copy()\n",
    "development_subjects = np.concatenate([test_bucket2.copy(), test_bucket3.copy(), test_bucket4.copy(),\n",
    "                                test_bucket5.copy(), test_bucket6.copy(), test_bucket7.copy(), test_bucket1.copy(),\n",
    "                                test_bucket9.copy(), test_bucket10.copy(), test_bucket11.copy(), test_bucket12.copy(),\n",
    "                                test_bucket13.copy(), test_bucket14.copy(), test_bucket15.copy(), test_bucket16.copy(),\n",
    "                                test_bucket17.copy()])\n",
    "\n",
    "np.random.shuffle(development_subjects)\n",
    "development_subjects=development_subjects[:4]\n",
    "train_subjects = development_subjects[:3]\n",
    "val_subjects = development_subjects[3:]\n"
   ]
  },
  {
   "cell_type": "code",
   "execution_count": 130,
   "metadata": {},
   "outputs": [
    {
     "name": "stdout",
     "output_type": "stream",
     "text": [
      "size test subjects: 4\n",
      "size development subjects: 4\n",
      "size train subjects: 3\n",
      "size val subjects: 1\n"
     ]
    }
   ],
   "source": [
    "print('size test subjects: {}'.format(len(test_subjects)))\n",
    "print('size development subjects: {}'.format(len(development_subjects)))\n",
    "\n",
    "print('size train subjects: {}'.format(len(train_subjects)))\n",
    "print('size val subjects: {}'.format(len(val_subjects)))\n"
   ]
  },
  {
   "cell_type": "code",
   "execution_count": 131,
   "metadata": {},
   "outputs": [
    {
     "name": "stdout",
     "output_type": "stream",
     "text": [
      "test subjects: [45 24 36 71]\n",
      "\n",
      "development subjects: [20 72 65 58]\n",
      "\n",
      "train subjects: [20 72 65]\n",
      "\n",
      "val subjects: [58]\n"
     ]
    }
   ],
   "source": [
    "print('test subjects: {}\\n'.format(test_subjects))\n",
    "print('development subjects: {}\\n'.format(development_subjects))\n",
    "print('train subjects: {}\\n'.format(train_subjects))\n",
    "print('val subjects: {}'.format(val_subjects))"
   ]
  },
  {
   "cell_type": "code",
   "execution_count": null,
   "metadata": {},
   "outputs": [],
   "source": []
  },
  {
   "cell_type": "markdown",
   "metadata": {},
   "source": [
    "### test_bucket9:"
   ]
  },
  {
   "cell_type": "code",
   "execution_count": 132,
   "metadata": {},
   "outputs": [],
   "source": [
    "test_subjects = test_bucket9.copy()\n",
    "development_subjects = np.concatenate([test_bucket2.copy(), test_bucket3.copy(), test_bucket4.copy(),\n",
    "                                test_bucket5.copy(), test_bucket6.copy(), test_bucket7.copy(), test_bucket8.copy(),\n",
    "                                test_bucket1.copy(), test_bucket10.copy(), test_bucket11.copy(), test_bucket12.copy(),\n",
    "                                test_bucket13.copy(), test_bucket14.copy(), test_bucket15.copy(), test_bucket16.copy(),\n",
    "                                test_bucket17.copy()])\n",
    "\n",
    "np.random.shuffle(development_subjects)\n",
    "development_subjects=development_subjects[:4]\n",
    "train_subjects = development_subjects[:3]\n",
    "val_subjects = development_subjects[3:]\n"
   ]
  },
  {
   "cell_type": "code",
   "execution_count": 133,
   "metadata": {},
   "outputs": [
    {
     "name": "stdout",
     "output_type": "stream",
     "text": [
      "size test subjects: 4\n",
      "size development subjects: 4\n",
      "size train subjects: 3\n",
      "size val subjects: 1\n"
     ]
    }
   ],
   "source": [
    "print('size test subjects: {}'.format(len(test_subjects)))\n",
    "print('size development subjects: {}'.format(len(development_subjects)))\n",
    "\n",
    "print('size train subjects: {}'.format(len(train_subjects)))\n",
    "print('size val subjects: {}'.format(len(val_subjects)))\n"
   ]
  },
  {
   "cell_type": "code",
   "execution_count": 134,
   "metadata": {},
   "outputs": [
    {
     "name": "stdout",
     "output_type": "stream",
     "text": [
      "test subjects: [91 85 61 83]\n",
      "\n",
      "development subjects: [13 47 54 95]\n",
      "\n",
      "train subjects: [13 47 54]\n",
      "\n",
      "val subjects: [95]\n"
     ]
    }
   ],
   "source": [
    "print('test subjects: {}\\n'.format(test_subjects))\n",
    "print('development subjects: {}\\n'.format(development_subjects))\n",
    "print('train subjects: {}\\n'.format(train_subjects))\n",
    "print('val subjects: {}'.format(val_subjects))"
   ]
  },
  {
   "cell_type": "code",
   "execution_count": null,
   "metadata": {},
   "outputs": [],
   "source": []
  },
  {
   "cell_type": "markdown",
   "metadata": {},
   "source": [
    "### test_bucket10:"
   ]
  },
  {
   "cell_type": "code",
   "execution_count": 135,
   "metadata": {},
   "outputs": [],
   "source": [
    "test_subjects = test_bucket10.copy()\n",
    "development_subjects = np.concatenate([test_bucket2.copy(), test_bucket3.copy(), test_bucket4.copy(),\n",
    "                                test_bucket5.copy(), test_bucket6.copy(), test_bucket7.copy(), test_bucket8.copy(),\n",
    "                                test_bucket9.copy(), test_bucket1.copy(), test_bucket11.copy(), test_bucket12.copy(),\n",
    "                                test_bucket13.copy(), test_bucket14.copy(), test_bucket15.copy(), test_bucket16.copy(),\n",
    "                                test_bucket17.copy()])\n",
    "\n",
    "np.random.shuffle(development_subjects)\n",
    "development_subjects=development_subjects[:4]\n",
    "train_subjects = development_subjects[:3]\n",
    "val_subjects = development_subjects[3:]\n"
   ]
  },
  {
   "cell_type": "code",
   "execution_count": 136,
   "metadata": {},
   "outputs": [
    {
     "name": "stdout",
     "output_type": "stream",
     "text": [
      "size test subjects: 4\n",
      "size development subjects: 4\n",
      "size train subjects: 3\n",
      "size val subjects: 1\n"
     ]
    }
   ],
   "source": [
    "print('size test subjects: {}'.format(len(test_subjects)))\n",
    "print('size development subjects: {}'.format(len(development_subjects)))\n",
    "\n",
    "print('size train subjects: {}'.format(len(train_subjects)))\n",
    "print('size val subjects: {}'.format(len(val_subjects)))\n"
   ]
  },
  {
   "cell_type": "code",
   "execution_count": 137,
   "metadata": {},
   "outputs": [
    {
     "name": "stdout",
     "output_type": "stream",
     "text": [
      "test subjects: [94 31 43 54]\n",
      "\n",
      "development subjects: [79 97 40 82]\n",
      "\n",
      "train subjects: [79 97 40]\n",
      "\n",
      "val subjects: [82]\n"
     ]
    }
   ],
   "source": [
    "print('test subjects: {}\\n'.format(test_subjects))\n",
    "print('development subjects: {}\\n'.format(development_subjects))\n",
    "print('train subjects: {}\\n'.format(train_subjects))\n",
    "print('val subjects: {}'.format(val_subjects))"
   ]
  },
  {
   "cell_type": "code",
   "execution_count": null,
   "metadata": {},
   "outputs": [],
   "source": []
  },
  {
   "cell_type": "markdown",
   "metadata": {},
   "source": [
    "### test_bucket11:"
   ]
  },
  {
   "cell_type": "code",
   "execution_count": 138,
   "metadata": {},
   "outputs": [],
   "source": [
    "test_subjects = test_bucket11.copy()\n",
    "development_subjects = np.concatenate([test_bucket2.copy(), test_bucket3.copy(), test_bucket4.copy(),\n",
    "                                test_bucket5.copy(), test_bucket6.copy(), test_bucket7.copy(), test_bucket8.copy(),\n",
    "                                test_bucket9.copy(), test_bucket10.copy(), test_bucket1.copy(), test_bucket12.copy(),\n",
    "                                test_bucket13.copy(), test_bucket14.copy(), test_bucket15.copy(), test_bucket16.copy(),\n",
    "                                test_bucket17.copy()])\n",
    "\n",
    "np.random.shuffle(development_subjects)\n",
    "development_subjects=development_subjects[:4]\n",
    "train_subjects = development_subjects[:3]\n",
    "val_subjects = development_subjects[3:]\n"
   ]
  },
  {
   "cell_type": "code",
   "execution_count": 139,
   "metadata": {},
   "outputs": [
    {
     "name": "stdout",
     "output_type": "stream",
     "text": [
      "size test subjects: 4\n",
      "size development subjects: 4\n",
      "size train subjects: 3\n",
      "size val subjects: 1\n"
     ]
    }
   ],
   "source": [
    "print('size test subjects: {}'.format(len(test_subjects)))\n",
    "print('size development subjects: {}'.format(len(development_subjects)))\n",
    "\n",
    "print('size train subjects: {}'.format(len(train_subjects)))\n",
    "print('size val subjects: {}'.format(len(val_subjects)))\n"
   ]
  },
  {
   "cell_type": "code",
   "execution_count": 140,
   "metadata": {},
   "outputs": [
    {
     "name": "stdout",
     "output_type": "stream",
     "text": [
      "test subjects: [51 64 68 44]\n",
      "\n",
      "development subjects: [81 80  5 71]\n",
      "\n",
      "train subjects: [81 80  5]\n",
      "\n",
      "val subjects: [71]\n"
     ]
    }
   ],
   "source": [
    "print('test subjects: {}\\n'.format(test_subjects))\n",
    "print('development subjects: {}\\n'.format(development_subjects))\n",
    "print('train subjects: {}\\n'.format(train_subjects))\n",
    "print('val subjects: {}'.format(val_subjects))"
   ]
  },
  {
   "cell_type": "code",
   "execution_count": null,
   "metadata": {},
   "outputs": [],
   "source": []
  },
  {
   "cell_type": "markdown",
   "metadata": {},
   "source": [
    "### test_bucket12:"
   ]
  },
  {
   "cell_type": "code",
   "execution_count": 141,
   "metadata": {},
   "outputs": [],
   "source": [
    "test_subjects = test_bucket12.copy()\n",
    "development_subjects = np.concatenate([test_bucket2.copy(), test_bucket3.copy(), test_bucket4.copy(),\n",
    "                                test_bucket5.copy(), test_bucket6.copy(), test_bucket7.copy(), test_bucket8.copy(),\n",
    "                                test_bucket9.copy(), test_bucket10.copy(), test_bucket11.copy(), test_bucket1.copy(),\n",
    "                                test_bucket13.copy(), test_bucket14.copy(), test_bucket15.copy(), test_bucket16.copy(),\n",
    "                                test_bucket17.copy()])\n",
    "\n",
    "np.random.shuffle(development_subjects)\n",
    "development_subjects=development_subjects[:4]\n",
    "train_subjects = development_subjects[:3]\n",
    "val_subjects = development_subjects[3:]\n"
   ]
  },
  {
   "cell_type": "code",
   "execution_count": 142,
   "metadata": {},
   "outputs": [
    {
     "name": "stdout",
     "output_type": "stream",
     "text": [
      "size test subjects: 4\n",
      "size development subjects: 4\n",
      "size train subjects: 3\n",
      "size val subjects: 1\n"
     ]
    }
   ],
   "source": [
    "print('size test subjects: {}'.format(len(test_subjects)))\n",
    "print('size development subjects: {}'.format(len(development_subjects)))\n",
    "\n",
    "print('size train subjects: {}'.format(len(train_subjects)))\n",
    "print('size val subjects: {}'.format(len(val_subjects)))\n"
   ]
  },
  {
   "cell_type": "code",
   "execution_count": 143,
   "metadata": {},
   "outputs": [
    {
     "name": "stdout",
     "output_type": "stream",
     "text": [
      "test subjects: [20 32  5 49]\n",
      "\n",
      "development subjects: [37 14 71 52]\n",
      "\n",
      "train subjects: [37 14 71]\n",
      "\n",
      "val subjects: [52]\n"
     ]
    }
   ],
   "source": [
    "print('test subjects: {}\\n'.format(test_subjects))\n",
    "print('development subjects: {}\\n'.format(development_subjects))\n",
    "print('train subjects: {}\\n'.format(train_subjects))\n",
    "print('val subjects: {}'.format(val_subjects))"
   ]
  },
  {
   "cell_type": "code",
   "execution_count": null,
   "metadata": {},
   "outputs": [],
   "source": []
  },
  {
   "cell_type": "markdown",
   "metadata": {},
   "source": [
    "### test_bucket13:"
   ]
  },
  {
   "cell_type": "code",
   "execution_count": 144,
   "metadata": {},
   "outputs": [],
   "source": [
    "test_subjects = test_bucket13.copy()\n",
    "development_subjects = np.concatenate([test_bucket2.copy(), test_bucket3.copy(), test_bucket4.copy(),\n",
    "                                test_bucket5.copy(), test_bucket6.copy(), test_bucket7.copy(), test_bucket8.copy(),\n",
    "                                test_bucket9.copy(), test_bucket10.copy(), test_bucket11.copy(), test_bucket12.copy(),\n",
    "                                test_bucket1.copy(), test_bucket14.copy(), test_bucket15.copy(), test_bucket16.copy(),\n",
    "                                test_bucket17.copy()])\n",
    "\n",
    "np.random.shuffle(development_subjects)\n",
    "development_subjects=development_subjects[:4]\n",
    "train_subjects = development_subjects[:3]\n",
    "val_subjects = development_subjects[3:]\n"
   ]
  },
  {
   "cell_type": "code",
   "execution_count": 145,
   "metadata": {},
   "outputs": [
    {
     "name": "stdout",
     "output_type": "stream",
     "text": [
      "size test subjects: 4\n",
      "size development subjects: 4\n",
      "size train subjects: 3\n",
      "size val subjects: 1\n"
     ]
    }
   ],
   "source": [
    "print('size test subjects: {}'.format(len(test_subjects)))\n",
    "print('size development subjects: {}'.format(len(development_subjects)))\n",
    "\n",
    "print('size train subjects: {}'.format(len(train_subjects)))\n",
    "print('size val subjects: {}'.format(len(val_subjects)))\n"
   ]
  },
  {
   "cell_type": "code",
   "execution_count": 146,
   "metadata": {},
   "outputs": [
    {
     "name": "stdout",
     "output_type": "stream",
     "text": [
      "test subjects: [65 28 78 37]\n",
      "\n",
      "development subjects: [63 32 84 31]\n",
      "\n",
      "train subjects: [63 32 84]\n",
      "\n",
      "val subjects: [31]\n"
     ]
    }
   ],
   "source": [
    "print('test subjects: {}\\n'.format(test_subjects))\n",
    "print('development subjects: {}\\n'.format(development_subjects))\n",
    "print('train subjects: {}\\n'.format(train_subjects))\n",
    "print('val subjects: {}'.format(val_subjects))"
   ]
  },
  {
   "cell_type": "code",
   "execution_count": null,
   "metadata": {},
   "outputs": [],
   "source": []
  },
  {
   "cell_type": "markdown",
   "metadata": {},
   "source": [
    "### test_bucket14:"
   ]
  },
  {
   "cell_type": "code",
   "execution_count": 147,
   "metadata": {},
   "outputs": [],
   "source": [
    "test_subjects = test_bucket14.copy()\n",
    "development_subjects = np.concatenate([test_bucket2.copy(), test_bucket3.copy(), test_bucket4.copy(),\n",
    "                                test_bucket5.copy(), test_bucket6.copy(), test_bucket7.copy(), test_bucket8.copy(),\n",
    "                                test_bucket9.copy(), test_bucket10.copy(), test_bucket11.copy(), test_bucket12.copy(),\n",
    "                                test_bucket13.copy(), test_bucket1.copy(), test_bucket15.copy(), test_bucket16.copy(),\n",
    "                                test_bucket17.copy()])\n",
    "\n",
    "np.random.shuffle(development_subjects)\n",
    "development_subjects=development_subjects[:4]\n",
    "train_subjects = development_subjects[:3]\n",
    "val_subjects = development_subjects[3:]\n"
   ]
  },
  {
   "cell_type": "code",
   "execution_count": 148,
   "metadata": {},
   "outputs": [
    {
     "name": "stdout",
     "output_type": "stream",
     "text": [
      "size test subjects: 4\n",
      "size development subjects: 4\n",
      "size train subjects: 3\n",
      "size val subjects: 1\n"
     ]
    }
   ],
   "source": [
    "print('size test subjects: {}'.format(len(test_subjects)))\n",
    "print('size development subjects: {}'.format(len(development_subjects)))\n",
    "\n",
    "print('size train subjects: {}'.format(len(train_subjects)))\n",
    "print('size val subjects: {}'.format(len(val_subjects)))\n"
   ]
  },
  {
   "cell_type": "code",
   "execution_count": 149,
   "metadata": {},
   "outputs": [
    {
     "name": "stdout",
     "output_type": "stream",
     "text": [
      "test subjects: [97 40 74 46]\n",
      "\n",
      "development subjects: [71 63 45 81]\n",
      "\n",
      "train subjects: [71 63 45]\n",
      "\n",
      "val subjects: [81]\n"
     ]
    }
   ],
   "source": [
    "print('test subjects: {}\\n'.format(test_subjects))\n",
    "print('development subjects: {}\\n'.format(development_subjects))\n",
    "print('train subjects: {}\\n'.format(train_subjects))\n",
    "print('val subjects: {}'.format(val_subjects))"
   ]
  },
  {
   "cell_type": "code",
   "execution_count": null,
   "metadata": {},
   "outputs": [],
   "source": []
  },
  {
   "cell_type": "markdown",
   "metadata": {},
   "source": [
    "### test_bucket15:"
   ]
  },
  {
   "cell_type": "code",
   "execution_count": 150,
   "metadata": {},
   "outputs": [],
   "source": [
    "test_subjects = test_bucket15.copy()\n",
    "development_subjects = np.concatenate([test_bucket2.copy(), test_bucket3.copy(), test_bucket4.copy(),\n",
    "                                test_bucket5.copy(), test_bucket6.copy(), test_bucket7.copy(), test_bucket8.copy(),\n",
    "                                test_bucket9.copy(), test_bucket10.copy(), test_bucket11.copy(), test_bucket12.copy(),\n",
    "                                test_bucket13.copy(), test_bucket14.copy(), test_bucket1.copy(), test_bucket16.copy(),\n",
    "                                test_bucket17.copy()])\n",
    "\n",
    "np.random.shuffle(development_subjects)\n",
    "development_subjects=development_subjects[:4]\n",
    "train_subjects = development_subjects[:3]\n",
    "val_subjects = development_subjects[3:]\n"
   ]
  },
  {
   "cell_type": "code",
   "execution_count": 151,
   "metadata": {},
   "outputs": [
    {
     "name": "stdout",
     "output_type": "stream",
     "text": [
      "size test subjects: 4\n",
      "size development subjects: 4\n",
      "size train subjects: 3\n",
      "size val subjects: 1\n"
     ]
    }
   ],
   "source": [
    "print('size test subjects: {}'.format(len(test_subjects)))\n",
    "print('size development subjects: {}'.format(len(development_subjects)))\n",
    "\n",
    "print('size train subjects: {}'.format(len(train_subjects)))\n",
    "print('size val subjects: {}'.format(len(val_subjects)))\n"
   ]
  },
  {
   "cell_type": "code",
   "execution_count": 152,
   "metadata": {},
   "outputs": [
    {
     "name": "stdout",
     "output_type": "stream",
     "text": [
      "test subjects: [22  7 23 95]\n",
      "\n",
      "development subjects: [54 80 57 55]\n",
      "\n",
      "train subjects: [54 80 57]\n",
      "\n",
      "val subjects: [55]\n"
     ]
    }
   ],
   "source": [
    "print('test subjects: {}\\n'.format(test_subjects))\n",
    "print('development subjects: {}\\n'.format(development_subjects))\n",
    "print('train subjects: {}\\n'.format(train_subjects))\n",
    "print('val subjects: {}'.format(val_subjects))"
   ]
  },
  {
   "cell_type": "code",
   "execution_count": null,
   "metadata": {},
   "outputs": [],
   "source": []
  },
  {
   "cell_type": "markdown",
   "metadata": {},
   "source": [
    "### test_bucket16:"
   ]
  },
  {
   "cell_type": "code",
   "execution_count": 153,
   "metadata": {},
   "outputs": [],
   "source": [
    "test_subjects = test_bucket16.copy()\n",
    "development_subjects = np.concatenate([test_bucket2.copy(), test_bucket3.copy(), test_bucket4.copy(),\n",
    "                                test_bucket5.copy(), test_bucket6.copy(), test_bucket7.copy(), test_bucket8.copy(),\n",
    "                                test_bucket9.copy(), test_bucket10.copy(), test_bucket11.copy(), test_bucket12.copy(),\n",
    "                                test_bucket13.copy(), test_bucket14.copy(), test_bucket15.copy(), test_bucket1.copy(),\n",
    "                                test_bucket17.copy()])\n",
    "\n",
    "np.random.shuffle(development_subjects)\n",
    "development_subjects=development_subjects[:4]\n",
    "train_subjects = development_subjects[:3]\n",
    "val_subjects = development_subjects[3:]\n"
   ]
  },
  {
   "cell_type": "code",
   "execution_count": 154,
   "metadata": {},
   "outputs": [
    {
     "name": "stdout",
     "output_type": "stream",
     "text": [
      "size test subjects: 4\n",
      "size development subjects: 4\n",
      "size train subjects: 3\n",
      "size val subjects: 1\n"
     ]
    }
   ],
   "source": [
    "print('size test subjects: {}'.format(len(test_subjects)))\n",
    "print('size development subjects: {}'.format(len(development_subjects)))\n",
    "\n",
    "print('size train subjects: {}'.format(len(train_subjects)))\n",
    "print('size val subjects: {}'.format(len(val_subjects)))\n"
   ]
  },
  {
   "cell_type": "code",
   "execution_count": 155,
   "metadata": {},
   "outputs": [
    {
     "name": "stdout",
     "output_type": "stream",
     "text": [
      "test subjects: [13 35  1 34]\n",
      "\n",
      "development subjects: [82 86 15 61]\n",
      "\n",
      "train subjects: [82 86 15]\n",
      "\n",
      "val subjects: [61]\n"
     ]
    }
   ],
   "source": [
    "print('test subjects: {}\\n'.format(test_subjects))\n",
    "print('development subjects: {}\\n'.format(development_subjects))\n",
    "print('train subjects: {}\\n'.format(train_subjects))\n",
    "print('val subjects: {}'.format(val_subjects))"
   ]
  },
  {
   "cell_type": "code",
   "execution_count": null,
   "metadata": {},
   "outputs": [],
   "source": []
  },
  {
   "cell_type": "markdown",
   "metadata": {},
   "source": [
    "### test_bucket17:"
   ]
  },
  {
   "cell_type": "code",
   "execution_count": 156,
   "metadata": {},
   "outputs": [],
   "source": [
    "test_subjects = test_bucket17.copy()\n",
    "development_subjects = np.concatenate([test_bucket2.copy(), test_bucket3.copy(), test_bucket4.copy(),\n",
    "                                test_bucket5.copy(), test_bucket6.copy(), test_bucket7.copy(), test_bucket8.copy(),\n",
    "                                test_bucket9.copy(), test_bucket10.copy(), test_bucket11.copy(), test_bucket12.copy(),\n",
    "                                test_bucket13.copy(), test_bucket14.copy(), test_bucket15.copy(), test_bucket16.copy(),\n",
    "                                test_bucket1.copy()])\n",
    "\n",
    "np.random.shuffle(development_subjects)\n",
    "development_subjects=development_subjects[:4]\n",
    "train_subjects = development_subjects[:3]\n",
    "val_subjects = development_subjects[3:]\n"
   ]
  },
  {
   "cell_type": "code",
   "execution_count": 157,
   "metadata": {},
   "outputs": [
    {
     "name": "stdout",
     "output_type": "stream",
     "text": [
      "size test subjects: 4\n",
      "size development subjects: 4\n",
      "size train subjects: 3\n",
      "size val subjects: 1\n"
     ]
    }
   ],
   "source": [
    "print('size test subjects: {}'.format(len(test_subjects)))\n",
    "print('size development subjects: {}'.format(len(development_subjects)))\n",
    "\n",
    "print('size train subjects: {}'.format(len(train_subjects)))\n",
    "print('size val subjects: {}'.format(len(val_subjects)))\n"
   ]
  },
  {
   "cell_type": "code",
   "execution_count": 158,
   "metadata": {},
   "outputs": [
    {
     "name": "stdout",
     "output_type": "stream",
     "text": [
      "test subjects: [21 25 29 60]\n",
      "\n",
      "development subjects: [80 85 69 23]\n",
      "\n",
      "train subjects: [80 85 69]\n",
      "\n",
      "val subjects: [23]\n"
     ]
    }
   ],
   "source": [
    "print('test subjects: {}\\n'.format(test_subjects))\n",
    "print('development subjects: {}\\n'.format(development_subjects))\n",
    "print('train subjects: {}\\n'.format(train_subjects))\n",
    "print('val subjects: {}'.format(val_subjects))"
   ]
  }
 ],
 "metadata": {
  "kernelspec": {
   "display_name": "Python 3",
   "language": "python",
   "name": "python3"
  },
  "language_info": {
   "codemirror_mode": {
    "name": "ipython",
    "version": 3
   },
   "file_extension": ".py",
   "mimetype": "text/x-python",
   "name": "python",
   "nbconvert_exporter": "python",
   "pygments_lexer": "ipython3",
   "version": "3.8.8"
  }
 },
 "nbformat": 4,
 "nbformat_minor": 4
}
