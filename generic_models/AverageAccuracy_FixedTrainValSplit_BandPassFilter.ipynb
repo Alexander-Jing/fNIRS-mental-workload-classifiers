{
 "cells": [
  {
   "cell_type": "code",
   "execution_count": 1,
   "metadata": {},
   "outputs": [],
   "source": [
    "import numpy as np\n",
    "import pandas as pd\n",
    "import os\n",
    "import sys"
   ]
  },
  {
   "cell_type": "code",
   "execution_count": null,
   "metadata": {},
   "outputs": [],
   "source": []
  },
  {
   "cell_type": "markdown",
   "metadata": {},
   "source": [
    "### LogisticRegression, 5050"
   ]
  },
  {
   "cell_type": "code",
   "execution_count": 2,
   "metadata": {},
   "outputs": [],
   "source": [
    "root_path = '/cluster/tufts/hugheslab/zhuang12/HCI/NuripsDataSet2021/experiments/FixedTrainValSplit_generic_models/LogisticRegression/binary/'\n"
   ]
  },
  {
   "cell_type": "code",
   "execution_count": 3,
   "metadata": {},
   "outputs": [],
   "source": [
    "scenario_64vs4_summary_path = '64vs4_summary'\n",
    "scenario_16vs4_summary_path = '16vs4_summary'\n",
    "scenario_4vs4_summary_path = '4vs4_summary'\n"
   ]
  },
  {
   "cell_type": "code",
   "execution_count": 4,
   "metadata": {},
   "outputs": [],
   "source": [
    "scenario_64vs4_df = pd.read_csv(os.path.join(root_path, scenario_64vs4_summary_path, 'AllSubjects_summary.csv'))\n",
    "scenario_16vs4_df = pd.read_csv(os.path.join(root_path, scenario_16vs4_summary_path, 'AllSubjects_summary.csv'))\n",
    "scenario_4vs4_df = pd.read_csv(os.path.join(root_path, scenario_4vs4_summary_path, 'AllSubjects_summary.csv'))\n"
   ]
  },
  {
   "cell_type": "code",
   "execution_count": 5,
   "metadata": {
    "scrolled": false
   },
   "outputs": [
    {
     "name": "stdout",
     "output_type": "stream",
     "text": [
      "LR, Binary, Average Accuracy:\n",
      "scenario_64vs4: 67.12919038583178\n",
      "scenario_16vs4: 65.78510436432639\n",
      "scenario_4vs4: 59.827640733712826\n"
     ]
    }
   ],
   "source": [
    "print('LR, Binary, Average Accuracy:')\n",
    "print('scenario_64vs4: {}'.format(np.mean(scenario_64vs4_df.corresponding_test_accuracy.values)))\n",
    "print('scenario_16vs4: {}'.format(np.mean(scenario_16vs4_df.corresponding_test_accuracy.values)))\n",
    "print('scenario_4vs4: {}'.format(np.mean(scenario_4vs4_df.corresponding_test_accuracy.values)))\n"
   ]
  },
  {
   "cell_type": "code",
   "execution_count": null,
   "metadata": {},
   "outputs": [],
   "source": []
  },
  {
   "cell_type": "code",
   "execution_count": null,
   "metadata": {},
   "outputs": [],
   "source": []
  },
  {
   "cell_type": "markdown",
   "metadata": {},
   "source": [
    "### RandomForest, 5050"
   ]
  },
  {
   "cell_type": "code",
   "execution_count": 6,
   "metadata": {},
   "outputs": [],
   "source": [
    "root_path = '/cluster/tufts/hugheslab/zhuang12/HCI/NuripsDataSet2021/experiments/FixedTrainValSplit_generic_models/RandomForest/binary/'\n"
   ]
  },
  {
   "cell_type": "code",
   "execution_count": 7,
   "metadata": {},
   "outputs": [],
   "source": [
    "scenario_64vs4_summary_path = '64vs4_summary'\n",
    "scenario_16vs4_summary_path = '16vs4_summary'\n",
    "scenario_4vs4_summary_path = '4vs4_summary'\n"
   ]
  },
  {
   "cell_type": "code",
   "execution_count": 8,
   "metadata": {},
   "outputs": [],
   "source": [
    "scenario_64vs4_df = pd.read_csv(os.path.join(root_path, scenario_64vs4_summary_path, 'AllSubjects_summary.csv'))\n",
    "scenario_16vs4_df = pd.read_csv(os.path.join(root_path, scenario_16vs4_summary_path, 'AllSubjects_summary.csv'))\n",
    "scenario_4vs4_df = pd.read_csv(os.path.join(root_path, scenario_4vs4_summary_path, 'AllSubjects_summary.csv'))\n"
   ]
  },
  {
   "cell_type": "code",
   "execution_count": 9,
   "metadata": {
    "scrolled": false
   },
   "outputs": [
    {
     "name": "stdout",
     "output_type": "stream",
     "text": [
      "LR, Binary, Average Accuracy:\n",
      "scenario_64vs4: 72.24462365591397\n",
      "scenario_16vs4: 66.94339025932953\n",
      "scenario_4vs4: 61.47216951296649\n"
     ]
    }
   ],
   "source": [
    "print('LR, Binary, Average Accuracy:')\n",
    "print('scenario_64vs4: {}'.format(np.mean(scenario_64vs4_df.corresponding_test_accuracy.values)))\n",
    "print('scenario_16vs4: {}'.format(np.mean(scenario_16vs4_df.corresponding_test_accuracy.values)))\n",
    "print('scenario_4vs4: {}'.format(np.mean(scenario_4vs4_df.corresponding_test_accuracy.values)))\n"
   ]
  },
  {
   "cell_type": "code",
   "execution_count": null,
   "metadata": {},
   "outputs": [],
   "source": []
  },
  {
   "cell_type": "markdown",
   "metadata": {},
   "source": [
    "### DeepConvNet, 5050, 300epoch"
   ]
  },
  {
   "cell_type": "code",
   "execution_count": 2,
   "metadata": {},
   "outputs": [],
   "source": [
    "root_path = '/cluster/tufts/hugheslab/zhuang12/HCI/NuripsDataSet2021/experiments/FixedTrainValSplit_generic_models/DeepConvNet300/binary/'\n"
   ]
  },
  {
   "cell_type": "code",
   "execution_count": 3,
   "metadata": {},
   "outputs": [],
   "source": [
    "scenario_64vs4_summary_path = '64vs4_summary'\n",
    "scenario_16vs4_summary_path = '16vs4_summary'\n",
    "scenario_4vs4_summary_path = '4vs4_summary'\n"
   ]
  },
  {
   "cell_type": "code",
   "execution_count": 4,
   "metadata": {},
   "outputs": [],
   "source": [
    "scenario_64vs4_df = pd.read_csv(os.path.join(root_path, scenario_64vs4_summary_path, 'AllSubjects_summary.csv'))\n",
    "scenario_16vs4_df = pd.read_csv(os.path.join(root_path, scenario_16vs4_summary_path, 'AllSubjects_summary.csv'))\n",
    "scenario_4vs4_df = pd.read_csv(os.path.join(root_path, scenario_4vs4_summary_path, 'AllSubjects_summary.csv'))\n"
   ]
  },
  {
   "cell_type": "code",
   "execution_count": 6,
   "metadata": {
    "scrolled": false
   },
   "outputs": [
    {
     "name": "stdout",
     "output_type": "stream",
     "text": [
      "DeepConvNet, Binary, Average Accuracy:\n",
      "scenario_64vs4: 65.25537634408602\n",
      "scenario_16vs4: 65.23561037318153\n",
      "scenario_4vs4: 57.451771030993044\n"
     ]
    }
   ],
   "source": [
    "print('DeepConvNet, Binary, Average Accuracy:')\n",
    "print('scenario_64vs4: {}'.format(np.mean(scenario_64vs4_df.corresponding_test_accuracy.values)))\n",
    "print('scenario_16vs4: {}'.format(np.mean(scenario_16vs4_df.corresponding_test_accuracy.values)))\n",
    "print('scenario_4vs4: {}'.format(np.mean(scenario_4vs4_df.corresponding_test_accuracy.values)))\n"
   ]
  },
  {
   "cell_type": "code",
   "execution_count": null,
   "metadata": {},
   "outputs": [],
   "source": []
  },
  {
   "cell_type": "code",
   "execution_count": null,
   "metadata": {},
   "outputs": [],
   "source": []
  },
  {
   "cell_type": "markdown",
   "metadata": {},
   "source": [
    "### EEGNet, 5050, 300epoch"
   ]
  },
  {
   "cell_type": "code",
   "execution_count": 11,
   "metadata": {},
   "outputs": [],
   "source": [
    "root_path = '/cluster/tufts/hugheslab/zhuang12/HCI/NuripsDataSet2021/experiments/FixedTrainValSplit_generic_models/EEGNet300/binary/'\n"
   ]
  },
  {
   "cell_type": "code",
   "execution_count": 12,
   "metadata": {},
   "outputs": [],
   "source": [
    "scenario_64vs4_summary_path = '64vs4_summary'\n",
    "scenario_16vs4_summary_path = '16vs4_summary'\n",
    "scenario_4vs4_summary_path = '4vs4_summary'\n"
   ]
  },
  {
   "cell_type": "code",
   "execution_count": 13,
   "metadata": {},
   "outputs": [],
   "source": [
    "scenario_64vs4_df = pd.read_csv(os.path.join(root_path, scenario_64vs4_summary_path, 'AllSubjects_summary.csv'))\n",
    "scenario_16vs4_df = pd.read_csv(os.path.join(root_path, scenario_16vs4_summary_path, 'AllSubjects_summary.csv'))\n",
    "scenario_4vs4_df = pd.read_csv(os.path.join(root_path, scenario_4vs4_summary_path, 'AllSubjects_summary.csv'))\n"
   ]
  },
  {
   "cell_type": "code",
   "execution_count": 14,
   "metadata": {
    "scrolled": false
   },
   "outputs": [
    {
     "name": "stdout",
     "output_type": "stream",
     "text": [
      "DeepConvNet, Binary, Average Accuracy:\n",
      "scenario_64vs4: 68.91998734977861\n",
      "scenario_16vs4: 65.45303605313093\n",
      "scenario_4vs4: 55.12729285262492\n"
     ]
    }
   ],
   "source": [
    "print('DeepConvNet, Binary, Average Accuracy:')\n",
    "print('scenario_64vs4: {}'.format(np.mean(scenario_64vs4_df.corresponding_test_accuracy.values)))\n",
    "print('scenario_16vs4: {}'.format(np.mean(scenario_16vs4_df.corresponding_test_accuracy.values)))\n",
    "print('scenario_4vs4: {}'.format(np.mean(scenario_4vs4_df.corresponding_test_accuracy.values)))\n"
   ]
  },
  {
   "cell_type": "code",
   "execution_count": null,
   "metadata": {},
   "outputs": [],
   "source": []
  },
  {
   "cell_type": "code",
   "execution_count": null,
   "metadata": {},
   "outputs": [],
   "source": [
    "##################################################################################################################\n",
    "##################################################################################################################\n",
    "##################################################################################################################"
   ]
  },
  {
   "cell_type": "code",
   "execution_count": null,
   "metadata": {},
   "outputs": [],
   "source": []
  },
  {
   "cell_type": "markdown",
   "metadata": {},
   "source": [
    "### DeepConvNet, 5050, 600epoch"
   ]
  },
  {
   "cell_type": "code",
   "execution_count": 2,
   "metadata": {},
   "outputs": [],
   "source": [
    "root_path = '/cluster/tufts/hugheslab/zhuang12/HCI/NuripsDataSet2021/experiments/FixedTrainValSplit_generic_models/DeepConvNet/binary/'\n"
   ]
  },
  {
   "cell_type": "code",
   "execution_count": 3,
   "metadata": {},
   "outputs": [],
   "source": [
    "scenario_64vs4_summary_path = '64vs4_summary'\n",
    "scenario_16vs4_summary_path = '16vs4_summary'\n",
    "scenario_4vs4_summary_path = '4vs4_summary'\n"
   ]
  },
  {
   "cell_type": "code",
   "execution_count": 4,
   "metadata": {},
   "outputs": [],
   "source": [
    "DCN_scenario_64vs4_df = pd.read_csv(os.path.join(root_path, scenario_64vs4_summary_path, 'AllSubjects_summary.csv'))\n",
    "DCN_scenario_16vs4_df = pd.read_csv(os.path.join(root_path, scenario_16vs4_summary_path, 'AllSubjects_summary.csv'))\n",
    "DCN_scenario_4vs4_df = pd.read_csv(os.path.join(root_path, scenario_4vs4_summary_path, 'AllSubjects_summary.csv'))\n"
   ]
  },
  {
   "cell_type": "code",
   "execution_count": 5,
   "metadata": {
    "scrolled": false
   },
   "outputs": [
    {
     "name": "stdout",
     "output_type": "stream",
     "text": [
      "DeepConvNet, Binary, Average Accuracy:\n",
      "scenario_64vs4: 70.6752055660974\n",
      "scenario_16vs4: 64.80075901328274\n",
      "scenario_4vs4: 56.586021505376344\n"
     ]
    }
   ],
   "source": [
    "print('DeepConvNet, Binary, Average Accuracy:')\n",
    "print('scenario_64vs4: {}'.format(np.mean(DCN_scenario_64vs4_df.corresponding_test_accuracy.values)))\n",
    "print('scenario_16vs4: {}'.format(np.mean(DCN_scenario_16vs4_df.corresponding_test_accuracy.values)))\n",
    "print('scenario_4vs4: {}'.format(np.mean(DCN_scenario_4vs4_df.corresponding_test_accuracy.values)))\n"
   ]
  },
  {
   "cell_type": "code",
   "execution_count": 6,
   "metadata": {},
   "outputs": [
    {
     "data": {
      "text/html": [
       "<div>\n",
       "<style scoped>\n",
       "    .dataframe tbody tr th:only-of-type {\n",
       "        vertical-align: middle;\n",
       "    }\n",
       "\n",
       "    .dataframe tbody tr th {\n",
       "        vertical-align: top;\n",
       "    }\n",
       "\n",
       "    .dataframe thead th {\n",
       "        text-align: right;\n",
       "    }\n",
       "</style>\n",
       "<table border=\"1\" class=\"dataframe\">\n",
       "  <thead>\n",
       "    <tr style=\"text-align: right;\">\n",
       "      <th></th>\n",
       "      <th>subject_id</th>\n",
       "      <th>bucket</th>\n",
       "      <th>max_validation_accuracy</th>\n",
       "      <th>corresponding_test_accuracy</th>\n",
       "      <th>performance_string</th>\n",
       "      <th>experiment_folder</th>\n",
       "    </tr>\n",
       "  </thead>\n",
       "  <tbody>\n",
       "    <tr>\n",
       "      <th>0</th>\n",
       "      <td>56</td>\n",
       "      <td>TestBucket1</td>\n",
       "      <td>65.877</td>\n",
       "      <td>96.505376</td>\n",
       "      <td>highest validation accuracy: 65.87701612903226...</td>\n",
       "      <td>/cluster/tufts/hugheslab/zhuang12/HCI/NuripsDa...</td>\n",
       "    </tr>\n",
       "    <tr>\n",
       "      <th>1</th>\n",
       "      <td>72</td>\n",
       "      <td>TestBucket1</td>\n",
       "      <td>65.877</td>\n",
       "      <td>51.612903</td>\n",
       "      <td>highest validation accuracy: 65.87701612903226...</td>\n",
       "      <td>/cluster/tufts/hugheslab/zhuang12/HCI/NuripsDa...</td>\n",
       "    </tr>\n",
       "    <tr>\n",
       "      <th>2</th>\n",
       "      <td>86</td>\n",
       "      <td>TestBucket1</td>\n",
       "      <td>65.877</td>\n",
       "      <td>50.537634</td>\n",
       "      <td>highest validation accuracy: 65.87701612903226...</td>\n",
       "      <td>/cluster/tufts/hugheslab/zhuang12/HCI/NuripsDa...</td>\n",
       "    </tr>\n",
       "    <tr>\n",
       "      <th>3</th>\n",
       "      <td>79</td>\n",
       "      <td>TestBucket1</td>\n",
       "      <td>65.877</td>\n",
       "      <td>48.387097</td>\n",
       "      <td>highest validation accuracy: 65.87701612903226...</td>\n",
       "      <td>/cluster/tufts/hugheslab/zhuang12/HCI/NuripsDa...</td>\n",
       "    </tr>\n",
       "    <tr>\n",
       "      <th>4</th>\n",
       "      <td>82</td>\n",
       "      <td>TestBucket2</td>\n",
       "      <td>66.776</td>\n",
       "      <td>76.612903</td>\n",
       "      <td>highest validation accuracy: 66.77587365591397...</td>\n",
       "      <td>/cluster/tufts/hugheslab/zhuang12/HCI/NuripsDa...</td>\n",
       "    </tr>\n",
       "    <tr>\n",
       "      <th>...</th>\n",
       "      <td>...</td>\n",
       "      <td>...</td>\n",
       "      <td>...</td>\n",
       "      <td>...</td>\n",
       "      <td>...</td>\n",
       "      <td>...</td>\n",
       "    </tr>\n",
       "    <tr>\n",
       "      <th>63</th>\n",
       "      <td>35</td>\n",
       "      <td>TestBucket16</td>\n",
       "      <td>69.162</td>\n",
       "      <td>64.784946</td>\n",
       "      <td>highest validation accuracy: 69.16162634408603...</td>\n",
       "      <td>/cluster/tufts/hugheslab/zhuang12/HCI/NuripsDa...</td>\n",
       "    </tr>\n",
       "    <tr>\n",
       "      <th>64</th>\n",
       "      <td>21</td>\n",
       "      <td>TestBucket17</td>\n",
       "      <td>71.900</td>\n",
       "      <td>61.559140</td>\n",
       "      <td>highest validation accuracy: 71.90020161290323...</td>\n",
       "      <td>/cluster/tufts/hugheslab/zhuang12/HCI/NuripsDa...</td>\n",
       "    </tr>\n",
       "    <tr>\n",
       "      <th>65</th>\n",
       "      <td>60</td>\n",
       "      <td>TestBucket17</td>\n",
       "      <td>71.900</td>\n",
       "      <td>66.935484</td>\n",
       "      <td>highest validation accuracy: 71.90020161290323...</td>\n",
       "      <td>/cluster/tufts/hugheslab/zhuang12/HCI/NuripsDa...</td>\n",
       "    </tr>\n",
       "    <tr>\n",
       "      <th>66</th>\n",
       "      <td>29</td>\n",
       "      <td>TestBucket17</td>\n",
       "      <td>71.900</td>\n",
       "      <td>73.118280</td>\n",
       "      <td>highest validation accuracy: 71.90020161290323...</td>\n",
       "      <td>/cluster/tufts/hugheslab/zhuang12/HCI/NuripsDa...</td>\n",
       "    </tr>\n",
       "    <tr>\n",
       "      <th>67</th>\n",
       "      <td>25</td>\n",
       "      <td>TestBucket17</td>\n",
       "      <td>71.900</td>\n",
       "      <td>56.451613</td>\n",
       "      <td>highest validation accuracy: 71.90020161290323...</td>\n",
       "      <td>/cluster/tufts/hugheslab/zhuang12/HCI/NuripsDa...</td>\n",
       "    </tr>\n",
       "  </tbody>\n",
       "</table>\n",
       "<p>68 rows × 6 columns</p>\n",
       "</div>"
      ],
      "text/plain": [
       "    subject_id        bucket  max_validation_accuracy  \\\n",
       "0           56   TestBucket1                   65.877   \n",
       "1           72   TestBucket1                   65.877   \n",
       "2           86   TestBucket1                   65.877   \n",
       "3           79   TestBucket1                   65.877   \n",
       "4           82   TestBucket2                   66.776   \n",
       "..         ...           ...                      ...   \n",
       "63          35  TestBucket16                   69.162   \n",
       "64          21  TestBucket17                   71.900   \n",
       "65          60  TestBucket17                   71.900   \n",
       "66          29  TestBucket17                   71.900   \n",
       "67          25  TestBucket17                   71.900   \n",
       "\n",
       "    corresponding_test_accuracy  \\\n",
       "0                     96.505376   \n",
       "1                     51.612903   \n",
       "2                     50.537634   \n",
       "3                     48.387097   \n",
       "4                     76.612903   \n",
       "..                          ...   \n",
       "63                    64.784946   \n",
       "64                    61.559140   \n",
       "65                    66.935484   \n",
       "66                    73.118280   \n",
       "67                    56.451613   \n",
       "\n",
       "                                   performance_string  \\\n",
       "0   highest validation accuracy: 65.87701612903226...   \n",
       "1   highest validation accuracy: 65.87701612903226...   \n",
       "2   highest validation accuracy: 65.87701612903226...   \n",
       "3   highest validation accuracy: 65.87701612903226...   \n",
       "4   highest validation accuracy: 66.77587365591397...   \n",
       "..                                                ...   \n",
       "63  highest validation accuracy: 69.16162634408603...   \n",
       "64  highest validation accuracy: 71.90020161290323...   \n",
       "65  highest validation accuracy: 71.90020161290323...   \n",
       "66  highest validation accuracy: 71.90020161290323...   \n",
       "67  highest validation accuracy: 71.90020161290323...   \n",
       "\n",
       "                                    experiment_folder  \n",
       "0   /cluster/tufts/hugheslab/zhuang12/HCI/NuripsDa...  \n",
       "1   /cluster/tufts/hugheslab/zhuang12/HCI/NuripsDa...  \n",
       "2   /cluster/tufts/hugheslab/zhuang12/HCI/NuripsDa...  \n",
       "3   /cluster/tufts/hugheslab/zhuang12/HCI/NuripsDa...  \n",
       "4   /cluster/tufts/hugheslab/zhuang12/HCI/NuripsDa...  \n",
       "..                                                ...  \n",
       "63  /cluster/tufts/hugheslab/zhuang12/HCI/NuripsDa...  \n",
       "64  /cluster/tufts/hugheslab/zhuang12/HCI/NuripsDa...  \n",
       "65  /cluster/tufts/hugheslab/zhuang12/HCI/NuripsDa...  \n",
       "66  /cluster/tufts/hugheslab/zhuang12/HCI/NuripsDa...  \n",
       "67  /cluster/tufts/hugheslab/zhuang12/HCI/NuripsDa...  \n",
       "\n",
       "[68 rows x 6 columns]"
      ]
     },
     "execution_count": 6,
     "metadata": {},
     "output_type": "execute_result"
    }
   ],
   "source": [
    "DCN_scenario_64vs4_df"
   ]
  },
  {
   "cell_type": "code",
   "execution_count": 12,
   "metadata": {},
   "outputs": [],
   "source": [
    "DCN_scenario_64vs4_df[['bucket','subject_id', 'corresponding_test_accuracy']].to_csv('./InitialAccuracy.csv')"
   ]
  },
  {
   "cell_type": "code",
   "execution_count": 9,
   "metadata": {},
   "outputs": [
    {
     "data": {
      "text/html": [
       "<div>\n",
       "<style scoped>\n",
       "    .dataframe tbody tr th:only-of-type {\n",
       "        vertical-align: middle;\n",
       "    }\n",
       "\n",
       "    .dataframe tbody tr th {\n",
       "        vertical-align: top;\n",
       "    }\n",
       "\n",
       "    .dataframe thead th {\n",
       "        text-align: right;\n",
       "    }\n",
       "</style>\n",
       "<table border=\"1\" class=\"dataframe\">\n",
       "  <thead>\n",
       "    <tr style=\"text-align: right;\">\n",
       "      <th></th>\n",
       "      <th>subject_id</th>\n",
       "      <th>corresponding_test_accuracy</th>\n",
       "    </tr>\n",
       "  </thead>\n",
       "  <tbody>\n",
       "    <tr>\n",
       "      <th>4</th>\n",
       "      <td>82</td>\n",
       "      <td>76.612903</td>\n",
       "    </tr>\n",
       "    <tr>\n",
       "      <th>5</th>\n",
       "      <td>55</td>\n",
       "      <td>91.129032</td>\n",
       "    </tr>\n",
       "    <tr>\n",
       "      <th>6</th>\n",
       "      <td>48</td>\n",
       "      <td>84.946237</td>\n",
       "    </tr>\n",
       "    <tr>\n",
       "      <th>7</th>\n",
       "      <td>93</td>\n",
       "      <td>87.365591</td>\n",
       "    </tr>\n",
       "  </tbody>\n",
       "</table>\n",
       "</div>"
      ],
      "text/plain": [
       "   subject_id  corresponding_test_accuracy\n",
       "4          82                    76.612903\n",
       "5          55                    91.129032\n",
       "6          48                    84.946237\n",
       "7          93                    87.365591"
      ]
     },
     "execution_count": 9,
     "metadata": {},
     "output_type": "execute_result"
    }
   ],
   "source": [
    "DCN_scenario_64vs4_df.loc[DCN_scenario_64vs4_df['bucket']=='TestBucket2'][['subject_id', 'corresponding_test_accuracy']]\n",
    "\n"
   ]
  },
  {
   "cell_type": "code",
   "execution_count": 13,
   "metadata": {},
   "outputs": [],
   "source": [
    "DCN_scenario_64vs4_selected_setting = DCN_scenario_64vs4_df.experiment_folder.values\n",
    "DCN_scenario_16vs4_selected_setting = DCN_scenario_16vs4_df.experiment_folder.values\n",
    "DCN_scenario_4vs4_selected_setting = DCN_scenario_4vs4_df.experiment_folder.values\n"
   ]
  },
  {
   "cell_type": "code",
   "execution_count": 14,
   "metadata": {
    "scrolled": false
   },
   "outputs": [
    {
     "data": {
      "text/plain": [
       "array(['/cluster/tufts/hugheslab/zhuang12/HCI/NuripsDataSet2021/experiments/FixedTrainValSplit_generic_models/DeepConvNet/binary/64vs4/TestBucket1/56/lr1.0_dropout0.5',\n",
       "       '/cluster/tufts/hugheslab/zhuang12/HCI/NuripsDataSet2021/experiments/FixedTrainValSplit_generic_models/DeepConvNet/binary/64vs4/TestBucket1/72/lr1.0_dropout0.5',\n",
       "       '/cluster/tufts/hugheslab/zhuang12/HCI/NuripsDataSet2021/experiments/FixedTrainValSplit_generic_models/DeepConvNet/binary/64vs4/TestBucket1/86/lr1.0_dropout0.5',\n",
       "       '/cluster/tufts/hugheslab/zhuang12/HCI/NuripsDataSet2021/experiments/FixedTrainValSplit_generic_models/DeepConvNet/binary/64vs4/TestBucket1/79/lr1.0_dropout0.5',\n",
       "       '/cluster/tufts/hugheslab/zhuang12/HCI/NuripsDataSet2021/experiments/FixedTrainValSplit_generic_models/DeepConvNet/binary/64vs4/TestBucket2/82/lr0.01_dropout0.25',\n",
       "       '/cluster/tufts/hugheslab/zhuang12/HCI/NuripsDataSet2021/experiments/FixedTrainValSplit_generic_models/DeepConvNet/binary/64vs4/TestBucket2/55/lr0.01_dropout0.25',\n",
       "       '/cluster/tufts/hugheslab/zhuang12/HCI/NuripsDataSet2021/experiments/FixedTrainValSplit_generic_models/DeepConvNet/binary/64vs4/TestBucket2/48/lr0.01_dropout0.25',\n",
       "       '/cluster/tufts/hugheslab/zhuang12/HCI/NuripsDataSet2021/experiments/FixedTrainValSplit_generic_models/DeepConvNet/binary/64vs4/TestBucket2/93/lr0.01_dropout0.25',\n",
       "       '/cluster/tufts/hugheslab/zhuang12/HCI/NuripsDataSet2021/experiments/FixedTrainValSplit_generic_models/DeepConvNet/binary/64vs4/TestBucket3/80/lr0.01_dropout0.25',\n",
       "       '/cluster/tufts/hugheslab/zhuang12/HCI/NuripsDataSet2021/experiments/FixedTrainValSplit_generic_models/DeepConvNet/binary/64vs4/TestBucket3/75/lr0.01_dropout0.25',\n",
       "       '/cluster/tufts/hugheslab/zhuang12/HCI/NuripsDataSet2021/experiments/FixedTrainValSplit_generic_models/DeepConvNet/binary/64vs4/TestBucket3/14/lr0.01_dropout0.25',\n",
       "       '/cluster/tufts/hugheslab/zhuang12/HCI/NuripsDataSet2021/experiments/FixedTrainValSplit_generic_models/DeepConvNet/binary/64vs4/TestBucket3/58/lr0.01_dropout0.25',\n",
       "       '/cluster/tufts/hugheslab/zhuang12/HCI/NuripsDataSet2021/experiments/FixedTrainValSplit_generic_models/DeepConvNet/binary/64vs4/TestBucket4/62/lr10.0_dropout0.25',\n",
       "       '/cluster/tufts/hugheslab/zhuang12/HCI/NuripsDataSet2021/experiments/FixedTrainValSplit_generic_models/DeepConvNet/binary/64vs4/TestBucket4/84/lr10.0_dropout0.25',\n",
       "       '/cluster/tufts/hugheslab/zhuang12/HCI/NuripsDataSet2021/experiments/FixedTrainValSplit_generic_models/DeepConvNet/binary/64vs4/TestBucket4/52/lr10.0_dropout0.25',\n",
       "       '/cluster/tufts/hugheslab/zhuang12/HCI/NuripsDataSet2021/experiments/FixedTrainValSplit_generic_models/DeepConvNet/binary/64vs4/TestBucket4/47/lr10.0_dropout0.25',\n",
       "       '/cluster/tufts/hugheslab/zhuang12/HCI/NuripsDataSet2021/experiments/FixedTrainValSplit_generic_models/DeepConvNet/binary/64vs4/TestBucket5/69/lr10.0_dropout0.5',\n",
       "       '/cluster/tufts/hugheslab/zhuang12/HCI/NuripsDataSet2021/experiments/FixedTrainValSplit_generic_models/DeepConvNet/binary/64vs4/TestBucket5/73/lr10.0_dropout0.5',\n",
       "       '/cluster/tufts/hugheslab/zhuang12/HCI/NuripsDataSet2021/experiments/FixedTrainValSplit_generic_models/DeepConvNet/binary/64vs4/TestBucket5/63/lr10.0_dropout0.5',\n",
       "       '/cluster/tufts/hugheslab/zhuang12/HCI/NuripsDataSet2021/experiments/FixedTrainValSplit_generic_models/DeepConvNet/binary/64vs4/TestBucket5/42/lr10.0_dropout0.5',\n",
       "       '/cluster/tufts/hugheslab/zhuang12/HCI/NuripsDataSet2021/experiments/FixedTrainValSplit_generic_models/DeepConvNet/binary/64vs4/TestBucket6/70/lr0.01_dropout0.25',\n",
       "       '/cluster/tufts/hugheslab/zhuang12/HCI/NuripsDataSet2021/experiments/FixedTrainValSplit_generic_models/DeepConvNet/binary/64vs4/TestBucket6/81/lr0.01_dropout0.25',\n",
       "       '/cluster/tufts/hugheslab/zhuang12/HCI/NuripsDataSet2021/experiments/FixedTrainValSplit_generic_models/DeepConvNet/binary/64vs4/TestBucket6/57/lr0.01_dropout0.25',\n",
       "       '/cluster/tufts/hugheslab/zhuang12/HCI/NuripsDataSet2021/experiments/FixedTrainValSplit_generic_models/DeepConvNet/binary/64vs4/TestBucket6/15/lr0.01_dropout0.25',\n",
       "       '/cluster/tufts/hugheslab/zhuang12/HCI/NuripsDataSet2021/experiments/FixedTrainValSplit_generic_models/DeepConvNet/binary/64vs4/TestBucket7/27/lr1.0_dropout0.75',\n",
       "       '/cluster/tufts/hugheslab/zhuang12/HCI/NuripsDataSet2021/experiments/FixedTrainValSplit_generic_models/DeepConvNet/binary/64vs4/TestBucket7/92/lr1.0_dropout0.75',\n",
       "       '/cluster/tufts/hugheslab/zhuang12/HCI/NuripsDataSet2021/experiments/FixedTrainValSplit_generic_models/DeepConvNet/binary/64vs4/TestBucket7/38/lr1.0_dropout0.75',\n",
       "       '/cluster/tufts/hugheslab/zhuang12/HCI/NuripsDataSet2021/experiments/FixedTrainValSplit_generic_models/DeepConvNet/binary/64vs4/TestBucket7/76/lr1.0_dropout0.75',\n",
       "       '/cluster/tufts/hugheslab/zhuang12/HCI/NuripsDataSet2021/experiments/FixedTrainValSplit_generic_models/DeepConvNet/binary/64vs4/TestBucket8/24/lr0.01_dropout0.25',\n",
       "       '/cluster/tufts/hugheslab/zhuang12/HCI/NuripsDataSet2021/experiments/FixedTrainValSplit_generic_models/DeepConvNet/binary/64vs4/TestBucket8/36/lr0.01_dropout0.25',\n",
       "       '/cluster/tufts/hugheslab/zhuang12/HCI/NuripsDataSet2021/experiments/FixedTrainValSplit_generic_models/DeepConvNet/binary/64vs4/TestBucket8/45/lr0.01_dropout0.25',\n",
       "       '/cluster/tufts/hugheslab/zhuang12/HCI/NuripsDataSet2021/experiments/FixedTrainValSplit_generic_models/DeepConvNet/binary/64vs4/TestBucket8/71/lr0.01_dropout0.25',\n",
       "       '/cluster/tufts/hugheslab/zhuang12/HCI/NuripsDataSet2021/experiments/FixedTrainValSplit_generic_models/DeepConvNet/binary/64vs4/TestBucket9/85/lr0.01_dropout0.5',\n",
       "       '/cluster/tufts/hugheslab/zhuang12/HCI/NuripsDataSet2021/experiments/FixedTrainValSplit_generic_models/DeepConvNet/binary/64vs4/TestBucket9/83/lr0.01_dropout0.5',\n",
       "       '/cluster/tufts/hugheslab/zhuang12/HCI/NuripsDataSet2021/experiments/FixedTrainValSplit_generic_models/DeepConvNet/binary/64vs4/TestBucket9/91/lr0.01_dropout0.5',\n",
       "       '/cluster/tufts/hugheslab/zhuang12/HCI/NuripsDataSet2021/experiments/FixedTrainValSplit_generic_models/DeepConvNet/binary/64vs4/TestBucket9/61/lr0.01_dropout0.5',\n",
       "       '/cluster/tufts/hugheslab/zhuang12/HCI/NuripsDataSet2021/experiments/FixedTrainValSplit_generic_models/DeepConvNet/binary/64vs4/TestBucket10/43/lr0.01_dropout0.25',\n",
       "       '/cluster/tufts/hugheslab/zhuang12/HCI/NuripsDataSet2021/experiments/FixedTrainValSplit_generic_models/DeepConvNet/binary/64vs4/TestBucket10/31/lr0.01_dropout0.25',\n",
       "       '/cluster/tufts/hugheslab/zhuang12/HCI/NuripsDataSet2021/experiments/FixedTrainValSplit_generic_models/DeepConvNet/binary/64vs4/TestBucket10/94/lr0.01_dropout0.25',\n",
       "       '/cluster/tufts/hugheslab/zhuang12/HCI/NuripsDataSet2021/experiments/FixedTrainValSplit_generic_models/DeepConvNet/binary/64vs4/TestBucket10/54/lr0.01_dropout0.25',\n",
       "       '/cluster/tufts/hugheslab/zhuang12/HCI/NuripsDataSet2021/experiments/FixedTrainValSplit_generic_models/DeepConvNet/binary/64vs4/TestBucket11/51/lr0.1_dropout0.25',\n",
       "       '/cluster/tufts/hugheslab/zhuang12/HCI/NuripsDataSet2021/experiments/FixedTrainValSplit_generic_models/DeepConvNet/binary/64vs4/TestBucket11/68/lr0.1_dropout0.25',\n",
       "       '/cluster/tufts/hugheslab/zhuang12/HCI/NuripsDataSet2021/experiments/FixedTrainValSplit_generic_models/DeepConvNet/binary/64vs4/TestBucket11/64/lr0.1_dropout0.25',\n",
       "       '/cluster/tufts/hugheslab/zhuang12/HCI/NuripsDataSet2021/experiments/FixedTrainValSplit_generic_models/DeepConvNet/binary/64vs4/TestBucket11/44/lr0.1_dropout0.25',\n",
       "       '/cluster/tufts/hugheslab/zhuang12/HCI/NuripsDataSet2021/experiments/FixedTrainValSplit_generic_models/DeepConvNet/binary/64vs4/TestBucket12/49/lr1.0_dropout0.5',\n",
       "       '/cluster/tufts/hugheslab/zhuang12/HCI/NuripsDataSet2021/experiments/FixedTrainValSplit_generic_models/DeepConvNet/binary/64vs4/TestBucket12/5/lr1.0_dropout0.5',\n",
       "       '/cluster/tufts/hugheslab/zhuang12/HCI/NuripsDataSet2021/experiments/FixedTrainValSplit_generic_models/DeepConvNet/binary/64vs4/TestBucket12/32/lr1.0_dropout0.5',\n",
       "       '/cluster/tufts/hugheslab/zhuang12/HCI/NuripsDataSet2021/experiments/FixedTrainValSplit_generic_models/DeepConvNet/binary/64vs4/TestBucket12/20/lr1.0_dropout0.5',\n",
       "       '/cluster/tufts/hugheslab/zhuang12/HCI/NuripsDataSet2021/experiments/FixedTrainValSplit_generic_models/DeepConvNet/binary/64vs4/TestBucket13/37/lr0.01_dropout0.25',\n",
       "       '/cluster/tufts/hugheslab/zhuang12/HCI/NuripsDataSet2021/experiments/FixedTrainValSplit_generic_models/DeepConvNet/binary/64vs4/TestBucket13/78/lr0.01_dropout0.25',\n",
       "       '/cluster/tufts/hugheslab/zhuang12/HCI/NuripsDataSet2021/experiments/FixedTrainValSplit_generic_models/DeepConvNet/binary/64vs4/TestBucket13/65/lr0.01_dropout0.25',\n",
       "       '/cluster/tufts/hugheslab/zhuang12/HCI/NuripsDataSet2021/experiments/FixedTrainValSplit_generic_models/DeepConvNet/binary/64vs4/TestBucket13/28/lr0.01_dropout0.25',\n",
       "       '/cluster/tufts/hugheslab/zhuang12/HCI/NuripsDataSet2021/experiments/FixedTrainValSplit_generic_models/DeepConvNet/binary/64vs4/TestBucket14/46/lr0.01_dropout0.25',\n",
       "       '/cluster/tufts/hugheslab/zhuang12/HCI/NuripsDataSet2021/experiments/FixedTrainValSplit_generic_models/DeepConvNet/binary/64vs4/TestBucket14/97/lr0.01_dropout0.25',\n",
       "       '/cluster/tufts/hugheslab/zhuang12/HCI/NuripsDataSet2021/experiments/FixedTrainValSplit_generic_models/DeepConvNet/binary/64vs4/TestBucket14/74/lr0.01_dropout0.25',\n",
       "       '/cluster/tufts/hugheslab/zhuang12/HCI/NuripsDataSet2021/experiments/FixedTrainValSplit_generic_models/DeepConvNet/binary/64vs4/TestBucket14/40/lr0.01_dropout0.25',\n",
       "       '/cluster/tufts/hugheslab/zhuang12/HCI/NuripsDataSet2021/experiments/FixedTrainValSplit_generic_models/DeepConvNet/binary/64vs4/TestBucket15/7/lr0.1_dropout0.5',\n",
       "       '/cluster/tufts/hugheslab/zhuang12/HCI/NuripsDataSet2021/experiments/FixedTrainValSplit_generic_models/DeepConvNet/binary/64vs4/TestBucket15/23/lr0.1_dropout0.5',\n",
       "       '/cluster/tufts/hugheslab/zhuang12/HCI/NuripsDataSet2021/experiments/FixedTrainValSplit_generic_models/DeepConvNet/binary/64vs4/TestBucket15/22/lr0.1_dropout0.5',\n",
       "       '/cluster/tufts/hugheslab/zhuang12/HCI/NuripsDataSet2021/experiments/FixedTrainValSplit_generic_models/DeepConvNet/binary/64vs4/TestBucket15/95/lr0.1_dropout0.5',\n",
       "       '/cluster/tufts/hugheslab/zhuang12/HCI/NuripsDataSet2021/experiments/FixedTrainValSplit_generic_models/DeepConvNet/binary/64vs4/TestBucket16/34/lr0.01_dropout0.25',\n",
       "       '/cluster/tufts/hugheslab/zhuang12/HCI/NuripsDataSet2021/experiments/FixedTrainValSplit_generic_models/DeepConvNet/binary/64vs4/TestBucket16/1/lr0.01_dropout0.25',\n",
       "       '/cluster/tufts/hugheslab/zhuang12/HCI/NuripsDataSet2021/experiments/FixedTrainValSplit_generic_models/DeepConvNet/binary/64vs4/TestBucket16/13/lr0.01_dropout0.25',\n",
       "       '/cluster/tufts/hugheslab/zhuang12/HCI/NuripsDataSet2021/experiments/FixedTrainValSplit_generic_models/DeepConvNet/binary/64vs4/TestBucket16/35/lr0.01_dropout0.25',\n",
       "       '/cluster/tufts/hugheslab/zhuang12/HCI/NuripsDataSet2021/experiments/FixedTrainValSplit_generic_models/DeepConvNet/binary/64vs4/TestBucket17/21/lr0.01_dropout0.25',\n",
       "       '/cluster/tufts/hugheslab/zhuang12/HCI/NuripsDataSet2021/experiments/FixedTrainValSplit_generic_models/DeepConvNet/binary/64vs4/TestBucket17/60/lr0.01_dropout0.25',\n",
       "       '/cluster/tufts/hugheslab/zhuang12/HCI/NuripsDataSet2021/experiments/FixedTrainValSplit_generic_models/DeepConvNet/binary/64vs4/TestBucket17/29/lr0.01_dropout0.25',\n",
       "       '/cluster/tufts/hugheslab/zhuang12/HCI/NuripsDataSet2021/experiments/FixedTrainValSplit_generic_models/DeepConvNet/binary/64vs4/TestBucket17/25/lr0.01_dropout0.25'],\n",
       "      dtype=object)"
      ]
     },
     "execution_count": 14,
     "metadata": {},
     "output_type": "execute_result"
    }
   ],
   "source": [
    "DCN_scenario_64vs4_selected_setting"
   ]
  },
  {
   "cell_type": "code",
   "execution_count": null,
   "metadata": {},
   "outputs": [],
   "source": []
  },
  {
   "cell_type": "markdown",
   "metadata": {},
   "source": [
    "### EEGNet, 5050, 600epoch"
   ]
  },
  {
   "cell_type": "code",
   "execution_count": 16,
   "metadata": {},
   "outputs": [],
   "source": [
    "root_path = '/cluster/tufts/hugheslab/zhuang12/HCI/NuripsDataSet2021/experiments/FixedTrainValSplit_generic_models/EEGNet/binary/'\n"
   ]
  },
  {
   "cell_type": "code",
   "execution_count": 17,
   "metadata": {},
   "outputs": [],
   "source": [
    "scenario_64vs4_summary_path = '64vs4_summary'\n",
    "scenario_16vs4_summary_path = '16vs4_summary'\n",
    "scenario_4vs4_summary_path = '4vs4_summary'\n"
   ]
  },
  {
   "cell_type": "code",
   "execution_count": 18,
   "metadata": {},
   "outputs": [],
   "source": [
    "EEGNet_scenario_64vs4_df = pd.read_csv(os.path.join(root_path, scenario_64vs4_summary_path, 'AllSubjects_summary.csv'))\n",
    "EEGNet_scenario_16vs4_df = pd.read_csv(os.path.join(root_path, scenario_16vs4_summary_path, 'AllSubjects_summary.csv'))\n",
    "EEGNet_scenario_4vs4_df = pd.read_csv(os.path.join(root_path, scenario_4vs4_summary_path, 'AllSubjects_summary.csv'))\n"
   ]
  },
  {
   "cell_type": "code",
   "execution_count": 19,
   "metadata": {
    "scrolled": false
   },
   "outputs": [
    {
     "name": "stdout",
     "output_type": "stream",
     "text": [
      "EEGNet, Binary, Average Accuracy:\n",
      "scenario_64vs4: 69.75806451612904\n",
      "scenario_16vs4: 66.25948766603418\n",
      "scenario_4vs4: 55.123339658444024\n"
     ]
    }
   ],
   "source": [
    "print('EEGNet, Binary, Average Accuracy:')\n",
    "print('scenario_64vs4: {}'.format(np.mean(EEGNet_scenario_64vs4_df.corresponding_test_accuracy.values)))\n",
    "print('scenario_16vs4: {}'.format(np.mean(EEGNet_scenario_16vs4_df.corresponding_test_accuracy.values)))\n",
    "print('scenario_4vs4: {}'.format(np.mean(EEGNet_scenario_4vs4_df.corresponding_test_accuracy.values)))\n"
   ]
  },
  {
   "cell_type": "code",
   "execution_count": 20,
   "metadata": {},
   "outputs": [],
   "source": [
    "EEGNet_scenario_64vs4_selected_setting = EEGNet_scenario_64vs4_df.experiment_folder.values\n",
    "EEGNet_scenario_16vs4_selected_setting = EEGNet_scenario_16vs4_df.experiment_folder.values\n",
    "EEGNet_scenario_4vs4_selected_setting = EEGNet_scenario_4vs4_df.experiment_folder.values\n"
   ]
  },
  {
   "cell_type": "code",
   "execution_count": 21,
   "metadata": {
    "scrolled": false
   },
   "outputs": [
    {
     "data": {
      "text/plain": [
       "array(['/cluster/tufts/hugheslab/zhuang12/HCI/NuripsDataSet2021/experiments/FixedTrainValSplit_generic_models/EEGNet/binary/64vs4/TestBucket1/56/lr1.0_dropout0.25',\n",
       "       '/cluster/tufts/hugheslab/zhuang12/HCI/NuripsDataSet2021/experiments/FixedTrainValSplit_generic_models/EEGNet/binary/64vs4/TestBucket1/72/lr1.0_dropout0.25',\n",
       "       '/cluster/tufts/hugheslab/zhuang12/HCI/NuripsDataSet2021/experiments/FixedTrainValSplit_generic_models/EEGNet/binary/64vs4/TestBucket1/86/lr1.0_dropout0.25',\n",
       "       '/cluster/tufts/hugheslab/zhuang12/HCI/NuripsDataSet2021/experiments/FixedTrainValSplit_generic_models/EEGNet/binary/64vs4/TestBucket1/79/lr1.0_dropout0.25',\n",
       "       '/cluster/tufts/hugheslab/zhuang12/HCI/NuripsDataSet2021/experiments/FixedTrainValSplit_generic_models/EEGNet/binary/64vs4/TestBucket2/82/lr0.1_dropout0.25',\n",
       "       '/cluster/tufts/hugheslab/zhuang12/HCI/NuripsDataSet2021/experiments/FixedTrainValSplit_generic_models/EEGNet/binary/64vs4/TestBucket2/55/lr0.1_dropout0.25',\n",
       "       '/cluster/tufts/hugheslab/zhuang12/HCI/NuripsDataSet2021/experiments/FixedTrainValSplit_generic_models/EEGNet/binary/64vs4/TestBucket2/48/lr0.1_dropout0.25',\n",
       "       '/cluster/tufts/hugheslab/zhuang12/HCI/NuripsDataSet2021/experiments/FixedTrainValSplit_generic_models/EEGNet/binary/64vs4/TestBucket2/93/lr0.1_dropout0.25',\n",
       "       '/cluster/tufts/hugheslab/zhuang12/HCI/NuripsDataSet2021/experiments/FixedTrainValSplit_generic_models/EEGNet/binary/64vs4/TestBucket3/80/lr0.1_dropout0.25',\n",
       "       '/cluster/tufts/hugheslab/zhuang12/HCI/NuripsDataSet2021/experiments/FixedTrainValSplit_generic_models/EEGNet/binary/64vs4/TestBucket3/75/lr0.1_dropout0.25',\n",
       "       '/cluster/tufts/hugheslab/zhuang12/HCI/NuripsDataSet2021/experiments/FixedTrainValSplit_generic_models/EEGNet/binary/64vs4/TestBucket3/14/lr0.1_dropout0.25',\n",
       "       '/cluster/tufts/hugheslab/zhuang12/HCI/NuripsDataSet2021/experiments/FixedTrainValSplit_generic_models/EEGNet/binary/64vs4/TestBucket3/58/lr0.1_dropout0.25',\n",
       "       '/cluster/tufts/hugheslab/zhuang12/HCI/NuripsDataSet2021/experiments/FixedTrainValSplit_generic_models/EEGNet/binary/64vs4/TestBucket4/62/lr0.01_dropout0.5',\n",
       "       '/cluster/tufts/hugheslab/zhuang12/HCI/NuripsDataSet2021/experiments/FixedTrainValSplit_generic_models/EEGNet/binary/64vs4/TestBucket4/84/lr0.01_dropout0.5',\n",
       "       '/cluster/tufts/hugheslab/zhuang12/HCI/NuripsDataSet2021/experiments/FixedTrainValSplit_generic_models/EEGNet/binary/64vs4/TestBucket4/52/lr0.01_dropout0.5',\n",
       "       '/cluster/tufts/hugheslab/zhuang12/HCI/NuripsDataSet2021/experiments/FixedTrainValSplit_generic_models/EEGNet/binary/64vs4/TestBucket4/47/lr0.01_dropout0.5',\n",
       "       '/cluster/tufts/hugheslab/zhuang12/HCI/NuripsDataSet2021/experiments/FixedTrainValSplit_generic_models/EEGNet/binary/64vs4/TestBucket5/69/lr1.0_dropout0.25',\n",
       "       '/cluster/tufts/hugheslab/zhuang12/HCI/NuripsDataSet2021/experiments/FixedTrainValSplit_generic_models/EEGNet/binary/64vs4/TestBucket5/73/lr1.0_dropout0.25',\n",
       "       '/cluster/tufts/hugheslab/zhuang12/HCI/NuripsDataSet2021/experiments/FixedTrainValSplit_generic_models/EEGNet/binary/64vs4/TestBucket5/63/lr1.0_dropout0.25',\n",
       "       '/cluster/tufts/hugheslab/zhuang12/HCI/NuripsDataSet2021/experiments/FixedTrainValSplit_generic_models/EEGNet/binary/64vs4/TestBucket5/42/lr1.0_dropout0.25',\n",
       "       '/cluster/tufts/hugheslab/zhuang12/HCI/NuripsDataSet2021/experiments/FixedTrainValSplit_generic_models/EEGNet/binary/64vs4/TestBucket6/70/lr0.1_dropout0.5',\n",
       "       '/cluster/tufts/hugheslab/zhuang12/HCI/NuripsDataSet2021/experiments/FixedTrainValSplit_generic_models/EEGNet/binary/64vs4/TestBucket6/81/lr0.1_dropout0.5',\n",
       "       '/cluster/tufts/hugheslab/zhuang12/HCI/NuripsDataSet2021/experiments/FixedTrainValSplit_generic_models/EEGNet/binary/64vs4/TestBucket6/57/lr0.1_dropout0.5',\n",
       "       '/cluster/tufts/hugheslab/zhuang12/HCI/NuripsDataSet2021/experiments/FixedTrainValSplit_generic_models/EEGNet/binary/64vs4/TestBucket6/15/lr0.1_dropout0.5',\n",
       "       '/cluster/tufts/hugheslab/zhuang12/HCI/NuripsDataSet2021/experiments/FixedTrainValSplit_generic_models/EEGNet/binary/64vs4/TestBucket7/27/lr0.1_dropout0.25',\n",
       "       '/cluster/tufts/hugheslab/zhuang12/HCI/NuripsDataSet2021/experiments/FixedTrainValSplit_generic_models/EEGNet/binary/64vs4/TestBucket7/92/lr0.1_dropout0.25',\n",
       "       '/cluster/tufts/hugheslab/zhuang12/HCI/NuripsDataSet2021/experiments/FixedTrainValSplit_generic_models/EEGNet/binary/64vs4/TestBucket7/38/lr0.1_dropout0.25',\n",
       "       '/cluster/tufts/hugheslab/zhuang12/HCI/NuripsDataSet2021/experiments/FixedTrainValSplit_generic_models/EEGNet/binary/64vs4/TestBucket7/76/lr0.1_dropout0.25',\n",
       "       '/cluster/tufts/hugheslab/zhuang12/HCI/NuripsDataSet2021/experiments/FixedTrainValSplit_generic_models/EEGNet/binary/64vs4/TestBucket8/24/lr0.01_dropout0.25',\n",
       "       '/cluster/tufts/hugheslab/zhuang12/HCI/NuripsDataSet2021/experiments/FixedTrainValSplit_generic_models/EEGNet/binary/64vs4/TestBucket8/36/lr0.01_dropout0.25',\n",
       "       '/cluster/tufts/hugheslab/zhuang12/HCI/NuripsDataSet2021/experiments/FixedTrainValSplit_generic_models/EEGNet/binary/64vs4/TestBucket8/45/lr0.01_dropout0.25',\n",
       "       '/cluster/tufts/hugheslab/zhuang12/HCI/NuripsDataSet2021/experiments/FixedTrainValSplit_generic_models/EEGNet/binary/64vs4/TestBucket8/71/lr0.01_dropout0.25',\n",
       "       '/cluster/tufts/hugheslab/zhuang12/HCI/NuripsDataSet2021/experiments/FixedTrainValSplit_generic_models/EEGNet/binary/64vs4/TestBucket9/85/lr1.0_dropout0.25',\n",
       "       '/cluster/tufts/hugheslab/zhuang12/HCI/NuripsDataSet2021/experiments/FixedTrainValSplit_generic_models/EEGNet/binary/64vs4/TestBucket9/83/lr1.0_dropout0.25',\n",
       "       '/cluster/tufts/hugheslab/zhuang12/HCI/NuripsDataSet2021/experiments/FixedTrainValSplit_generic_models/EEGNet/binary/64vs4/TestBucket9/91/lr1.0_dropout0.25',\n",
       "       '/cluster/tufts/hugheslab/zhuang12/HCI/NuripsDataSet2021/experiments/FixedTrainValSplit_generic_models/EEGNet/binary/64vs4/TestBucket9/61/lr1.0_dropout0.25',\n",
       "       '/cluster/tufts/hugheslab/zhuang12/HCI/NuripsDataSet2021/experiments/FixedTrainValSplit_generic_models/EEGNet/binary/64vs4/TestBucket10/43/lr1.0_dropout0.25',\n",
       "       '/cluster/tufts/hugheslab/zhuang12/HCI/NuripsDataSet2021/experiments/FixedTrainValSplit_generic_models/EEGNet/binary/64vs4/TestBucket10/31/lr1.0_dropout0.25',\n",
       "       '/cluster/tufts/hugheslab/zhuang12/HCI/NuripsDataSet2021/experiments/FixedTrainValSplit_generic_models/EEGNet/binary/64vs4/TestBucket10/94/lr1.0_dropout0.25',\n",
       "       '/cluster/tufts/hugheslab/zhuang12/HCI/NuripsDataSet2021/experiments/FixedTrainValSplit_generic_models/EEGNet/binary/64vs4/TestBucket10/54/lr1.0_dropout0.25',\n",
       "       '/cluster/tufts/hugheslab/zhuang12/HCI/NuripsDataSet2021/experiments/FixedTrainValSplit_generic_models/EEGNet/binary/64vs4/TestBucket11/51/lr0.1_dropout0.25',\n",
       "       '/cluster/tufts/hugheslab/zhuang12/HCI/NuripsDataSet2021/experiments/FixedTrainValSplit_generic_models/EEGNet/binary/64vs4/TestBucket11/68/lr0.1_dropout0.25',\n",
       "       '/cluster/tufts/hugheslab/zhuang12/HCI/NuripsDataSet2021/experiments/FixedTrainValSplit_generic_models/EEGNet/binary/64vs4/TestBucket11/64/lr0.1_dropout0.25',\n",
       "       '/cluster/tufts/hugheslab/zhuang12/HCI/NuripsDataSet2021/experiments/FixedTrainValSplit_generic_models/EEGNet/binary/64vs4/TestBucket11/44/lr0.1_dropout0.25',\n",
       "       '/cluster/tufts/hugheslab/zhuang12/HCI/NuripsDataSet2021/experiments/FixedTrainValSplit_generic_models/EEGNet/binary/64vs4/TestBucket12/49/lr1.0_dropout0.25',\n",
       "       '/cluster/tufts/hugheslab/zhuang12/HCI/NuripsDataSet2021/experiments/FixedTrainValSplit_generic_models/EEGNet/binary/64vs4/TestBucket12/5/lr1.0_dropout0.25',\n",
       "       '/cluster/tufts/hugheslab/zhuang12/HCI/NuripsDataSet2021/experiments/FixedTrainValSplit_generic_models/EEGNet/binary/64vs4/TestBucket12/32/lr1.0_dropout0.25',\n",
       "       '/cluster/tufts/hugheslab/zhuang12/HCI/NuripsDataSet2021/experiments/FixedTrainValSplit_generic_models/EEGNet/binary/64vs4/TestBucket12/20/lr1.0_dropout0.25',\n",
       "       '/cluster/tufts/hugheslab/zhuang12/HCI/NuripsDataSet2021/experiments/FixedTrainValSplit_generic_models/EEGNet/binary/64vs4/TestBucket13/37/lr1.0_dropout0.5',\n",
       "       '/cluster/tufts/hugheslab/zhuang12/HCI/NuripsDataSet2021/experiments/FixedTrainValSplit_generic_models/EEGNet/binary/64vs4/TestBucket13/78/lr1.0_dropout0.5',\n",
       "       '/cluster/tufts/hugheslab/zhuang12/HCI/NuripsDataSet2021/experiments/FixedTrainValSplit_generic_models/EEGNet/binary/64vs4/TestBucket13/65/lr1.0_dropout0.5',\n",
       "       '/cluster/tufts/hugheslab/zhuang12/HCI/NuripsDataSet2021/experiments/FixedTrainValSplit_generic_models/EEGNet/binary/64vs4/TestBucket13/28/lr1.0_dropout0.5',\n",
       "       '/cluster/tufts/hugheslab/zhuang12/HCI/NuripsDataSet2021/experiments/FixedTrainValSplit_generic_models/EEGNet/binary/64vs4/TestBucket14/46/lr0.1_dropout0.25',\n",
       "       '/cluster/tufts/hugheslab/zhuang12/HCI/NuripsDataSet2021/experiments/FixedTrainValSplit_generic_models/EEGNet/binary/64vs4/TestBucket14/97/lr0.1_dropout0.25',\n",
       "       '/cluster/tufts/hugheslab/zhuang12/HCI/NuripsDataSet2021/experiments/FixedTrainValSplit_generic_models/EEGNet/binary/64vs4/TestBucket14/74/lr0.1_dropout0.25',\n",
       "       '/cluster/tufts/hugheslab/zhuang12/HCI/NuripsDataSet2021/experiments/FixedTrainValSplit_generic_models/EEGNet/binary/64vs4/TestBucket14/40/lr0.1_dropout0.25',\n",
       "       '/cluster/tufts/hugheslab/zhuang12/HCI/NuripsDataSet2021/experiments/FixedTrainValSplit_generic_models/EEGNet/binary/64vs4/TestBucket15/7/lr0.1_dropout0.25',\n",
       "       '/cluster/tufts/hugheslab/zhuang12/HCI/NuripsDataSet2021/experiments/FixedTrainValSplit_generic_models/EEGNet/binary/64vs4/TestBucket15/23/lr0.1_dropout0.25',\n",
       "       '/cluster/tufts/hugheslab/zhuang12/HCI/NuripsDataSet2021/experiments/FixedTrainValSplit_generic_models/EEGNet/binary/64vs4/TestBucket15/22/lr0.1_dropout0.25',\n",
       "       '/cluster/tufts/hugheslab/zhuang12/HCI/NuripsDataSet2021/experiments/FixedTrainValSplit_generic_models/EEGNet/binary/64vs4/TestBucket15/95/lr0.1_dropout0.25',\n",
       "       '/cluster/tufts/hugheslab/zhuang12/HCI/NuripsDataSet2021/experiments/FixedTrainValSplit_generic_models/EEGNet/binary/64vs4/TestBucket16/34/lr0.01_dropout0.25',\n",
       "       '/cluster/tufts/hugheslab/zhuang12/HCI/NuripsDataSet2021/experiments/FixedTrainValSplit_generic_models/EEGNet/binary/64vs4/TestBucket16/1/lr0.01_dropout0.25',\n",
       "       '/cluster/tufts/hugheslab/zhuang12/HCI/NuripsDataSet2021/experiments/FixedTrainValSplit_generic_models/EEGNet/binary/64vs4/TestBucket16/13/lr0.01_dropout0.25',\n",
       "       '/cluster/tufts/hugheslab/zhuang12/HCI/NuripsDataSet2021/experiments/FixedTrainValSplit_generic_models/EEGNet/binary/64vs4/TestBucket16/35/lr0.01_dropout0.25',\n",
       "       '/cluster/tufts/hugheslab/zhuang12/HCI/NuripsDataSet2021/experiments/FixedTrainValSplit_generic_models/EEGNet/binary/64vs4/TestBucket17/21/lr0.01_dropout0.25',\n",
       "       '/cluster/tufts/hugheslab/zhuang12/HCI/NuripsDataSet2021/experiments/FixedTrainValSplit_generic_models/EEGNet/binary/64vs4/TestBucket17/60/lr0.01_dropout0.25',\n",
       "       '/cluster/tufts/hugheslab/zhuang12/HCI/NuripsDataSet2021/experiments/FixedTrainValSplit_generic_models/EEGNet/binary/64vs4/TestBucket17/29/lr0.01_dropout0.25',\n",
       "       '/cluster/tufts/hugheslab/zhuang12/HCI/NuripsDataSet2021/experiments/FixedTrainValSplit_generic_models/EEGNet/binary/64vs4/TestBucket17/25/lr0.01_dropout0.25'],\n",
       "      dtype=object)"
      ]
     },
     "execution_count": 21,
     "metadata": {},
     "output_type": "execute_result"
    }
   ],
   "source": [
    "EEGNet_scenario_64vs4_selected_setting"
   ]
  },
  {
   "cell_type": "code",
   "execution_count": null,
   "metadata": {},
   "outputs": [],
   "source": []
  }
 ],
 "metadata": {
  "kernelspec": {
   "display_name": "Python 3",
   "language": "python",
   "name": "python3"
  },
  "language_info": {
   "codemirror_mode": {
    "name": "ipython",
    "version": 3
   },
   "file_extension": ".py",
   "mimetype": "text/x-python",
   "name": "python",
   "nbconvert_exporter": "python",
   "pygments_lexer": "ipython3",
   "version": "3.8.8"
  }
 },
 "nbformat": 4,
 "nbformat_minor": 4
}
