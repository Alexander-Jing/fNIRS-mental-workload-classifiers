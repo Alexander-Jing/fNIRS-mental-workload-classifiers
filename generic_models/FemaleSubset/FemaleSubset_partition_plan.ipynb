{
 "cells": [
  {
   "cell_type": "code",
   "execution_count": 1,
   "metadata": {},
   "outputs": [],
   "source": [
    "import numpy as np\n",
    "import os\n",
    "\n"
   ]
  },
  {
   "cell_type": "code",
   "execution_count": 2,
   "metadata": {},
   "outputs": [
    {
     "name": "stdout",
     "output_type": "stream",
     "text": [
      "FEMALE_list size: 39\n",
      "MALE_list size: 26\n"
     ]
    }
   ],
   "source": [
    "FEMALE_list = np.array([5, 7, 13, 14, 15, 20, 21, 22, 23, 24, 25, 27, 28, 32, 37, 38, 40, 45, 46, 51, 55, 57, 60, 61, 62, 65, 71, 73, 74, 76, 79, 82, 84, 85, 91, 93, 94, 95, 97])\n",
    "MALE_list = np.array([1, 29, 31, 34, 36, 42, 43, 44, 48, 49, 52, 54, 56, 58, 63, 64, 68, 70, 72, 75, 78, 80, 81, 83, 86, 92])\n",
    "\n",
    "\n",
    "print('FEMALE_list size: {}'.format(len(FEMALE_list)))\n",
    "print('MALE_list size: {}'.format(len(MALE_list)))\n"
   ]
  },
  {
   "cell_type": "code",
   "execution_count": null,
   "metadata": {},
   "outputs": [],
   "source": []
  },
  {
   "cell_type": "markdown",
   "metadata": {},
   "source": [
    "## FEMALE experiment:  use 33 as train, and 6 as test"
   ]
  },
  {
   "cell_type": "markdown",
   "metadata": {},
   "source": [
    "### random seed1"
   ]
  },
  {
   "cell_type": "code",
   "execution_count": 3,
   "metadata": {},
   "outputs": [],
   "source": [
    "np.random.seed(1)\n"
   ]
  },
  {
   "cell_type": "code",
   "execution_count": 4,
   "metadata": {},
   "outputs": [],
   "source": [
    "np.random.shuffle(FEMALE_list)\n",
    "np.random.shuffle(MALE_list)\n"
   ]
  },
  {
   "cell_type": "code",
   "execution_count": 5,
   "metadata": {},
   "outputs": [
    {
     "name": "stdout",
     "output_type": "stream",
     "text": [
      "size train set: 25\n",
      "size val set: 8\n",
      "size test set FEMALE: 6\n",
      "size test set MALE: 6\n"
     ]
    }
   ],
   "source": [
    "development_subjects = FEMALE_list[6:]\n",
    "np.random.shuffle(development_subjects)\n",
    "\n",
    "train_subjects = development_subjects[:25]\n",
    "val_subjects = development_subjects[25:]\n",
    "\n",
    "test_subjects_FEMALE = FEMALE_list[:6]\n",
    "test_subjects_MALE = MALE_list[:6]\n",
    "\n",
    "print('size train set: {}'.format(len(train_subjects)))\n",
    "print('size val set: {}'.format(len(val_subjects)))\n",
    "\n",
    "print('size test set FEMALE: {}'.format(len(test_subjects_FEMALE)))\n",
    "print('size test set MALE: {}'.format(len(test_subjects_MALE)))\n",
    "\n"
   ]
  },
  {
   "cell_type": "code",
   "execution_count": 6,
   "metadata": {
    "scrolled": true
   },
   "outputs": [
    {
     "name": "stdout",
     "output_type": "stream",
     "text": [
      "train_subjects: [28 21 32 61 37 46 94 55 85 40 25 24 91 22 15 23 60 20 76 45 82 27 65 73\n",
      " 97]\n",
      "val_subjects: [84 95 38 93  7 51 62  5]\n",
      "test_subjects_FEMALE: [13 79 14 57 71 74]\n",
      "test_subjects_MALE: [78 68 72 31 83 56]\n"
     ]
    }
   ],
   "source": [
    "print('train_subjects: {}'.format(train_subjects))\n",
    "print('val_subjects: {}'.format(val_subjects))\n",
    "\n",
    "print('test_subjects_FEMALE: {}'.format(test_subjects_FEMALE))\n",
    "print('test_subjects_MALE: {}'.format(test_subjects_MALE))\n"
   ]
  },
  {
   "cell_type": "code",
   "execution_count": null,
   "metadata": {},
   "outputs": [],
   "source": []
  },
  {
   "cell_type": "markdown",
   "metadata": {},
   "source": [
    "### random seed2"
   ]
  },
  {
   "cell_type": "code",
   "execution_count": 7,
   "metadata": {},
   "outputs": [],
   "source": [
    "np.random.seed(2)\n"
   ]
  },
  {
   "cell_type": "code",
   "execution_count": 8,
   "metadata": {},
   "outputs": [],
   "source": [
    "np.random.shuffle(FEMALE_list)\n",
    "np.random.shuffle(MALE_list)\n"
   ]
  },
  {
   "cell_type": "code",
   "execution_count": 9,
   "metadata": {},
   "outputs": [
    {
     "name": "stdout",
     "output_type": "stream",
     "text": [
      "size train set: 25\n",
      "size val set: 8\n",
      "size test set FEMALE: 6\n",
      "size test set MALE: 6\n"
     ]
    }
   ],
   "source": [
    "development_subjects = FEMALE_list[6:]\n",
    "np.random.shuffle(development_subjects)\n",
    "\n",
    "train_subjects = development_subjects[:25]\n",
    "val_subjects = development_subjects[25:]\n",
    "\n",
    "test_subjects_FEMALE = FEMALE_list[:6]\n",
    "test_subjects_MALE = MALE_list[:6]\n",
    "\n",
    "print('size train set: {}'.format(len(train_subjects)))\n",
    "print('size val set: {}'.format(len(val_subjects)))\n",
    "\n",
    "print('size test set FEMALE: {}'.format(len(test_subjects_FEMALE)))\n",
    "print('size test set MALE: {}'.format(len(test_subjects_MALE)))\n",
    "\n"
   ]
  },
  {
   "cell_type": "code",
   "execution_count": 10,
   "metadata": {
    "scrolled": true
   },
   "outputs": [
    {
     "name": "stdout",
     "output_type": "stream",
     "text": [
      "train_subjects: [93 60 91 32 94 97 71 28  5 37 15 82 74 95 57 23 62  7 46 27 20 45 79 24\n",
      " 21]\n",
      "val_subjects: [65 76 25 38 84 55 51 40]\n",
      "test_subjects_FEMALE: [22 61 85 13 14 73]\n",
      "test_subjects_MALE: [78 43 31 72 58 81]\n"
     ]
    }
   ],
   "source": [
    "print('train_subjects: {}'.format(train_subjects))\n",
    "print('val_subjects: {}'.format(val_subjects))\n",
    "\n",
    "print('test_subjects_FEMALE: {}'.format(test_subjects_FEMALE))\n",
    "print('test_subjects_MALE: {}'.format(test_subjects_MALE))\n"
   ]
  },
  {
   "cell_type": "markdown",
   "metadata": {},
   "source": [
    "### random seed3"
   ]
  },
  {
   "cell_type": "code",
   "execution_count": 11,
   "metadata": {},
   "outputs": [],
   "source": [
    "np.random.seed(3)\n"
   ]
  },
  {
   "cell_type": "code",
   "execution_count": 12,
   "metadata": {},
   "outputs": [],
   "source": [
    "np.random.shuffle(FEMALE_list)\n",
    "np.random.shuffle(MALE_list)\n"
   ]
  },
  {
   "cell_type": "code",
   "execution_count": 13,
   "metadata": {},
   "outputs": [
    {
     "name": "stdout",
     "output_type": "stream",
     "text": [
      "size train set: 25\n",
      "size val set: 8\n",
      "size test set FEMALE: 6\n",
      "size test set MALE: 6\n"
     ]
    }
   ],
   "source": [
    "development_subjects = FEMALE_list[6:]\n",
    "np.random.shuffle(development_subjects)\n",
    "\n",
    "train_subjects = development_subjects[:25]\n",
    "val_subjects = development_subjects[25:]\n",
    "\n",
    "test_subjects_FEMALE = FEMALE_list[:6]\n",
    "test_subjects_MALE = MALE_list[:6]\n",
    "\n",
    "print('size train set: {}'.format(len(train_subjects)))\n",
    "print('size val set: {}'.format(len(val_subjects)))\n",
    "\n",
    "print('size test set FEMALE: {}'.format(len(test_subjects_FEMALE)))\n",
    "print('size test set MALE: {}'.format(len(test_subjects_MALE)))\n",
    "\n"
   ]
  },
  {
   "cell_type": "code",
   "execution_count": 14,
   "metadata": {
    "scrolled": true
   },
   "outputs": [
    {
     "name": "stdout",
     "output_type": "stream",
     "text": [
      "train_subjects: [93 73 51  5 94 38 62 76 27 55 60 95 97 85 79 61 20 45 23 57  7 40 91 15\n",
      " 82]\n",
      "val_subjects: [13 32 74 22 84 46 37 71]\n",
      "test_subjects_FEMALE: [25 28 24 14 21 65]\n",
      "test_subjects_MALE: [56 68 29 48 54 58]\n"
     ]
    }
   ],
   "source": [
    "print('train_subjects: {}'.format(train_subjects))\n",
    "print('val_subjects: {}'.format(val_subjects))\n",
    "\n",
    "print('test_subjects_FEMALE: {}'.format(test_subjects_FEMALE))\n",
    "print('test_subjects_MALE: {}'.format(test_subjects_MALE))\n"
   ]
  },
  {
   "cell_type": "code",
   "execution_count": null,
   "metadata": {},
   "outputs": [],
   "source": []
  },
  {
   "cell_type": "markdown",
   "metadata": {},
   "source": [
    "### random seed4"
   ]
  },
  {
   "cell_type": "code",
   "execution_count": 15,
   "metadata": {},
   "outputs": [],
   "source": [
    "np.random.seed(4)\n"
   ]
  },
  {
   "cell_type": "code",
   "execution_count": 16,
   "metadata": {},
   "outputs": [],
   "source": [
    "np.random.shuffle(FEMALE_list)\n",
    "np.random.shuffle(MALE_list)\n"
   ]
  },
  {
   "cell_type": "code",
   "execution_count": 17,
   "metadata": {},
   "outputs": [
    {
     "name": "stdout",
     "output_type": "stream",
     "text": [
      "size train set: 25\n",
      "size val set: 8\n",
      "size test set FEMALE: 6\n",
      "size test set MALE: 6\n"
     ]
    }
   ],
   "source": [
    "development_subjects = FEMALE_list[6:]\n",
    "np.random.shuffle(development_subjects)\n",
    "\n",
    "train_subjects = development_subjects[:25]\n",
    "val_subjects = development_subjects[25:]\n",
    "\n",
    "test_subjects_FEMALE = FEMALE_list[:6]\n",
    "test_subjects_MALE = MALE_list[:6]\n",
    "\n",
    "print('size train set: {}'.format(len(train_subjects)))\n",
    "print('size val set: {}'.format(len(val_subjects)))\n",
    "\n",
    "print('size test set FEMALE: {}'.format(len(test_subjects_FEMALE)))\n",
    "print('size test set MALE: {}'.format(len(test_subjects_MALE)))\n",
    "\n"
   ]
  },
  {
   "cell_type": "code",
   "execution_count": 18,
   "metadata": {
    "scrolled": true
   },
   "outputs": [
    {
     "name": "stdout",
     "output_type": "stream",
     "text": [
      "train_subjects: [91 85 73 93 74 79 95 45  7 37 28 27 97 61 20 23 22 32 84 24 46 25 65 13\n",
      "  5]\n",
      "val_subjects: [55 40 76 15 51 14 82 94]\n",
      "test_subjects_FEMALE: [21 60 38 71 57 62]\n",
      "test_subjects_MALE: [83 68 86 81 75 54]\n"
     ]
    }
   ],
   "source": [
    "print('train_subjects: {}'.format(train_subjects))\n",
    "print('val_subjects: {}'.format(val_subjects))\n",
    "\n",
    "print('test_subjects_FEMALE: {}'.format(test_subjects_FEMALE))\n",
    "print('test_subjects_MALE: {}'.format(test_subjects_MALE))\n"
   ]
  },
  {
   "cell_type": "code",
   "execution_count": null,
   "metadata": {},
   "outputs": [],
   "source": []
  },
  {
   "cell_type": "markdown",
   "metadata": {},
   "source": [
    "### random seed5"
   ]
  },
  {
   "cell_type": "code",
   "execution_count": 19,
   "metadata": {},
   "outputs": [],
   "source": [
    "np.random.seed(5)\n"
   ]
  },
  {
   "cell_type": "code",
   "execution_count": 20,
   "metadata": {},
   "outputs": [],
   "source": [
    "np.random.shuffle(FEMALE_list)\n",
    "np.random.shuffle(MALE_list)\n"
   ]
  },
  {
   "cell_type": "code",
   "execution_count": 21,
   "metadata": {},
   "outputs": [
    {
     "name": "stdout",
     "output_type": "stream",
     "text": [
      "size train set: 25\n",
      "size val set: 8\n",
      "size test set FEMALE: 6\n",
      "size test set MALE: 6\n"
     ]
    }
   ],
   "source": [
    "development_subjects = FEMALE_list[6:]\n",
    "np.random.shuffle(development_subjects)\n",
    "\n",
    "train_subjects = development_subjects[:25]\n",
    "val_subjects = development_subjects[25:]\n",
    "\n",
    "test_subjects_FEMALE = FEMALE_list[:6]\n",
    "test_subjects_MALE = MALE_list[:6]\n",
    "\n",
    "print('size train set: {}'.format(len(train_subjects)))\n",
    "print('size val set: {}'.format(len(val_subjects)))\n",
    "\n",
    "print('size test set FEMALE: {}'.format(len(test_subjects_FEMALE)))\n",
    "print('size test set MALE: {}'.format(len(test_subjects_MALE)))\n",
    "\n"
   ]
  },
  {
   "cell_type": "code",
   "execution_count": 22,
   "metadata": {
    "scrolled": true
   },
   "outputs": [
    {
     "name": "stdout",
     "output_type": "stream",
     "text": [
      "train_subjects: [62 73 15 93 21 27 74 40 14 25 23 20 55 95  7 85 13 97 57 61 94 37 65 84\n",
      " 24]\n",
      "val_subjects: [51 79 38 76  5 60 28 45]\n",
      "test_subjects_FEMALE: [82 46 32 71 22 91]\n",
      "test_subjects_MALE: [83 86 54 92 44 80]\n"
     ]
    }
   ],
   "source": [
    "print('train_subjects: {}'.format(train_subjects))\n",
    "print('val_subjects: {}'.format(val_subjects))\n",
    "\n",
    "print('test_subjects_FEMALE: {}'.format(test_subjects_FEMALE))\n",
    "print('test_subjects_MALE: {}'.format(test_subjects_MALE))\n"
   ]
  },
  {
   "cell_type": "code",
   "execution_count": null,
   "metadata": {},
   "outputs": [],
   "source": []
  },
  {
   "cell_type": "markdown",
   "metadata": {},
   "source": [
    "### random seed6"
   ]
  },
  {
   "cell_type": "code",
   "execution_count": 23,
   "metadata": {},
   "outputs": [],
   "source": [
    "np.random.seed(6)\n"
   ]
  },
  {
   "cell_type": "code",
   "execution_count": 24,
   "metadata": {},
   "outputs": [],
   "source": [
    "np.random.shuffle(FEMALE_list)\n",
    "np.random.shuffle(MALE_list)\n"
   ]
  },
  {
   "cell_type": "code",
   "execution_count": 25,
   "metadata": {},
   "outputs": [
    {
     "name": "stdout",
     "output_type": "stream",
     "text": [
      "size train set: 25\n",
      "size val set: 8\n",
      "size test set FEMALE: 6\n",
      "size test set MALE: 6\n"
     ]
    }
   ],
   "source": [
    "development_subjects = FEMALE_list[6:]\n",
    "np.random.shuffle(development_subjects)\n",
    "\n",
    "train_subjects = development_subjects[:25]\n",
    "val_subjects = development_subjects[25:]\n",
    "\n",
    "test_subjects_FEMALE = FEMALE_list[:6]\n",
    "test_subjects_MALE = MALE_list[:6]\n",
    "\n",
    "print('size train set: {}'.format(len(train_subjects)))\n",
    "print('size val set: {}'.format(len(val_subjects)))\n",
    "\n",
    "print('size test set FEMALE: {}'.format(len(test_subjects_FEMALE)))\n",
    "print('size test set MALE: {}'.format(len(test_subjects_MALE)))\n",
    "\n"
   ]
  },
  {
   "cell_type": "code",
   "execution_count": 26,
   "metadata": {
    "scrolled": true
   },
   "outputs": [
    {
     "name": "stdout",
     "output_type": "stream",
     "text": [
      "train_subjects: [37 32 21 51  7 93 61 25 76 15 85 46 14 45 91 94 22 84 40 62 79 20 65 23\n",
      "  5]\n",
      "val_subjects: [74 57 13 27 95 38 28 97]\n",
      "test_subjects_FEMALE: [55 60 73 71 24 82]\n",
      "test_subjects_MALE: [44 42 31 83 78 64]\n"
     ]
    }
   ],
   "source": [
    "print('train_subjects: {}'.format(train_subjects))\n",
    "print('val_subjects: {}'.format(val_subjects))\n",
    "\n",
    "print('test_subjects_FEMALE: {}'.format(test_subjects_FEMALE))\n",
    "print('test_subjects_MALE: {}'.format(test_subjects_MALE))\n"
   ]
  },
  {
   "cell_type": "code",
   "execution_count": null,
   "metadata": {},
   "outputs": [],
   "source": []
  },
  {
   "cell_type": "markdown",
   "metadata": {},
   "source": [
    "### random seed7"
   ]
  },
  {
   "cell_type": "code",
   "execution_count": 27,
   "metadata": {},
   "outputs": [],
   "source": [
    "np.random.seed(7)\n"
   ]
  },
  {
   "cell_type": "code",
   "execution_count": 28,
   "metadata": {},
   "outputs": [],
   "source": [
    "np.random.shuffle(FEMALE_list)\n",
    "np.random.shuffle(MALE_list)\n"
   ]
  },
  {
   "cell_type": "code",
   "execution_count": 29,
   "metadata": {},
   "outputs": [
    {
     "name": "stdout",
     "output_type": "stream",
     "text": [
      "size train set: 25\n",
      "size val set: 8\n",
      "size test set FEMALE: 6\n",
      "size test set MALE: 6\n"
     ]
    }
   ],
   "source": [
    "development_subjects = FEMALE_list[6:]\n",
    "np.random.shuffle(development_subjects)\n",
    "\n",
    "train_subjects = development_subjects[:25]\n",
    "val_subjects = development_subjects[25:]\n",
    "\n",
    "test_subjects_FEMALE = FEMALE_list[:6]\n",
    "test_subjects_MALE = MALE_list[:6]\n",
    "\n",
    "print('size train set: {}'.format(len(train_subjects)))\n",
    "print('size val set: {}'.format(len(val_subjects)))\n",
    "\n",
    "print('size test set FEMALE: {}'.format(len(test_subjects_FEMALE)))\n",
    "print('size test set MALE: {}'.format(len(test_subjects_MALE)))\n",
    "\n"
   ]
  },
  {
   "cell_type": "code",
   "execution_count": 30,
   "metadata": {
    "scrolled": true
   },
   "outputs": [
    {
     "name": "stdout",
     "output_type": "stream",
     "text": [
      "train_subjects: [79 21 82 40 13 85 95 28 76  7 61 57 97 55 15 74 93 24 32 27 25 37 38 23\n",
      " 45]\n",
      "val_subjects: [84 46 71  5 14 62 65 91]\n",
      "test_subjects_FEMALE: [94 60 22 73 51 20]\n",
      "test_subjects_MALE: [31 36 92  1 86 81]\n"
     ]
    }
   ],
   "source": [
    "print('train_subjects: {}'.format(train_subjects))\n",
    "print('val_subjects: {}'.format(val_subjects))\n",
    "\n",
    "print('test_subjects_FEMALE: {}'.format(test_subjects_FEMALE))\n",
    "print('test_subjects_MALE: {}'.format(test_subjects_MALE))\n"
   ]
  },
  {
   "cell_type": "code",
   "execution_count": null,
   "metadata": {},
   "outputs": [],
   "source": []
  },
  {
   "cell_type": "code",
   "execution_count": null,
   "metadata": {},
   "outputs": [],
   "source": []
  }
 ],
 "metadata": {
  "kernelspec": {
   "display_name": "Python 3",
   "language": "python",
   "name": "python3"
  },
  "language_info": {
   "codemirror_mode": {
    "name": "ipython",
    "version": 3
   },
   "file_extension": ".py",
   "mimetype": "text/x-python",
   "name": "python",
   "nbconvert_exporter": "python",
   "pygments_lexer": "ipython3",
   "version": "3.8.8"
  }
 },
 "nbformat": 4,
 "nbformat_minor": 4
}
