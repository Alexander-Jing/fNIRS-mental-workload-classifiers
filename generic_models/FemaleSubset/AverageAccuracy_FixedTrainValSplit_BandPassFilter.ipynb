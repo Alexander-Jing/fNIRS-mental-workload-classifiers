{
 "cells": [
  {
   "cell_type": "code",
   "execution_count": 1,
   "metadata": {},
   "outputs": [],
   "source": [
    "import numpy as np\n",
    "import pandas as pd\n",
    "import os\n",
    "import sys"
   ]
  },
  {
   "cell_type": "code",
   "execution_count": null,
   "metadata": {},
   "outputs": [],
   "source": []
  },
  {
   "cell_type": "code",
   "execution_count": 2,
   "metadata": {},
   "outputs": [
    {
     "name": "stdout",
     "output_type": "stream",
     "text": [
      "FEMALE_list size: 39\n",
      "MALE_list size: 26\n"
     ]
    }
   ],
   "source": [
    "FEMALE_list = np.array([5, 7, 13, 14, 15, 20, 21, 22, 23, 24, 25, 27, 28, 32, 37, 38, 40, 45, 46, 51, 55, 57, 60, 61, 62, 65, 71, 73, 74, 76, 79, 82, 84, 85, 91, 93, 94, 95, 97])\n",
    "MALE_list = np.array([1, 29, 31, 34, 36, 42, 43, 44, 48, 49, 52, 54, 56, 58, 63, 64, 68, 70, 72, 75, 78, 80, 81, 83, 86, 92])\n",
    "\n",
    "\n",
    "print('FEMALE_list size: {}'.format(len(FEMALE_list)))\n",
    "print('MALE_list size: {}'.format(len(MALE_list)))\n"
   ]
  },
  {
   "cell_type": "markdown",
   "metadata": {},
   "source": [
    "### RandomForest"
   ]
  },
  {
   "cell_type": "markdown",
   "metadata": {},
   "source": [
    "### seed1"
   ]
  },
  {
   "cell_type": "code",
   "execution_count": 3,
   "metadata": {},
   "outputs": [],
   "source": [
    "root_path = '/cluster/tufts/hugheslab/zhuang12/HCI/NuripsDataSet2021/experiments/FixedTrainValSplit_generic_models/FemaleSubset/RandomForest/binary/'\n"
   ]
  },
  {
   "cell_type": "code",
   "execution_count": 4,
   "metadata": {},
   "outputs": [],
   "source": [
    "scenario_21vs6_summary_path = '21vs6/seed1_summary'\n",
    "\n"
   ]
  },
  {
   "cell_type": "code",
   "execution_count": 5,
   "metadata": {},
   "outputs": [],
   "source": [
    "scenario_21vs4_df = pd.read_csv(os.path.join(root_path, scenario_21vs6_summary_path, 'AllSubjects_summary.csv'))\n"
   ]
  },
  {
   "cell_type": "code",
   "execution_count": 6,
   "metadata": {},
   "outputs": [],
   "source": [
    "scenario_21vs4_FEMALE_df = scenario_21vs4_df.loc[scenario_21vs4_df['subject_id'].isin(FEMALE_list)]\n",
    "scenario_21vs4_MALE_df = scenario_21vs4_df.loc[scenario_21vs4_df['subject_id'].isin(MALE_list)]\n"
   ]
  },
  {
   "cell_type": "code",
   "execution_count": 7,
   "metadata": {
    "scrolled": false
   },
   "outputs": [
    {
     "data": {
      "text/html": [
       "<div>\n",
       "<style scoped>\n",
       "    .dataframe tbody tr th:only-of-type {\n",
       "        vertical-align: middle;\n",
       "    }\n",
       "\n",
       "    .dataframe tbody tr th {\n",
       "        vertical-align: top;\n",
       "    }\n",
       "\n",
       "    .dataframe thead th {\n",
       "        text-align: right;\n",
       "    }\n",
       "</style>\n",
       "<table border=\"1\" class=\"dataframe\">\n",
       "  <thead>\n",
       "    <tr style=\"text-align: right;\">\n",
       "      <th></th>\n",
       "      <th>subject_id</th>\n",
       "      <th>max_validation_accuracy</th>\n",
       "      <th>corresponding_test_accuracy</th>\n",
       "      <th>performance_string</th>\n",
       "      <th>experiment_folder</th>\n",
       "    </tr>\n",
       "  </thead>\n",
       "  <tbody>\n",
       "    <tr>\n",
       "      <th>3</th>\n",
       "      <td>14</td>\n",
       "      <td>68.481</td>\n",
       "      <td>74.193548</td>\n",
       "      <td>highest validation accuracy: 68.48118279569893...</td>\n",
       "      <td>/cluster/tufts/hugheslab/zhuang12/HCI/NuripsDa...</td>\n",
       "    </tr>\n",
       "    <tr>\n",
       "      <th>6</th>\n",
       "      <td>74</td>\n",
       "      <td>68.481</td>\n",
       "      <td>61.827957</td>\n",
       "      <td>highest validation accuracy: 68.48118279569893...</td>\n",
       "      <td>/cluster/tufts/hugheslab/zhuang12/HCI/NuripsDa...</td>\n",
       "    </tr>\n",
       "    <tr>\n",
       "      <th>8</th>\n",
       "      <td>13</td>\n",
       "      <td>68.481</td>\n",
       "      <td>58.333333</td>\n",
       "      <td>highest validation accuracy: 68.48118279569893...</td>\n",
       "      <td>/cluster/tufts/hugheslab/zhuang12/HCI/NuripsDa...</td>\n",
       "    </tr>\n",
       "    <tr>\n",
       "      <th>9</th>\n",
       "      <td>57</td>\n",
       "      <td>68.481</td>\n",
       "      <td>70.698925</td>\n",
       "      <td>highest validation accuracy: 68.48118279569893...</td>\n",
       "      <td>/cluster/tufts/hugheslab/zhuang12/HCI/NuripsDa...</td>\n",
       "    </tr>\n",
       "    <tr>\n",
       "      <th>10</th>\n",
       "      <td>71</td>\n",
       "      <td>68.481</td>\n",
       "      <td>63.709677</td>\n",
       "      <td>highest validation accuracy: 68.48118279569893...</td>\n",
       "      <td>/cluster/tufts/hugheslab/zhuang12/HCI/NuripsDa...</td>\n",
       "    </tr>\n",
       "    <tr>\n",
       "      <th>11</th>\n",
       "      <td>79</td>\n",
       "      <td>68.481</td>\n",
       "      <td>51.344086</td>\n",
       "      <td>highest validation accuracy: 68.48118279569893...</td>\n",
       "      <td>/cluster/tufts/hugheslab/zhuang12/HCI/NuripsDa...</td>\n",
       "    </tr>\n",
       "  </tbody>\n",
       "</table>\n",
       "</div>"
      ],
      "text/plain": [
       "    subject_id  max_validation_accuracy  corresponding_test_accuracy  \\\n",
       "3           14                   68.481                    74.193548   \n",
       "6           74                   68.481                    61.827957   \n",
       "8           13                   68.481                    58.333333   \n",
       "9           57                   68.481                    70.698925   \n",
       "10          71                   68.481                    63.709677   \n",
       "11          79                   68.481                    51.344086   \n",
       "\n",
       "                                   performance_string  \\\n",
       "3   highest validation accuracy: 68.48118279569893...   \n",
       "6   highest validation accuracy: 68.48118279569893...   \n",
       "8   highest validation accuracy: 68.48118279569893...   \n",
       "9   highest validation accuracy: 68.48118279569893...   \n",
       "10  highest validation accuracy: 68.48118279569893...   \n",
       "11  highest validation accuracy: 68.48118279569893...   \n",
       "\n",
       "                                    experiment_folder  \n",
       "3   /cluster/tufts/hugheslab/zhuang12/HCI/NuripsDa...  \n",
       "6   /cluster/tufts/hugheslab/zhuang12/HCI/NuripsDa...  \n",
       "8   /cluster/tufts/hugheslab/zhuang12/HCI/NuripsDa...  \n",
       "9   /cluster/tufts/hugheslab/zhuang12/HCI/NuripsDa...  \n",
       "10  /cluster/tufts/hugheslab/zhuang12/HCI/NuripsDa...  \n",
       "11  /cluster/tufts/hugheslab/zhuang12/HCI/NuripsDa...  "
      ]
     },
     "execution_count": 7,
     "metadata": {},
     "output_type": "execute_result"
    }
   ],
   "source": [
    "scenario_21vs4_FEMALE_df"
   ]
  },
  {
   "cell_type": "code",
   "execution_count": 8,
   "metadata": {},
   "outputs": [
    {
     "data": {
      "text/html": [
       "<div>\n",
       "<style scoped>\n",
       "    .dataframe tbody tr th:only-of-type {\n",
       "        vertical-align: middle;\n",
       "    }\n",
       "\n",
       "    .dataframe tbody tr th {\n",
       "        vertical-align: top;\n",
       "    }\n",
       "\n",
       "    .dataframe thead th {\n",
       "        text-align: right;\n",
       "    }\n",
       "</style>\n",
       "<table border=\"1\" class=\"dataframe\">\n",
       "  <thead>\n",
       "    <tr style=\"text-align: right;\">\n",
       "      <th></th>\n",
       "      <th>subject_id</th>\n",
       "      <th>max_validation_accuracy</th>\n",
       "      <th>corresponding_test_accuracy</th>\n",
       "      <th>performance_string</th>\n",
       "      <th>experiment_folder</th>\n",
       "    </tr>\n",
       "  </thead>\n",
       "  <tbody>\n",
       "    <tr>\n",
       "      <th>0</th>\n",
       "      <td>83</td>\n",
       "      <td>68.481</td>\n",
       "      <td>84.946237</td>\n",
       "      <td>highest validation accuracy: 68.48118279569893...</td>\n",
       "      <td>/cluster/tufts/hugheslab/zhuang12/HCI/NuripsDa...</td>\n",
       "    </tr>\n",
       "    <tr>\n",
       "      <th>1</th>\n",
       "      <td>56</td>\n",
       "      <td>68.481</td>\n",
       "      <td>100.000000</td>\n",
       "      <td>highest validation accuracy: 68.48118279569893...</td>\n",
       "      <td>/cluster/tufts/hugheslab/zhuang12/HCI/NuripsDa...</td>\n",
       "    </tr>\n",
       "    <tr>\n",
       "      <th>2</th>\n",
       "      <td>78</td>\n",
       "      <td>68.481</td>\n",
       "      <td>82.258065</td>\n",
       "      <td>highest validation accuracy: 68.48118279569893...</td>\n",
       "      <td>/cluster/tufts/hugheslab/zhuang12/HCI/NuripsDa...</td>\n",
       "    </tr>\n",
       "    <tr>\n",
       "      <th>4</th>\n",
       "      <td>68</td>\n",
       "      <td>68.481</td>\n",
       "      <td>56.989247</td>\n",
       "      <td>highest validation accuracy: 68.48118279569893...</td>\n",
       "      <td>/cluster/tufts/hugheslab/zhuang12/HCI/NuripsDa...</td>\n",
       "    </tr>\n",
       "    <tr>\n",
       "      <th>5</th>\n",
       "      <td>31</td>\n",
       "      <td>68.481</td>\n",
       "      <td>54.032258</td>\n",
       "      <td>highest validation accuracy: 68.48118279569893...</td>\n",
       "      <td>/cluster/tufts/hugheslab/zhuang12/HCI/NuripsDa...</td>\n",
       "    </tr>\n",
       "    <tr>\n",
       "      <th>7</th>\n",
       "      <td>72</td>\n",
       "      <td>68.481</td>\n",
       "      <td>46.236559</td>\n",
       "      <td>highest validation accuracy: 68.48118279569893...</td>\n",
       "      <td>/cluster/tufts/hugheslab/zhuang12/HCI/NuripsDa...</td>\n",
       "    </tr>\n",
       "  </tbody>\n",
       "</table>\n",
       "</div>"
      ],
      "text/plain": [
       "   subject_id  max_validation_accuracy  corresponding_test_accuracy  \\\n",
       "0          83                   68.481                    84.946237   \n",
       "1          56                   68.481                   100.000000   \n",
       "2          78                   68.481                    82.258065   \n",
       "4          68                   68.481                    56.989247   \n",
       "5          31                   68.481                    54.032258   \n",
       "7          72                   68.481                    46.236559   \n",
       "\n",
       "                                  performance_string  \\\n",
       "0  highest validation accuracy: 68.48118279569893...   \n",
       "1  highest validation accuracy: 68.48118279569893...   \n",
       "2  highest validation accuracy: 68.48118279569893...   \n",
       "4  highest validation accuracy: 68.48118279569893...   \n",
       "5  highest validation accuracy: 68.48118279569893...   \n",
       "7  highest validation accuracy: 68.48118279569893...   \n",
       "\n",
       "                                   experiment_folder  \n",
       "0  /cluster/tufts/hugheslab/zhuang12/HCI/NuripsDa...  \n",
       "1  /cluster/tufts/hugheslab/zhuang12/HCI/NuripsDa...  \n",
       "2  /cluster/tufts/hugheslab/zhuang12/HCI/NuripsDa...  \n",
       "4  /cluster/tufts/hugheslab/zhuang12/HCI/NuripsDa...  \n",
       "5  /cluster/tufts/hugheslab/zhuang12/HCI/NuripsDa...  \n",
       "7  /cluster/tufts/hugheslab/zhuang12/HCI/NuripsDa...  "
      ]
     },
     "execution_count": 8,
     "metadata": {},
     "output_type": "execute_result"
    }
   ],
   "source": [
    "scenario_21vs4_MALE_df"
   ]
  },
  {
   "cell_type": "code",
   "execution_count": null,
   "metadata": {},
   "outputs": [],
   "source": []
  },
  {
   "cell_type": "code",
   "execution_count": 9,
   "metadata": {
    "scrolled": false
   },
   "outputs": [
    {
     "name": "stdout",
     "output_type": "stream",
     "text": [
      "RF, Binary, Average Accuracy:\n",
      "FEMALE: 63.35125448028674\n",
      "MALE: 70.74372759856631\n"
     ]
    }
   ],
   "source": [
    "print('RF, Binary, Average Accuracy:')\n",
    "print('FEMALE: {}'.format(np.mean(scenario_21vs4_FEMALE_df.corresponding_test_accuracy.values)))\n",
    "print('MALE: {}'.format(np.mean(scenario_21vs4_MALE_df.corresponding_test_accuracy.values)))\n"
   ]
  },
  {
   "cell_type": "code",
   "execution_count": null,
   "metadata": {},
   "outputs": [],
   "source": []
  },
  {
   "cell_type": "markdown",
   "metadata": {},
   "source": [
    "### seed2"
   ]
  },
  {
   "cell_type": "code",
   "execution_count": 10,
   "metadata": {},
   "outputs": [],
   "source": [
    "root_path = '/cluster/tufts/hugheslab/zhuang12/HCI/NuripsDataSet2021/experiments/FixedTrainValSplit_generic_models/FemaleSubset/RandomForest/binary/'\n"
   ]
  },
  {
   "cell_type": "code",
   "execution_count": 11,
   "metadata": {},
   "outputs": [],
   "source": [
    "scenario_21vs6_summary_path = '21vs6/seed2_summary'\n",
    "\n"
   ]
  },
  {
   "cell_type": "code",
   "execution_count": 12,
   "metadata": {},
   "outputs": [],
   "source": [
    "scenario_21vs4_df = pd.read_csv(os.path.join(root_path, scenario_21vs6_summary_path, 'AllSubjects_summary.csv'))\n"
   ]
  },
  {
   "cell_type": "code",
   "execution_count": 13,
   "metadata": {},
   "outputs": [],
   "source": [
    "scenario_21vs4_FEMALE_df = scenario_21vs4_df.loc[scenario_21vs4_df['subject_id'].isin(FEMALE_list)]\n",
    "scenario_21vs4_MALE_df = scenario_21vs4_df.loc[scenario_21vs4_df['subject_id'].isin(MALE_list)]\n"
   ]
  },
  {
   "cell_type": "code",
   "execution_count": 14,
   "metadata": {
    "scrolled": true
   },
   "outputs": [
    {
     "data": {
      "text/html": [
       "<div>\n",
       "<style scoped>\n",
       "    .dataframe tbody tr th:only-of-type {\n",
       "        vertical-align: middle;\n",
       "    }\n",
       "\n",
       "    .dataframe tbody tr th {\n",
       "        vertical-align: top;\n",
       "    }\n",
       "\n",
       "    .dataframe thead th {\n",
       "        text-align: right;\n",
       "    }\n",
       "</style>\n",
       "<table border=\"1\" class=\"dataframe\">\n",
       "  <thead>\n",
       "    <tr style=\"text-align: right;\">\n",
       "      <th></th>\n",
       "      <th>subject_id</th>\n",
       "      <th>max_validation_accuracy</th>\n",
       "      <th>corresponding_test_accuracy</th>\n",
       "      <th>performance_string</th>\n",
       "      <th>experiment_folder</th>\n",
       "    </tr>\n",
       "  </thead>\n",
       "  <tbody>\n",
       "    <tr>\n",
       "      <th>0</th>\n",
       "      <td>85</td>\n",
       "      <td>71.925</td>\n",
       "      <td>85.215054</td>\n",
       "      <td>highest validation accuracy: 71.92540322580645...</td>\n",
       "      <td>/cluster/tufts/hugheslab/zhuang12/HCI/NuripsDa...</td>\n",
       "    </tr>\n",
       "    <tr>\n",
       "      <th>2</th>\n",
       "      <td>73</td>\n",
       "      <td>71.925</td>\n",
       "      <td>76.075269</td>\n",
       "      <td>highest validation accuracy: 71.92540322580645...</td>\n",
       "      <td>/cluster/tufts/hugheslab/zhuang12/HCI/NuripsDa...</td>\n",
       "    </tr>\n",
       "    <tr>\n",
       "      <th>4</th>\n",
       "      <td>14</td>\n",
       "      <td>71.925</td>\n",
       "      <td>75.268817</td>\n",
       "      <td>highest validation accuracy: 71.92540322580645...</td>\n",
       "      <td>/cluster/tufts/hugheslab/zhuang12/HCI/NuripsDa...</td>\n",
       "    </tr>\n",
       "    <tr>\n",
       "      <th>8</th>\n",
       "      <td>13</td>\n",
       "      <td>71.925</td>\n",
       "      <td>51.612903</td>\n",
       "      <td>highest validation accuracy: 71.92540322580645...</td>\n",
       "      <td>/cluster/tufts/hugheslab/zhuang12/HCI/NuripsDa...</td>\n",
       "    </tr>\n",
       "    <tr>\n",
       "      <th>10</th>\n",
       "      <td>22</td>\n",
       "      <td>71.925</td>\n",
       "      <td>66.129032</td>\n",
       "      <td>highest validation accuracy: 71.92540322580645...</td>\n",
       "      <td>/cluster/tufts/hugheslab/zhuang12/HCI/NuripsDa...</td>\n",
       "    </tr>\n",
       "    <tr>\n",
       "      <th>11</th>\n",
       "      <td>61</td>\n",
       "      <td>71.925</td>\n",
       "      <td>71.505376</td>\n",
       "      <td>highest validation accuracy: 71.92540322580645...</td>\n",
       "      <td>/cluster/tufts/hugheslab/zhuang12/HCI/NuripsDa...</td>\n",
       "    </tr>\n",
       "  </tbody>\n",
       "</table>\n",
       "</div>"
      ],
      "text/plain": [
       "    subject_id  max_validation_accuracy  corresponding_test_accuracy  \\\n",
       "0           85                   71.925                    85.215054   \n",
       "2           73                   71.925                    76.075269   \n",
       "4           14                   71.925                    75.268817   \n",
       "8           13                   71.925                    51.612903   \n",
       "10          22                   71.925                    66.129032   \n",
       "11          61                   71.925                    71.505376   \n",
       "\n",
       "                                   performance_string  \\\n",
       "0   highest validation accuracy: 71.92540322580645...   \n",
       "2   highest validation accuracy: 71.92540322580645...   \n",
       "4   highest validation accuracy: 71.92540322580645...   \n",
       "8   highest validation accuracy: 71.92540322580645...   \n",
       "10  highest validation accuracy: 71.92540322580645...   \n",
       "11  highest validation accuracy: 71.92540322580645...   \n",
       "\n",
       "                                    experiment_folder  \n",
       "0   /cluster/tufts/hugheslab/zhuang12/HCI/NuripsDa...  \n",
       "2   /cluster/tufts/hugheslab/zhuang12/HCI/NuripsDa...  \n",
       "4   /cluster/tufts/hugheslab/zhuang12/HCI/NuripsDa...  \n",
       "8   /cluster/tufts/hugheslab/zhuang12/HCI/NuripsDa...  \n",
       "10  /cluster/tufts/hugheslab/zhuang12/HCI/NuripsDa...  \n",
       "11  /cluster/tufts/hugheslab/zhuang12/HCI/NuripsDa...  "
      ]
     },
     "execution_count": 14,
     "metadata": {},
     "output_type": "execute_result"
    }
   ],
   "source": [
    "scenario_21vs4_FEMALE_df"
   ]
  },
  {
   "cell_type": "code",
   "execution_count": 15,
   "metadata": {},
   "outputs": [
    {
     "data": {
      "text/html": [
       "<div>\n",
       "<style scoped>\n",
       "    .dataframe tbody tr th:only-of-type {\n",
       "        vertical-align: middle;\n",
       "    }\n",
       "\n",
       "    .dataframe tbody tr th {\n",
       "        vertical-align: top;\n",
       "    }\n",
       "\n",
       "    .dataframe thead th {\n",
       "        text-align: right;\n",
       "    }\n",
       "</style>\n",
       "<table border=\"1\" class=\"dataframe\">\n",
       "  <thead>\n",
       "    <tr style=\"text-align: right;\">\n",
       "      <th></th>\n",
       "      <th>subject_id</th>\n",
       "      <th>max_validation_accuracy</th>\n",
       "      <th>corresponding_test_accuracy</th>\n",
       "      <th>performance_string</th>\n",
       "      <th>experiment_folder</th>\n",
       "    </tr>\n",
       "  </thead>\n",
       "  <tbody>\n",
       "    <tr>\n",
       "      <th>1</th>\n",
       "      <td>78</td>\n",
       "      <td>71.925</td>\n",
       "      <td>77.688172</td>\n",
       "      <td>highest validation accuracy: 71.92540322580645...</td>\n",
       "      <td>/cluster/tufts/hugheslab/zhuang12/HCI/NuripsDa...</td>\n",
       "    </tr>\n",
       "    <tr>\n",
       "      <th>3</th>\n",
       "      <td>43</td>\n",
       "      <td>71.925</td>\n",
       "      <td>93.279570</td>\n",
       "      <td>highest validation accuracy: 71.92540322580645...</td>\n",
       "      <td>/cluster/tufts/hugheslab/zhuang12/HCI/NuripsDa...</td>\n",
       "    </tr>\n",
       "    <tr>\n",
       "      <th>5</th>\n",
       "      <td>31</td>\n",
       "      <td>71.925</td>\n",
       "      <td>53.763441</td>\n",
       "      <td>highest validation accuracy: 71.92540322580645...</td>\n",
       "      <td>/cluster/tufts/hugheslab/zhuang12/HCI/NuripsDa...</td>\n",
       "    </tr>\n",
       "    <tr>\n",
       "      <th>6</th>\n",
       "      <td>58</td>\n",
       "      <td>71.925</td>\n",
       "      <td>58.602151</td>\n",
       "      <td>highest validation accuracy: 71.92540322580645...</td>\n",
       "      <td>/cluster/tufts/hugheslab/zhuang12/HCI/NuripsDa...</td>\n",
       "    </tr>\n",
       "    <tr>\n",
       "      <th>7</th>\n",
       "      <td>72</td>\n",
       "      <td>71.925</td>\n",
       "      <td>61.021505</td>\n",
       "      <td>highest validation accuracy: 71.92540322580645...</td>\n",
       "      <td>/cluster/tufts/hugheslab/zhuang12/HCI/NuripsDa...</td>\n",
       "    </tr>\n",
       "    <tr>\n",
       "      <th>9</th>\n",
       "      <td>81</td>\n",
       "      <td>71.925</td>\n",
       "      <td>83.870968</td>\n",
       "      <td>highest validation accuracy: 71.92540322580645...</td>\n",
       "      <td>/cluster/tufts/hugheslab/zhuang12/HCI/NuripsDa...</td>\n",
       "    </tr>\n",
       "  </tbody>\n",
       "</table>\n",
       "</div>"
      ],
      "text/plain": [
       "   subject_id  max_validation_accuracy  corresponding_test_accuracy  \\\n",
       "1          78                   71.925                    77.688172   \n",
       "3          43                   71.925                    93.279570   \n",
       "5          31                   71.925                    53.763441   \n",
       "6          58                   71.925                    58.602151   \n",
       "7          72                   71.925                    61.021505   \n",
       "9          81                   71.925                    83.870968   \n",
       "\n",
       "                                  performance_string  \\\n",
       "1  highest validation accuracy: 71.92540322580645...   \n",
       "3  highest validation accuracy: 71.92540322580645...   \n",
       "5  highest validation accuracy: 71.92540322580645...   \n",
       "6  highest validation accuracy: 71.92540322580645...   \n",
       "7  highest validation accuracy: 71.92540322580645...   \n",
       "9  highest validation accuracy: 71.92540322580645...   \n",
       "\n",
       "                                   experiment_folder  \n",
       "1  /cluster/tufts/hugheslab/zhuang12/HCI/NuripsDa...  \n",
       "3  /cluster/tufts/hugheslab/zhuang12/HCI/NuripsDa...  \n",
       "5  /cluster/tufts/hugheslab/zhuang12/HCI/NuripsDa...  \n",
       "6  /cluster/tufts/hugheslab/zhuang12/HCI/NuripsDa...  \n",
       "7  /cluster/tufts/hugheslab/zhuang12/HCI/NuripsDa...  \n",
       "9  /cluster/tufts/hugheslab/zhuang12/HCI/NuripsDa...  "
      ]
     },
     "execution_count": 15,
     "metadata": {},
     "output_type": "execute_result"
    }
   ],
   "source": [
    "scenario_21vs4_MALE_df"
   ]
  },
  {
   "cell_type": "code",
   "execution_count": null,
   "metadata": {},
   "outputs": [],
   "source": []
  },
  {
   "cell_type": "code",
   "execution_count": 16,
   "metadata": {
    "scrolled": false
   },
   "outputs": [
    {
     "name": "stdout",
     "output_type": "stream",
     "text": [
      "RF, Binary, Average Accuracy:\n",
      "FEMALE: 70.96774193548386\n",
      "MALE: 71.37096774193547\n"
     ]
    }
   ],
   "source": [
    "print('RF, Binary, Average Accuracy:')\n",
    "print('FEMALE: {}'.format(np.mean(scenario_21vs4_FEMALE_df.corresponding_test_accuracy.values)))\n",
    "print('MALE: {}'.format(np.mean(scenario_21vs4_MALE_df.corresponding_test_accuracy.values)))\n"
   ]
  },
  {
   "cell_type": "code",
   "execution_count": null,
   "metadata": {},
   "outputs": [],
   "source": []
  },
  {
   "cell_type": "markdown",
   "metadata": {},
   "source": [
    "### seed3"
   ]
  },
  {
   "cell_type": "code",
   "execution_count": 17,
   "metadata": {},
   "outputs": [],
   "source": [
    "root_path = '/cluster/tufts/hugheslab/zhuang12/HCI/NuripsDataSet2021/experiments/FixedTrainValSplit_generic_models/FemaleSubset/RandomForest/binary/'\n"
   ]
  },
  {
   "cell_type": "code",
   "execution_count": 20,
   "metadata": {},
   "outputs": [],
   "source": [
    "scenario_21vs6_summary_path = '21vs6/seed3_summary'\n",
    "\n"
   ]
  },
  {
   "cell_type": "code",
   "execution_count": 21,
   "metadata": {},
   "outputs": [],
   "source": [
    "scenario_21vs4_df = pd.read_csv(os.path.join(root_path, scenario_21vs6_summary_path, 'AllSubjects_summary.csv'))\n"
   ]
  },
  {
   "cell_type": "code",
   "execution_count": 22,
   "metadata": {},
   "outputs": [],
   "source": [
    "scenario_21vs4_FEMALE_df = scenario_21vs4_df.loc[scenario_21vs4_df['subject_id'].isin(FEMALE_list)]\n",
    "scenario_21vs4_MALE_df = scenario_21vs4_df.loc[scenario_21vs4_df['subject_id'].isin(MALE_list)]\n"
   ]
  },
  {
   "cell_type": "code",
   "execution_count": 23,
   "metadata": {
    "scrolled": true
   },
   "outputs": [
    {
     "data": {
      "text/html": [
       "<div>\n",
       "<style scoped>\n",
       "    .dataframe tbody tr th:only-of-type {\n",
       "        vertical-align: middle;\n",
       "    }\n",
       "\n",
       "    .dataframe tbody tr th {\n",
       "        vertical-align: top;\n",
       "    }\n",
       "\n",
       "    .dataframe thead th {\n",
       "        text-align: right;\n",
       "    }\n",
       "</style>\n",
       "<table border=\"1\" class=\"dataframe\">\n",
       "  <thead>\n",
       "    <tr style=\"text-align: right;\">\n",
       "      <th></th>\n",
       "      <th>subject_id</th>\n",
       "      <th>max_validation_accuracy</th>\n",
       "      <th>corresponding_test_accuracy</th>\n",
       "      <th>performance_string</th>\n",
       "      <th>experiment_folder</th>\n",
       "    </tr>\n",
       "  </thead>\n",
       "  <tbody>\n",
       "    <tr>\n",
       "      <th>1</th>\n",
       "      <td>21</td>\n",
       "      <td>69.506</td>\n",
       "      <td>62.903226</td>\n",
       "      <td>highest validation accuracy: 69.50604838709677...</td>\n",
       "      <td>/cluster/tufts/hugheslab/zhuang12/HCI/NuripsDa...</td>\n",
       "    </tr>\n",
       "    <tr>\n",
       "      <th>2</th>\n",
       "      <td>24</td>\n",
       "      <td>69.506</td>\n",
       "      <td>86.290323</td>\n",
       "      <td>highest validation accuracy: 69.50604838709677...</td>\n",
       "      <td>/cluster/tufts/hugheslab/zhuang12/HCI/NuripsDa...</td>\n",
       "    </tr>\n",
       "    <tr>\n",
       "      <th>3</th>\n",
       "      <td>14</td>\n",
       "      <td>69.506</td>\n",
       "      <td>79.838710</td>\n",
       "      <td>highest validation accuracy: 69.50604838709677...</td>\n",
       "      <td>/cluster/tufts/hugheslab/zhuang12/HCI/NuripsDa...</td>\n",
       "    </tr>\n",
       "    <tr>\n",
       "      <th>4</th>\n",
       "      <td>65</td>\n",
       "      <td>69.506</td>\n",
       "      <td>53.225806</td>\n",
       "      <td>highest validation accuracy: 69.50604838709677...</td>\n",
       "      <td>/cluster/tufts/hugheslab/zhuang12/HCI/NuripsDa...</td>\n",
       "    </tr>\n",
       "    <tr>\n",
       "      <th>10</th>\n",
       "      <td>25</td>\n",
       "      <td>69.506</td>\n",
       "      <td>58.870968</td>\n",
       "      <td>highest validation accuracy: 69.50604838709677...</td>\n",
       "      <td>/cluster/tufts/hugheslab/zhuang12/HCI/NuripsDa...</td>\n",
       "    </tr>\n",
       "    <tr>\n",
       "      <th>11</th>\n",
       "      <td>28</td>\n",
       "      <td>69.506</td>\n",
       "      <td>75.268817</td>\n",
       "      <td>highest validation accuracy: 69.50604838709677...</td>\n",
       "      <td>/cluster/tufts/hugheslab/zhuang12/HCI/NuripsDa...</td>\n",
       "    </tr>\n",
       "  </tbody>\n",
       "</table>\n",
       "</div>"
      ],
      "text/plain": [
       "    subject_id  max_validation_accuracy  corresponding_test_accuracy  \\\n",
       "1           21                   69.506                    62.903226   \n",
       "2           24                   69.506                    86.290323   \n",
       "3           14                   69.506                    79.838710   \n",
       "4           65                   69.506                    53.225806   \n",
       "10          25                   69.506                    58.870968   \n",
       "11          28                   69.506                    75.268817   \n",
       "\n",
       "                                   performance_string  \\\n",
       "1   highest validation accuracy: 69.50604838709677...   \n",
       "2   highest validation accuracy: 69.50604838709677...   \n",
       "3   highest validation accuracy: 69.50604838709677...   \n",
       "4   highest validation accuracy: 69.50604838709677...   \n",
       "10  highest validation accuracy: 69.50604838709677...   \n",
       "11  highest validation accuracy: 69.50604838709677...   \n",
       "\n",
       "                                    experiment_folder  \n",
       "1   /cluster/tufts/hugheslab/zhuang12/HCI/NuripsDa...  \n",
       "2   /cluster/tufts/hugheslab/zhuang12/HCI/NuripsDa...  \n",
       "3   /cluster/tufts/hugheslab/zhuang12/HCI/NuripsDa...  \n",
       "4   /cluster/tufts/hugheslab/zhuang12/HCI/NuripsDa...  \n",
       "10  /cluster/tufts/hugheslab/zhuang12/HCI/NuripsDa...  \n",
       "11  /cluster/tufts/hugheslab/zhuang12/HCI/NuripsDa...  "
      ]
     },
     "execution_count": 23,
     "metadata": {},
     "output_type": "execute_result"
    }
   ],
   "source": [
    "scenario_21vs4_FEMALE_df"
   ]
  },
  {
   "cell_type": "code",
   "execution_count": 24,
   "metadata": {},
   "outputs": [
    {
     "data": {
      "text/html": [
       "<div>\n",
       "<style scoped>\n",
       "    .dataframe tbody tr th:only-of-type {\n",
       "        vertical-align: middle;\n",
       "    }\n",
       "\n",
       "    .dataframe tbody tr th {\n",
       "        vertical-align: top;\n",
       "    }\n",
       "\n",
       "    .dataframe thead th {\n",
       "        text-align: right;\n",
       "    }\n",
       "</style>\n",
       "<table border=\"1\" class=\"dataframe\">\n",
       "  <thead>\n",
       "    <tr style=\"text-align: right;\">\n",
       "      <th></th>\n",
       "      <th>subject_id</th>\n",
       "      <th>max_validation_accuracy</th>\n",
       "      <th>corresponding_test_accuracy</th>\n",
       "      <th>performance_string</th>\n",
       "      <th>experiment_folder</th>\n",
       "    </tr>\n",
       "  </thead>\n",
       "  <tbody>\n",
       "    <tr>\n",
       "      <th>0</th>\n",
       "      <td>56</td>\n",
       "      <td>69.506</td>\n",
       "      <td>97.043011</td>\n",
       "      <td>highest validation accuracy: 69.50604838709677...</td>\n",
       "      <td>/cluster/tufts/hugheslab/zhuang12/HCI/NuripsDa...</td>\n",
       "    </tr>\n",
       "    <tr>\n",
       "      <th>5</th>\n",
       "      <td>68</td>\n",
       "      <td>69.506</td>\n",
       "      <td>29.301075</td>\n",
       "      <td>highest validation accuracy: 69.50604838709677...</td>\n",
       "      <td>/cluster/tufts/hugheslab/zhuang12/HCI/NuripsDa...</td>\n",
       "    </tr>\n",
       "    <tr>\n",
       "      <th>6</th>\n",
       "      <td>58</td>\n",
       "      <td>69.506</td>\n",
       "      <td>66.397849</td>\n",
       "      <td>highest validation accuracy: 69.50604838709677...</td>\n",
       "      <td>/cluster/tufts/hugheslab/zhuang12/HCI/NuripsDa...</td>\n",
       "    </tr>\n",
       "    <tr>\n",
       "      <th>7</th>\n",
       "      <td>29</td>\n",
       "      <td>69.506</td>\n",
       "      <td>75.268817</td>\n",
       "      <td>highest validation accuracy: 69.50604838709677...</td>\n",
       "      <td>/cluster/tufts/hugheslab/zhuang12/HCI/NuripsDa...</td>\n",
       "    </tr>\n",
       "    <tr>\n",
       "      <th>8</th>\n",
       "      <td>48</td>\n",
       "      <td>69.506</td>\n",
       "      <td>68.010753</td>\n",
       "      <td>highest validation accuracy: 69.50604838709677...</td>\n",
       "      <td>/cluster/tufts/hugheslab/zhuang12/HCI/NuripsDa...</td>\n",
       "    </tr>\n",
       "    <tr>\n",
       "      <th>9</th>\n",
       "      <td>54</td>\n",
       "      <td>69.506</td>\n",
       "      <td>79.569892</td>\n",
       "      <td>highest validation accuracy: 69.50604838709677...</td>\n",
       "      <td>/cluster/tufts/hugheslab/zhuang12/HCI/NuripsDa...</td>\n",
       "    </tr>\n",
       "  </tbody>\n",
       "</table>\n",
       "</div>"
      ],
      "text/plain": [
       "   subject_id  max_validation_accuracy  corresponding_test_accuracy  \\\n",
       "0          56                   69.506                    97.043011   \n",
       "5          68                   69.506                    29.301075   \n",
       "6          58                   69.506                    66.397849   \n",
       "7          29                   69.506                    75.268817   \n",
       "8          48                   69.506                    68.010753   \n",
       "9          54                   69.506                    79.569892   \n",
       "\n",
       "                                  performance_string  \\\n",
       "0  highest validation accuracy: 69.50604838709677...   \n",
       "5  highest validation accuracy: 69.50604838709677...   \n",
       "6  highest validation accuracy: 69.50604838709677...   \n",
       "7  highest validation accuracy: 69.50604838709677...   \n",
       "8  highest validation accuracy: 69.50604838709677...   \n",
       "9  highest validation accuracy: 69.50604838709677...   \n",
       "\n",
       "                                   experiment_folder  \n",
       "0  /cluster/tufts/hugheslab/zhuang12/HCI/NuripsDa...  \n",
       "5  /cluster/tufts/hugheslab/zhuang12/HCI/NuripsDa...  \n",
       "6  /cluster/tufts/hugheslab/zhuang12/HCI/NuripsDa...  \n",
       "7  /cluster/tufts/hugheslab/zhuang12/HCI/NuripsDa...  \n",
       "8  /cluster/tufts/hugheslab/zhuang12/HCI/NuripsDa...  \n",
       "9  /cluster/tufts/hugheslab/zhuang12/HCI/NuripsDa...  "
      ]
     },
     "execution_count": 24,
     "metadata": {},
     "output_type": "execute_result"
    }
   ],
   "source": [
    "scenario_21vs4_MALE_df"
   ]
  },
  {
   "cell_type": "code",
   "execution_count": null,
   "metadata": {},
   "outputs": [],
   "source": []
  },
  {
   "cell_type": "code",
   "execution_count": 25,
   "metadata": {
    "scrolled": false
   },
   "outputs": [
    {
     "name": "stdout",
     "output_type": "stream",
     "text": [
      "RF, Binary, Average Accuracy:\n",
      "FEMALE: 69.39964157706093\n",
      "MALE: 69.26523297491039\n"
     ]
    }
   ],
   "source": [
    "print('RF, Binary, Average Accuracy:')\n",
    "print('FEMALE: {}'.format(np.mean(scenario_21vs4_FEMALE_df.corresponding_test_accuracy.values)))\n",
    "print('MALE: {}'.format(np.mean(scenario_21vs4_MALE_df.corresponding_test_accuracy.values)))\n"
   ]
  },
  {
   "cell_type": "code",
   "execution_count": null,
   "metadata": {},
   "outputs": [],
   "source": []
  },
  {
   "cell_type": "markdown",
   "metadata": {},
   "source": [
    "### seed4"
   ]
  },
  {
   "cell_type": "code",
   "execution_count": 26,
   "metadata": {},
   "outputs": [],
   "source": [
    "root_path = '/cluster/tufts/hugheslab/zhuang12/HCI/NuripsDataSet2021/experiments/FixedTrainValSplit_generic_models/FemaleSubset/RandomForest/binary/'\n"
   ]
  },
  {
   "cell_type": "code",
   "execution_count": 27,
   "metadata": {},
   "outputs": [],
   "source": [
    "scenario_21vs6_summary_path = '21vs6/seed4_summary'\n",
    "\n"
   ]
  },
  {
   "cell_type": "code",
   "execution_count": 28,
   "metadata": {},
   "outputs": [],
   "source": [
    "scenario_21vs4_df = pd.read_csv(os.path.join(root_path, scenario_21vs6_summary_path, 'AllSubjects_summary.csv'))\n"
   ]
  },
  {
   "cell_type": "code",
   "execution_count": 29,
   "metadata": {},
   "outputs": [],
   "source": [
    "scenario_21vs4_FEMALE_df = scenario_21vs4_df.loc[scenario_21vs4_df['subject_id'].isin(FEMALE_list)]\n",
    "scenario_21vs4_MALE_df = scenario_21vs4_df.loc[scenario_21vs4_df['subject_id'].isin(MALE_list)]\n"
   ]
  },
  {
   "cell_type": "code",
   "execution_count": 30,
   "metadata": {
    "scrolled": true
   },
   "outputs": [
    {
     "data": {
      "text/html": [
       "<div>\n",
       "<style scoped>\n",
       "    .dataframe tbody tr th:only-of-type {\n",
       "        vertical-align: middle;\n",
       "    }\n",
       "\n",
       "    .dataframe tbody tr th {\n",
       "        vertical-align: top;\n",
       "    }\n",
       "\n",
       "    .dataframe thead th {\n",
       "        text-align: right;\n",
       "    }\n",
       "</style>\n",
       "<table border=\"1\" class=\"dataframe\">\n",
       "  <thead>\n",
       "    <tr style=\"text-align: right;\">\n",
       "      <th></th>\n",
       "      <th>subject_id</th>\n",
       "      <th>max_validation_accuracy</th>\n",
       "      <th>corresponding_test_accuracy</th>\n",
       "      <th>performance_string</th>\n",
       "      <th>experiment_folder</th>\n",
       "    </tr>\n",
       "  </thead>\n",
       "  <tbody>\n",
       "    <tr>\n",
       "      <th>1</th>\n",
       "      <td>21</td>\n",
       "      <td>71.892</td>\n",
       "      <td>61.021505</td>\n",
       "      <td>highest validation accuracy: 71.89180107526882...</td>\n",
       "      <td>/cluster/tufts/hugheslab/zhuang12/HCI/NuripsDa...</td>\n",
       "    </tr>\n",
       "    <tr>\n",
       "      <th>3</th>\n",
       "      <td>60</td>\n",
       "      <td>71.892</td>\n",
       "      <td>76.612903</td>\n",
       "      <td>highest validation accuracy: 71.89180107526882...</td>\n",
       "      <td>/cluster/tufts/hugheslab/zhuang12/HCI/NuripsDa...</td>\n",
       "    </tr>\n",
       "    <tr>\n",
       "      <th>5</th>\n",
       "      <td>62</td>\n",
       "      <td>71.892</td>\n",
       "      <td>76.881720</td>\n",
       "      <td>highest validation accuracy: 71.89180107526882...</td>\n",
       "      <td>/cluster/tufts/hugheslab/zhuang12/HCI/NuripsDa...</td>\n",
       "    </tr>\n",
       "    <tr>\n",
       "      <th>6</th>\n",
       "      <td>38</td>\n",
       "      <td>71.892</td>\n",
       "      <td>78.763441</td>\n",
       "      <td>highest validation accuracy: 71.89180107526882...</td>\n",
       "      <td>/cluster/tufts/hugheslab/zhuang12/HCI/NuripsDa...</td>\n",
       "    </tr>\n",
       "    <tr>\n",
       "      <th>10</th>\n",
       "      <td>57</td>\n",
       "      <td>71.892</td>\n",
       "      <td>65.860215</td>\n",
       "      <td>highest validation accuracy: 71.89180107526882...</td>\n",
       "      <td>/cluster/tufts/hugheslab/zhuang12/HCI/NuripsDa...</td>\n",
       "    </tr>\n",
       "    <tr>\n",
       "      <th>11</th>\n",
       "      <td>71</td>\n",
       "      <td>71.892</td>\n",
       "      <td>58.602151</td>\n",
       "      <td>highest validation accuracy: 71.89180107526882...</td>\n",
       "      <td>/cluster/tufts/hugheslab/zhuang12/HCI/NuripsDa...</td>\n",
       "    </tr>\n",
       "  </tbody>\n",
       "</table>\n",
       "</div>"
      ],
      "text/plain": [
       "    subject_id  max_validation_accuracy  corresponding_test_accuracy  \\\n",
       "1           21                   71.892                    61.021505   \n",
       "3           60                   71.892                    76.612903   \n",
       "5           62                   71.892                    76.881720   \n",
       "6           38                   71.892                    78.763441   \n",
       "10          57                   71.892                    65.860215   \n",
       "11          71                   71.892                    58.602151   \n",
       "\n",
       "                                   performance_string  \\\n",
       "1   highest validation accuracy: 71.89180107526882...   \n",
       "3   highest validation accuracy: 71.89180107526882...   \n",
       "5   highest validation accuracy: 71.89180107526882...   \n",
       "6   highest validation accuracy: 71.89180107526882...   \n",
       "10  highest validation accuracy: 71.89180107526882...   \n",
       "11  highest validation accuracy: 71.89180107526882...   \n",
       "\n",
       "                                    experiment_folder  \n",
       "1   /cluster/tufts/hugheslab/zhuang12/HCI/NuripsDa...  \n",
       "3   /cluster/tufts/hugheslab/zhuang12/HCI/NuripsDa...  \n",
       "5   /cluster/tufts/hugheslab/zhuang12/HCI/NuripsDa...  \n",
       "6   /cluster/tufts/hugheslab/zhuang12/HCI/NuripsDa...  \n",
       "10  /cluster/tufts/hugheslab/zhuang12/HCI/NuripsDa...  \n",
       "11  /cluster/tufts/hugheslab/zhuang12/HCI/NuripsDa...  "
      ]
     },
     "execution_count": 30,
     "metadata": {},
     "output_type": "execute_result"
    }
   ],
   "source": [
    "scenario_21vs4_FEMALE_df"
   ]
  },
  {
   "cell_type": "code",
   "execution_count": 31,
   "metadata": {},
   "outputs": [
    {
     "data": {
      "text/html": [
       "<div>\n",
       "<style scoped>\n",
       "    .dataframe tbody tr th:only-of-type {\n",
       "        vertical-align: middle;\n",
       "    }\n",
       "\n",
       "    .dataframe tbody tr th {\n",
       "        vertical-align: top;\n",
       "    }\n",
       "\n",
       "    .dataframe thead th {\n",
       "        text-align: right;\n",
       "    }\n",
       "</style>\n",
       "<table border=\"1\" class=\"dataframe\">\n",
       "  <thead>\n",
       "    <tr style=\"text-align: right;\">\n",
       "      <th></th>\n",
       "      <th>subject_id</th>\n",
       "      <th>max_validation_accuracy</th>\n",
       "      <th>corresponding_test_accuracy</th>\n",
       "      <th>performance_string</th>\n",
       "      <th>experiment_folder</th>\n",
       "    </tr>\n",
       "  </thead>\n",
       "  <tbody>\n",
       "    <tr>\n",
       "      <th>0</th>\n",
       "      <td>83</td>\n",
       "      <td>71.892</td>\n",
       "      <td>87.365591</td>\n",
       "      <td>highest validation accuracy: 71.89180107526882...</td>\n",
       "      <td>/cluster/tufts/hugheslab/zhuang12/HCI/NuripsDa...</td>\n",
       "    </tr>\n",
       "    <tr>\n",
       "      <th>2</th>\n",
       "      <td>75</td>\n",
       "      <td>71.892</td>\n",
       "      <td>73.387097</td>\n",
       "      <td>highest validation accuracy: 71.89180107526882...</td>\n",
       "      <td>/cluster/tufts/hugheslab/zhuang12/HCI/NuripsDa...</td>\n",
       "    </tr>\n",
       "    <tr>\n",
       "      <th>4</th>\n",
       "      <td>68</td>\n",
       "      <td>71.892</td>\n",
       "      <td>47.849462</td>\n",
       "      <td>highest validation accuracy: 71.89180107526882...</td>\n",
       "      <td>/cluster/tufts/hugheslab/zhuang12/HCI/NuripsDa...</td>\n",
       "    </tr>\n",
       "    <tr>\n",
       "      <th>7</th>\n",
       "      <td>86</td>\n",
       "      <td>71.892</td>\n",
       "      <td>55.913978</td>\n",
       "      <td>highest validation accuracy: 71.89180107526882...</td>\n",
       "      <td>/cluster/tufts/hugheslab/zhuang12/HCI/NuripsDa...</td>\n",
       "    </tr>\n",
       "    <tr>\n",
       "      <th>8</th>\n",
       "      <td>81</td>\n",
       "      <td>71.892</td>\n",
       "      <td>77.688172</td>\n",
       "      <td>highest validation accuracy: 71.89180107526882...</td>\n",
       "      <td>/cluster/tufts/hugheslab/zhuang12/HCI/NuripsDa...</td>\n",
       "    </tr>\n",
       "    <tr>\n",
       "      <th>9</th>\n",
       "      <td>54</td>\n",
       "      <td>71.892</td>\n",
       "      <td>73.118280</td>\n",
       "      <td>highest validation accuracy: 71.89180107526882...</td>\n",
       "      <td>/cluster/tufts/hugheslab/zhuang12/HCI/NuripsDa...</td>\n",
       "    </tr>\n",
       "  </tbody>\n",
       "</table>\n",
       "</div>"
      ],
      "text/plain": [
       "   subject_id  max_validation_accuracy  corresponding_test_accuracy  \\\n",
       "0          83                   71.892                    87.365591   \n",
       "2          75                   71.892                    73.387097   \n",
       "4          68                   71.892                    47.849462   \n",
       "7          86                   71.892                    55.913978   \n",
       "8          81                   71.892                    77.688172   \n",
       "9          54                   71.892                    73.118280   \n",
       "\n",
       "                                  performance_string  \\\n",
       "0  highest validation accuracy: 71.89180107526882...   \n",
       "2  highest validation accuracy: 71.89180107526882...   \n",
       "4  highest validation accuracy: 71.89180107526882...   \n",
       "7  highest validation accuracy: 71.89180107526882...   \n",
       "8  highest validation accuracy: 71.89180107526882...   \n",
       "9  highest validation accuracy: 71.89180107526882...   \n",
       "\n",
       "                                   experiment_folder  \n",
       "0  /cluster/tufts/hugheslab/zhuang12/HCI/NuripsDa...  \n",
       "2  /cluster/tufts/hugheslab/zhuang12/HCI/NuripsDa...  \n",
       "4  /cluster/tufts/hugheslab/zhuang12/HCI/NuripsDa...  \n",
       "7  /cluster/tufts/hugheslab/zhuang12/HCI/NuripsDa...  \n",
       "8  /cluster/tufts/hugheslab/zhuang12/HCI/NuripsDa...  \n",
       "9  /cluster/tufts/hugheslab/zhuang12/HCI/NuripsDa...  "
      ]
     },
     "execution_count": 31,
     "metadata": {},
     "output_type": "execute_result"
    }
   ],
   "source": [
    "scenario_21vs4_MALE_df"
   ]
  },
  {
   "cell_type": "code",
   "execution_count": null,
   "metadata": {},
   "outputs": [],
   "source": []
  },
  {
   "cell_type": "code",
   "execution_count": 32,
   "metadata": {
    "scrolled": false
   },
   "outputs": [
    {
     "name": "stdout",
     "output_type": "stream",
     "text": [
      "RF, Binary, Average Accuracy:\n",
      "FEMALE: 69.62365591397851\n",
      "MALE: 69.22043010752688\n"
     ]
    }
   ],
   "source": [
    "print('RF, Binary, Average Accuracy:')\n",
    "print('FEMALE: {}'.format(np.mean(scenario_21vs4_FEMALE_df.corresponding_test_accuracy.values)))\n",
    "print('MALE: {}'.format(np.mean(scenario_21vs4_MALE_df.corresponding_test_accuracy.values)))\n"
   ]
  },
  {
   "cell_type": "code",
   "execution_count": null,
   "metadata": {},
   "outputs": [],
   "source": []
  },
  {
   "cell_type": "markdown",
   "metadata": {},
   "source": [
    "### seed5"
   ]
  },
  {
   "cell_type": "code",
   "execution_count": 33,
   "metadata": {},
   "outputs": [],
   "source": [
    "root_path = '/cluster/tufts/hugheslab/zhuang12/HCI/NuripsDataSet2021/experiments/FixedTrainValSplit_generic_models/FemaleSubset/RandomForest/binary/'\n"
   ]
  },
  {
   "cell_type": "code",
   "execution_count": 34,
   "metadata": {},
   "outputs": [],
   "source": [
    "scenario_21vs6_summary_path = '21vs6/seed5_summary'\n",
    "\n"
   ]
  },
  {
   "cell_type": "code",
   "execution_count": 35,
   "metadata": {},
   "outputs": [],
   "source": [
    "scenario_21vs4_df = pd.read_csv(os.path.join(root_path, scenario_21vs6_summary_path, 'AllSubjects_summary.csv'))\n"
   ]
  },
  {
   "cell_type": "code",
   "execution_count": 36,
   "metadata": {},
   "outputs": [],
   "source": [
    "scenario_21vs4_FEMALE_df = scenario_21vs4_df.loc[scenario_21vs4_df['subject_id'].isin(FEMALE_list)]\n",
    "scenario_21vs4_MALE_df = scenario_21vs4_df.loc[scenario_21vs4_df['subject_id'].isin(MALE_list)]\n"
   ]
  },
  {
   "cell_type": "code",
   "execution_count": 37,
   "metadata": {
    "scrolled": true
   },
   "outputs": [
    {
     "data": {
      "text/html": [
       "<div>\n",
       "<style scoped>\n",
       "    .dataframe tbody tr th:only-of-type {\n",
       "        vertical-align: middle;\n",
       "    }\n",
       "\n",
       "    .dataframe tbody tr th {\n",
       "        vertical-align: top;\n",
       "    }\n",
       "\n",
       "    .dataframe thead th {\n",
       "        text-align: right;\n",
       "    }\n",
       "</style>\n",
       "<table border=\"1\" class=\"dataframe\">\n",
       "  <thead>\n",
       "    <tr style=\"text-align: right;\">\n",
       "      <th></th>\n",
       "      <th>subject_id</th>\n",
       "      <th>max_validation_accuracy</th>\n",
       "      <th>corresponding_test_accuracy</th>\n",
       "      <th>performance_string</th>\n",
       "      <th>experiment_folder</th>\n",
       "    </tr>\n",
       "  </thead>\n",
       "  <tbody>\n",
       "    <tr>\n",
       "      <th>2</th>\n",
       "      <td>46</td>\n",
       "      <td>71.556</td>\n",
       "      <td>51.344086</td>\n",
       "      <td>highest validation accuracy: 71.55577956989248...</td>\n",
       "      <td>/cluster/tufts/hugheslab/zhuang12/HCI/NuripsDa...</td>\n",
       "    </tr>\n",
       "    <tr>\n",
       "      <th>4</th>\n",
       "      <td>82</td>\n",
       "      <td>71.556</td>\n",
       "      <td>72.580645</td>\n",
       "      <td>highest validation accuracy: 71.55577956989248...</td>\n",
       "      <td>/cluster/tufts/hugheslab/zhuang12/HCI/NuripsDa...</td>\n",
       "    </tr>\n",
       "    <tr>\n",
       "      <th>5</th>\n",
       "      <td>91</td>\n",
       "      <td>71.556</td>\n",
       "      <td>70.967742</td>\n",
       "      <td>highest validation accuracy: 71.55577956989248...</td>\n",
       "      <td>/cluster/tufts/hugheslab/zhuang12/HCI/NuripsDa...</td>\n",
       "    </tr>\n",
       "    <tr>\n",
       "      <th>6</th>\n",
       "      <td>32</td>\n",
       "      <td>71.556</td>\n",
       "      <td>62.096774</td>\n",
       "      <td>highest validation accuracy: 71.55577956989248...</td>\n",
       "      <td>/cluster/tufts/hugheslab/zhuang12/HCI/NuripsDa...</td>\n",
       "    </tr>\n",
       "    <tr>\n",
       "      <th>9</th>\n",
       "      <td>22</td>\n",
       "      <td>71.556</td>\n",
       "      <td>84.408602</td>\n",
       "      <td>highest validation accuracy: 71.55577956989248...</td>\n",
       "      <td>/cluster/tufts/hugheslab/zhuang12/HCI/NuripsDa...</td>\n",
       "    </tr>\n",
       "    <tr>\n",
       "      <th>10</th>\n",
       "      <td>71</td>\n",
       "      <td>71.556</td>\n",
       "      <td>55.376344</td>\n",
       "      <td>highest validation accuracy: 71.55577956989248...</td>\n",
       "      <td>/cluster/tufts/hugheslab/zhuang12/HCI/NuripsDa...</td>\n",
       "    </tr>\n",
       "  </tbody>\n",
       "</table>\n",
       "</div>"
      ],
      "text/plain": [
       "    subject_id  max_validation_accuracy  corresponding_test_accuracy  \\\n",
       "2           46                   71.556                    51.344086   \n",
       "4           82                   71.556                    72.580645   \n",
       "5           91                   71.556                    70.967742   \n",
       "6           32                   71.556                    62.096774   \n",
       "9           22                   71.556                    84.408602   \n",
       "10          71                   71.556                    55.376344   \n",
       "\n",
       "                                   performance_string  \\\n",
       "2   highest validation accuracy: 71.55577956989248...   \n",
       "4   highest validation accuracy: 71.55577956989248...   \n",
       "5   highest validation accuracy: 71.55577956989248...   \n",
       "6   highest validation accuracy: 71.55577956989248...   \n",
       "9   highest validation accuracy: 71.55577956989248...   \n",
       "10  highest validation accuracy: 71.55577956989248...   \n",
       "\n",
       "                                    experiment_folder  \n",
       "2   /cluster/tufts/hugheslab/zhuang12/HCI/NuripsDa...  \n",
       "4   /cluster/tufts/hugheslab/zhuang12/HCI/NuripsDa...  \n",
       "5   /cluster/tufts/hugheslab/zhuang12/HCI/NuripsDa...  \n",
       "6   /cluster/tufts/hugheslab/zhuang12/HCI/NuripsDa...  \n",
       "9   /cluster/tufts/hugheslab/zhuang12/HCI/NuripsDa...  \n",
       "10  /cluster/tufts/hugheslab/zhuang12/HCI/NuripsDa...  "
      ]
     },
     "execution_count": 37,
     "metadata": {},
     "output_type": "execute_result"
    }
   ],
   "source": [
    "scenario_21vs4_FEMALE_df"
   ]
  },
  {
   "cell_type": "code",
   "execution_count": 38,
   "metadata": {},
   "outputs": [
    {
     "data": {
      "text/html": [
       "<div>\n",
       "<style scoped>\n",
       "    .dataframe tbody tr th:only-of-type {\n",
       "        vertical-align: middle;\n",
       "    }\n",
       "\n",
       "    .dataframe tbody tr th {\n",
       "        vertical-align: top;\n",
       "    }\n",
       "\n",
       "    .dataframe thead th {\n",
       "        text-align: right;\n",
       "    }\n",
       "</style>\n",
       "<table border=\"1\" class=\"dataframe\">\n",
       "  <thead>\n",
       "    <tr style=\"text-align: right;\">\n",
       "      <th></th>\n",
       "      <th>subject_id</th>\n",
       "      <th>max_validation_accuracy</th>\n",
       "      <th>corresponding_test_accuracy</th>\n",
       "      <th>performance_string</th>\n",
       "      <th>experiment_folder</th>\n",
       "    </tr>\n",
       "  </thead>\n",
       "  <tbody>\n",
       "    <tr>\n",
       "      <th>0</th>\n",
       "      <td>80</td>\n",
       "      <td>71.556</td>\n",
       "      <td>76.344086</td>\n",
       "      <td>highest validation accuracy: 71.55577956989248...</td>\n",
       "      <td>/cluster/tufts/hugheslab/zhuang12/HCI/NuripsDa...</td>\n",
       "    </tr>\n",
       "    <tr>\n",
       "      <th>1</th>\n",
       "      <td>83</td>\n",
       "      <td>71.556</td>\n",
       "      <td>81.182796</td>\n",
       "      <td>highest validation accuracy: 71.55577956989248...</td>\n",
       "      <td>/cluster/tufts/hugheslab/zhuang12/HCI/NuripsDa...</td>\n",
       "    </tr>\n",
       "    <tr>\n",
       "      <th>3</th>\n",
       "      <td>92</td>\n",
       "      <td>71.556</td>\n",
       "      <td>72.043011</td>\n",
       "      <td>highest validation accuracy: 71.55577956989248...</td>\n",
       "      <td>/cluster/tufts/hugheslab/zhuang12/HCI/NuripsDa...</td>\n",
       "    </tr>\n",
       "    <tr>\n",
       "      <th>7</th>\n",
       "      <td>86</td>\n",
       "      <td>71.556</td>\n",
       "      <td>75.000000</td>\n",
       "      <td>highest validation accuracy: 71.55577956989248...</td>\n",
       "      <td>/cluster/tufts/hugheslab/zhuang12/HCI/NuripsDa...</td>\n",
       "    </tr>\n",
       "    <tr>\n",
       "      <th>8</th>\n",
       "      <td>54</td>\n",
       "      <td>71.556</td>\n",
       "      <td>78.225806</td>\n",
       "      <td>highest validation accuracy: 71.55577956989248...</td>\n",
       "      <td>/cluster/tufts/hugheslab/zhuang12/HCI/NuripsDa...</td>\n",
       "    </tr>\n",
       "    <tr>\n",
       "      <th>11</th>\n",
       "      <td>44</td>\n",
       "      <td>71.556</td>\n",
       "      <td>39.784946</td>\n",
       "      <td>highest validation accuracy: 71.55577956989248...</td>\n",
       "      <td>/cluster/tufts/hugheslab/zhuang12/HCI/NuripsDa...</td>\n",
       "    </tr>\n",
       "  </tbody>\n",
       "</table>\n",
       "</div>"
      ],
      "text/plain": [
       "    subject_id  max_validation_accuracy  corresponding_test_accuracy  \\\n",
       "0           80                   71.556                    76.344086   \n",
       "1           83                   71.556                    81.182796   \n",
       "3           92                   71.556                    72.043011   \n",
       "7           86                   71.556                    75.000000   \n",
       "8           54                   71.556                    78.225806   \n",
       "11          44                   71.556                    39.784946   \n",
       "\n",
       "                                   performance_string  \\\n",
       "0   highest validation accuracy: 71.55577956989248...   \n",
       "1   highest validation accuracy: 71.55577956989248...   \n",
       "3   highest validation accuracy: 71.55577956989248...   \n",
       "7   highest validation accuracy: 71.55577956989248...   \n",
       "8   highest validation accuracy: 71.55577956989248...   \n",
       "11  highest validation accuracy: 71.55577956989248...   \n",
       "\n",
       "                                    experiment_folder  \n",
       "0   /cluster/tufts/hugheslab/zhuang12/HCI/NuripsDa...  \n",
       "1   /cluster/tufts/hugheslab/zhuang12/HCI/NuripsDa...  \n",
       "3   /cluster/tufts/hugheslab/zhuang12/HCI/NuripsDa...  \n",
       "7   /cluster/tufts/hugheslab/zhuang12/HCI/NuripsDa...  \n",
       "8   /cluster/tufts/hugheslab/zhuang12/HCI/NuripsDa...  \n",
       "11  /cluster/tufts/hugheslab/zhuang12/HCI/NuripsDa...  "
      ]
     },
     "execution_count": 38,
     "metadata": {},
     "output_type": "execute_result"
    }
   ],
   "source": [
    "scenario_21vs4_MALE_df"
   ]
  },
  {
   "cell_type": "code",
   "execution_count": null,
   "metadata": {},
   "outputs": [],
   "source": []
  },
  {
   "cell_type": "code",
   "execution_count": 39,
   "metadata": {
    "scrolled": false
   },
   "outputs": [
    {
     "name": "stdout",
     "output_type": "stream",
     "text": [
      "RF, Binary, Average Accuracy:\n",
      "FEMALE: 66.12903225806451\n",
      "MALE: 70.43010752688171\n"
     ]
    }
   ],
   "source": [
    "print('RF, Binary, Average Accuracy:')\n",
    "print('FEMALE: {}'.format(np.mean(scenario_21vs4_FEMALE_df.corresponding_test_accuracy.values)))\n",
    "print('MALE: {}'.format(np.mean(scenario_21vs4_MALE_df.corresponding_test_accuracy.values)))\n"
   ]
  },
  {
   "cell_type": "code",
   "execution_count": null,
   "metadata": {},
   "outputs": [],
   "source": []
  },
  {
   "cell_type": "markdown",
   "metadata": {},
   "source": [
    "### seed6"
   ]
  },
  {
   "cell_type": "code",
   "execution_count": 40,
   "metadata": {},
   "outputs": [],
   "source": [
    "root_path = '/cluster/tufts/hugheslab/zhuang12/HCI/NuripsDataSet2021/experiments/FixedTrainValSplit_generic_models/FemaleSubset/RandomForest/binary/'\n"
   ]
  },
  {
   "cell_type": "code",
   "execution_count": 41,
   "metadata": {},
   "outputs": [],
   "source": [
    "scenario_21vs6_summary_path = '21vs6/seed6_summary'\n",
    "\n"
   ]
  },
  {
   "cell_type": "code",
   "execution_count": 42,
   "metadata": {},
   "outputs": [],
   "source": [
    "scenario_21vs4_df = pd.read_csv(os.path.join(root_path, scenario_21vs6_summary_path, 'AllSubjects_summary.csv'))\n"
   ]
  },
  {
   "cell_type": "code",
   "execution_count": 43,
   "metadata": {},
   "outputs": [],
   "source": [
    "scenario_21vs4_FEMALE_df = scenario_21vs4_df.loc[scenario_21vs4_df['subject_id'].isin(FEMALE_list)]\n",
    "scenario_21vs4_MALE_df = scenario_21vs4_df.loc[scenario_21vs4_df['subject_id'].isin(MALE_list)]\n"
   ]
  },
  {
   "cell_type": "code",
   "execution_count": 44,
   "metadata": {
    "scrolled": true
   },
   "outputs": [
    {
     "data": {
      "text/html": [
       "<div>\n",
       "<style scoped>\n",
       "    .dataframe tbody tr th:only-of-type {\n",
       "        vertical-align: middle;\n",
       "    }\n",
       "\n",
       "    .dataframe tbody tr th {\n",
       "        vertical-align: top;\n",
       "    }\n",
       "\n",
       "    .dataframe thead th {\n",
       "        text-align: right;\n",
       "    }\n",
       "</style>\n",
       "<table border=\"1\" class=\"dataframe\">\n",
       "  <thead>\n",
       "    <tr style=\"text-align: right;\">\n",
       "      <th></th>\n",
       "      <th>subject_id</th>\n",
       "      <th>max_validation_accuracy</th>\n",
       "      <th>corresponding_test_accuracy</th>\n",
       "      <th>performance_string</th>\n",
       "      <th>experiment_folder</th>\n",
       "    </tr>\n",
       "  </thead>\n",
       "  <tbody>\n",
       "    <tr>\n",
       "      <th>1</th>\n",
       "      <td>24</td>\n",
       "      <td>65.44</td>\n",
       "      <td>82.795699</td>\n",
       "      <td>highest validation accuracy: 65.44018817204301...</td>\n",
       "      <td>/cluster/tufts/hugheslab/zhuang12/HCI/NuripsDa...</td>\n",
       "    </tr>\n",
       "    <tr>\n",
       "      <th>3</th>\n",
       "      <td>73</td>\n",
       "      <td>65.44</td>\n",
       "      <td>69.892473</td>\n",
       "      <td>highest validation accuracy: 65.44018817204301...</td>\n",
       "      <td>/cluster/tufts/hugheslab/zhuang12/HCI/NuripsDa...</td>\n",
       "    </tr>\n",
       "    <tr>\n",
       "      <th>4</th>\n",
       "      <td>60</td>\n",
       "      <td>65.44</td>\n",
       "      <td>62.634409</td>\n",
       "      <td>highest validation accuracy: 65.44018817204301...</td>\n",
       "      <td>/cluster/tufts/hugheslab/zhuang12/HCI/NuripsDa...</td>\n",
       "    </tr>\n",
       "    <tr>\n",
       "      <th>6</th>\n",
       "      <td>82</td>\n",
       "      <td>65.44</td>\n",
       "      <td>74.462366</td>\n",
       "      <td>highest validation accuracy: 65.44018817204301...</td>\n",
       "      <td>/cluster/tufts/hugheslab/zhuang12/HCI/NuripsDa...</td>\n",
       "    </tr>\n",
       "    <tr>\n",
       "      <th>7</th>\n",
       "      <td>55</td>\n",
       "      <td>65.44</td>\n",
       "      <td>92.204301</td>\n",
       "      <td>highest validation accuracy: 65.44018817204301...</td>\n",
       "      <td>/cluster/tufts/hugheslab/zhuang12/HCI/NuripsDa...</td>\n",
       "    </tr>\n",
       "    <tr>\n",
       "      <th>9</th>\n",
       "      <td>71</td>\n",
       "      <td>65.44</td>\n",
       "      <td>61.290323</td>\n",
       "      <td>highest validation accuracy: 65.44018817204301...</td>\n",
       "      <td>/cluster/tufts/hugheslab/zhuang12/HCI/NuripsDa...</td>\n",
       "    </tr>\n",
       "  </tbody>\n",
       "</table>\n",
       "</div>"
      ],
      "text/plain": [
       "   subject_id  max_validation_accuracy  corresponding_test_accuracy  \\\n",
       "1          24                    65.44                    82.795699   \n",
       "3          73                    65.44                    69.892473   \n",
       "4          60                    65.44                    62.634409   \n",
       "6          82                    65.44                    74.462366   \n",
       "7          55                    65.44                    92.204301   \n",
       "9          71                    65.44                    61.290323   \n",
       "\n",
       "                                  performance_string  \\\n",
       "1  highest validation accuracy: 65.44018817204301...   \n",
       "3  highest validation accuracy: 65.44018817204301...   \n",
       "4  highest validation accuracy: 65.44018817204301...   \n",
       "6  highest validation accuracy: 65.44018817204301...   \n",
       "7  highest validation accuracy: 65.44018817204301...   \n",
       "9  highest validation accuracy: 65.44018817204301...   \n",
       "\n",
       "                                   experiment_folder  \n",
       "1  /cluster/tufts/hugheslab/zhuang12/HCI/NuripsDa...  \n",
       "3  /cluster/tufts/hugheslab/zhuang12/HCI/NuripsDa...  \n",
       "4  /cluster/tufts/hugheslab/zhuang12/HCI/NuripsDa...  \n",
       "6  /cluster/tufts/hugheslab/zhuang12/HCI/NuripsDa...  \n",
       "7  /cluster/tufts/hugheslab/zhuang12/HCI/NuripsDa...  \n",
       "9  /cluster/tufts/hugheslab/zhuang12/HCI/NuripsDa...  "
      ]
     },
     "execution_count": 44,
     "metadata": {},
     "output_type": "execute_result"
    }
   ],
   "source": [
    "scenario_21vs4_FEMALE_df"
   ]
  },
  {
   "cell_type": "code",
   "execution_count": 45,
   "metadata": {},
   "outputs": [
    {
     "data": {
      "text/html": [
       "<div>\n",
       "<style scoped>\n",
       "    .dataframe tbody tr th:only-of-type {\n",
       "        vertical-align: middle;\n",
       "    }\n",
       "\n",
       "    .dataframe tbody tr th {\n",
       "        vertical-align: top;\n",
       "    }\n",
       "\n",
       "    .dataframe thead th {\n",
       "        text-align: right;\n",
       "    }\n",
       "</style>\n",
       "<table border=\"1\" class=\"dataframe\">\n",
       "  <thead>\n",
       "    <tr style=\"text-align: right;\">\n",
       "      <th></th>\n",
       "      <th>subject_id</th>\n",
       "      <th>max_validation_accuracy</th>\n",
       "      <th>corresponding_test_accuracy</th>\n",
       "      <th>performance_string</th>\n",
       "      <th>experiment_folder</th>\n",
       "    </tr>\n",
       "  </thead>\n",
       "  <tbody>\n",
       "    <tr>\n",
       "      <th>0</th>\n",
       "      <td>83</td>\n",
       "      <td>65.44</td>\n",
       "      <td>90.591398</td>\n",
       "      <td>highest validation accuracy: 65.44018817204301...</td>\n",
       "      <td>/cluster/tufts/hugheslab/zhuang12/HCI/NuripsDa...</td>\n",
       "    </tr>\n",
       "    <tr>\n",
       "      <th>2</th>\n",
       "      <td>78</td>\n",
       "      <td>65.44</td>\n",
       "      <td>81.451613</td>\n",
       "      <td>highest validation accuracy: 65.44018817204301...</td>\n",
       "      <td>/cluster/tufts/hugheslab/zhuang12/HCI/NuripsDa...</td>\n",
       "    </tr>\n",
       "    <tr>\n",
       "      <th>5</th>\n",
       "      <td>31</td>\n",
       "      <td>65.44</td>\n",
       "      <td>44.892473</td>\n",
       "      <td>highest validation accuracy: 65.44018817204301...</td>\n",
       "      <td>/cluster/tufts/hugheslab/zhuang12/HCI/NuripsDa...</td>\n",
       "    </tr>\n",
       "    <tr>\n",
       "      <th>8</th>\n",
       "      <td>64</td>\n",
       "      <td>65.44</td>\n",
       "      <td>99.193548</td>\n",
       "      <td>highest validation accuracy: 65.44018817204301...</td>\n",
       "      <td>/cluster/tufts/hugheslab/zhuang12/HCI/NuripsDa...</td>\n",
       "    </tr>\n",
       "    <tr>\n",
       "      <th>10</th>\n",
       "      <td>44</td>\n",
       "      <td>65.44</td>\n",
       "      <td>52.688172</td>\n",
       "      <td>highest validation accuracy: 65.44018817204301...</td>\n",
       "      <td>/cluster/tufts/hugheslab/zhuang12/HCI/NuripsDa...</td>\n",
       "    </tr>\n",
       "    <tr>\n",
       "      <th>11</th>\n",
       "      <td>42</td>\n",
       "      <td>65.44</td>\n",
       "      <td>69.354839</td>\n",
       "      <td>highest validation accuracy: 65.44018817204301...</td>\n",
       "      <td>/cluster/tufts/hugheslab/zhuang12/HCI/NuripsDa...</td>\n",
       "    </tr>\n",
       "  </tbody>\n",
       "</table>\n",
       "</div>"
      ],
      "text/plain": [
       "    subject_id  max_validation_accuracy  corresponding_test_accuracy  \\\n",
       "0           83                    65.44                    90.591398   \n",
       "2           78                    65.44                    81.451613   \n",
       "5           31                    65.44                    44.892473   \n",
       "8           64                    65.44                    99.193548   \n",
       "10          44                    65.44                    52.688172   \n",
       "11          42                    65.44                    69.354839   \n",
       "\n",
       "                                   performance_string  \\\n",
       "0   highest validation accuracy: 65.44018817204301...   \n",
       "2   highest validation accuracy: 65.44018817204301...   \n",
       "5   highest validation accuracy: 65.44018817204301...   \n",
       "8   highest validation accuracy: 65.44018817204301...   \n",
       "10  highest validation accuracy: 65.44018817204301...   \n",
       "11  highest validation accuracy: 65.44018817204301...   \n",
       "\n",
       "                                    experiment_folder  \n",
       "0   /cluster/tufts/hugheslab/zhuang12/HCI/NuripsDa...  \n",
       "2   /cluster/tufts/hugheslab/zhuang12/HCI/NuripsDa...  \n",
       "5   /cluster/tufts/hugheslab/zhuang12/HCI/NuripsDa...  \n",
       "8   /cluster/tufts/hugheslab/zhuang12/HCI/NuripsDa...  \n",
       "10  /cluster/tufts/hugheslab/zhuang12/HCI/NuripsDa...  \n",
       "11  /cluster/tufts/hugheslab/zhuang12/HCI/NuripsDa...  "
      ]
     },
     "execution_count": 45,
     "metadata": {},
     "output_type": "execute_result"
    }
   ],
   "source": [
    "scenario_21vs4_MALE_df"
   ]
  },
  {
   "cell_type": "code",
   "execution_count": null,
   "metadata": {},
   "outputs": [],
   "source": []
  },
  {
   "cell_type": "code",
   "execution_count": 46,
   "metadata": {
    "scrolled": false
   },
   "outputs": [
    {
     "name": "stdout",
     "output_type": "stream",
     "text": [
      "RF, Binary, Average Accuracy:\n",
      "FEMALE: 73.87992831541219\n",
      "MALE: 73.02867383512545\n"
     ]
    }
   ],
   "source": [
    "print('RF, Binary, Average Accuracy:')\n",
    "print('FEMALE: {}'.format(np.mean(scenario_21vs4_FEMALE_df.corresponding_test_accuracy.values)))\n",
    "print('MALE: {}'.format(np.mean(scenario_21vs4_MALE_df.corresponding_test_accuracy.values)))\n"
   ]
  },
  {
   "cell_type": "code",
   "execution_count": null,
   "metadata": {},
   "outputs": [],
   "source": []
  },
  {
   "cell_type": "markdown",
   "metadata": {},
   "source": [
    "### seed7"
   ]
  },
  {
   "cell_type": "code",
   "execution_count": 47,
   "metadata": {},
   "outputs": [],
   "source": [
    "root_path = '/cluster/tufts/hugheslab/zhuang12/HCI/NuripsDataSet2021/experiments/FixedTrainValSplit_generic_models/FemaleSubset/RandomForest/binary/'\n"
   ]
  },
  {
   "cell_type": "code",
   "execution_count": 48,
   "metadata": {},
   "outputs": [],
   "source": [
    "scenario_21vs6_summary_path = '21vs6/seed7_summary'\n",
    "\n"
   ]
  },
  {
   "cell_type": "code",
   "execution_count": 49,
   "metadata": {},
   "outputs": [],
   "source": [
    "scenario_21vs4_df = pd.read_csv(os.path.join(root_path, scenario_21vs6_summary_path, 'AllSubjects_summary.csv'))\n"
   ]
  },
  {
   "cell_type": "code",
   "execution_count": 50,
   "metadata": {},
   "outputs": [],
   "source": [
    "scenario_21vs4_FEMALE_df = scenario_21vs4_df.loc[scenario_21vs4_df['subject_id'].isin(FEMALE_list)]\n",
    "scenario_21vs4_MALE_df = scenario_21vs4_df.loc[scenario_21vs4_df['subject_id'].isin(MALE_list)]\n"
   ]
  },
  {
   "cell_type": "code",
   "execution_count": 51,
   "metadata": {
    "scrolled": true
   },
   "outputs": [
    {
     "data": {
      "text/html": [
       "<div>\n",
       "<style scoped>\n",
       "    .dataframe tbody tr th:only-of-type {\n",
       "        vertical-align: middle;\n",
       "    }\n",
       "\n",
       "    .dataframe tbody tr th {\n",
       "        vertical-align: top;\n",
       "    }\n",
       "\n",
       "    .dataframe thead th {\n",
       "        text-align: right;\n",
       "    }\n",
       "</style>\n",
       "<table border=\"1\" class=\"dataframe\">\n",
       "  <thead>\n",
       "    <tr style=\"text-align: right;\">\n",
       "      <th></th>\n",
       "      <th>subject_id</th>\n",
       "      <th>max_validation_accuracy</th>\n",
       "      <th>corresponding_test_accuracy</th>\n",
       "      <th>performance_string</th>\n",
       "      <th>experiment_folder</th>\n",
       "    </tr>\n",
       "  </thead>\n",
       "  <tbody>\n",
       "    <tr>\n",
       "      <th>0</th>\n",
       "      <td>51</td>\n",
       "      <td>69.691</td>\n",
       "      <td>68.817204</td>\n",
       "      <td>highest validation accuracy: 69.69086021505376...</td>\n",
       "      <td>/cluster/tufts/hugheslab/zhuang12/HCI/NuripsDa...</td>\n",
       "    </tr>\n",
       "    <tr>\n",
       "      <th>1</th>\n",
       "      <td>73</td>\n",
       "      <td>69.691</td>\n",
       "      <td>72.311828</td>\n",
       "      <td>highest validation accuracy: 69.69086021505376...</td>\n",
       "      <td>/cluster/tufts/hugheslab/zhuang12/HCI/NuripsDa...</td>\n",
       "    </tr>\n",
       "    <tr>\n",
       "      <th>3</th>\n",
       "      <td>60</td>\n",
       "      <td>69.691</td>\n",
       "      <td>75.537634</td>\n",
       "      <td>highest validation accuracy: 69.69086021505376...</td>\n",
       "      <td>/cluster/tufts/hugheslab/zhuang12/HCI/NuripsDa...</td>\n",
       "    </tr>\n",
       "    <tr>\n",
       "      <th>7</th>\n",
       "      <td>94</td>\n",
       "      <td>69.691</td>\n",
       "      <td>70.430108</td>\n",
       "      <td>highest validation accuracy: 69.69086021505376...</td>\n",
       "      <td>/cluster/tufts/hugheslab/zhuang12/HCI/NuripsDa...</td>\n",
       "    </tr>\n",
       "    <tr>\n",
       "      <th>10</th>\n",
       "      <td>22</td>\n",
       "      <td>69.691</td>\n",
       "      <td>76.881720</td>\n",
       "      <td>highest validation accuracy: 69.69086021505376...</td>\n",
       "      <td>/cluster/tufts/hugheslab/zhuang12/HCI/NuripsDa...</td>\n",
       "    </tr>\n",
       "    <tr>\n",
       "      <th>11</th>\n",
       "      <td>20</td>\n",
       "      <td>69.691</td>\n",
       "      <td>91.129032</td>\n",
       "      <td>highest validation accuracy: 69.69086021505376...</td>\n",
       "      <td>/cluster/tufts/hugheslab/zhuang12/HCI/NuripsDa...</td>\n",
       "    </tr>\n",
       "  </tbody>\n",
       "</table>\n",
       "</div>"
      ],
      "text/plain": [
       "    subject_id  max_validation_accuracy  corresponding_test_accuracy  \\\n",
       "0           51                   69.691                    68.817204   \n",
       "1           73                   69.691                    72.311828   \n",
       "3           60                   69.691                    75.537634   \n",
       "7           94                   69.691                    70.430108   \n",
       "10          22                   69.691                    76.881720   \n",
       "11          20                   69.691                    91.129032   \n",
       "\n",
       "                                   performance_string  \\\n",
       "0   highest validation accuracy: 69.69086021505376...   \n",
       "1   highest validation accuracy: 69.69086021505376...   \n",
       "3   highest validation accuracy: 69.69086021505376...   \n",
       "7   highest validation accuracy: 69.69086021505376...   \n",
       "10  highest validation accuracy: 69.69086021505376...   \n",
       "11  highest validation accuracy: 69.69086021505376...   \n",
       "\n",
       "                                    experiment_folder  \n",
       "0   /cluster/tufts/hugheslab/zhuang12/HCI/NuripsDa...  \n",
       "1   /cluster/tufts/hugheslab/zhuang12/HCI/NuripsDa...  \n",
       "3   /cluster/tufts/hugheslab/zhuang12/HCI/NuripsDa...  \n",
       "7   /cluster/tufts/hugheslab/zhuang12/HCI/NuripsDa...  \n",
       "10  /cluster/tufts/hugheslab/zhuang12/HCI/NuripsDa...  \n",
       "11  /cluster/tufts/hugheslab/zhuang12/HCI/NuripsDa...  "
      ]
     },
     "execution_count": 51,
     "metadata": {},
     "output_type": "execute_result"
    }
   ],
   "source": [
    "scenario_21vs4_FEMALE_df"
   ]
  },
  {
   "cell_type": "code",
   "execution_count": 52,
   "metadata": {},
   "outputs": [
    {
     "data": {
      "text/html": [
       "<div>\n",
       "<style scoped>\n",
       "    .dataframe tbody tr th:only-of-type {\n",
       "        vertical-align: middle;\n",
       "    }\n",
       "\n",
       "    .dataframe tbody tr th {\n",
       "        vertical-align: top;\n",
       "    }\n",
       "\n",
       "    .dataframe thead th {\n",
       "        text-align: right;\n",
       "    }\n",
       "</style>\n",
       "<table border=\"1\" class=\"dataframe\">\n",
       "  <thead>\n",
       "    <tr style=\"text-align: right;\">\n",
       "      <th></th>\n",
       "      <th>subject_id</th>\n",
       "      <th>max_validation_accuracy</th>\n",
       "      <th>corresponding_test_accuracy</th>\n",
       "      <th>performance_string</th>\n",
       "      <th>experiment_folder</th>\n",
       "    </tr>\n",
       "  </thead>\n",
       "  <tbody>\n",
       "    <tr>\n",
       "      <th>2</th>\n",
       "      <td>92</td>\n",
       "      <td>69.691</td>\n",
       "      <td>77.956989</td>\n",
       "      <td>highest validation accuracy: 69.69086021505376...</td>\n",
       "      <td>/cluster/tufts/hugheslab/zhuang12/HCI/NuripsDa...</td>\n",
       "    </tr>\n",
       "    <tr>\n",
       "      <th>4</th>\n",
       "      <td>36</td>\n",
       "      <td>69.691</td>\n",
       "      <td>74.462366</td>\n",
       "      <td>highest validation accuracy: 69.69086021505376...</td>\n",
       "      <td>/cluster/tufts/hugheslab/zhuang12/HCI/NuripsDa...</td>\n",
       "    </tr>\n",
       "    <tr>\n",
       "      <th>5</th>\n",
       "      <td>31</td>\n",
       "      <td>69.691</td>\n",
       "      <td>53.763441</td>\n",
       "      <td>highest validation accuracy: 69.69086021505376...</td>\n",
       "      <td>/cluster/tufts/hugheslab/zhuang12/HCI/NuripsDa...</td>\n",
       "    </tr>\n",
       "    <tr>\n",
       "      <th>6</th>\n",
       "      <td>1</td>\n",
       "      <td>69.691</td>\n",
       "      <td>67.204301</td>\n",
       "      <td>highest validation accuracy: 69.69086021505376...</td>\n",
       "      <td>/cluster/tufts/hugheslab/zhuang12/HCI/NuripsDa...</td>\n",
       "    </tr>\n",
       "    <tr>\n",
       "      <th>8</th>\n",
       "      <td>86</td>\n",
       "      <td>69.691</td>\n",
       "      <td>76.075269</td>\n",
       "      <td>highest validation accuracy: 69.69086021505376...</td>\n",
       "      <td>/cluster/tufts/hugheslab/zhuang12/HCI/NuripsDa...</td>\n",
       "    </tr>\n",
       "    <tr>\n",
       "      <th>9</th>\n",
       "      <td>81</td>\n",
       "      <td>69.691</td>\n",
       "      <td>86.290323</td>\n",
       "      <td>highest validation accuracy: 69.69086021505376...</td>\n",
       "      <td>/cluster/tufts/hugheslab/zhuang12/HCI/NuripsDa...</td>\n",
       "    </tr>\n",
       "  </tbody>\n",
       "</table>\n",
       "</div>"
      ],
      "text/plain": [
       "   subject_id  max_validation_accuracy  corresponding_test_accuracy  \\\n",
       "2          92                   69.691                    77.956989   \n",
       "4          36                   69.691                    74.462366   \n",
       "5          31                   69.691                    53.763441   \n",
       "6           1                   69.691                    67.204301   \n",
       "8          86                   69.691                    76.075269   \n",
       "9          81                   69.691                    86.290323   \n",
       "\n",
       "                                  performance_string  \\\n",
       "2  highest validation accuracy: 69.69086021505376...   \n",
       "4  highest validation accuracy: 69.69086021505376...   \n",
       "5  highest validation accuracy: 69.69086021505376...   \n",
       "6  highest validation accuracy: 69.69086021505376...   \n",
       "8  highest validation accuracy: 69.69086021505376...   \n",
       "9  highest validation accuracy: 69.69086021505376...   \n",
       "\n",
       "                                   experiment_folder  \n",
       "2  /cluster/tufts/hugheslab/zhuang12/HCI/NuripsDa...  \n",
       "4  /cluster/tufts/hugheslab/zhuang12/HCI/NuripsDa...  \n",
       "5  /cluster/tufts/hugheslab/zhuang12/HCI/NuripsDa...  \n",
       "6  /cluster/tufts/hugheslab/zhuang12/HCI/NuripsDa...  \n",
       "8  /cluster/tufts/hugheslab/zhuang12/HCI/NuripsDa...  \n",
       "9  /cluster/tufts/hugheslab/zhuang12/HCI/NuripsDa...  "
      ]
     },
     "execution_count": 52,
     "metadata": {},
     "output_type": "execute_result"
    }
   ],
   "source": [
    "scenario_21vs4_MALE_df"
   ]
  },
  {
   "cell_type": "code",
   "execution_count": null,
   "metadata": {},
   "outputs": [],
   "source": []
  },
  {
   "cell_type": "code",
   "execution_count": 53,
   "metadata": {
    "scrolled": false
   },
   "outputs": [
    {
     "name": "stdout",
     "output_type": "stream",
     "text": [
      "RF, Binary, Average Accuracy:\n",
      "FEMALE: 75.85125448028674\n",
      "MALE: 72.62544802867383\n"
     ]
    }
   ],
   "source": [
    "print('RF, Binary, Average Accuracy:')\n",
    "print('FEMALE: {}'.format(np.mean(scenario_21vs4_FEMALE_df.corresponding_test_accuracy.values)))\n",
    "print('MALE: {}'.format(np.mean(scenario_21vs4_MALE_df.corresponding_test_accuracy.values)))\n"
   ]
  },
  {
   "cell_type": "code",
   "execution_count": null,
   "metadata": {},
   "outputs": [],
   "source": []
  },
  {
   "cell_type": "code",
   "execution_count": null,
   "metadata": {},
   "outputs": [],
   "source": []
  },
  {
   "cell_type": "code",
   "execution_count": null,
   "metadata": {},
   "outputs": [],
   "source": []
  },
  {
   "cell_type": "code",
   "execution_count": null,
   "metadata": {},
   "outputs": [],
   "source": []
  },
  {
   "cell_type": "markdown",
   "metadata": {},
   "source": [
    "### EEGNet"
   ]
  },
  {
   "cell_type": "markdown",
   "metadata": {},
   "source": [
    "### seed1"
   ]
  },
  {
   "cell_type": "code",
   "execution_count": 54,
   "metadata": {},
   "outputs": [],
   "source": [
    "root_path = '/cluster/tufts/hugheslab/zhuang12/HCI/NuripsDataSet2021/experiments/FixedTrainValSplit_generic_models/FemaleSubset/EEGNet/binary/'\n"
   ]
  },
  {
   "cell_type": "code",
   "execution_count": 55,
   "metadata": {},
   "outputs": [],
   "source": [
    "scenario_21vs6_summary_path = '21vs6/seed1_summary'\n",
    "\n"
   ]
  },
  {
   "cell_type": "code",
   "execution_count": 56,
   "metadata": {},
   "outputs": [],
   "source": [
    "scenario_21vs4_df = pd.read_csv(os.path.join(root_path, scenario_21vs6_summary_path, 'AllSubjects_summary.csv'))\n"
   ]
  },
  {
   "cell_type": "code",
   "execution_count": 57,
   "metadata": {},
   "outputs": [],
   "source": [
    "scenario_21vs4_FEMALE_df = scenario_21vs4_df.loc[scenario_21vs4_df['subject_id'].isin(FEMALE_list)]\n",
    "scenario_21vs4_MALE_df = scenario_21vs4_df.loc[scenario_21vs4_df['subject_id'].isin(MALE_list)]\n"
   ]
  },
  {
   "cell_type": "code",
   "execution_count": 58,
   "metadata": {
    "scrolled": true
   },
   "outputs": [
    {
     "data": {
      "text/html": [
       "<div>\n",
       "<style scoped>\n",
       "    .dataframe tbody tr th:only-of-type {\n",
       "        vertical-align: middle;\n",
       "    }\n",
       "\n",
       "    .dataframe tbody tr th {\n",
       "        vertical-align: top;\n",
       "    }\n",
       "\n",
       "    .dataframe thead th {\n",
       "        text-align: right;\n",
       "    }\n",
       "</style>\n",
       "<table border=\"1\" class=\"dataframe\">\n",
       "  <thead>\n",
       "    <tr style=\"text-align: right;\">\n",
       "      <th></th>\n",
       "      <th>subject_id</th>\n",
       "      <th>max_validation_accuracy</th>\n",
       "      <th>corresponding_test_accuracy</th>\n",
       "      <th>performance_string</th>\n",
       "      <th>experiment_folder</th>\n",
       "    </tr>\n",
       "  </thead>\n",
       "  <tbody>\n",
       "    <tr>\n",
       "      <th>3</th>\n",
       "      <td>14</td>\n",
       "      <td>77.419</td>\n",
       "      <td>86.827957</td>\n",
       "      <td>highest validation accuracy: 77.41935483870968...</td>\n",
       "      <td>/cluster/tufts/hugheslab/zhuang12/HCI/NuripsDa...</td>\n",
       "    </tr>\n",
       "    <tr>\n",
       "      <th>6</th>\n",
       "      <td>74</td>\n",
       "      <td>77.419</td>\n",
       "      <td>75.806452</td>\n",
       "      <td>highest validation accuracy: 77.41935483870968...</td>\n",
       "      <td>/cluster/tufts/hugheslab/zhuang12/HCI/NuripsDa...</td>\n",
       "    </tr>\n",
       "    <tr>\n",
       "      <th>8</th>\n",
       "      <td>13</td>\n",
       "      <td>77.419</td>\n",
       "      <td>25.268817</td>\n",
       "      <td>highest validation accuracy: 77.41935483870968...</td>\n",
       "      <td>/cluster/tufts/hugheslab/zhuang12/HCI/NuripsDa...</td>\n",
       "    </tr>\n",
       "    <tr>\n",
       "      <th>9</th>\n",
       "      <td>57</td>\n",
       "      <td>77.419</td>\n",
       "      <td>56.720430</td>\n",
       "      <td>highest validation accuracy: 77.41935483870968...</td>\n",
       "      <td>/cluster/tufts/hugheslab/zhuang12/HCI/NuripsDa...</td>\n",
       "    </tr>\n",
       "    <tr>\n",
       "      <th>10</th>\n",
       "      <td>71</td>\n",
       "      <td>77.419</td>\n",
       "      <td>24.462366</td>\n",
       "      <td>highest validation accuracy: 77.41935483870968...</td>\n",
       "      <td>/cluster/tufts/hugheslab/zhuang12/HCI/NuripsDa...</td>\n",
       "    </tr>\n",
       "    <tr>\n",
       "      <th>11</th>\n",
       "      <td>79</td>\n",
       "      <td>77.419</td>\n",
       "      <td>56.451613</td>\n",
       "      <td>highest validation accuracy: 77.41935483870968...</td>\n",
       "      <td>/cluster/tufts/hugheslab/zhuang12/HCI/NuripsDa...</td>\n",
       "    </tr>\n",
       "  </tbody>\n",
       "</table>\n",
       "</div>"
      ],
      "text/plain": [
       "    subject_id  max_validation_accuracy  corresponding_test_accuracy  \\\n",
       "3           14                   77.419                    86.827957   \n",
       "6           74                   77.419                    75.806452   \n",
       "8           13                   77.419                    25.268817   \n",
       "9           57                   77.419                    56.720430   \n",
       "10          71                   77.419                    24.462366   \n",
       "11          79                   77.419                    56.451613   \n",
       "\n",
       "                                   performance_string  \\\n",
       "3   highest validation accuracy: 77.41935483870968...   \n",
       "6   highest validation accuracy: 77.41935483870968...   \n",
       "8   highest validation accuracy: 77.41935483870968...   \n",
       "9   highest validation accuracy: 77.41935483870968...   \n",
       "10  highest validation accuracy: 77.41935483870968...   \n",
       "11  highest validation accuracy: 77.41935483870968...   \n",
       "\n",
       "                                    experiment_folder  \n",
       "3   /cluster/tufts/hugheslab/zhuang12/HCI/NuripsDa...  \n",
       "6   /cluster/tufts/hugheslab/zhuang12/HCI/NuripsDa...  \n",
       "8   /cluster/tufts/hugheslab/zhuang12/HCI/NuripsDa...  \n",
       "9   /cluster/tufts/hugheslab/zhuang12/HCI/NuripsDa...  \n",
       "10  /cluster/tufts/hugheslab/zhuang12/HCI/NuripsDa...  \n",
       "11  /cluster/tufts/hugheslab/zhuang12/HCI/NuripsDa...  "
      ]
     },
     "execution_count": 58,
     "metadata": {},
     "output_type": "execute_result"
    }
   ],
   "source": [
    "scenario_21vs4_FEMALE_df"
   ]
  },
  {
   "cell_type": "code",
   "execution_count": 59,
   "metadata": {},
   "outputs": [
    {
     "data": {
      "text/html": [
       "<div>\n",
       "<style scoped>\n",
       "    .dataframe tbody tr th:only-of-type {\n",
       "        vertical-align: middle;\n",
       "    }\n",
       "\n",
       "    .dataframe tbody tr th {\n",
       "        vertical-align: top;\n",
       "    }\n",
       "\n",
       "    .dataframe thead th {\n",
       "        text-align: right;\n",
       "    }\n",
       "</style>\n",
       "<table border=\"1\" class=\"dataframe\">\n",
       "  <thead>\n",
       "    <tr style=\"text-align: right;\">\n",
       "      <th></th>\n",
       "      <th>subject_id</th>\n",
       "      <th>max_validation_accuracy</th>\n",
       "      <th>corresponding_test_accuracy</th>\n",
       "      <th>performance_string</th>\n",
       "      <th>experiment_folder</th>\n",
       "    </tr>\n",
       "  </thead>\n",
       "  <tbody>\n",
       "    <tr>\n",
       "      <th>0</th>\n",
       "      <td>83</td>\n",
       "      <td>77.419</td>\n",
       "      <td>75.268817</td>\n",
       "      <td>highest validation accuracy: 77.41935483870968...</td>\n",
       "      <td>/cluster/tufts/hugheslab/zhuang12/HCI/NuripsDa...</td>\n",
       "    </tr>\n",
       "    <tr>\n",
       "      <th>1</th>\n",
       "      <td>56</td>\n",
       "      <td>77.419</td>\n",
       "      <td>92.741935</td>\n",
       "      <td>highest validation accuracy: 77.41935483870968...</td>\n",
       "      <td>/cluster/tufts/hugheslab/zhuang12/HCI/NuripsDa...</td>\n",
       "    </tr>\n",
       "    <tr>\n",
       "      <th>2</th>\n",
       "      <td>78</td>\n",
       "      <td>77.419</td>\n",
       "      <td>95.430108</td>\n",
       "      <td>highest validation accuracy: 77.41935483870968...</td>\n",
       "      <td>/cluster/tufts/hugheslab/zhuang12/HCI/NuripsDa...</td>\n",
       "    </tr>\n",
       "    <tr>\n",
       "      <th>4</th>\n",
       "      <td>68</td>\n",
       "      <td>77.419</td>\n",
       "      <td>48.655914</td>\n",
       "      <td>highest validation accuracy: 77.41935483870968...</td>\n",
       "      <td>/cluster/tufts/hugheslab/zhuang12/HCI/NuripsDa...</td>\n",
       "    </tr>\n",
       "    <tr>\n",
       "      <th>5</th>\n",
       "      <td>31</td>\n",
       "      <td>77.419</td>\n",
       "      <td>29.569892</td>\n",
       "      <td>highest validation accuracy: 77.41935483870968...</td>\n",
       "      <td>/cluster/tufts/hugheslab/zhuang12/HCI/NuripsDa...</td>\n",
       "    </tr>\n",
       "    <tr>\n",
       "      <th>7</th>\n",
       "      <td>72</td>\n",
       "      <td>77.419</td>\n",
       "      <td>57.795699</td>\n",
       "      <td>highest validation accuracy: 77.41935483870968...</td>\n",
       "      <td>/cluster/tufts/hugheslab/zhuang12/HCI/NuripsDa...</td>\n",
       "    </tr>\n",
       "  </tbody>\n",
       "</table>\n",
       "</div>"
      ],
      "text/plain": [
       "   subject_id  max_validation_accuracy  corresponding_test_accuracy  \\\n",
       "0          83                   77.419                    75.268817   \n",
       "1          56                   77.419                    92.741935   \n",
       "2          78                   77.419                    95.430108   \n",
       "4          68                   77.419                    48.655914   \n",
       "5          31                   77.419                    29.569892   \n",
       "7          72                   77.419                    57.795699   \n",
       "\n",
       "                                  performance_string  \\\n",
       "0  highest validation accuracy: 77.41935483870968...   \n",
       "1  highest validation accuracy: 77.41935483870968...   \n",
       "2  highest validation accuracy: 77.41935483870968...   \n",
       "4  highest validation accuracy: 77.41935483870968...   \n",
       "5  highest validation accuracy: 77.41935483870968...   \n",
       "7  highest validation accuracy: 77.41935483870968...   \n",
       "\n",
       "                                   experiment_folder  \n",
       "0  /cluster/tufts/hugheslab/zhuang12/HCI/NuripsDa...  \n",
       "1  /cluster/tufts/hugheslab/zhuang12/HCI/NuripsDa...  \n",
       "2  /cluster/tufts/hugheslab/zhuang12/HCI/NuripsDa...  \n",
       "4  /cluster/tufts/hugheslab/zhuang12/HCI/NuripsDa...  \n",
       "5  /cluster/tufts/hugheslab/zhuang12/HCI/NuripsDa...  \n",
       "7  /cluster/tufts/hugheslab/zhuang12/HCI/NuripsDa...  "
      ]
     },
     "execution_count": 59,
     "metadata": {},
     "output_type": "execute_result"
    }
   ],
   "source": [
    "scenario_21vs4_MALE_df"
   ]
  },
  {
   "cell_type": "code",
   "execution_count": null,
   "metadata": {},
   "outputs": [],
   "source": []
  },
  {
   "cell_type": "code",
   "execution_count": 60,
   "metadata": {
    "scrolled": false
   },
   "outputs": [
    {
     "name": "stdout",
     "output_type": "stream",
     "text": [
      "RF, Binary, Average Accuracy:\n",
      "FEMALE: 54.256272401433705\n",
      "MALE: 66.57706093189962\n"
     ]
    }
   ],
   "source": [
    "print('RF, Binary, Average Accuracy:')\n",
    "print('FEMALE: {}'.format(np.mean(scenario_21vs4_FEMALE_df.corresponding_test_accuracy.values)))\n",
    "print('MALE: {}'.format(np.mean(scenario_21vs4_MALE_df.corresponding_test_accuracy.values)))\n"
   ]
  },
  {
   "cell_type": "code",
   "execution_count": null,
   "metadata": {},
   "outputs": [],
   "source": []
  },
  {
   "cell_type": "markdown",
   "metadata": {},
   "source": [
    "### seed2"
   ]
  },
  {
   "cell_type": "code",
   "execution_count": 61,
   "metadata": {},
   "outputs": [],
   "source": [
    "root_path = '/cluster/tufts/hugheslab/zhuang12/HCI/NuripsDataSet2021/experiments/FixedTrainValSplit_generic_models/FemaleSubset/EEGNet/binary/'\n"
   ]
  },
  {
   "cell_type": "code",
   "execution_count": 62,
   "metadata": {},
   "outputs": [],
   "source": [
    "scenario_21vs6_summary_path = '21vs6/seed2_summary'\n",
    "\n"
   ]
  },
  {
   "cell_type": "code",
   "execution_count": 63,
   "metadata": {},
   "outputs": [],
   "source": [
    "scenario_21vs4_df = pd.read_csv(os.path.join(root_path, scenario_21vs6_summary_path, 'AllSubjects_summary.csv'))\n"
   ]
  },
  {
   "cell_type": "code",
   "execution_count": 64,
   "metadata": {},
   "outputs": [],
   "source": [
    "scenario_21vs4_FEMALE_df = scenario_21vs4_df.loc[scenario_21vs4_df['subject_id'].isin(FEMALE_list)]\n",
    "scenario_21vs4_MALE_df = scenario_21vs4_df.loc[scenario_21vs4_df['subject_id'].isin(MALE_list)]\n"
   ]
  },
  {
   "cell_type": "code",
   "execution_count": 65,
   "metadata": {
    "scrolled": true
   },
   "outputs": [
    {
     "data": {
      "text/html": [
       "<div>\n",
       "<style scoped>\n",
       "    .dataframe tbody tr th:only-of-type {\n",
       "        vertical-align: middle;\n",
       "    }\n",
       "\n",
       "    .dataframe tbody tr th {\n",
       "        vertical-align: top;\n",
       "    }\n",
       "\n",
       "    .dataframe thead th {\n",
       "        text-align: right;\n",
       "    }\n",
       "</style>\n",
       "<table border=\"1\" class=\"dataframe\">\n",
       "  <thead>\n",
       "    <tr style=\"text-align: right;\">\n",
       "      <th></th>\n",
       "      <th>subject_id</th>\n",
       "      <th>max_validation_accuracy</th>\n",
       "      <th>corresponding_test_accuracy</th>\n",
       "      <th>performance_string</th>\n",
       "      <th>experiment_folder</th>\n",
       "    </tr>\n",
       "  </thead>\n",
       "  <tbody>\n",
       "    <tr>\n",
       "      <th>0</th>\n",
       "      <td>85</td>\n",
       "      <td>76.058</td>\n",
       "      <td>65.591398</td>\n",
       "      <td>highest validation accuracy: 76.05846774193549...</td>\n",
       "      <td>/cluster/tufts/hugheslab/zhuang12/HCI/NuripsDa...</td>\n",
       "    </tr>\n",
       "    <tr>\n",
       "      <th>2</th>\n",
       "      <td>73</td>\n",
       "      <td>76.058</td>\n",
       "      <td>62.096774</td>\n",
       "      <td>highest validation accuracy: 76.05846774193549...</td>\n",
       "      <td>/cluster/tufts/hugheslab/zhuang12/HCI/NuripsDa...</td>\n",
       "    </tr>\n",
       "    <tr>\n",
       "      <th>4</th>\n",
       "      <td>14</td>\n",
       "      <td>76.058</td>\n",
       "      <td>78.225806</td>\n",
       "      <td>highest validation accuracy: 76.05846774193549...</td>\n",
       "      <td>/cluster/tufts/hugheslab/zhuang12/HCI/NuripsDa...</td>\n",
       "    </tr>\n",
       "    <tr>\n",
       "      <th>8</th>\n",
       "      <td>13</td>\n",
       "      <td>76.058</td>\n",
       "      <td>15.053763</td>\n",
       "      <td>highest validation accuracy: 76.05846774193549...</td>\n",
       "      <td>/cluster/tufts/hugheslab/zhuang12/HCI/NuripsDa...</td>\n",
       "    </tr>\n",
       "    <tr>\n",
       "      <th>10</th>\n",
       "      <td>22</td>\n",
       "      <td>76.058</td>\n",
       "      <td>77.150538</td>\n",
       "      <td>highest validation accuracy: 76.05846774193549...</td>\n",
       "      <td>/cluster/tufts/hugheslab/zhuang12/HCI/NuripsDa...</td>\n",
       "    </tr>\n",
       "    <tr>\n",
       "      <th>11</th>\n",
       "      <td>61</td>\n",
       "      <td>76.058</td>\n",
       "      <td>39.784946</td>\n",
       "      <td>highest validation accuracy: 76.05846774193549...</td>\n",
       "      <td>/cluster/tufts/hugheslab/zhuang12/HCI/NuripsDa...</td>\n",
       "    </tr>\n",
       "  </tbody>\n",
       "</table>\n",
       "</div>"
      ],
      "text/plain": [
       "    subject_id  max_validation_accuracy  corresponding_test_accuracy  \\\n",
       "0           85                   76.058                    65.591398   \n",
       "2           73                   76.058                    62.096774   \n",
       "4           14                   76.058                    78.225806   \n",
       "8           13                   76.058                    15.053763   \n",
       "10          22                   76.058                    77.150538   \n",
       "11          61                   76.058                    39.784946   \n",
       "\n",
       "                                   performance_string  \\\n",
       "0   highest validation accuracy: 76.05846774193549...   \n",
       "2   highest validation accuracy: 76.05846774193549...   \n",
       "4   highest validation accuracy: 76.05846774193549...   \n",
       "8   highest validation accuracy: 76.05846774193549...   \n",
       "10  highest validation accuracy: 76.05846774193549...   \n",
       "11  highest validation accuracy: 76.05846774193549...   \n",
       "\n",
       "                                    experiment_folder  \n",
       "0   /cluster/tufts/hugheslab/zhuang12/HCI/NuripsDa...  \n",
       "2   /cluster/tufts/hugheslab/zhuang12/HCI/NuripsDa...  \n",
       "4   /cluster/tufts/hugheslab/zhuang12/HCI/NuripsDa...  \n",
       "8   /cluster/tufts/hugheslab/zhuang12/HCI/NuripsDa...  \n",
       "10  /cluster/tufts/hugheslab/zhuang12/HCI/NuripsDa...  \n",
       "11  /cluster/tufts/hugheslab/zhuang12/HCI/NuripsDa...  "
      ]
     },
     "execution_count": 65,
     "metadata": {},
     "output_type": "execute_result"
    }
   ],
   "source": [
    "scenario_21vs4_FEMALE_df"
   ]
  },
  {
   "cell_type": "code",
   "execution_count": 66,
   "metadata": {},
   "outputs": [
    {
     "data": {
      "text/html": [
       "<div>\n",
       "<style scoped>\n",
       "    .dataframe tbody tr th:only-of-type {\n",
       "        vertical-align: middle;\n",
       "    }\n",
       "\n",
       "    .dataframe tbody tr th {\n",
       "        vertical-align: top;\n",
       "    }\n",
       "\n",
       "    .dataframe thead th {\n",
       "        text-align: right;\n",
       "    }\n",
       "</style>\n",
       "<table border=\"1\" class=\"dataframe\">\n",
       "  <thead>\n",
       "    <tr style=\"text-align: right;\">\n",
       "      <th></th>\n",
       "      <th>subject_id</th>\n",
       "      <th>max_validation_accuracy</th>\n",
       "      <th>corresponding_test_accuracy</th>\n",
       "      <th>performance_string</th>\n",
       "      <th>experiment_folder</th>\n",
       "    </tr>\n",
       "  </thead>\n",
       "  <tbody>\n",
       "    <tr>\n",
       "      <th>1</th>\n",
       "      <td>78</td>\n",
       "      <td>76.058</td>\n",
       "      <td>99.193548</td>\n",
       "      <td>highest validation accuracy: 76.05846774193549...</td>\n",
       "      <td>/cluster/tufts/hugheslab/zhuang12/HCI/NuripsDa...</td>\n",
       "    </tr>\n",
       "    <tr>\n",
       "      <th>3</th>\n",
       "      <td>43</td>\n",
       "      <td>76.058</td>\n",
       "      <td>86.290323</td>\n",
       "      <td>highest validation accuracy: 76.05846774193549...</td>\n",
       "      <td>/cluster/tufts/hugheslab/zhuang12/HCI/NuripsDa...</td>\n",
       "    </tr>\n",
       "    <tr>\n",
       "      <th>5</th>\n",
       "      <td>31</td>\n",
       "      <td>76.058</td>\n",
       "      <td>30.107527</td>\n",
       "      <td>highest validation accuracy: 76.05846774193549...</td>\n",
       "      <td>/cluster/tufts/hugheslab/zhuang12/HCI/NuripsDa...</td>\n",
       "    </tr>\n",
       "    <tr>\n",
       "      <th>6</th>\n",
       "      <td>58</td>\n",
       "      <td>76.058</td>\n",
       "      <td>54.838710</td>\n",
       "      <td>highest validation accuracy: 76.05846774193549...</td>\n",
       "      <td>/cluster/tufts/hugheslab/zhuang12/HCI/NuripsDa...</td>\n",
       "    </tr>\n",
       "    <tr>\n",
       "      <th>7</th>\n",
       "      <td>72</td>\n",
       "      <td>76.058</td>\n",
       "      <td>70.430108</td>\n",
       "      <td>highest validation accuracy: 76.05846774193549...</td>\n",
       "      <td>/cluster/tufts/hugheslab/zhuang12/HCI/NuripsDa...</td>\n",
       "    </tr>\n",
       "    <tr>\n",
       "      <th>9</th>\n",
       "      <td>81</td>\n",
       "      <td>76.058</td>\n",
       "      <td>83.064516</td>\n",
       "      <td>highest validation accuracy: 76.05846774193549...</td>\n",
       "      <td>/cluster/tufts/hugheslab/zhuang12/HCI/NuripsDa...</td>\n",
       "    </tr>\n",
       "  </tbody>\n",
       "</table>\n",
       "</div>"
      ],
      "text/plain": [
       "   subject_id  max_validation_accuracy  corresponding_test_accuracy  \\\n",
       "1          78                   76.058                    99.193548   \n",
       "3          43                   76.058                    86.290323   \n",
       "5          31                   76.058                    30.107527   \n",
       "6          58                   76.058                    54.838710   \n",
       "7          72                   76.058                    70.430108   \n",
       "9          81                   76.058                    83.064516   \n",
       "\n",
       "                                  performance_string  \\\n",
       "1  highest validation accuracy: 76.05846774193549...   \n",
       "3  highest validation accuracy: 76.05846774193549...   \n",
       "5  highest validation accuracy: 76.05846774193549...   \n",
       "6  highest validation accuracy: 76.05846774193549...   \n",
       "7  highest validation accuracy: 76.05846774193549...   \n",
       "9  highest validation accuracy: 76.05846774193549...   \n",
       "\n",
       "                                   experiment_folder  \n",
       "1  /cluster/tufts/hugheslab/zhuang12/HCI/NuripsDa...  \n",
       "3  /cluster/tufts/hugheslab/zhuang12/HCI/NuripsDa...  \n",
       "5  /cluster/tufts/hugheslab/zhuang12/HCI/NuripsDa...  \n",
       "6  /cluster/tufts/hugheslab/zhuang12/HCI/NuripsDa...  \n",
       "7  /cluster/tufts/hugheslab/zhuang12/HCI/NuripsDa...  \n",
       "9  /cluster/tufts/hugheslab/zhuang12/HCI/NuripsDa...  "
      ]
     },
     "execution_count": 66,
     "metadata": {},
     "output_type": "execute_result"
    }
   ],
   "source": [
    "scenario_21vs4_MALE_df"
   ]
  },
  {
   "cell_type": "code",
   "execution_count": null,
   "metadata": {},
   "outputs": [],
   "source": []
  },
  {
   "cell_type": "code",
   "execution_count": 67,
   "metadata": {
    "scrolled": false
   },
   "outputs": [
    {
     "name": "stdout",
     "output_type": "stream",
     "text": [
      "RF, Binary, Average Accuracy:\n",
      "FEMALE: 56.317204301075265\n",
      "MALE: 70.65412186379929\n"
     ]
    }
   ],
   "source": [
    "print('RF, Binary, Average Accuracy:')\n",
    "print('FEMALE: {}'.format(np.mean(scenario_21vs4_FEMALE_df.corresponding_test_accuracy.values)))\n",
    "print('MALE: {}'.format(np.mean(scenario_21vs4_MALE_df.corresponding_test_accuracy.values)))\n"
   ]
  },
  {
   "cell_type": "code",
   "execution_count": null,
   "metadata": {},
   "outputs": [],
   "source": []
  },
  {
   "cell_type": "markdown",
   "metadata": {},
   "source": [
    "### seed3"
   ]
  },
  {
   "cell_type": "code",
   "execution_count": 68,
   "metadata": {},
   "outputs": [],
   "source": [
    "root_path = '/cluster/tufts/hugheslab/zhuang12/HCI/NuripsDataSet2021/experiments/FixedTrainValSplit_generic_models/FemaleSubset/EEGNet/binary/'\n"
   ]
  },
  {
   "cell_type": "code",
   "execution_count": 69,
   "metadata": {},
   "outputs": [],
   "source": [
    "scenario_21vs6_summary_path = '21vs6/seed3_summary'\n",
    "\n"
   ]
  },
  {
   "cell_type": "code",
   "execution_count": 70,
   "metadata": {},
   "outputs": [],
   "source": [
    "scenario_21vs4_df = pd.read_csv(os.path.join(root_path, scenario_21vs6_summary_path, 'AllSubjects_summary.csv'))\n"
   ]
  },
  {
   "cell_type": "code",
   "execution_count": 71,
   "metadata": {},
   "outputs": [],
   "source": [
    "scenario_21vs4_FEMALE_df = scenario_21vs4_df.loc[scenario_21vs4_df['subject_id'].isin(FEMALE_list)]\n",
    "scenario_21vs4_MALE_df = scenario_21vs4_df.loc[scenario_21vs4_df['subject_id'].isin(MALE_list)]\n"
   ]
  },
  {
   "cell_type": "code",
   "execution_count": 72,
   "metadata": {
    "scrolled": true
   },
   "outputs": [
    {
     "data": {
      "text/html": [
       "<div>\n",
       "<style scoped>\n",
       "    .dataframe tbody tr th:only-of-type {\n",
       "        vertical-align: middle;\n",
       "    }\n",
       "\n",
       "    .dataframe tbody tr th {\n",
       "        vertical-align: top;\n",
       "    }\n",
       "\n",
       "    .dataframe thead th {\n",
       "        text-align: right;\n",
       "    }\n",
       "</style>\n",
       "<table border=\"1\" class=\"dataframe\">\n",
       "  <thead>\n",
       "    <tr style=\"text-align: right;\">\n",
       "      <th></th>\n",
       "      <th>subject_id</th>\n",
       "      <th>max_validation_accuracy</th>\n",
       "      <th>corresponding_test_accuracy</th>\n",
       "      <th>performance_string</th>\n",
       "      <th>experiment_folder</th>\n",
       "    </tr>\n",
       "  </thead>\n",
       "  <tbody>\n",
       "    <tr>\n",
       "      <th>1</th>\n",
       "      <td>21</td>\n",
       "      <td>67.96</td>\n",
       "      <td>33.064516</td>\n",
       "      <td>highest validation accuracy: 67.96034946236558...</td>\n",
       "      <td>/cluster/tufts/hugheslab/zhuang12/HCI/NuripsDa...</td>\n",
       "    </tr>\n",
       "    <tr>\n",
       "      <th>2</th>\n",
       "      <td>24</td>\n",
       "      <td>67.96</td>\n",
       "      <td>71.236559</td>\n",
       "      <td>highest validation accuracy: 67.96034946236558...</td>\n",
       "      <td>/cluster/tufts/hugheslab/zhuang12/HCI/NuripsDa...</td>\n",
       "    </tr>\n",
       "    <tr>\n",
       "      <th>3</th>\n",
       "      <td>14</td>\n",
       "      <td>67.96</td>\n",
       "      <td>82.795699</td>\n",
       "      <td>highest validation accuracy: 67.96034946236558...</td>\n",
       "      <td>/cluster/tufts/hugheslab/zhuang12/HCI/NuripsDa...</td>\n",
       "    </tr>\n",
       "    <tr>\n",
       "      <th>4</th>\n",
       "      <td>65</td>\n",
       "      <td>67.96</td>\n",
       "      <td>66.129032</td>\n",
       "      <td>highest validation accuracy: 67.96034946236558...</td>\n",
       "      <td>/cluster/tufts/hugheslab/zhuang12/HCI/NuripsDa...</td>\n",
       "    </tr>\n",
       "    <tr>\n",
       "      <th>10</th>\n",
       "      <td>25</td>\n",
       "      <td>67.96</td>\n",
       "      <td>58.870968</td>\n",
       "      <td>highest validation accuracy: 67.96034946236558...</td>\n",
       "      <td>/cluster/tufts/hugheslab/zhuang12/HCI/NuripsDa...</td>\n",
       "    </tr>\n",
       "    <tr>\n",
       "      <th>11</th>\n",
       "      <td>28</td>\n",
       "      <td>67.96</td>\n",
       "      <td>72.043011</td>\n",
       "      <td>highest validation accuracy: 67.96034946236558...</td>\n",
       "      <td>/cluster/tufts/hugheslab/zhuang12/HCI/NuripsDa...</td>\n",
       "    </tr>\n",
       "  </tbody>\n",
       "</table>\n",
       "</div>"
      ],
      "text/plain": [
       "    subject_id  max_validation_accuracy  corresponding_test_accuracy  \\\n",
       "1           21                    67.96                    33.064516   \n",
       "2           24                    67.96                    71.236559   \n",
       "3           14                    67.96                    82.795699   \n",
       "4           65                    67.96                    66.129032   \n",
       "10          25                    67.96                    58.870968   \n",
       "11          28                    67.96                    72.043011   \n",
       "\n",
       "                                   performance_string  \\\n",
       "1   highest validation accuracy: 67.96034946236558...   \n",
       "2   highest validation accuracy: 67.96034946236558...   \n",
       "3   highest validation accuracy: 67.96034946236558...   \n",
       "4   highest validation accuracy: 67.96034946236558...   \n",
       "10  highest validation accuracy: 67.96034946236558...   \n",
       "11  highest validation accuracy: 67.96034946236558...   \n",
       "\n",
       "                                    experiment_folder  \n",
       "1   /cluster/tufts/hugheslab/zhuang12/HCI/NuripsDa...  \n",
       "2   /cluster/tufts/hugheslab/zhuang12/HCI/NuripsDa...  \n",
       "3   /cluster/tufts/hugheslab/zhuang12/HCI/NuripsDa...  \n",
       "4   /cluster/tufts/hugheslab/zhuang12/HCI/NuripsDa...  \n",
       "10  /cluster/tufts/hugheslab/zhuang12/HCI/NuripsDa...  \n",
       "11  /cluster/tufts/hugheslab/zhuang12/HCI/NuripsDa...  "
      ]
     },
     "execution_count": 72,
     "metadata": {},
     "output_type": "execute_result"
    }
   ],
   "source": [
    "scenario_21vs4_FEMALE_df"
   ]
  },
  {
   "cell_type": "code",
   "execution_count": 73,
   "metadata": {},
   "outputs": [
    {
     "data": {
      "text/html": [
       "<div>\n",
       "<style scoped>\n",
       "    .dataframe tbody tr th:only-of-type {\n",
       "        vertical-align: middle;\n",
       "    }\n",
       "\n",
       "    .dataframe tbody tr th {\n",
       "        vertical-align: top;\n",
       "    }\n",
       "\n",
       "    .dataframe thead th {\n",
       "        text-align: right;\n",
       "    }\n",
       "</style>\n",
       "<table border=\"1\" class=\"dataframe\">\n",
       "  <thead>\n",
       "    <tr style=\"text-align: right;\">\n",
       "      <th></th>\n",
       "      <th>subject_id</th>\n",
       "      <th>max_validation_accuracy</th>\n",
       "      <th>corresponding_test_accuracy</th>\n",
       "      <th>performance_string</th>\n",
       "      <th>experiment_folder</th>\n",
       "    </tr>\n",
       "  </thead>\n",
       "  <tbody>\n",
       "    <tr>\n",
       "      <th>0</th>\n",
       "      <td>56</td>\n",
       "      <td>67.96</td>\n",
       "      <td>97.043011</td>\n",
       "      <td>highest validation accuracy: 67.96034946236558...</td>\n",
       "      <td>/cluster/tufts/hugheslab/zhuang12/HCI/NuripsDa...</td>\n",
       "    </tr>\n",
       "    <tr>\n",
       "      <th>5</th>\n",
       "      <td>68</td>\n",
       "      <td>67.96</td>\n",
       "      <td>29.301075</td>\n",
       "      <td>highest validation accuracy: 67.96034946236558...</td>\n",
       "      <td>/cluster/tufts/hugheslab/zhuang12/HCI/NuripsDa...</td>\n",
       "    </tr>\n",
       "    <tr>\n",
       "      <th>6</th>\n",
       "      <td>58</td>\n",
       "      <td>67.96</td>\n",
       "      <td>45.161290</td>\n",
       "      <td>highest validation accuracy: 67.96034946236558...</td>\n",
       "      <td>/cluster/tufts/hugheslab/zhuang12/HCI/NuripsDa...</td>\n",
       "    </tr>\n",
       "    <tr>\n",
       "      <th>7</th>\n",
       "      <td>29</td>\n",
       "      <td>67.96</td>\n",
       "      <td>88.978495</td>\n",
       "      <td>highest validation accuracy: 67.96034946236558...</td>\n",
       "      <td>/cluster/tufts/hugheslab/zhuang12/HCI/NuripsDa...</td>\n",
       "    </tr>\n",
       "    <tr>\n",
       "      <th>8</th>\n",
       "      <td>48</td>\n",
       "      <td>67.96</td>\n",
       "      <td>63.978495</td>\n",
       "      <td>highest validation accuracy: 67.96034946236558...</td>\n",
       "      <td>/cluster/tufts/hugheslab/zhuang12/HCI/NuripsDa...</td>\n",
       "    </tr>\n",
       "    <tr>\n",
       "      <th>9</th>\n",
       "      <td>54</td>\n",
       "      <td>67.96</td>\n",
       "      <td>75.000000</td>\n",
       "      <td>highest validation accuracy: 67.96034946236558...</td>\n",
       "      <td>/cluster/tufts/hugheslab/zhuang12/HCI/NuripsDa...</td>\n",
       "    </tr>\n",
       "  </tbody>\n",
       "</table>\n",
       "</div>"
      ],
      "text/plain": [
       "   subject_id  max_validation_accuracy  corresponding_test_accuracy  \\\n",
       "0          56                    67.96                    97.043011   \n",
       "5          68                    67.96                    29.301075   \n",
       "6          58                    67.96                    45.161290   \n",
       "7          29                    67.96                    88.978495   \n",
       "8          48                    67.96                    63.978495   \n",
       "9          54                    67.96                    75.000000   \n",
       "\n",
       "                                  performance_string  \\\n",
       "0  highest validation accuracy: 67.96034946236558...   \n",
       "5  highest validation accuracy: 67.96034946236558...   \n",
       "6  highest validation accuracy: 67.96034946236558...   \n",
       "7  highest validation accuracy: 67.96034946236558...   \n",
       "8  highest validation accuracy: 67.96034946236558...   \n",
       "9  highest validation accuracy: 67.96034946236558...   \n",
       "\n",
       "                                   experiment_folder  \n",
       "0  /cluster/tufts/hugheslab/zhuang12/HCI/NuripsDa...  \n",
       "5  /cluster/tufts/hugheslab/zhuang12/HCI/NuripsDa...  \n",
       "6  /cluster/tufts/hugheslab/zhuang12/HCI/NuripsDa...  \n",
       "7  /cluster/tufts/hugheslab/zhuang12/HCI/NuripsDa...  \n",
       "8  /cluster/tufts/hugheslab/zhuang12/HCI/NuripsDa...  \n",
       "9  /cluster/tufts/hugheslab/zhuang12/HCI/NuripsDa...  "
      ]
     },
     "execution_count": 73,
     "metadata": {},
     "output_type": "execute_result"
    }
   ],
   "source": [
    "scenario_21vs4_MALE_df"
   ]
  },
  {
   "cell_type": "code",
   "execution_count": null,
   "metadata": {},
   "outputs": [],
   "source": []
  },
  {
   "cell_type": "code",
   "execution_count": 74,
   "metadata": {
    "scrolled": false
   },
   "outputs": [
    {
     "name": "stdout",
     "output_type": "stream",
     "text": [
      "RF, Binary, Average Accuracy:\n",
      "FEMALE: 64.02329749103943\n",
      "MALE: 66.57706093189965\n"
     ]
    }
   ],
   "source": [
    "print('RF, Binary, Average Accuracy:')\n",
    "print('FEMALE: {}'.format(np.mean(scenario_21vs4_FEMALE_df.corresponding_test_accuracy.values)))\n",
    "print('MALE: {}'.format(np.mean(scenario_21vs4_MALE_df.corresponding_test_accuracy.values)))\n"
   ]
  },
  {
   "cell_type": "code",
   "execution_count": null,
   "metadata": {},
   "outputs": [],
   "source": []
  },
  {
   "cell_type": "markdown",
   "metadata": {},
   "source": [
    "### seed4"
   ]
  },
  {
   "cell_type": "code",
   "execution_count": 75,
   "metadata": {},
   "outputs": [],
   "source": [
    "root_path = '/cluster/tufts/hugheslab/zhuang12/HCI/NuripsDataSet2021/experiments/FixedTrainValSplit_generic_models/FemaleSubset/EEGNet/binary/'\n"
   ]
  },
  {
   "cell_type": "code",
   "execution_count": 76,
   "metadata": {},
   "outputs": [],
   "source": [
    "scenario_21vs6_summary_path = '21vs6/seed4_summary'\n",
    "\n"
   ]
  },
  {
   "cell_type": "code",
   "execution_count": 77,
   "metadata": {},
   "outputs": [],
   "source": [
    "scenario_21vs4_df = pd.read_csv(os.path.join(root_path, scenario_21vs6_summary_path, 'AllSubjects_summary.csv'))\n"
   ]
  },
  {
   "cell_type": "code",
   "execution_count": 78,
   "metadata": {},
   "outputs": [],
   "source": [
    "scenario_21vs4_FEMALE_df = scenario_21vs4_df.loc[scenario_21vs4_df['subject_id'].isin(FEMALE_list)]\n",
    "scenario_21vs4_MALE_df = scenario_21vs4_df.loc[scenario_21vs4_df['subject_id'].isin(MALE_list)]\n"
   ]
  },
  {
   "cell_type": "code",
   "execution_count": 79,
   "metadata": {
    "scrolled": true
   },
   "outputs": [
    {
     "data": {
      "text/html": [
       "<div>\n",
       "<style scoped>\n",
       "    .dataframe tbody tr th:only-of-type {\n",
       "        vertical-align: middle;\n",
       "    }\n",
       "\n",
       "    .dataframe tbody tr th {\n",
       "        vertical-align: top;\n",
       "    }\n",
       "\n",
       "    .dataframe thead th {\n",
       "        text-align: right;\n",
       "    }\n",
       "</style>\n",
       "<table border=\"1\" class=\"dataframe\">\n",
       "  <thead>\n",
       "    <tr style=\"text-align: right;\">\n",
       "      <th></th>\n",
       "      <th>subject_id</th>\n",
       "      <th>max_validation_accuracy</th>\n",
       "      <th>corresponding_test_accuracy</th>\n",
       "      <th>performance_string</th>\n",
       "      <th>experiment_folder</th>\n",
       "    </tr>\n",
       "  </thead>\n",
       "  <tbody>\n",
       "  </tbody>\n",
       "</table>\n",
       "</div>"
      ],
      "text/plain": [
       "Empty DataFrame\n",
       "Columns: [subject_id, max_validation_accuracy, corresponding_test_accuracy, performance_string, experiment_folder]\n",
       "Index: []"
      ]
     },
     "execution_count": 79,
     "metadata": {},
     "output_type": "execute_result"
    }
   ],
   "source": [
    "scenario_21vs4_FEMALE_df"
   ]
  },
  {
   "cell_type": "code",
   "execution_count": 80,
   "metadata": {},
   "outputs": [
    {
     "data": {
      "text/html": [
       "<div>\n",
       "<style scoped>\n",
       "    .dataframe tbody tr th:only-of-type {\n",
       "        vertical-align: middle;\n",
       "    }\n",
       "\n",
       "    .dataframe tbody tr th {\n",
       "        vertical-align: top;\n",
       "    }\n",
       "\n",
       "    .dataframe thead th {\n",
       "        text-align: right;\n",
       "    }\n",
       "</style>\n",
       "<table border=\"1\" class=\"dataframe\">\n",
       "  <thead>\n",
       "    <tr style=\"text-align: right;\">\n",
       "      <th></th>\n",
       "      <th>subject_id</th>\n",
       "      <th>max_validation_accuracy</th>\n",
       "      <th>corresponding_test_accuracy</th>\n",
       "      <th>performance_string</th>\n",
       "      <th>experiment_folder</th>\n",
       "    </tr>\n",
       "  </thead>\n",
       "  <tbody>\n",
       "  </tbody>\n",
       "</table>\n",
       "</div>"
      ],
      "text/plain": [
       "Empty DataFrame\n",
       "Columns: [subject_id, max_validation_accuracy, corresponding_test_accuracy, performance_string, experiment_folder]\n",
       "Index: []"
      ]
     },
     "execution_count": 80,
     "metadata": {},
     "output_type": "execute_result"
    }
   ],
   "source": [
    "scenario_21vs4_MALE_df"
   ]
  },
  {
   "cell_type": "code",
   "execution_count": null,
   "metadata": {},
   "outputs": [],
   "source": []
  },
  {
   "cell_type": "code",
   "execution_count": 81,
   "metadata": {
    "scrolled": false
   },
   "outputs": [
    {
     "name": "stdout",
     "output_type": "stream",
     "text": [
      "RF, Binary, Average Accuracy:\n"
     ]
    },
    {
     "name": "stderr",
     "output_type": "stream",
     "text": [
      "/cluster/tufts/hugheslab/miniconda2/envs/pytorch_a100/lib/python3.8/site-packages/numpy/core/fromnumeric.py:3372: RuntimeWarning: Mean of empty slice.\n",
      "  return _methods._mean(a, axis=axis, dtype=dtype,\n"
     ]
    },
    {
     "ename": "ZeroDivisionError",
     "evalue": "division by zero",
     "output_type": "error",
     "traceback": [
      "\u001b[0;31m---------------------------------------------------------------------------\u001b[0m",
      "\u001b[0;31mZeroDivisionError\u001b[0m                         Traceback (most recent call last)",
      "\u001b[0;32m<ipython-input-81-0e400c9fd33b>\u001b[0m in \u001b[0;36m<module>\u001b[0;34m\u001b[0m\n\u001b[1;32m      1\u001b[0m \u001b[0mprint\u001b[0m\u001b[0;34m(\u001b[0m\u001b[0;34m'RF, Binary, Average Accuracy:'\u001b[0m\u001b[0;34m)\u001b[0m\u001b[0;34m\u001b[0m\u001b[0;34m\u001b[0m\u001b[0m\n\u001b[0;32m----> 2\u001b[0;31m \u001b[0mprint\u001b[0m\u001b[0;34m(\u001b[0m\u001b[0;34m'FEMALE: {}'\u001b[0m\u001b[0;34m.\u001b[0m\u001b[0mformat\u001b[0m\u001b[0;34m(\u001b[0m\u001b[0mnp\u001b[0m\u001b[0;34m.\u001b[0m\u001b[0mmean\u001b[0m\u001b[0;34m(\u001b[0m\u001b[0mscenario_21vs4_FEMALE_df\u001b[0m\u001b[0;34m.\u001b[0m\u001b[0mcorresponding_test_accuracy\u001b[0m\u001b[0;34m.\u001b[0m\u001b[0mvalues\u001b[0m\u001b[0;34m)\u001b[0m\u001b[0;34m)\u001b[0m\u001b[0;34m)\u001b[0m\u001b[0;34m\u001b[0m\u001b[0;34m\u001b[0m\u001b[0m\n\u001b[0m\u001b[1;32m      3\u001b[0m \u001b[0mprint\u001b[0m\u001b[0;34m(\u001b[0m\u001b[0;34m'MALE: {}'\u001b[0m\u001b[0;34m.\u001b[0m\u001b[0mformat\u001b[0m\u001b[0;34m(\u001b[0m\u001b[0mnp\u001b[0m\u001b[0;34m.\u001b[0m\u001b[0mmean\u001b[0m\u001b[0;34m(\u001b[0m\u001b[0mscenario_21vs4_MALE_df\u001b[0m\u001b[0;34m.\u001b[0m\u001b[0mcorresponding_test_accuracy\u001b[0m\u001b[0;34m.\u001b[0m\u001b[0mvalues\u001b[0m\u001b[0;34m)\u001b[0m\u001b[0;34m)\u001b[0m\u001b[0;34m)\u001b[0m\u001b[0;34m\u001b[0m\u001b[0;34m\u001b[0m\u001b[0m\n",
      "\u001b[0;32m<__array_function__ internals>\u001b[0m in \u001b[0;36mmean\u001b[0;34m(*args, **kwargs)\u001b[0m\n",
      "\u001b[0;32m/cluster/tufts/hugheslab/miniconda2/envs/pytorch_a100/lib/python3.8/site-packages/numpy/core/fromnumeric.py\u001b[0m in \u001b[0;36mmean\u001b[0;34m(a, axis, dtype, out, keepdims)\u001b[0m\n\u001b[1;32m   3370\u001b[0m             \u001b[0;32mreturn\u001b[0m \u001b[0mmean\u001b[0m\u001b[0;34m(\u001b[0m\u001b[0maxis\u001b[0m\u001b[0;34m=\u001b[0m\u001b[0maxis\u001b[0m\u001b[0;34m,\u001b[0m \u001b[0mdtype\u001b[0m\u001b[0;34m=\u001b[0m\u001b[0mdtype\u001b[0m\u001b[0;34m,\u001b[0m \u001b[0mout\u001b[0m\u001b[0;34m=\u001b[0m\u001b[0mout\u001b[0m\u001b[0;34m,\u001b[0m \u001b[0;34m**\u001b[0m\u001b[0mkwargs\u001b[0m\u001b[0;34m)\u001b[0m\u001b[0;34m\u001b[0m\u001b[0;34m\u001b[0m\u001b[0m\n\u001b[1;32m   3371\u001b[0m \u001b[0;34m\u001b[0m\u001b[0m\n\u001b[0;32m-> 3372\u001b[0;31m     return _methods._mean(a, axis=axis, dtype=dtype,\n\u001b[0m\u001b[1;32m   3373\u001b[0m                           out=out, **kwargs)\n\u001b[1;32m   3374\u001b[0m \u001b[0;34m\u001b[0m\u001b[0m\n",
      "\u001b[0;32m/cluster/tufts/hugheslab/miniconda2/envs/pytorch_a100/lib/python3.8/site-packages/numpy/core/_methods.py\u001b[0m in \u001b[0;36m_mean\u001b[0;34m(a, axis, dtype, out, keepdims)\u001b[0m\n\u001b[1;32m    170\u001b[0m             \u001b[0mret\u001b[0m \u001b[0;34m=\u001b[0m \u001b[0mret\u001b[0m\u001b[0;34m.\u001b[0m\u001b[0mdtype\u001b[0m\u001b[0;34m.\u001b[0m\u001b[0mtype\u001b[0m\u001b[0;34m(\u001b[0m\u001b[0mret\u001b[0m \u001b[0;34m/\u001b[0m \u001b[0mrcount\u001b[0m\u001b[0;34m)\u001b[0m\u001b[0;34m\u001b[0m\u001b[0;34m\u001b[0m\u001b[0m\n\u001b[1;32m    171\u001b[0m     \u001b[0;32melse\u001b[0m\u001b[0;34m:\u001b[0m\u001b[0;34m\u001b[0m\u001b[0;34m\u001b[0m\u001b[0m\n\u001b[0;32m--> 172\u001b[0;31m         \u001b[0mret\u001b[0m \u001b[0;34m=\u001b[0m \u001b[0mret\u001b[0m \u001b[0;34m/\u001b[0m \u001b[0mrcount\u001b[0m\u001b[0;34m\u001b[0m\u001b[0;34m\u001b[0m\u001b[0m\n\u001b[0m\u001b[1;32m    173\u001b[0m \u001b[0;34m\u001b[0m\u001b[0m\n\u001b[1;32m    174\u001b[0m     \u001b[0;32mreturn\u001b[0m \u001b[0mret\u001b[0m\u001b[0;34m\u001b[0m\u001b[0;34m\u001b[0m\u001b[0m\n",
      "\u001b[0;31mZeroDivisionError\u001b[0m: division by zero"
     ]
    }
   ],
   "source": [
    "print('RF, Binary, Average Accuracy:')\n",
    "print('FEMALE: {}'.format(np.mean(scenario_21vs4_FEMALE_df.corresponding_test_accuracy.values)))\n",
    "print('MALE: {}'.format(np.mean(scenario_21vs4_MALE_df.corresponding_test_accuracy.values)))\n"
   ]
  },
  {
   "cell_type": "code",
   "execution_count": null,
   "metadata": {},
   "outputs": [],
   "source": []
  },
  {
   "cell_type": "markdown",
   "metadata": {},
   "source": [
    "### seed5"
   ]
  },
  {
   "cell_type": "code",
   "execution_count": 82,
   "metadata": {},
   "outputs": [],
   "source": [
    "root_path = '/cluster/tufts/hugheslab/zhuang12/HCI/NuripsDataSet2021/experiments/FixedTrainValSplit_generic_models/FemaleSubset/EEGNet/binary/'\n"
   ]
  },
  {
   "cell_type": "code",
   "execution_count": 83,
   "metadata": {},
   "outputs": [],
   "source": [
    "scenario_21vs6_summary_path = '21vs6/seed5_summary'\n",
    "\n"
   ]
  },
  {
   "cell_type": "code",
   "execution_count": 84,
   "metadata": {},
   "outputs": [],
   "source": [
    "scenario_21vs4_df = pd.read_csv(os.path.join(root_path, scenario_21vs6_summary_path, 'AllSubjects_summary.csv'))\n"
   ]
  },
  {
   "cell_type": "code",
   "execution_count": 85,
   "metadata": {},
   "outputs": [],
   "source": [
    "scenario_21vs4_FEMALE_df = scenario_21vs4_df.loc[scenario_21vs4_df['subject_id'].isin(FEMALE_list)]\n",
    "scenario_21vs4_MALE_df = scenario_21vs4_df.loc[scenario_21vs4_df['subject_id'].isin(MALE_list)]\n"
   ]
  },
  {
   "cell_type": "code",
   "execution_count": 86,
   "metadata": {
    "scrolled": true
   },
   "outputs": [
    {
     "data": {
      "text/html": [
       "<div>\n",
       "<style scoped>\n",
       "    .dataframe tbody tr th:only-of-type {\n",
       "        vertical-align: middle;\n",
       "    }\n",
       "\n",
       "    .dataframe tbody tr th {\n",
       "        vertical-align: top;\n",
       "    }\n",
       "\n",
       "    .dataframe thead th {\n",
       "        text-align: right;\n",
       "    }\n",
       "</style>\n",
       "<table border=\"1\" class=\"dataframe\">\n",
       "  <thead>\n",
       "    <tr style=\"text-align: right;\">\n",
       "      <th></th>\n",
       "      <th>subject_id</th>\n",
       "      <th>max_validation_accuracy</th>\n",
       "      <th>corresponding_test_accuracy</th>\n",
       "      <th>performance_string</th>\n",
       "      <th>experiment_folder</th>\n",
       "    </tr>\n",
       "  </thead>\n",
       "  <tbody>\n",
       "    <tr>\n",
       "      <th>2</th>\n",
       "      <td>46</td>\n",
       "      <td>NaN</td>\n",
       "      <td>NaN</td>\n",
       "      <td>NaN</td>\n",
       "      <td>/cluster/tufts/hugheslab/zhuang12/HCI/NuripsDa...</td>\n",
       "    </tr>\n",
       "    <tr>\n",
       "      <th>4</th>\n",
       "      <td>82</td>\n",
       "      <td>NaN</td>\n",
       "      <td>NaN</td>\n",
       "      <td>NaN</td>\n",
       "      <td>/cluster/tufts/hugheslab/zhuang12/HCI/NuripsDa...</td>\n",
       "    </tr>\n",
       "    <tr>\n",
       "      <th>5</th>\n",
       "      <td>91</td>\n",
       "      <td>NaN</td>\n",
       "      <td>NaN</td>\n",
       "      <td>NaN</td>\n",
       "      <td>/cluster/tufts/hugheslab/zhuang12/HCI/NuripsDa...</td>\n",
       "    </tr>\n",
       "    <tr>\n",
       "      <th>6</th>\n",
       "      <td>32</td>\n",
       "      <td>NaN</td>\n",
       "      <td>NaN</td>\n",
       "      <td>NaN</td>\n",
       "      <td>/cluster/tufts/hugheslab/zhuang12/HCI/NuripsDa...</td>\n",
       "    </tr>\n",
       "    <tr>\n",
       "      <th>9</th>\n",
       "      <td>22</td>\n",
       "      <td>NaN</td>\n",
       "      <td>NaN</td>\n",
       "      <td>NaN</td>\n",
       "      <td>/cluster/tufts/hugheslab/zhuang12/HCI/NuripsDa...</td>\n",
       "    </tr>\n",
       "    <tr>\n",
       "      <th>10</th>\n",
       "      <td>71</td>\n",
       "      <td>NaN</td>\n",
       "      <td>NaN</td>\n",
       "      <td>NaN</td>\n",
       "      <td>/cluster/tufts/hugheslab/zhuang12/HCI/NuripsDa...</td>\n",
       "    </tr>\n",
       "  </tbody>\n",
       "</table>\n",
       "</div>"
      ],
      "text/plain": [
       "    subject_id  max_validation_accuracy  corresponding_test_accuracy  \\\n",
       "2           46                      NaN                          NaN   \n",
       "4           82                      NaN                          NaN   \n",
       "5           91                      NaN                          NaN   \n",
       "6           32                      NaN                          NaN   \n",
       "9           22                      NaN                          NaN   \n",
       "10          71                      NaN                          NaN   \n",
       "\n",
       "    performance_string                                  experiment_folder  \n",
       "2                  NaN  /cluster/tufts/hugheslab/zhuang12/HCI/NuripsDa...  \n",
       "4                  NaN  /cluster/tufts/hugheslab/zhuang12/HCI/NuripsDa...  \n",
       "5                  NaN  /cluster/tufts/hugheslab/zhuang12/HCI/NuripsDa...  \n",
       "6                  NaN  /cluster/tufts/hugheslab/zhuang12/HCI/NuripsDa...  \n",
       "9                  NaN  /cluster/tufts/hugheslab/zhuang12/HCI/NuripsDa...  \n",
       "10                 NaN  /cluster/tufts/hugheslab/zhuang12/HCI/NuripsDa...  "
      ]
     },
     "execution_count": 86,
     "metadata": {},
     "output_type": "execute_result"
    }
   ],
   "source": [
    "scenario_21vs4_FEMALE_df"
   ]
  },
  {
   "cell_type": "code",
   "execution_count": 87,
   "metadata": {},
   "outputs": [
    {
     "data": {
      "text/html": [
       "<div>\n",
       "<style scoped>\n",
       "    .dataframe tbody tr th:only-of-type {\n",
       "        vertical-align: middle;\n",
       "    }\n",
       "\n",
       "    .dataframe tbody tr th {\n",
       "        vertical-align: top;\n",
       "    }\n",
       "\n",
       "    .dataframe thead th {\n",
       "        text-align: right;\n",
       "    }\n",
       "</style>\n",
       "<table border=\"1\" class=\"dataframe\">\n",
       "  <thead>\n",
       "    <tr style=\"text-align: right;\">\n",
       "      <th></th>\n",
       "      <th>subject_id</th>\n",
       "      <th>max_validation_accuracy</th>\n",
       "      <th>corresponding_test_accuracy</th>\n",
       "      <th>performance_string</th>\n",
       "      <th>experiment_folder</th>\n",
       "    </tr>\n",
       "  </thead>\n",
       "  <tbody>\n",
       "    <tr>\n",
       "      <th>0</th>\n",
       "      <td>80</td>\n",
       "      <td>NaN</td>\n",
       "      <td>NaN</td>\n",
       "      <td>NaN</td>\n",
       "      <td>/cluster/tufts/hugheslab/zhuang12/HCI/NuripsDa...</td>\n",
       "    </tr>\n",
       "    <tr>\n",
       "      <th>1</th>\n",
       "      <td>83</td>\n",
       "      <td>NaN</td>\n",
       "      <td>NaN</td>\n",
       "      <td>NaN</td>\n",
       "      <td>/cluster/tufts/hugheslab/zhuang12/HCI/NuripsDa...</td>\n",
       "    </tr>\n",
       "    <tr>\n",
       "      <th>3</th>\n",
       "      <td>92</td>\n",
       "      <td>NaN</td>\n",
       "      <td>NaN</td>\n",
       "      <td>NaN</td>\n",
       "      <td>/cluster/tufts/hugheslab/zhuang12/HCI/NuripsDa...</td>\n",
       "    </tr>\n",
       "    <tr>\n",
       "      <th>7</th>\n",
       "      <td>86</td>\n",
       "      <td>NaN</td>\n",
       "      <td>NaN</td>\n",
       "      <td>NaN</td>\n",
       "      <td>/cluster/tufts/hugheslab/zhuang12/HCI/NuripsDa...</td>\n",
       "    </tr>\n",
       "    <tr>\n",
       "      <th>8</th>\n",
       "      <td>54</td>\n",
       "      <td>NaN</td>\n",
       "      <td>NaN</td>\n",
       "      <td>NaN</td>\n",
       "      <td>/cluster/tufts/hugheslab/zhuang12/HCI/NuripsDa...</td>\n",
       "    </tr>\n",
       "    <tr>\n",
       "      <th>11</th>\n",
       "      <td>44</td>\n",
       "      <td>NaN</td>\n",
       "      <td>NaN</td>\n",
       "      <td>NaN</td>\n",
       "      <td>/cluster/tufts/hugheslab/zhuang12/HCI/NuripsDa...</td>\n",
       "    </tr>\n",
       "  </tbody>\n",
       "</table>\n",
       "</div>"
      ],
      "text/plain": [
       "    subject_id  max_validation_accuracy  corresponding_test_accuracy  \\\n",
       "0           80                      NaN                          NaN   \n",
       "1           83                      NaN                          NaN   \n",
       "3           92                      NaN                          NaN   \n",
       "7           86                      NaN                          NaN   \n",
       "8           54                      NaN                          NaN   \n",
       "11          44                      NaN                          NaN   \n",
       "\n",
       "    performance_string                                  experiment_folder  \n",
       "0                  NaN  /cluster/tufts/hugheslab/zhuang12/HCI/NuripsDa...  \n",
       "1                  NaN  /cluster/tufts/hugheslab/zhuang12/HCI/NuripsDa...  \n",
       "3                  NaN  /cluster/tufts/hugheslab/zhuang12/HCI/NuripsDa...  \n",
       "7                  NaN  /cluster/tufts/hugheslab/zhuang12/HCI/NuripsDa...  \n",
       "8                  NaN  /cluster/tufts/hugheslab/zhuang12/HCI/NuripsDa...  \n",
       "11                 NaN  /cluster/tufts/hugheslab/zhuang12/HCI/NuripsDa...  "
      ]
     },
     "execution_count": 87,
     "metadata": {},
     "output_type": "execute_result"
    }
   ],
   "source": [
    "scenario_21vs4_MALE_df"
   ]
  },
  {
   "cell_type": "code",
   "execution_count": null,
   "metadata": {},
   "outputs": [],
   "source": []
  },
  {
   "cell_type": "code",
   "execution_count": 88,
   "metadata": {
    "scrolled": false
   },
   "outputs": [
    {
     "name": "stdout",
     "output_type": "stream",
     "text": [
      "RF, Binary, Average Accuracy:\n",
      "FEMALE: nan\n",
      "MALE: nan\n"
     ]
    }
   ],
   "source": [
    "print('RF, Binary, Average Accuracy:')\n",
    "print('FEMALE: {}'.format(np.mean(scenario_21vs4_FEMALE_df.corresponding_test_accuracy.values)))\n",
    "print('MALE: {}'.format(np.mean(scenario_21vs4_MALE_df.corresponding_test_accuracy.values)))\n"
   ]
  },
  {
   "cell_type": "code",
   "execution_count": null,
   "metadata": {},
   "outputs": [],
   "source": []
  },
  {
   "cell_type": "markdown",
   "metadata": {},
   "source": [
    "### seed6"
   ]
  },
  {
   "cell_type": "code",
   "execution_count": 89,
   "metadata": {},
   "outputs": [],
   "source": [
    "root_path = '/cluster/tufts/hugheslab/zhuang12/HCI/NuripsDataSet2021/experiments/FixedTrainValSplit_generic_models/FemaleSubset/EEGNet/binary/'\n"
   ]
  },
  {
   "cell_type": "code",
   "execution_count": 90,
   "metadata": {},
   "outputs": [],
   "source": [
    "scenario_21vs6_summary_path = '21vs6/seed6_summary'\n",
    "\n"
   ]
  },
  {
   "cell_type": "code",
   "execution_count": 91,
   "metadata": {},
   "outputs": [],
   "source": [
    "scenario_21vs4_df = pd.read_csv(os.path.join(root_path, scenario_21vs6_summary_path, 'AllSubjects_summary.csv'))\n"
   ]
  },
  {
   "cell_type": "code",
   "execution_count": 92,
   "metadata": {},
   "outputs": [],
   "source": [
    "scenario_21vs4_FEMALE_df = scenario_21vs4_df.loc[scenario_21vs4_df['subject_id'].isin(FEMALE_list)]\n",
    "scenario_21vs4_MALE_df = scenario_21vs4_df.loc[scenario_21vs4_df['subject_id'].isin(MALE_list)]\n"
   ]
  },
  {
   "cell_type": "code",
   "execution_count": 93,
   "metadata": {
    "scrolled": true
   },
   "outputs": [
    {
     "data": {
      "text/html": [
       "<div>\n",
       "<style scoped>\n",
       "    .dataframe tbody tr th:only-of-type {\n",
       "        vertical-align: middle;\n",
       "    }\n",
       "\n",
       "    .dataframe tbody tr th {\n",
       "        vertical-align: top;\n",
       "    }\n",
       "\n",
       "    .dataframe thead th {\n",
       "        text-align: right;\n",
       "    }\n",
       "</style>\n",
       "<table border=\"1\" class=\"dataframe\">\n",
       "  <thead>\n",
       "    <tr style=\"text-align: right;\">\n",
       "      <th></th>\n",
       "      <th>subject_id</th>\n",
       "      <th>max_validation_accuracy</th>\n",
       "      <th>corresponding_test_accuracy</th>\n",
       "      <th>performance_string</th>\n",
       "      <th>experiment_folder</th>\n",
       "    </tr>\n",
       "  </thead>\n",
       "  <tbody>\n",
       "    <tr>\n",
       "      <th>1</th>\n",
       "      <td>24</td>\n",
       "      <td>67.44</td>\n",
       "      <td>58.333333</td>\n",
       "      <td>highest validation accuracy: 67.43951612903226...</td>\n",
       "      <td>/cluster/tufts/hugheslab/zhuang12/HCI/NuripsDa...</td>\n",
       "    </tr>\n",
       "    <tr>\n",
       "      <th>3</th>\n",
       "      <td>73</td>\n",
       "      <td>67.44</td>\n",
       "      <td>55.107527</td>\n",
       "      <td>highest validation accuracy: 67.43951612903226...</td>\n",
       "      <td>/cluster/tufts/hugheslab/zhuang12/HCI/NuripsDa...</td>\n",
       "    </tr>\n",
       "    <tr>\n",
       "      <th>4</th>\n",
       "      <td>60</td>\n",
       "      <td>67.44</td>\n",
       "      <td>40.591398</td>\n",
       "      <td>highest validation accuracy: 67.43951612903226...</td>\n",
       "      <td>/cluster/tufts/hugheslab/zhuang12/HCI/NuripsDa...</td>\n",
       "    </tr>\n",
       "    <tr>\n",
       "      <th>6</th>\n",
       "      <td>82</td>\n",
       "      <td>67.44</td>\n",
       "      <td>51.344086</td>\n",
       "      <td>highest validation accuracy: 67.43951612903226...</td>\n",
       "      <td>/cluster/tufts/hugheslab/zhuang12/HCI/NuripsDa...</td>\n",
       "    </tr>\n",
       "    <tr>\n",
       "      <th>7</th>\n",
       "      <td>55</td>\n",
       "      <td>67.44</td>\n",
       "      <td>92.741935</td>\n",
       "      <td>highest validation accuracy: 67.43951612903226...</td>\n",
       "      <td>/cluster/tufts/hugheslab/zhuang12/HCI/NuripsDa...</td>\n",
       "    </tr>\n",
       "    <tr>\n",
       "      <th>9</th>\n",
       "      <td>71</td>\n",
       "      <td>67.44</td>\n",
       "      <td>37.365591</td>\n",
       "      <td>highest validation accuracy: 67.43951612903226...</td>\n",
       "      <td>/cluster/tufts/hugheslab/zhuang12/HCI/NuripsDa...</td>\n",
       "    </tr>\n",
       "  </tbody>\n",
       "</table>\n",
       "</div>"
      ],
      "text/plain": [
       "   subject_id  max_validation_accuracy  corresponding_test_accuracy  \\\n",
       "1          24                    67.44                    58.333333   \n",
       "3          73                    67.44                    55.107527   \n",
       "4          60                    67.44                    40.591398   \n",
       "6          82                    67.44                    51.344086   \n",
       "7          55                    67.44                    92.741935   \n",
       "9          71                    67.44                    37.365591   \n",
       "\n",
       "                                  performance_string  \\\n",
       "1  highest validation accuracy: 67.43951612903226...   \n",
       "3  highest validation accuracy: 67.43951612903226...   \n",
       "4  highest validation accuracy: 67.43951612903226...   \n",
       "6  highest validation accuracy: 67.43951612903226...   \n",
       "7  highest validation accuracy: 67.43951612903226...   \n",
       "9  highest validation accuracy: 67.43951612903226...   \n",
       "\n",
       "                                   experiment_folder  \n",
       "1  /cluster/tufts/hugheslab/zhuang12/HCI/NuripsDa...  \n",
       "3  /cluster/tufts/hugheslab/zhuang12/HCI/NuripsDa...  \n",
       "4  /cluster/tufts/hugheslab/zhuang12/HCI/NuripsDa...  \n",
       "6  /cluster/tufts/hugheslab/zhuang12/HCI/NuripsDa...  \n",
       "7  /cluster/tufts/hugheslab/zhuang12/HCI/NuripsDa...  \n",
       "9  /cluster/tufts/hugheslab/zhuang12/HCI/NuripsDa...  "
      ]
     },
     "execution_count": 93,
     "metadata": {},
     "output_type": "execute_result"
    }
   ],
   "source": [
    "scenario_21vs4_FEMALE_df"
   ]
  },
  {
   "cell_type": "code",
   "execution_count": 94,
   "metadata": {},
   "outputs": [
    {
     "data": {
      "text/html": [
       "<div>\n",
       "<style scoped>\n",
       "    .dataframe tbody tr th:only-of-type {\n",
       "        vertical-align: middle;\n",
       "    }\n",
       "\n",
       "    .dataframe tbody tr th {\n",
       "        vertical-align: top;\n",
       "    }\n",
       "\n",
       "    .dataframe thead th {\n",
       "        text-align: right;\n",
       "    }\n",
       "</style>\n",
       "<table border=\"1\" class=\"dataframe\">\n",
       "  <thead>\n",
       "    <tr style=\"text-align: right;\">\n",
       "      <th></th>\n",
       "      <th>subject_id</th>\n",
       "      <th>max_validation_accuracy</th>\n",
       "      <th>corresponding_test_accuracy</th>\n",
       "      <th>performance_string</th>\n",
       "      <th>experiment_folder</th>\n",
       "    </tr>\n",
       "  </thead>\n",
       "  <tbody>\n",
       "    <tr>\n",
       "      <th>0</th>\n",
       "      <td>83</td>\n",
       "      <td>67.44</td>\n",
       "      <td>53.225806</td>\n",
       "      <td>highest validation accuracy: 67.43951612903226...</td>\n",
       "      <td>/cluster/tufts/hugheslab/zhuang12/HCI/NuripsDa...</td>\n",
       "    </tr>\n",
       "    <tr>\n",
       "      <th>2</th>\n",
       "      <td>78</td>\n",
       "      <td>67.44</td>\n",
       "      <td>91.935484</td>\n",
       "      <td>highest validation accuracy: 67.43951612903226...</td>\n",
       "      <td>/cluster/tufts/hugheslab/zhuang12/HCI/NuripsDa...</td>\n",
       "    </tr>\n",
       "    <tr>\n",
       "      <th>5</th>\n",
       "      <td>31</td>\n",
       "      <td>67.44</td>\n",
       "      <td>41.935484</td>\n",
       "      <td>highest validation accuracy: 67.43951612903226...</td>\n",
       "      <td>/cluster/tufts/hugheslab/zhuang12/HCI/NuripsDa...</td>\n",
       "    </tr>\n",
       "    <tr>\n",
       "      <th>8</th>\n",
       "      <td>64</td>\n",
       "      <td>67.44</td>\n",
       "      <td>93.548387</td>\n",
       "      <td>highest validation accuracy: 67.43951612903226...</td>\n",
       "      <td>/cluster/tufts/hugheslab/zhuang12/HCI/NuripsDa...</td>\n",
       "    </tr>\n",
       "    <tr>\n",
       "      <th>10</th>\n",
       "      <td>44</td>\n",
       "      <td>67.44</td>\n",
       "      <td>53.225806</td>\n",
       "      <td>highest validation accuracy: 67.43951612903226...</td>\n",
       "      <td>/cluster/tufts/hugheslab/zhuang12/HCI/NuripsDa...</td>\n",
       "    </tr>\n",
       "    <tr>\n",
       "      <th>11</th>\n",
       "      <td>42</td>\n",
       "      <td>67.44</td>\n",
       "      <td>64.247312</td>\n",
       "      <td>highest validation accuracy: 67.43951612903226...</td>\n",
       "      <td>/cluster/tufts/hugheslab/zhuang12/HCI/NuripsDa...</td>\n",
       "    </tr>\n",
       "  </tbody>\n",
       "</table>\n",
       "</div>"
      ],
      "text/plain": [
       "    subject_id  max_validation_accuracy  corresponding_test_accuracy  \\\n",
       "0           83                    67.44                    53.225806   \n",
       "2           78                    67.44                    91.935484   \n",
       "5           31                    67.44                    41.935484   \n",
       "8           64                    67.44                    93.548387   \n",
       "10          44                    67.44                    53.225806   \n",
       "11          42                    67.44                    64.247312   \n",
       "\n",
       "                                   performance_string  \\\n",
       "0   highest validation accuracy: 67.43951612903226...   \n",
       "2   highest validation accuracy: 67.43951612903226...   \n",
       "5   highest validation accuracy: 67.43951612903226...   \n",
       "8   highest validation accuracy: 67.43951612903226...   \n",
       "10  highest validation accuracy: 67.43951612903226...   \n",
       "11  highest validation accuracy: 67.43951612903226...   \n",
       "\n",
       "                                    experiment_folder  \n",
       "0   /cluster/tufts/hugheslab/zhuang12/HCI/NuripsDa...  \n",
       "2   /cluster/tufts/hugheslab/zhuang12/HCI/NuripsDa...  \n",
       "5   /cluster/tufts/hugheslab/zhuang12/HCI/NuripsDa...  \n",
       "8   /cluster/tufts/hugheslab/zhuang12/HCI/NuripsDa...  \n",
       "10  /cluster/tufts/hugheslab/zhuang12/HCI/NuripsDa...  \n",
       "11  /cluster/tufts/hugheslab/zhuang12/HCI/NuripsDa...  "
      ]
     },
     "execution_count": 94,
     "metadata": {},
     "output_type": "execute_result"
    }
   ],
   "source": [
    "scenario_21vs4_MALE_df"
   ]
  },
  {
   "cell_type": "code",
   "execution_count": null,
   "metadata": {},
   "outputs": [],
   "source": []
  },
  {
   "cell_type": "code",
   "execution_count": 95,
   "metadata": {
    "scrolled": false
   },
   "outputs": [
    {
     "name": "stdout",
     "output_type": "stream",
     "text": [
      "RF, Binary, Average Accuracy:\n",
      "FEMALE: 55.913978494623656\n",
      "MALE: 66.35304659498208\n"
     ]
    }
   ],
   "source": [
    "print('RF, Binary, Average Accuracy:')\n",
    "print('FEMALE: {}'.format(np.mean(scenario_21vs4_FEMALE_df.corresponding_test_accuracy.values)))\n",
    "print('MALE: {}'.format(np.mean(scenario_21vs4_MALE_df.corresponding_test_accuracy.values)))\n"
   ]
  },
  {
   "cell_type": "code",
   "execution_count": null,
   "metadata": {},
   "outputs": [],
   "source": []
  },
  {
   "cell_type": "markdown",
   "metadata": {},
   "source": [
    "### seed7"
   ]
  },
  {
   "cell_type": "code",
   "execution_count": 96,
   "metadata": {},
   "outputs": [],
   "source": [
    "root_path = '/cluster/tufts/hugheslab/zhuang12/HCI/NuripsDataSet2021/experiments/FixedTrainValSplit_generic_models/FemaleSubset/EEGNet/binary/'\n"
   ]
  },
  {
   "cell_type": "code",
   "execution_count": 97,
   "metadata": {},
   "outputs": [],
   "source": [
    "scenario_21vs6_summary_path = '21vs6/seed7_summary'\n",
    "\n"
   ]
  },
  {
   "cell_type": "code",
   "execution_count": 98,
   "metadata": {},
   "outputs": [],
   "source": [
    "scenario_21vs4_df = pd.read_csv(os.path.join(root_path, scenario_21vs6_summary_path, 'AllSubjects_summary.csv'))\n"
   ]
  },
  {
   "cell_type": "code",
   "execution_count": 99,
   "metadata": {},
   "outputs": [],
   "source": [
    "scenario_21vs4_FEMALE_df = scenario_21vs4_df.loc[scenario_21vs4_df['subject_id'].isin(FEMALE_list)]\n",
    "scenario_21vs4_MALE_df = scenario_21vs4_df.loc[scenario_21vs4_df['subject_id'].isin(MALE_list)]\n"
   ]
  },
  {
   "cell_type": "code",
   "execution_count": 100,
   "metadata": {
    "scrolled": true
   },
   "outputs": [
    {
     "data": {
      "text/html": [
       "<div>\n",
       "<style scoped>\n",
       "    .dataframe tbody tr th:only-of-type {\n",
       "        vertical-align: middle;\n",
       "    }\n",
       "\n",
       "    .dataframe tbody tr th {\n",
       "        vertical-align: top;\n",
       "    }\n",
       "\n",
       "    .dataframe thead th {\n",
       "        text-align: right;\n",
       "    }\n",
       "</style>\n",
       "<table border=\"1\" class=\"dataframe\">\n",
       "  <thead>\n",
       "    <tr style=\"text-align: right;\">\n",
       "      <th></th>\n",
       "      <th>subject_id</th>\n",
       "      <th>max_validation_accuracy</th>\n",
       "      <th>corresponding_test_accuracy</th>\n",
       "      <th>performance_string</th>\n",
       "      <th>experiment_folder</th>\n",
       "    </tr>\n",
       "  </thead>\n",
       "  <tbody>\n",
       "    <tr>\n",
       "      <th>0</th>\n",
       "      <td>51</td>\n",
       "      <td>68.498</td>\n",
       "      <td>67.204301</td>\n",
       "      <td>highest validation accuracy: 68.49798387096774...</td>\n",
       "      <td>/cluster/tufts/hugheslab/zhuang12/HCI/NuripsDa...</td>\n",
       "    </tr>\n",
       "    <tr>\n",
       "      <th>1</th>\n",
       "      <td>73</td>\n",
       "      <td>68.498</td>\n",
       "      <td>57.258065</td>\n",
       "      <td>highest validation accuracy: 68.49798387096774...</td>\n",
       "      <td>/cluster/tufts/hugheslab/zhuang12/HCI/NuripsDa...</td>\n",
       "    </tr>\n",
       "    <tr>\n",
       "      <th>3</th>\n",
       "      <td>60</td>\n",
       "      <td>68.498</td>\n",
       "      <td>43.279570</td>\n",
       "      <td>highest validation accuracy: 68.49798387096774...</td>\n",
       "      <td>/cluster/tufts/hugheslab/zhuang12/HCI/NuripsDa...</td>\n",
       "    </tr>\n",
       "    <tr>\n",
       "      <th>7</th>\n",
       "      <td>94</td>\n",
       "      <td>68.498</td>\n",
       "      <td>65.322581</td>\n",
       "      <td>highest validation accuracy: 68.49798387096774...</td>\n",
       "      <td>/cluster/tufts/hugheslab/zhuang12/HCI/NuripsDa...</td>\n",
       "    </tr>\n",
       "    <tr>\n",
       "      <th>10</th>\n",
       "      <td>22</td>\n",
       "      <td>68.498</td>\n",
       "      <td>60.215054</td>\n",
       "      <td>highest validation accuracy: 68.49798387096774...</td>\n",
       "      <td>/cluster/tufts/hugheslab/zhuang12/HCI/NuripsDa...</td>\n",
       "    </tr>\n",
       "    <tr>\n",
       "      <th>11</th>\n",
       "      <td>20</td>\n",
       "      <td>68.498</td>\n",
       "      <td>52.150538</td>\n",
       "      <td>highest validation accuracy: 68.49798387096774...</td>\n",
       "      <td>/cluster/tufts/hugheslab/zhuang12/HCI/NuripsDa...</td>\n",
       "    </tr>\n",
       "  </tbody>\n",
       "</table>\n",
       "</div>"
      ],
      "text/plain": [
       "    subject_id  max_validation_accuracy  corresponding_test_accuracy  \\\n",
       "0           51                   68.498                    67.204301   \n",
       "1           73                   68.498                    57.258065   \n",
       "3           60                   68.498                    43.279570   \n",
       "7           94                   68.498                    65.322581   \n",
       "10          22                   68.498                    60.215054   \n",
       "11          20                   68.498                    52.150538   \n",
       "\n",
       "                                   performance_string  \\\n",
       "0   highest validation accuracy: 68.49798387096774...   \n",
       "1   highest validation accuracy: 68.49798387096774...   \n",
       "3   highest validation accuracy: 68.49798387096774...   \n",
       "7   highest validation accuracy: 68.49798387096774...   \n",
       "10  highest validation accuracy: 68.49798387096774...   \n",
       "11  highest validation accuracy: 68.49798387096774...   \n",
       "\n",
       "                                    experiment_folder  \n",
       "0   /cluster/tufts/hugheslab/zhuang12/HCI/NuripsDa...  \n",
       "1   /cluster/tufts/hugheslab/zhuang12/HCI/NuripsDa...  \n",
       "3   /cluster/tufts/hugheslab/zhuang12/HCI/NuripsDa...  \n",
       "7   /cluster/tufts/hugheslab/zhuang12/HCI/NuripsDa...  \n",
       "10  /cluster/tufts/hugheslab/zhuang12/HCI/NuripsDa...  \n",
       "11  /cluster/tufts/hugheslab/zhuang12/HCI/NuripsDa...  "
      ]
     },
     "execution_count": 100,
     "metadata": {},
     "output_type": "execute_result"
    }
   ],
   "source": [
    "scenario_21vs4_FEMALE_df"
   ]
  },
  {
   "cell_type": "code",
   "execution_count": 101,
   "metadata": {},
   "outputs": [
    {
     "data": {
      "text/html": [
       "<div>\n",
       "<style scoped>\n",
       "    .dataframe tbody tr th:only-of-type {\n",
       "        vertical-align: middle;\n",
       "    }\n",
       "\n",
       "    .dataframe tbody tr th {\n",
       "        vertical-align: top;\n",
       "    }\n",
       "\n",
       "    .dataframe thead th {\n",
       "        text-align: right;\n",
       "    }\n",
       "</style>\n",
       "<table border=\"1\" class=\"dataframe\">\n",
       "  <thead>\n",
       "    <tr style=\"text-align: right;\">\n",
       "      <th></th>\n",
       "      <th>subject_id</th>\n",
       "      <th>max_validation_accuracy</th>\n",
       "      <th>corresponding_test_accuracy</th>\n",
       "      <th>performance_string</th>\n",
       "      <th>experiment_folder</th>\n",
       "    </tr>\n",
       "  </thead>\n",
       "  <tbody>\n",
       "    <tr>\n",
       "      <th>2</th>\n",
       "      <td>92</td>\n",
       "      <td>68.498</td>\n",
       "      <td>79.301075</td>\n",
       "      <td>highest validation accuracy: 68.49798387096774...</td>\n",
       "      <td>/cluster/tufts/hugheslab/zhuang12/HCI/NuripsDa...</td>\n",
       "    </tr>\n",
       "    <tr>\n",
       "      <th>4</th>\n",
       "      <td>36</td>\n",
       "      <td>68.498</td>\n",
       "      <td>71.774194</td>\n",
       "      <td>highest validation accuracy: 68.49798387096774...</td>\n",
       "      <td>/cluster/tufts/hugheslab/zhuang12/HCI/NuripsDa...</td>\n",
       "    </tr>\n",
       "    <tr>\n",
       "      <th>5</th>\n",
       "      <td>31</td>\n",
       "      <td>68.498</td>\n",
       "      <td>48.655914</td>\n",
       "      <td>highest validation accuracy: 68.49798387096774...</td>\n",
       "      <td>/cluster/tufts/hugheslab/zhuang12/HCI/NuripsDa...</td>\n",
       "    </tr>\n",
       "    <tr>\n",
       "      <th>6</th>\n",
       "      <td>1</td>\n",
       "      <td>68.498</td>\n",
       "      <td>62.634409</td>\n",
       "      <td>highest validation accuracy: 68.49798387096774...</td>\n",
       "      <td>/cluster/tufts/hugheslab/zhuang12/HCI/NuripsDa...</td>\n",
       "    </tr>\n",
       "    <tr>\n",
       "      <th>8</th>\n",
       "      <td>86</td>\n",
       "      <td>68.498</td>\n",
       "      <td>50.000000</td>\n",
       "      <td>highest validation accuracy: 68.49798387096774...</td>\n",
       "      <td>/cluster/tufts/hugheslab/zhuang12/HCI/NuripsDa...</td>\n",
       "    </tr>\n",
       "    <tr>\n",
       "      <th>9</th>\n",
       "      <td>81</td>\n",
       "      <td>68.498</td>\n",
       "      <td>80.376344</td>\n",
       "      <td>highest validation accuracy: 68.49798387096774...</td>\n",
       "      <td>/cluster/tufts/hugheslab/zhuang12/HCI/NuripsDa...</td>\n",
       "    </tr>\n",
       "  </tbody>\n",
       "</table>\n",
       "</div>"
      ],
      "text/plain": [
       "   subject_id  max_validation_accuracy  corresponding_test_accuracy  \\\n",
       "2          92                   68.498                    79.301075   \n",
       "4          36                   68.498                    71.774194   \n",
       "5          31                   68.498                    48.655914   \n",
       "6           1                   68.498                    62.634409   \n",
       "8          86                   68.498                    50.000000   \n",
       "9          81                   68.498                    80.376344   \n",
       "\n",
       "                                  performance_string  \\\n",
       "2  highest validation accuracy: 68.49798387096774...   \n",
       "4  highest validation accuracy: 68.49798387096774...   \n",
       "5  highest validation accuracy: 68.49798387096774...   \n",
       "6  highest validation accuracy: 68.49798387096774...   \n",
       "8  highest validation accuracy: 68.49798387096774...   \n",
       "9  highest validation accuracy: 68.49798387096774...   \n",
       "\n",
       "                                   experiment_folder  \n",
       "2  /cluster/tufts/hugheslab/zhuang12/HCI/NuripsDa...  \n",
       "4  /cluster/tufts/hugheslab/zhuang12/HCI/NuripsDa...  \n",
       "5  /cluster/tufts/hugheslab/zhuang12/HCI/NuripsDa...  \n",
       "6  /cluster/tufts/hugheslab/zhuang12/HCI/NuripsDa...  \n",
       "8  /cluster/tufts/hugheslab/zhuang12/HCI/NuripsDa...  \n",
       "9  /cluster/tufts/hugheslab/zhuang12/HCI/NuripsDa...  "
      ]
     },
     "execution_count": 101,
     "metadata": {},
     "output_type": "execute_result"
    }
   ],
   "source": [
    "scenario_21vs4_MALE_df"
   ]
  },
  {
   "cell_type": "code",
   "execution_count": null,
   "metadata": {},
   "outputs": [],
   "source": []
  },
  {
   "cell_type": "code",
   "execution_count": 102,
   "metadata": {
    "scrolled": false
   },
   "outputs": [
    {
     "name": "stdout",
     "output_type": "stream",
     "text": [
      "RF, Binary, Average Accuracy:\n",
      "FEMALE: 57.571684587813614\n",
      "MALE: 65.45698924731182\n"
     ]
    }
   ],
   "source": [
    "print('RF, Binary, Average Accuracy:')\n",
    "print('FEMALE: {}'.format(np.mean(scenario_21vs4_FEMALE_df.corresponding_test_accuracy.values)))\n",
    "print('MALE: {}'.format(np.mean(scenario_21vs4_MALE_df.corresponding_test_accuracy.values)))\n"
   ]
  },
  {
   "cell_type": "code",
   "execution_count": null,
   "metadata": {},
   "outputs": [],
   "source": []
  }
 ],
 "metadata": {
  "kernelspec": {
   "display_name": "Python 3",
   "language": "python",
   "name": "python3"
  },
  "language_info": {
   "codemirror_mode": {
    "name": "ipython",
    "version": 3
   },
   "file_extension": ".py",
   "mimetype": "text/x-python",
   "name": "python",
   "nbconvert_exporter": "python",
   "pygments_lexer": "ipython3",
   "version": "3.8.8"
  }
 },
 "nbformat": 4,
 "nbformat_minor": 4
}
