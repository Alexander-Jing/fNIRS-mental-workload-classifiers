{
 "cells": [
  {
   "cell_type": "code",
   "execution_count": 1,
   "metadata": {},
   "outputs": [],
   "source": [
    "import numpy as np\n",
    "import os\n",
    "\n"
   ]
  },
  {
   "cell_type": "code",
   "execution_count": 2,
   "metadata": {},
   "outputs": [
    {
     "name": "stdout",
     "output_type": "stream",
     "text": [
      "WHITE_list size: 27\n",
      "ASIAN_list size: 32\n",
      "URG_list size: 6\n"
     ]
    }
   ],
   "source": [
    "WHITE_list = np.array([14, 15, 20, 21, 23, 29, 31, 32, 34, 36, 38, 40, 42, 45, 47, 48, 64, 69, 79, 80, 82, 85, 86, 91, 92, 95, 97])\n",
    "ASIAN_list = np.array([5, 7, 13, 24, 25, 27, 35, 37, 43, 44, 46, 49, 51, 52, 54, 55, 56, 57, 61, 63, 65, 68, 71, 72, 73, 74, 75, 76, 81, 84, 93, 94])\n",
    "URG_list = np.array([22, 70, 78, 28, 60, 58])\n",
    "\n",
    "\n",
    "print('WHITE_list size: {}'.format(len(WHITE_list)))\n",
    "print('ASIAN_list size: {}'.format(len(ASIAN_list)))\n",
    "print('URG_list size: {}'.format(len(URG_list)))\n"
   ]
  },
  {
   "cell_type": "code",
   "execution_count": null,
   "metadata": {},
   "outputs": [],
   "source": []
  },
  {
   "cell_type": "markdown",
   "metadata": {},
   "source": [
    "## White experiment:  use 26 ASIAN as development, and 6 as test"
   ]
  },
  {
   "cell_type": "markdown",
   "metadata": {},
   "source": [
    "### random seed1"
   ]
  },
  {
   "cell_type": "code",
   "execution_count": 3,
   "metadata": {},
   "outputs": [],
   "source": [
    "np.random.seed(1)\n"
   ]
  },
  {
   "cell_type": "code",
   "execution_count": 4,
   "metadata": {},
   "outputs": [],
   "source": [
    "np.random.shuffle(ASIAN_list)\n",
    "np.random.shuffle(WHITE_list)\n"
   ]
  },
  {
   "cell_type": "code",
   "execution_count": 5,
   "metadata": {},
   "outputs": [
    {
     "name": "stdout",
     "output_type": "stream",
     "text": [
      "size train set: 20\n",
      "size val set: 6\n",
      "size test set URG: 6\n",
      "size test set WHITE: 6\n",
      "size test set ASIAN: 6\n"
     ]
    }
   ],
   "source": [
    "development_subjects = ASIAN_list[6:]\n",
    "np.random.shuffle(development_subjects)\n",
    "\n",
    "train_subjects = development_subjects[:20]\n",
    "val_subjects = development_subjects[20:26]\n",
    "\n",
    "test_subjects_URG = URG_list.copy()\n",
    "test_subjects_WHITE = WHITE_list[:6]\n",
    "test_subjects_ASIAN = ASIAN_list[:6]\n",
    "\n",
    "print('size train set: {}'.format(len(train_subjects)))\n",
    "print('size val set: {}'.format(len(val_subjects)))\n",
    "\n",
    "print('size test set URG: {}'.format(len(test_subjects_URG)))\n",
    "print('size test set WHITE: {}'.format(len(test_subjects_WHITE)))\n",
    "print('size test set ASIAN: {}'.format(len(test_subjects_ASIAN)))\n",
    "\n"
   ]
  },
  {
   "cell_type": "code",
   "execution_count": 6,
   "metadata": {},
   "outputs": [
    {
     "name": "stdout",
     "output_type": "stream",
     "text": [
      "train_subjects: [51 27 81 35 44 46 49 84 54 52 65 25 43 74  5 75 63 93 73 68]\n",
      "val_subjects: [ 7 55 13 94 37 56]\n",
      "test_subjects_URG: [22 70 78 28 60 58]\n",
      "test_subjects_white: [40 79 20 42 64 85]\n",
      "test_subjects_asian: [76 24 71 61 72 57]\n"
     ]
    }
   ],
   "source": [
    "print('train_subjects: {}'.format(train_subjects))\n",
    "print('val_subjects: {}'.format(val_subjects))\n",
    "\n",
    "print('test_subjects_URG: {}'.format(test_subjects_URG))\n",
    "print('test_subjects_white: {}'.format(test_subjects_WHITE))\n",
    "print('test_subjects_asian: {}'.format(test_subjects_ASIAN))\n"
   ]
  },
  {
   "cell_type": "code",
   "execution_count": null,
   "metadata": {},
   "outputs": [],
   "source": []
  },
  {
   "cell_type": "markdown",
   "metadata": {},
   "source": [
    "### random seed2"
   ]
  },
  {
   "cell_type": "code",
   "execution_count": 7,
   "metadata": {},
   "outputs": [],
   "source": [
    "np.random.seed(2)\n"
   ]
  },
  {
   "cell_type": "code",
   "execution_count": 8,
   "metadata": {},
   "outputs": [],
   "source": [
    "np.random.shuffle(ASIAN_list)\n",
    "np.random.shuffle(WHITE_list)\n"
   ]
  },
  {
   "cell_type": "code",
   "execution_count": 9,
   "metadata": {},
   "outputs": [
    {
     "name": "stdout",
     "output_type": "stream",
     "text": [
      "size train set: 20\n",
      "size val set: 6\n",
      "size test set URG: 6\n",
      "size test set WHITE: 6\n",
      "size test set ASIAN: 6\n"
     ]
    }
   ],
   "source": [
    "development_subjects = ASIAN_list[6:]\n",
    "np.random.shuffle(development_subjects)\n",
    "\n",
    "train_subjects = development_subjects[:20]\n",
    "val_subjects = development_subjects[20:26]\n",
    "\n",
    "test_subjects_URG = URG_list.copy()\n",
    "test_subjects_WHITE = WHITE_list[:6]\n",
    "test_subjects_ASIAN = ASIAN_list[:6]\n",
    "\n",
    "print('size train set: {}'.format(len(train_subjects)))\n",
    "print('size val set: {}'.format(len(val_subjects)))\n",
    "\n",
    "print('size test set URG: {}'.format(len(test_subjects_URG)))\n",
    "print('size test set WHITE: {}'.format(len(test_subjects_WHITE)))\n",
    "print('size test set ASIAN: {}'.format(len(test_subjects_ASIAN)))\n",
    "\n"
   ]
  },
  {
   "cell_type": "code",
   "execution_count": 10,
   "metadata": {},
   "outputs": [
    {
     "name": "stdout",
     "output_type": "stream",
     "text": [
      "train_subjects: [72 68 27 75 52 46 65 71 73 63 74 44 81 13 54 84 55 37 51  7]\n",
      "val_subjects: [56 57 24 43 25 61]\n",
      "test_subjects_URG: [22 70 78 28 60 58]\n",
      "test_subjects_white: [85 38 42 29 48 40]\n",
      "test_subjects_asian: [ 5 76 93 49 94 35]\n"
     ]
    }
   ],
   "source": [
    "print('train_subjects: {}'.format(train_subjects))\n",
    "print('val_subjects: {}'.format(val_subjects))\n",
    "\n",
    "print('test_subjects_URG: {}'.format(test_subjects_URG))\n",
    "print('test_subjects_white: {}'.format(test_subjects_WHITE))\n",
    "print('test_subjects_asian: {}'.format(test_subjects_ASIAN))\n"
   ]
  },
  {
   "cell_type": "code",
   "execution_count": null,
   "metadata": {},
   "outputs": [],
   "source": []
  },
  {
   "cell_type": "markdown",
   "metadata": {},
   "source": [
    "### random seed3"
   ]
  },
  {
   "cell_type": "code",
   "execution_count": 11,
   "metadata": {},
   "outputs": [],
   "source": [
    "np.random.seed(3)\n"
   ]
  },
  {
   "cell_type": "code",
   "execution_count": 12,
   "metadata": {},
   "outputs": [],
   "source": [
    "np.random.shuffle(ASIAN_list)\n",
    "np.random.shuffle(WHITE_list)\n"
   ]
  },
  {
   "cell_type": "code",
   "execution_count": 13,
   "metadata": {},
   "outputs": [
    {
     "name": "stdout",
     "output_type": "stream",
     "text": [
      "size train set: 20\n",
      "size val set: 6\n",
      "size test set URG: 6\n",
      "size test set WHITE: 6\n",
      "size test set ASIAN: 6\n"
     ]
    }
   ],
   "source": [
    "development_subjects = ASIAN_list[6:]\n",
    "np.random.shuffle(development_subjects)\n",
    "\n",
    "train_subjects = development_subjects[:20]\n",
    "val_subjects = development_subjects[20:26]\n",
    "\n",
    "test_subjects_URG = URG_list.copy()\n",
    "test_subjects_WHITE = WHITE_list[:6]\n",
    "test_subjects_ASIAN = ASIAN_list[:6]\n",
    "\n",
    "print('size train set: {}'.format(len(train_subjects)))\n",
    "print('size val set: {}'.format(len(val_subjects)))\n",
    "\n",
    "print('size test set URG: {}'.format(len(test_subjects_URG)))\n",
    "print('size test set WHITE: {}'.format(len(test_subjects_WHITE)))\n",
    "print('size test set ASIAN: {}'.format(len(test_subjects_ASIAN)))\n",
    "\n"
   ]
  },
  {
   "cell_type": "code",
   "execution_count": 14,
   "metadata": {},
   "outputs": [
    {
     "name": "stdout",
     "output_type": "stream",
     "text": [
      "train_subjects: [27 84  7 49 68 37 76 71 72 56  5 93 55 52 94 46 61 81 74 43]\n",
      "val_subjects: [65 25 51 13 63 75]\n",
      "test_subjects_URG: [22 70 78 28 60 58]\n",
      "test_subjects_white: [80 15 82 29 32 92]\n",
      "test_subjects_asian: [54 44 35 73 24 57]\n"
     ]
    }
   ],
   "source": [
    "print('train_subjects: {}'.format(train_subjects))\n",
    "print('val_subjects: {}'.format(val_subjects))\n",
    "\n",
    "print('test_subjects_URG: {}'.format(test_subjects_URG))\n",
    "print('test_subjects_white: {}'.format(test_subjects_WHITE))\n",
    "print('test_subjects_asian: {}'.format(test_subjects_ASIAN))\n"
   ]
  },
  {
   "cell_type": "code",
   "execution_count": null,
   "metadata": {},
   "outputs": [],
   "source": []
  },
  {
   "cell_type": "markdown",
   "metadata": {},
   "source": [
    "### random seed4"
   ]
  },
  {
   "cell_type": "code",
   "execution_count": 15,
   "metadata": {},
   "outputs": [],
   "source": [
    "np.random.seed(4)\n"
   ]
  },
  {
   "cell_type": "code",
   "execution_count": 16,
   "metadata": {},
   "outputs": [],
   "source": [
    "np.random.shuffle(ASIAN_list)\n",
    "np.random.shuffle(WHITE_list)\n"
   ]
  },
  {
   "cell_type": "code",
   "execution_count": 17,
   "metadata": {},
   "outputs": [
    {
     "name": "stdout",
     "output_type": "stream",
     "text": [
      "size train set: 20\n",
      "size val set: 6\n",
      "size test set URG: 6\n",
      "size test set WHITE: 6\n",
      "size test set ASIAN: 6\n"
     ]
    }
   ],
   "source": [
    "development_subjects = ASIAN_list[6:]\n",
    "np.random.shuffle(development_subjects)\n",
    "\n",
    "train_subjects = development_subjects[:20]\n",
    "val_subjects = development_subjects[20:26]\n",
    "\n",
    "test_subjects_URG = URG_list.copy()\n",
    "test_subjects_WHITE = WHITE_list[:6]\n",
    "test_subjects_ASIAN = ASIAN_list[:6]\n",
    "\n",
    "print('size train set: {}'.format(len(train_subjects)))\n",
    "print('size val set: {}'.format(len(val_subjects)))\n",
    "\n",
    "print('size test set URG: {}'.format(len(test_subjects_URG)))\n",
    "print('size test set WHITE: {}'.format(len(test_subjects_WHITE)))\n",
    "print('size test set ASIAN: {}'.format(len(test_subjects_ASIAN)))\n",
    "\n"
   ]
  },
  {
   "cell_type": "code",
   "execution_count": 18,
   "metadata": {},
   "outputs": [
    {
     "name": "stdout",
     "output_type": "stream",
     "text": [
      "train_subjects: [55 25 71 24 68 49 46 13 44  5 65 54 84 61 63  7 27 74 43 73]\n",
      "val_subjects: [72 76 51 57 75 81]\n",
      "test_subjects_URG: [22 70 78 28 60 58]\n",
      "test_subjects_white: [79 95 31 32 92 34]\n",
      "test_subjects_asian: [94 56 93 35 37 52]\n"
     ]
    }
   ],
   "source": [
    "print('train_subjects: {}'.format(train_subjects))\n",
    "print('val_subjects: {}'.format(val_subjects))\n",
    "\n",
    "print('test_subjects_URG: {}'.format(test_subjects_URG))\n",
    "print('test_subjects_white: {}'.format(test_subjects_WHITE))\n",
    "print('test_subjects_asian: {}'.format(test_subjects_ASIAN))\n"
   ]
  },
  {
   "cell_type": "code",
   "execution_count": null,
   "metadata": {},
   "outputs": [],
   "source": []
  },
  {
   "cell_type": "markdown",
   "metadata": {},
   "source": [
    "### random seed5"
   ]
  },
  {
   "cell_type": "code",
   "execution_count": 19,
   "metadata": {},
   "outputs": [],
   "source": [
    "np.random.seed(5)\n"
   ]
  },
  {
   "cell_type": "code",
   "execution_count": 20,
   "metadata": {},
   "outputs": [],
   "source": [
    "np.random.shuffle(ASIAN_list)\n",
    "np.random.shuffle(WHITE_list)\n"
   ]
  },
  {
   "cell_type": "code",
   "execution_count": 21,
   "metadata": {},
   "outputs": [
    {
     "name": "stdout",
     "output_type": "stream",
     "text": [
      "size train set: 20\n",
      "size val set: 6\n",
      "size test set URG: 6\n",
      "size test set WHITE: 6\n",
      "size test set ASIAN: 6\n"
     ]
    }
   ],
   "source": [
    "development_subjects = ASIAN_list[6:]\n",
    "np.random.shuffle(development_subjects)\n",
    "\n",
    "train_subjects = development_subjects[:20]\n",
    "val_subjects = development_subjects[20:26]\n",
    "\n",
    "test_subjects_URG = URG_list.copy()\n",
    "test_subjects_WHITE = WHITE_list[:6]\n",
    "test_subjects_ASIAN = ASIAN_list[:6]\n",
    "\n",
    "print('size train set: {}'.format(len(train_subjects)))\n",
    "print('size val set: {}'.format(len(val_subjects)))\n",
    "\n",
    "print('size test set URG: {}'.format(len(test_subjects_URG)))\n",
    "print('size test set WHITE: {}'.format(len(test_subjects_WHITE)))\n",
    "print('size test set ASIAN: {}'.format(len(test_subjects_ASIAN)))\n",
    "\n"
   ]
  },
  {
   "cell_type": "code",
   "execution_count": 22,
   "metadata": {},
   "outputs": [
    {
     "name": "stdout",
     "output_type": "stream",
     "text": [
      "train_subjects: [72 71 24 44 74 37 46 27 76 49 93 56 13 75 94 61 65 25 84 55]\n",
      "val_subjects: [ 7  5 73 51 35 57]\n",
      "test_subjects_URG: [22 70 78 28 60 58]\n",
      "test_subjects_white: [48 82 23 47 86 42]\n",
      "test_subjects_asian: [68 54 81 52 43 63]\n"
     ]
    }
   ],
   "source": [
    "print('train_subjects: {}'.format(train_subjects))\n",
    "print('val_subjects: {}'.format(val_subjects))\n",
    "\n",
    "print('test_subjects_URG: {}'.format(test_subjects_URG))\n",
    "print('test_subjects_white: {}'.format(test_subjects_WHITE))\n",
    "print('test_subjects_asian: {}'.format(test_subjects_ASIAN))\n"
   ]
  },
  {
   "cell_type": "code",
   "execution_count": null,
   "metadata": {},
   "outputs": [],
   "source": []
  },
  {
   "cell_type": "markdown",
   "metadata": {},
   "source": [
    "### random seed6"
   ]
  },
  {
   "cell_type": "code",
   "execution_count": 23,
   "metadata": {},
   "outputs": [],
   "source": [
    "np.random.seed(6)\n"
   ]
  },
  {
   "cell_type": "code",
   "execution_count": 24,
   "metadata": {},
   "outputs": [],
   "source": [
    "np.random.shuffle(ASIAN_list)\n",
    "np.random.shuffle(WHITE_list)\n"
   ]
  },
  {
   "cell_type": "code",
   "execution_count": 25,
   "metadata": {},
   "outputs": [
    {
     "name": "stdout",
     "output_type": "stream",
     "text": [
      "size train set: 20\n",
      "size val set: 6\n",
      "size test set URG: 6\n",
      "size test set WHITE: 6\n",
      "size test set ASIAN: 6\n"
     ]
    }
   ],
   "source": [
    "development_subjects = ASIAN_list[6:]\n",
    "np.random.shuffle(development_subjects)\n",
    "\n",
    "train_subjects = development_subjects[:20]\n",
    "val_subjects = development_subjects[20:26]\n",
    "\n",
    "test_subjects_URG = URG_list.copy()\n",
    "test_subjects_WHITE = WHITE_list[:6]\n",
    "test_subjects_ASIAN = ASIAN_list[:6]\n",
    "\n",
    "print('size train set: {}'.format(len(train_subjects)))\n",
    "print('size val set: {}'.format(len(val_subjects)))\n",
    "\n",
    "print('size test set URG: {}'.format(len(test_subjects_URG)))\n",
    "print('size test set WHITE: {}'.format(len(test_subjects_WHITE)))\n",
    "print('size test set ASIAN: {}'.format(len(test_subjects_ASIAN)))\n",
    "\n"
   ]
  },
  {
   "cell_type": "code",
   "execution_count": 26,
   "metadata": {},
   "outputs": [
    {
     "name": "stdout",
     "output_type": "stream",
     "text": [
      "train_subjects: [44 52 74 93 43 13 72 49 51 54 81 57  7 55 75 37 27 94  5 65]\n",
      "val_subjects: [84 46 56 24 63 76]\n",
      "test_subjects_URG: [22 70 78 28 60 58]\n",
      "test_subjects_white: [86 80 48 31 21 14]\n",
      "test_subjects_asian: [71 73 61 68 25 35]\n"
     ]
    }
   ],
   "source": [
    "print('train_subjects: {}'.format(train_subjects))\n",
    "print('val_subjects: {}'.format(val_subjects))\n",
    "\n",
    "print('test_subjects_URG: {}'.format(test_subjects_URG))\n",
    "print('test_subjects_white: {}'.format(test_subjects_WHITE))\n",
    "print('test_subjects_asian: {}'.format(test_subjects_ASIAN))\n"
   ]
  },
  {
   "cell_type": "code",
   "execution_count": null,
   "metadata": {},
   "outputs": [],
   "source": []
  },
  {
   "cell_type": "markdown",
   "metadata": {},
   "source": [
    "### random seed7"
   ]
  },
  {
   "cell_type": "code",
   "execution_count": 27,
   "metadata": {},
   "outputs": [],
   "source": [
    "np.random.seed(7)\n"
   ]
  },
  {
   "cell_type": "code",
   "execution_count": 28,
   "metadata": {},
   "outputs": [],
   "source": [
    "np.random.shuffle(ASIAN_list)\n",
    "np.random.shuffle(WHITE_list)\n"
   ]
  },
  {
   "cell_type": "code",
   "execution_count": 29,
   "metadata": {},
   "outputs": [
    {
     "name": "stdout",
     "output_type": "stream",
     "text": [
      "size train set: 20\n",
      "size val set: 6\n",
      "size test set URG: 6\n",
      "size test set WHITE: 6\n",
      "size test set ASIAN: 6\n"
     ]
    }
   ],
   "source": [
    "development_subjects = ASIAN_list[6:]\n",
    "np.random.shuffle(development_subjects)\n",
    "\n",
    "train_subjects = development_subjects[:20]\n",
    "val_subjects = development_subjects[20:26]\n",
    "\n",
    "test_subjects_URG = URG_list.copy()\n",
    "test_subjects_WHITE = WHITE_list[:6]\n",
    "test_subjects_ASIAN = ASIAN_list[:6]\n",
    "\n",
    "print('size train set: {}'.format(len(train_subjects)))\n",
    "print('size val set: {}'.format(len(val_subjects)))\n",
    "\n",
    "print('size test set URG: {}'.format(len(test_subjects_URG)))\n",
    "print('size test set WHITE: {}'.format(len(test_subjects_WHITE)))\n",
    "print('size test set ASIAN: {}'.format(len(test_subjects_ASIAN)))\n",
    "\n"
   ]
  },
  {
   "cell_type": "code",
   "execution_count": 30,
   "metadata": {},
   "outputs": [
    {
     "name": "stdout",
     "output_type": "stream",
     "text": [
      "train_subjects: [25 63 56 74 72 76  7 24 46 43  5 13 71 44 51 52 27 94 55 81]\n",
      "val_subjects: [57 37 68 75 54 65]\n",
      "test_subjects_URG: [22 70 78 28 60 58]\n",
      "test_subjects_white: [42 32 14 95 92 97]\n",
      "test_subjects_asian: [61 84 73 93 49 35]\n"
     ]
    }
   ],
   "source": [
    "print('train_subjects: {}'.format(train_subjects))\n",
    "print('val_subjects: {}'.format(val_subjects))\n",
    "\n",
    "print('test_subjects_URG: {}'.format(test_subjects_URG))\n",
    "print('test_subjects_white: {}'.format(test_subjects_WHITE))\n",
    "print('test_subjects_asian: {}'.format(test_subjects_ASIAN))\n"
   ]
  }
 ],
 "metadata": {
  "kernelspec": {
   "display_name": "Python 3",
   "language": "python",
   "name": "python3"
  },
  "language_info": {
   "codemirror_mode": {
    "name": "ipython",
    "version": 3
   },
   "file_extension": ".py",
   "mimetype": "text/x-python",
   "name": "python",
   "nbconvert_exporter": "python",
   "pygments_lexer": "ipython3",
   "version": "3.8.8"
  }
 },
 "nbformat": 4,
 "nbformat_minor": 4
}
