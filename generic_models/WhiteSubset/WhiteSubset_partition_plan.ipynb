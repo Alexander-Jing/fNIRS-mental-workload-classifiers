{
 "cells": [
  {
   "cell_type": "code",
   "execution_count": 1,
   "metadata": {},
   "outputs": [],
   "source": [
    "import numpy as np\n",
    "import os\n",
    "\n"
   ]
  },
  {
   "cell_type": "code",
   "execution_count": 2,
   "metadata": {},
   "outputs": [
    {
     "name": "stdout",
     "output_type": "stream",
     "text": [
      "WHITE_list size: 27\n",
      "ASIAN_list size: 32\n",
      "URG_list size: 6\n"
     ]
    }
   ],
   "source": [
    "WHITE_list = np.array([14, 15, 20, 21, 23, 29, 31, 32, 34, 36, 38, 40, 42, 45, 47, 48, 64, 69, 79, 80, 82, 85, 86, 91, 92, 95, 97])\n",
    "ASIAN_list = np.array([5, 7, 13, 24, 25, 27, 35, 37, 43, 44, 46, 49, 51, 52, 54, 55, 56, 57, 61, 63, 65, 68, 71, 72, 73, 74, 75, 76, 81, 84, 93, 94])\n",
    "URG_list = np.array([22, 70, 78, 28, 60, 58])\n",
    "\n",
    "\n",
    "print('WHITE_list size: {}'.format(len(WHITE_list)))\n",
    "print('ASIAN_list size: {}'.format(len(ASIAN_list)))\n",
    "print('URG_list size: {}'.format(len(URG_list)))\n"
   ]
  },
  {
   "cell_type": "code",
   "execution_count": null,
   "metadata": {},
   "outputs": [],
   "source": []
  },
  {
   "cell_type": "markdown",
   "metadata": {},
   "source": [
    "## White experiment:  use 21 as train, and 6 as test"
   ]
  },
  {
   "cell_type": "markdown",
   "metadata": {},
   "source": [
    "### random seed1"
   ]
  },
  {
   "cell_type": "code",
   "execution_count": 3,
   "metadata": {},
   "outputs": [],
   "source": [
    "np.random.seed(1)\n"
   ]
  },
  {
   "cell_type": "code",
   "execution_count": 4,
   "metadata": {},
   "outputs": [],
   "source": [
    "np.random.shuffle(WHITE_list)\n",
    "np.random.shuffle(ASIAN_list)\n"
   ]
  },
  {
   "cell_type": "code",
   "execution_count": 5,
   "metadata": {},
   "outputs": [
    {
     "name": "stdout",
     "output_type": "stream",
     "text": [
      "size train set: 16\n",
      "size val set: 5\n",
      "size test set URG: 6\n",
      "size test set WHITE: 6\n",
      "size test set ASIAN: 6\n"
     ]
    }
   ],
   "source": [
    "development_subjects = WHITE_list[6:]\n",
    "np.random.shuffle(development_subjects)\n",
    "\n",
    "train_subjects = development_subjects[:16]\n",
    "val_subjects = development_subjects[16:21]\n",
    "\n",
    "test_subjects_URG = URG_list.copy()\n",
    "test_subjects_WHITE = WHITE_list[:6]\n",
    "test_subjects_ASIAN = ASIAN_list[:6]\n",
    "\n",
    "print('size train set: {}'.format(len(train_subjects)))\n",
    "print('size val set: {}'.format(len(val_subjects)))\n",
    "\n",
    "print('size test set URG: {}'.format(len(test_subjects_URG)))\n",
    "print('size test set WHITE: {}'.format(len(test_subjects_WHITE)))\n",
    "print('size test set ASIAN: {}'.format(len(test_subjects_ASIAN)))\n",
    "\n"
   ]
  },
  {
   "cell_type": "code",
   "execution_count": 6,
   "metadata": {},
   "outputs": [
    {
     "name": "stdout",
     "output_type": "stream",
     "text": [
      "train_subjects: [40 95 31 80 42 85 15 32 45 29 97 86 82 23 92 20]\n",
      "val_subjects: [48 36 14 64 34]\n",
      "test_subjects_URG: [22 70 78 28 60 58]\n",
      "test_subjects_white: [69 47 79 21 91 38]\n",
      "test_subjects_asian: [94 13 56 76 93 27]\n"
     ]
    }
   ],
   "source": [
    "print('train_subjects: {}'.format(train_subjects))\n",
    "print('val_subjects: {}'.format(val_subjects))\n",
    "\n",
    "print('test_subjects_URG: {}'.format(test_subjects_URG))\n",
    "print('test_subjects_white: {}'.format(test_subjects_WHITE))\n",
    "print('test_subjects_asian: {}'.format(test_subjects_ASIAN))\n"
   ]
  },
  {
   "cell_type": "code",
   "execution_count": null,
   "metadata": {},
   "outputs": [],
   "source": []
  },
  {
   "cell_type": "markdown",
   "metadata": {},
   "source": [
    "### random seed2"
   ]
  },
  {
   "cell_type": "code",
   "execution_count": 7,
   "metadata": {},
   "outputs": [],
   "source": [
    "np.random.seed(2)\n"
   ]
  },
  {
   "cell_type": "code",
   "execution_count": 8,
   "metadata": {},
   "outputs": [],
   "source": [
    "np.random.shuffle(WHITE_list)\n",
    "np.random.shuffle(ASIAN_list)\n"
   ]
  },
  {
   "cell_type": "code",
   "execution_count": 9,
   "metadata": {},
   "outputs": [
    {
     "name": "stdout",
     "output_type": "stream",
     "text": [
      "size train set: 16\n",
      "size val set: 5\n",
      "size test set URG: 6\n",
      "size test set WHITE: 6\n",
      "size test set ASIAN: 6\n"
     ]
    }
   ],
   "source": [
    "development_subjects = WHITE_list[6:]\n",
    "np.random.shuffle(development_subjects)\n",
    "\n",
    "train_subjects = development_subjects[:16]\n",
    "val_subjects = development_subjects[16:21]\n",
    "\n",
    "test_subjects_URG = URG_list.copy()\n",
    "test_subjects_WHITE = WHITE_list[:6]\n",
    "test_subjects_ASIAN = ASIAN_list[:6]\n",
    "\n",
    "print('size train set: {}'.format(len(train_subjects)))\n",
    "print('size val set: {}'.format(len(val_subjects)))\n",
    "\n",
    "print('size test set URG: {}'.format(len(test_subjects_URG)))\n",
    "print('size test set WHITE: {}'.format(len(test_subjects_WHITE)))\n",
    "print('size test set ASIAN: {}'.format(len(test_subjects_ASIAN)))\n",
    "\n"
   ]
  },
  {
   "cell_type": "code",
   "execution_count": 10,
   "metadata": {},
   "outputs": [
    {
     "name": "stdout",
     "output_type": "stream",
     "text": [
      "train_subjects: [38 45 21 31 48 14 34 91 42 29 20 85 36 23 86 79]\n",
      "val_subjects: [32 95 40 82 47]\n",
      "test_subjects_URG: [22 70 78 28 60 58]\n",
      "test_subjects_white: [64 69 80 92 97 15]\n",
      "test_subjects_asian: [25  7 54 24 37 94]\n"
     ]
    }
   ],
   "source": [
    "print('train_subjects: {}'.format(train_subjects))\n",
    "print('val_subjects: {}'.format(val_subjects))\n",
    "\n",
    "print('test_subjects_URG: {}'.format(test_subjects_URG))\n",
    "print('test_subjects_white: {}'.format(test_subjects_WHITE))\n",
    "print('test_subjects_asian: {}'.format(test_subjects_ASIAN))\n"
   ]
  },
  {
   "cell_type": "code",
   "execution_count": null,
   "metadata": {},
   "outputs": [],
   "source": []
  },
  {
   "cell_type": "markdown",
   "metadata": {},
   "source": [
    "### random seed3"
   ]
  },
  {
   "cell_type": "code",
   "execution_count": 11,
   "metadata": {},
   "outputs": [],
   "source": [
    "np.random.seed(3)\n"
   ]
  },
  {
   "cell_type": "code",
   "execution_count": 12,
   "metadata": {},
   "outputs": [],
   "source": [
    "np.random.shuffle(WHITE_list)\n",
    "np.random.shuffle(ASIAN_list)\n"
   ]
  },
  {
   "cell_type": "code",
   "execution_count": 13,
   "metadata": {},
   "outputs": [
    {
     "name": "stdout",
     "output_type": "stream",
     "text": [
      "size train set: 16\n",
      "size val set: 5\n",
      "size test set URG: 6\n",
      "size test set WHITE: 6\n",
      "size test set ASIAN: 6\n"
     ]
    }
   ],
   "source": [
    "development_subjects = WHITE_list[6:]\n",
    "np.random.shuffle(development_subjects)\n",
    "\n",
    "train_subjects = development_subjects[:16]\n",
    "val_subjects = development_subjects[16:21]\n",
    "\n",
    "test_subjects_URG = URG_list.copy()\n",
    "test_subjects_WHITE = WHITE_list[:6]\n",
    "test_subjects_ASIAN = ASIAN_list[:6]\n",
    "\n",
    "print('size train set: {}'.format(len(train_subjects)))\n",
    "print('size val set: {}'.format(len(val_subjects)))\n",
    "\n",
    "print('size test set URG: {}'.format(len(test_subjects_URG)))\n",
    "print('size test set WHITE: {}'.format(len(test_subjects_WHITE)))\n",
    "print('size test set ASIAN: {}'.format(len(test_subjects_ASIAN)))\n",
    "\n"
   ]
  },
  {
   "cell_type": "code",
   "execution_count": 14,
   "metadata": {},
   "outputs": [
    {
     "name": "stdout",
     "output_type": "stream",
     "text": [
      "train_subjects: [97 92 38 47 48 32 69 45 15 64 91 79 95 42 14 31]\n",
      "val_subjects: [86 40 21 80 23]\n",
      "test_subjects_URG: [22 70 78 28 60 58]\n",
      "test_subjects_white: [36 85 34 82 29 20]\n",
      "test_subjects_asian: [55 76 56 24 13 93]\n"
     ]
    }
   ],
   "source": [
    "print('train_subjects: {}'.format(train_subjects))\n",
    "print('val_subjects: {}'.format(val_subjects))\n",
    "\n",
    "print('test_subjects_URG: {}'.format(test_subjects_URG))\n",
    "print('test_subjects_white: {}'.format(test_subjects_WHITE))\n",
    "print('test_subjects_asian: {}'.format(test_subjects_ASIAN))\n"
   ]
  },
  {
   "cell_type": "code",
   "execution_count": null,
   "metadata": {},
   "outputs": [],
   "source": []
  },
  {
   "cell_type": "markdown",
   "metadata": {},
   "source": [
    "### random seed4"
   ]
  },
  {
   "cell_type": "code",
   "execution_count": 15,
   "metadata": {},
   "outputs": [],
   "source": [
    "np.random.seed(4)\n"
   ]
  },
  {
   "cell_type": "code",
   "execution_count": 16,
   "metadata": {},
   "outputs": [],
   "source": [
    "np.random.shuffle(WHITE_list)\n",
    "np.random.shuffle(ASIAN_list)\n"
   ]
  },
  {
   "cell_type": "code",
   "execution_count": 17,
   "metadata": {},
   "outputs": [
    {
     "name": "stdout",
     "output_type": "stream",
     "text": [
      "size train set: 16\n",
      "size val set: 5\n",
      "size test set URG: 6\n",
      "size test set WHITE: 6\n",
      "size test set ASIAN: 6\n"
     ]
    }
   ],
   "source": [
    "development_subjects = WHITE_list[6:]\n",
    "np.random.shuffle(development_subjects)\n",
    "\n",
    "train_subjects = development_subjects[:16]\n",
    "val_subjects = development_subjects[16:21]\n",
    "\n",
    "test_subjects_URG = URG_list.copy()\n",
    "test_subjects_WHITE = WHITE_list[:6]\n",
    "test_subjects_ASIAN = ASIAN_list[:6]\n",
    "\n",
    "print('size train set: {}'.format(len(train_subjects)))\n",
    "print('size val set: {}'.format(len(val_subjects)))\n",
    "\n",
    "print('size test set URG: {}'.format(len(test_subjects_URG)))\n",
    "print('size test set WHITE: {}'.format(len(test_subjects_WHITE)))\n",
    "print('size test set ASIAN: {}'.format(len(test_subjects_ASIAN)))\n",
    "\n"
   ]
  },
  {
   "cell_type": "code",
   "execution_count": 18,
   "metadata": {},
   "outputs": [
    {
     "name": "stdout",
     "output_type": "stream",
     "text": [
      "train_subjects: [29 40 31 32 69 20 14 23 95 15 45 38 42 97 79 64]\n",
      "val_subjects: [92 34 47 85 80]\n",
      "test_subjects_URG: [22 70 78 28 60 58]\n",
      "test_subjects_white: [21 91 86 36 82 48]\n",
      "test_subjects_asian: [84 93 13 37  5 51]\n"
     ]
    }
   ],
   "source": [
    "print('train_subjects: {}'.format(train_subjects))\n",
    "print('val_subjects: {}'.format(val_subjects))\n",
    "\n",
    "print('test_subjects_URG: {}'.format(test_subjects_URG))\n",
    "print('test_subjects_white: {}'.format(test_subjects_WHITE))\n",
    "print('test_subjects_asian: {}'.format(test_subjects_ASIAN))\n"
   ]
  },
  {
   "cell_type": "code",
   "execution_count": null,
   "metadata": {},
   "outputs": [],
   "source": []
  },
  {
   "cell_type": "markdown",
   "metadata": {},
   "source": [
    "### random seed5"
   ]
  },
  {
   "cell_type": "code",
   "execution_count": 19,
   "metadata": {},
   "outputs": [],
   "source": [
    "np.random.seed(5)\n"
   ]
  },
  {
   "cell_type": "code",
   "execution_count": 20,
   "metadata": {},
   "outputs": [],
   "source": [
    "np.random.shuffle(WHITE_list)\n",
    "np.random.shuffle(ASIAN_list)\n"
   ]
  },
  {
   "cell_type": "code",
   "execution_count": 21,
   "metadata": {},
   "outputs": [
    {
     "name": "stdout",
     "output_type": "stream",
     "text": [
      "size train set: 16\n",
      "size val set: 5\n",
      "size test set URG: 6\n",
      "size test set WHITE: 6\n",
      "size test set ASIAN: 6\n"
     ]
    }
   ],
   "source": [
    "development_subjects = WHITE_list[6:]\n",
    "np.random.shuffle(development_subjects)\n",
    "\n",
    "train_subjects = development_subjects[:16]\n",
    "val_subjects = development_subjects[16:21]\n",
    "\n",
    "test_subjects_URG = URG_list.copy()\n",
    "test_subjects_WHITE = WHITE_list[:6]\n",
    "test_subjects_ASIAN = ASIAN_list[:6]\n",
    "\n",
    "print('size train set: {}'.format(len(train_subjects)))\n",
    "print('size val set: {}'.format(len(val_subjects)))\n",
    "\n",
    "print('size test set URG: {}'.format(len(test_subjects_URG)))\n",
    "print('size test set WHITE: {}'.format(len(test_subjects_WHITE)))\n",
    "print('size test set ASIAN: {}'.format(len(test_subjects_ASIAN)))\n",
    "\n"
   ]
  },
  {
   "cell_type": "code",
   "execution_count": 22,
   "metadata": {},
   "outputs": [
    {
     "name": "stdout",
     "output_type": "stream",
     "text": [
      "train_subjects: [92 36 14 21 64 47 42 32 91 85 15 45 38 80 95 23]\n",
      "val_subjects: [29 40 31 82 48]\n",
      "test_subjects_URG: [22 70 78 28 60 58]\n",
      "test_subjects_white: [34 97 86 20 79 69]\n",
      "test_subjects_asian: [49 57 43  7 56 61]\n"
     ]
    }
   ],
   "source": [
    "print('train_subjects: {}'.format(train_subjects))\n",
    "print('val_subjects: {}'.format(val_subjects))\n",
    "\n",
    "print('test_subjects_URG: {}'.format(test_subjects_URG))\n",
    "print('test_subjects_white: {}'.format(test_subjects_WHITE))\n",
    "print('test_subjects_asian: {}'.format(test_subjects_ASIAN))\n"
   ]
  },
  {
   "cell_type": "code",
   "execution_count": null,
   "metadata": {},
   "outputs": [],
   "source": []
  },
  {
   "cell_type": "markdown",
   "metadata": {},
   "source": [
    "### random seed6"
   ]
  },
  {
   "cell_type": "code",
   "execution_count": 23,
   "metadata": {},
   "outputs": [],
   "source": [
    "np.random.seed(6)\n"
   ]
  },
  {
   "cell_type": "code",
   "execution_count": 24,
   "metadata": {},
   "outputs": [],
   "source": [
    "np.random.shuffle(WHITE_list)\n",
    "np.random.shuffle(ASIAN_list)\n"
   ]
  },
  {
   "cell_type": "code",
   "execution_count": 25,
   "metadata": {},
   "outputs": [
    {
     "name": "stdout",
     "output_type": "stream",
     "text": [
      "size train set: 16\n",
      "size val set: 5\n",
      "size test set URG: 6\n",
      "size test set WHITE: 6\n",
      "size test set ASIAN: 6\n"
     ]
    }
   ],
   "source": [
    "development_subjects = WHITE_list[6:]\n",
    "np.random.shuffle(development_subjects)\n",
    "\n",
    "train_subjects = development_subjects[:16]\n",
    "val_subjects = development_subjects[16:21]\n",
    "\n",
    "test_subjects_URG = URG_list.copy()\n",
    "test_subjects_WHITE = WHITE_list[:6]\n",
    "test_subjects_ASIAN = ASIAN_list[:6]\n",
    "\n",
    "print('size train set: {}'.format(len(train_subjects)))\n",
    "print('size val set: {}'.format(len(val_subjects)))\n",
    "\n",
    "print('size test set URG: {}'.format(len(test_subjects_URG)))\n",
    "print('size test set WHITE: {}'.format(len(test_subjects_WHITE)))\n",
    "print('size test set ASIAN: {}'.format(len(test_subjects_ASIAN)))\n",
    "\n"
   ]
  },
  {
   "cell_type": "code",
   "execution_count": 26,
   "metadata": {},
   "outputs": [
    {
     "name": "stdout",
     "output_type": "stream",
     "text": [
      "train_subjects: [36 20 64 85 95 45 29 21 79 15 32 86 38 82 97 42]\n",
      "val_subjects: [80 14 47 48 23]\n",
      "test_subjects_URG: [22 70 78 28 60 58]\n",
      "test_subjects_white: [92 34 69 40 91 31]\n",
      "test_subjects_asian: [49 93 72 71 75 63]\n"
     ]
    }
   ],
   "source": [
    "print('train_subjects: {}'.format(train_subjects))\n",
    "print('val_subjects: {}'.format(val_subjects))\n",
    "\n",
    "print('test_subjects_URG: {}'.format(test_subjects_URG))\n",
    "print('test_subjects_white: {}'.format(test_subjects_WHITE))\n",
    "print('test_subjects_asian: {}'.format(test_subjects_ASIAN))\n"
   ]
  },
  {
   "cell_type": "code",
   "execution_count": null,
   "metadata": {},
   "outputs": [],
   "source": []
  },
  {
   "cell_type": "markdown",
   "metadata": {},
   "source": [
    "### random seed7"
   ]
  },
  {
   "cell_type": "code",
   "execution_count": 27,
   "metadata": {},
   "outputs": [],
   "source": [
    "np.random.seed(7)\n"
   ]
  },
  {
   "cell_type": "code",
   "execution_count": 28,
   "metadata": {},
   "outputs": [],
   "source": [
    "np.random.shuffle(WHITE_list)\n",
    "np.random.shuffle(ASIAN_list)\n"
   ]
  },
  {
   "cell_type": "code",
   "execution_count": 29,
   "metadata": {},
   "outputs": [
    {
     "name": "stdout",
     "output_type": "stream",
     "text": [
      "size train set: 16\n",
      "size val set: 5\n",
      "size test set URG: 6\n",
      "size test set WHITE: 6\n",
      "size test set ASIAN: 6\n"
     ]
    }
   ],
   "source": [
    "development_subjects = WHITE_list[6:]\n",
    "np.random.shuffle(development_subjects)\n",
    "\n",
    "train_subjects = development_subjects[:16]\n",
    "val_subjects = development_subjects[16:21]\n",
    "\n",
    "test_subjects_URG = URG_list.copy()\n",
    "test_subjects_WHITE = WHITE_list[:6]\n",
    "test_subjects_ASIAN = ASIAN_list[:6]\n",
    "\n",
    "print('size train set: {}'.format(len(train_subjects)))\n",
    "print('size val set: {}'.format(len(val_subjects)))\n",
    "\n",
    "print('size test set URG: {}'.format(len(test_subjects_URG)))\n",
    "print('size test set WHITE: {}'.format(len(test_subjects_WHITE)))\n",
    "print('size test set ASIAN: {}'.format(len(test_subjects_ASIAN)))\n",
    "\n"
   ]
  },
  {
   "cell_type": "code",
   "execution_count": 30,
   "metadata": {},
   "outputs": [
    {
     "name": "stdout",
     "output_type": "stream",
     "text": [
      "train_subjects: [21 47 92 40 36 97 48 20 91 38 82 64 23 42 79 95]\n",
      "val_subjects: [80 29 15 45 14]\n",
      "test_subjects_URG: [22 70 78 28 60 58]\n",
      "test_subjects_white: [69 85 34 31 86 32]\n",
      "test_subjects_asian: [51 25 44 65 52 56]\n"
     ]
    }
   ],
   "source": [
    "print('train_subjects: {}'.format(train_subjects))\n",
    "print('val_subjects: {}'.format(val_subjects))\n",
    "\n",
    "print('test_subjects_URG: {}'.format(test_subjects_URG))\n",
    "print('test_subjects_white: {}'.format(test_subjects_WHITE))\n",
    "print('test_subjects_asian: {}'.format(test_subjects_ASIAN))\n"
   ]
  },
  {
   "cell_type": "code",
   "execution_count": 31,
   "metadata": {},
   "outputs": [
    {
     "data": {
      "text/plain": [
       "array([120, 110,  78,  96, 138,  88])"
      ]
     },
     "execution_count": 31,
     "metadata": {},
     "output_type": "execute_result"
    }
   ],
   "source": []
  },
  {
   "cell_type": "code",
   "execution_count": null,
   "metadata": {},
   "outputs": [],
   "source": []
  }
 ],
 "metadata": {
  "kernelspec": {
   "display_name": "Python 3",
   "language": "python",
   "name": "python3"
  },
  "language_info": {
   "codemirror_mode": {
    "name": "ipython",
    "version": 3
   },
   "file_extension": ".py",
   "mimetype": "text/x-python",
   "name": "python",
   "nbconvert_exporter": "python",
   "pygments_lexer": "ipython3",
   "version": "3.8.8"
  }
 },
 "nbformat": 4,
 "nbformat_minor": 4
}
